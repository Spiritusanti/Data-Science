{
 "cells": [
  {
   "cell_type": "markdown",
   "metadata": {},
   "source": [
    "# Indexing and selecting data\n",
    "\n",
    "This section will be focused on slice subsets of series and dataframe objects. Python has built in tools to do this that while capable are not the best for the job. Pandas has optimized methods to access data reccommended for production code.\n",
    "\n",
    "# Different choices for indexing\n",
    "\n",
    "Pandas supports 3 types of multi-axis indexing:\n",
    "    .loc(), mainly for label based operations but boolean arrays are also possible with a KeyError being raised in cases when the item isn't found. Possible inputs include:\n",
    "            \n",
    "            a single label(e.g. 'avocados' or 3 which is interpreted as an index label)\n",
    "        \n",
    "            a list or array of labels (e.g. ['avocado', 'banana']\n",
    "        \n",
    "            Slices of objects with labels (e.g. 'avocado':'banana'), unlike normal python slicing operations both the start and stop are included however.\n",
    "        \n",
    "            A boolean array\n",
    "        \n",
    "            A callable function with a single argument the yields a valid indexing output from the above list.\n",
    "\n",
    "    .iloc() is primarily a integer position based (0 to len(-1)) but also accepts boolean arrays. When an indexer is out of bounds .iloc() will raise an IndexError barring a slice indexer which can use out-of-bounds indexers. Valid inputs include:\n",
    "            \n",
    "            An integer (e.g.9)\n",
    "            \n",
    "            A list or array of integers (e.g. [3, 6, 2])\n",
    "            \n",
    "            A slice object with ints (e.g. 0:3)\n",
    "            \n",
    "            A boolean array\n",
    "            \n",
    "            Or a callable function with a single argument the yields a valid indexing output from the above list.\n",
    "            \n",
    "    .loc(), .iloc(), and [] all accept callable functions as indexers\n",
    "\n",
    "When working will multiple axes, the following notation appplies. Null slices (':') can be used fpr any accesor but can also be left out (e.g. df.loc['b'] == df.loc['b', :, :]).\n",
    "\n",
    "For a series object the format is s.loc[indexer].\n",
    "For a DataFrame object the format is df.loc[row_indexer, column_indexer]\n",
    "For a Panel object the format is p.loc[item_indexer, major_indexer, minor_indexer]"
   ]
  },
  {
   "cell_type": "markdown",
   "metadata": {},
   "source": [
    "# Basics\n",
    "\n",
    "The primary function of slicing with [] notation is to select lower dimensiional slices.\n",
    "    for a series, series[label] returns a scalar value\n",
    "    \n",
    "    for a dataframe, df[colname], returns a series matching the colname\n",
    "    \n",
    "    for a panel, panel[itemname], returns a dataframe matching the itemname"
   ]
  },
  {
   "cell_type": "code",
   "execution_count": 1,
   "metadata": {},
   "outputs": [],
   "source": [
    "#importing modules\n",
    "import numpy as np\n",
    "import pandas as pd\n",
    "import matplotlib.pyplot as plt"
   ]
  },
  {
   "cell_type": "code",
   "execution_count": 2,
   "metadata": {},
   "outputs": [
    {
     "data": {
      "text/html": [
       "<div>\n",
       "<style scoped>\n",
       "    .dataframe tbody tr th:only-of-type {\n",
       "        vertical-align: middle;\n",
       "    }\n",
       "\n",
       "    .dataframe tbody tr th {\n",
       "        vertical-align: top;\n",
       "    }\n",
       "\n",
       "    .dataframe thead th {\n",
       "        text-align: right;\n",
       "    }\n",
       "</style>\n",
       "<table border=\"1\" class=\"dataframe\">\n",
       "  <thead>\n",
       "    <tr style=\"text-align: right;\">\n",
       "      <th></th>\n",
       "      <th>happy</th>\n",
       "      <th>sad</th>\n",
       "      <th>angry</th>\n",
       "    </tr>\n",
       "  </thead>\n",
       "  <tbody>\n",
       "    <tr>\n",
       "      <th>a</th>\n",
       "      <td>0.922165</td>\n",
       "      <td>0.456259</td>\n",
       "      <td>-1.444831</td>\n",
       "    </tr>\n",
       "    <tr>\n",
       "      <th>b</th>\n",
       "      <td>-1.411568</td>\n",
       "      <td>-0.834025</td>\n",
       "      <td>-0.840879</td>\n",
       "    </tr>\n",
       "    <tr>\n",
       "      <th>c</th>\n",
       "      <td>-0.395592</td>\n",
       "      <td>0.918014</td>\n",
       "      <td>0.154386</td>\n",
       "    </tr>\n",
       "    <tr>\n",
       "      <th>d</th>\n",
       "      <td>0.391592</td>\n",
       "      <td>-0.315628</td>\n",
       "      <td>-0.547479</td>\n",
       "    </tr>\n",
       "    <tr>\n",
       "      <th>e</th>\n",
       "      <td>1.159844</td>\n",
       "      <td>-0.414914</td>\n",
       "      <td>-0.379612</td>\n",
       "    </tr>\n",
       "  </tbody>\n",
       "</table>\n",
       "</div>"
      ],
      "text/plain": [
       "      happy       sad     angry\n",
       "a  0.922165  0.456259 -1.444831\n",
       "b -1.411568 -0.834025 -0.840879\n",
       "c -0.395592  0.918014  0.154386\n",
       "d  0.391592 -0.315628 -0.547479\n",
       "e  1.159844 -0.414914 -0.379612"
      ]
     },
     "execution_count": 2,
     "metadata": {},
     "output_type": "execute_result"
    }
   ],
   "source": [
    "#constructing a simple dataframe to work with\n",
    "index = list('abcde')\n",
    "df = pd.DataFrame(np.random.randn(5, 3), index = index, columns = ['happy', 'sad', 'angry'])\n",
    "df"
   ]
  },
  {
   "cell_type": "code",
   "execution_count": 3,
   "metadata": {},
   "outputs": [
    {
     "data": {
      "text/plain": [
       "<class 'pandas.core.panel.Panel'>\n",
       "Dimensions: 2 (items) x 5 (major_axis) x 3 (minor_axis)\n",
       "Items axis: alpha to beta\n",
       "Major_axis axis: a to e\n",
       "Minor_axis axis: happy to angry"
      ]
     },
     "execution_count": 3,
     "metadata": {},
     "output_type": "execute_result"
    }
   ],
   "source": [
    "#constructing a panel\n",
    "panel = pd.Panel({'alpha': df, 'beta' : df - df['angry'].mean()})\n",
    "panel"
   ]
  },
  {
   "cell_type": "code",
   "execution_count": 4,
   "metadata": {},
   "outputs": [
    {
     "data": {
      "text/plain": [
       "c    0.216091\n",
       "d    1.003275\n",
       "Name: happy, dtype: float64"
      ]
     },
     "execution_count": 4,
     "metadata": {},
     "output_type": "execute_result"
    }
   ],
   "source": [
    "#selecting a scalar index from a series from a datframe from a panel\n",
    "df1 = panel['beta']\n",
    "s = df1['happy']\n",
    "s[2:4]"
   ]
  },
  {
   "cell_type": "code",
   "execution_count": 5,
   "metadata": {},
   "outputs": [
    {
     "data": {
      "text/html": [
       "<div>\n",
       "<style scoped>\n",
       "    .dataframe tbody tr th:only-of-type {\n",
       "        vertical-align: middle;\n",
       "    }\n",
       "\n",
       "    .dataframe tbody tr th {\n",
       "        vertical-align: top;\n",
       "    }\n",
       "\n",
       "    .dataframe thead th {\n",
       "        text-align: right;\n",
       "    }\n",
       "</style>\n",
       "<table border=\"1\" class=\"dataframe\">\n",
       "  <thead>\n",
       "    <tr style=\"text-align: right;\">\n",
       "      <th></th>\n",
       "      <th>angry</th>\n",
       "      <th>sad</th>\n",
       "    </tr>\n",
       "  </thead>\n",
       "  <tbody>\n",
       "    <tr>\n",
       "      <th>a</th>\n",
       "      <td>-1.444831</td>\n",
       "      <td>0.456259</td>\n",
       "    </tr>\n",
       "    <tr>\n",
       "      <th>b</th>\n",
       "      <td>-0.840879</td>\n",
       "      <td>-0.834025</td>\n",
       "    </tr>\n",
       "    <tr>\n",
       "      <th>c</th>\n",
       "      <td>0.154386</td>\n",
       "      <td>0.918014</td>\n",
       "    </tr>\n",
       "  </tbody>\n",
       "</table>\n",
       "</div>"
      ],
      "text/plain": [
       "      angry       sad\n",
       "a -1.444831  0.456259\n",
       "b -0.840879 -0.834025\n",
       "c  0.154386  0.918014"
      ]
     },
     "execution_count": 5,
     "metadata": {},
     "output_type": "execute_result"
    }
   ],
   "source": [
    "#we can also select multiple columns by passing in a list using [[]].\n",
    "s = df[['angry', 'sad']]\n",
    "s[0:3]"
   ]
  },
  {
   "cell_type": "markdown",
   "metadata": {},
   "source": [
    "This same process can also be used to set multiple columns."
   ]
  },
  {
   "cell_type": "code",
   "execution_count": 6,
   "metadata": {},
   "outputs": [
    {
     "data": {
      "text/html": [
       "<div>\n",
       "<style scoped>\n",
       "    .dataframe tbody tr th:only-of-type {\n",
       "        vertical-align: middle;\n",
       "    }\n",
       "\n",
       "    .dataframe tbody tr th {\n",
       "        vertical-align: top;\n",
       "    }\n",
       "\n",
       "    .dataframe thead th {\n",
       "        text-align: right;\n",
       "    }\n",
       "</style>\n",
       "<table border=\"1\" class=\"dataframe\">\n",
       "  <thead>\n",
       "    <tr style=\"text-align: right;\">\n",
       "      <th></th>\n",
       "      <th>happy</th>\n",
       "      <th>sad</th>\n",
       "      <th>angry</th>\n",
       "    </tr>\n",
       "  </thead>\n",
       "  <tbody>\n",
       "    <tr>\n",
       "      <th>a</th>\n",
       "      <td>0.922165</td>\n",
       "      <td>1.067942</td>\n",
       "      <td>-0.833148</td>\n",
       "    </tr>\n",
       "    <tr>\n",
       "      <th>b</th>\n",
       "      <td>-1.411568</td>\n",
       "      <td>-0.222342</td>\n",
       "      <td>-0.229196</td>\n",
       "    </tr>\n",
       "    <tr>\n",
       "      <th>c</th>\n",
       "      <td>-0.395592</td>\n",
       "      <td>1.529697</td>\n",
       "      <td>0.766069</td>\n",
       "    </tr>\n",
       "    <tr>\n",
       "      <th>d</th>\n",
       "      <td>0.391592</td>\n",
       "      <td>0.296055</td>\n",
       "      <td>0.064205</td>\n",
       "    </tr>\n",
       "    <tr>\n",
       "      <th>e</th>\n",
       "      <td>1.159844</td>\n",
       "      <td>0.196769</td>\n",
       "      <td>0.232071</td>\n",
       "    </tr>\n",
       "  </tbody>\n",
       "</table>\n",
       "</div>"
      ],
      "text/plain": [
       "      happy       sad     angry\n",
       "a  0.922165  1.067942 -0.833148\n",
       "b -1.411568 -0.222342 -0.229196\n",
       "c -0.395592  1.529697  0.766069\n",
       "d  0.391592  0.296055  0.064205\n",
       "e  1.159844  0.196769  0.232071"
      ]
     },
     "execution_count": 6,
     "metadata": {},
     "output_type": "execute_result"
    }
   ],
   "source": [
    "df[['sad', 'angry']] = df1[['sad', 'angry']]\n",
    "df"
   ]
  },
  {
   "cell_type": "markdown",
   "metadata": {},
   "source": [
    "This might be useful for applying in-place transformations to a subset of columns. However, it is important to note that pandas aligns all axes when setting Series and Dataframe objects using .loc and .iloc.\n",
    "\n",
    "The following fails to modify the df because column alignment preceeds value assignment."
   ]
  },
  {
   "cell_type": "code",
   "execution_count": 7,
   "metadata": {},
   "outputs": [
    {
     "data": {
      "text/html": [
       "<div>\n",
       "<style scoped>\n",
       "    .dataframe tbody tr th:only-of-type {\n",
       "        vertical-align: middle;\n",
       "    }\n",
       "\n",
       "    .dataframe tbody tr th {\n",
       "        vertical-align: top;\n",
       "    }\n",
       "\n",
       "    .dataframe thead th {\n",
       "        text-align: right;\n",
       "    }\n",
       "</style>\n",
       "<table border=\"1\" class=\"dataframe\">\n",
       "  <thead>\n",
       "    <tr style=\"text-align: right;\">\n",
       "      <th></th>\n",
       "      <th>happy</th>\n",
       "      <th>sad</th>\n",
       "      <th>angry</th>\n",
       "    </tr>\n",
       "  </thead>\n",
       "  <tbody>\n",
       "    <tr>\n",
       "      <th>a</th>\n",
       "      <td>0.922165</td>\n",
       "      <td>1.067942</td>\n",
       "      <td>-0.833148</td>\n",
       "    </tr>\n",
       "    <tr>\n",
       "      <th>b</th>\n",
       "      <td>-1.411568</td>\n",
       "      <td>-0.222342</td>\n",
       "      <td>-0.229196</td>\n",
       "    </tr>\n",
       "    <tr>\n",
       "      <th>c</th>\n",
       "      <td>-0.395592</td>\n",
       "      <td>1.529697</td>\n",
       "      <td>0.766069</td>\n",
       "    </tr>\n",
       "    <tr>\n",
       "      <th>d</th>\n",
       "      <td>0.391592</td>\n",
       "      <td>0.296055</td>\n",
       "      <td>0.064205</td>\n",
       "    </tr>\n",
       "    <tr>\n",
       "      <th>e</th>\n",
       "      <td>1.159844</td>\n",
       "      <td>0.196769</td>\n",
       "      <td>0.232071</td>\n",
       "    </tr>\n",
       "  </tbody>\n",
       "</table>\n",
       "</div>"
      ],
      "text/plain": [
       "      happy       sad     angry\n",
       "a  0.922165  1.067942 -0.833148\n",
       "b -1.411568 -0.222342 -0.229196\n",
       "c -0.395592  1.529697  0.766069\n",
       "d  0.391592  0.296055  0.064205\n",
       "e  1.159844  0.196769  0.232071"
      ]
     },
     "execution_count": 7,
     "metadata": {},
     "output_type": "execute_result"
    }
   ],
   "source": [
    "#incorrect method\n",
    "df.loc[:, ['sad', 'angry']] = df[['angry', 'sad']]\n",
    "df"
   ]
  },
  {
   "cell_type": "markdown",
   "metadata": {},
   "source": [
    "The correct method uses the raw values as follows"
   ]
  },
  {
   "cell_type": "code",
   "execution_count": 8,
   "metadata": {},
   "outputs": [
    {
     "data": {
      "text/html": [
       "<div>\n",
       "<style scoped>\n",
       "    .dataframe tbody tr th:only-of-type {\n",
       "        vertical-align: middle;\n",
       "    }\n",
       "\n",
       "    .dataframe tbody tr th {\n",
       "        vertical-align: top;\n",
       "    }\n",
       "\n",
       "    .dataframe thead th {\n",
       "        text-align: right;\n",
       "    }\n",
       "</style>\n",
       "<table border=\"1\" class=\"dataframe\">\n",
       "  <thead>\n",
       "    <tr style=\"text-align: right;\">\n",
       "      <th></th>\n",
       "      <th>happy</th>\n",
       "      <th>sad</th>\n",
       "      <th>angry</th>\n",
       "    </tr>\n",
       "  </thead>\n",
       "  <tbody>\n",
       "    <tr>\n",
       "      <th>a</th>\n",
       "      <td>0.922165</td>\n",
       "      <td>-0.833148</td>\n",
       "      <td>1.067942</td>\n",
       "    </tr>\n",
       "    <tr>\n",
       "      <th>b</th>\n",
       "      <td>-1.411568</td>\n",
       "      <td>-0.229196</td>\n",
       "      <td>-0.222342</td>\n",
       "    </tr>\n",
       "    <tr>\n",
       "      <th>c</th>\n",
       "      <td>-0.395592</td>\n",
       "      <td>0.766069</td>\n",
       "      <td>1.529697</td>\n",
       "    </tr>\n",
       "    <tr>\n",
       "      <th>d</th>\n",
       "      <td>0.391592</td>\n",
       "      <td>0.064205</td>\n",
       "      <td>0.296055</td>\n",
       "    </tr>\n",
       "    <tr>\n",
       "      <th>e</th>\n",
       "      <td>1.159844</td>\n",
       "      <td>0.232071</td>\n",
       "      <td>0.196769</td>\n",
       "    </tr>\n",
       "  </tbody>\n",
       "</table>\n",
       "</div>"
      ],
      "text/plain": [
       "      happy       sad     angry\n",
       "a  0.922165 -0.833148  1.067942\n",
       "b -1.411568 -0.229196 -0.222342\n",
       "c -0.395592  0.766069  1.529697\n",
       "d  0.391592  0.064205  0.296055\n",
       "e  1.159844  0.232071  0.196769"
      ]
     },
     "execution_count": 8,
     "metadata": {},
     "output_type": "execute_result"
    }
   ],
   "source": [
    "df.loc[:, ['sad', 'angry']] = df[['angry', 'sad']].values\n",
    "df"
   ]
  },
  {
   "cell_type": "markdown",
   "metadata": {},
   "source": [
    "# Attribute Access\n",
    "\n",
    "Directly accessible attributes include an index of a series, a dataframe column, and a panel item. In the IPython environment you can also use tab completion the access these values."
   ]
  },
  {
   "cell_type": "code",
   "execution_count": 9,
   "metadata": {},
   "outputs": [
    {
     "data": {
      "text/plain": [
       "-1.4115677265347357"
      ]
     },
     "execution_count": 9,
     "metadata": {},
     "output_type": "execute_result"
    }
   ],
   "source": [
    "#accesing a series attribute\n",
    "s = df['happy']\n",
    "s.b"
   ]
  },
  {
   "cell_type": "code",
   "execution_count": 10,
   "metadata": {},
   "outputs": [
    {
     "data": {
      "text/plain": [
       "a   -0.833148\n",
       "b   -0.229196\n",
       "c    0.766069\n",
       "d    0.064205\n",
       "e    0.232071\n",
       "Name: sad, dtype: float64"
      ]
     },
     "execution_count": 10,
     "metadata": {},
     "output_type": "execute_result"
    }
   ],
   "source": [
    "#on a dataframe\n",
    "df.sad"
   ]
  },
  {
   "cell_type": "code",
   "execution_count": 11,
   "metadata": {},
   "outputs": [
    {
     "data": {
      "text/html": [
       "<div>\n",
       "<style scoped>\n",
       "    .dataframe tbody tr th:only-of-type {\n",
       "        vertical-align: middle;\n",
       "    }\n",
       "\n",
       "    .dataframe tbody tr th {\n",
       "        vertical-align: top;\n",
       "    }\n",
       "\n",
       "    .dataframe thead th {\n",
       "        text-align: right;\n",
       "    }\n",
       "</style>\n",
       "<table border=\"1\" class=\"dataframe\">\n",
       "  <thead>\n",
       "    <tr style=\"text-align: right;\">\n",
       "      <th></th>\n",
       "      <th>happy</th>\n",
       "      <th>sad</th>\n",
       "      <th>angry</th>\n",
       "    </tr>\n",
       "  </thead>\n",
       "  <tbody>\n",
       "    <tr>\n",
       "      <th>a</th>\n",
       "      <td>1.533848</td>\n",
       "      <td>1.067942</td>\n",
       "      <td>-0.833148</td>\n",
       "    </tr>\n",
       "    <tr>\n",
       "      <th>b</th>\n",
       "      <td>-0.799885</td>\n",
       "      <td>-0.222342</td>\n",
       "      <td>-0.229196</td>\n",
       "    </tr>\n",
       "    <tr>\n",
       "      <th>c</th>\n",
       "      <td>0.216091</td>\n",
       "      <td>1.529697</td>\n",
       "      <td>0.766069</td>\n",
       "    </tr>\n",
       "    <tr>\n",
       "      <th>d</th>\n",
       "      <td>1.003275</td>\n",
       "      <td>0.296055</td>\n",
       "      <td>0.064205</td>\n",
       "    </tr>\n",
       "    <tr>\n",
       "      <th>e</th>\n",
       "      <td>1.771527</td>\n",
       "      <td>0.196769</td>\n",
       "      <td>0.232071</td>\n",
       "    </tr>\n",
       "  </tbody>\n",
       "</table>\n",
       "</div>"
      ],
      "text/plain": [
       "      happy       sad     angry\n",
       "a  1.533848  1.067942 -0.833148\n",
       "b -0.799885 -0.222342 -0.229196\n",
       "c  0.216091  1.529697  0.766069\n",
       "d  1.003275  0.296055  0.064205\n",
       "e  1.771527  0.196769  0.232071"
      ]
     },
     "execution_count": 11,
     "metadata": {},
     "output_type": "execute_result"
    }
   ],
   "source": [
    "#on a panel\n",
    "panel.beta"
   ]
  },
  {
   "cell_type": "markdown",
   "metadata": {},
   "source": [
    "we can also use this process to modify existing objects"
   ]
  },
  {
   "cell_type": "code",
   "execution_count": 12,
   "metadata": {},
   "outputs": [
    {
     "data": {
      "text/plain": [
       "2.0"
      ]
     },
     "execution_count": 12,
     "metadata": {},
     "output_type": "execute_result"
    }
   ],
   "source": [
    "#modifying a series value\n",
    "s.b = 2\n",
    "s.b"
   ]
  },
  {
   "cell_type": "code",
   "execution_count": 13,
   "metadata": {},
   "outputs": [
    {
     "data": {
      "text/html": [
       "<div>\n",
       "<style scoped>\n",
       "    .dataframe tbody tr th:only-of-type {\n",
       "        vertical-align: middle;\n",
       "    }\n",
       "\n",
       "    .dataframe tbody tr th {\n",
       "        vertical-align: top;\n",
       "    }\n",
       "\n",
       "    .dataframe thead th {\n",
       "        text-align: right;\n",
       "    }\n",
       "</style>\n",
       "<table border=\"1\" class=\"dataframe\">\n",
       "  <thead>\n",
       "    <tr style=\"text-align: right;\">\n",
       "      <th></th>\n",
       "      <th>happy</th>\n",
       "      <th>sad</th>\n",
       "      <th>angry</th>\n",
       "    </tr>\n",
       "  </thead>\n",
       "  <tbody>\n",
       "    <tr>\n",
       "      <th>a</th>\n",
       "      <td>0</td>\n",
       "      <td>-0.833148</td>\n",
       "      <td>1.067942</td>\n",
       "    </tr>\n",
       "    <tr>\n",
       "      <th>b</th>\n",
       "      <td>1</td>\n",
       "      <td>-0.229196</td>\n",
       "      <td>-0.222342</td>\n",
       "    </tr>\n",
       "    <tr>\n",
       "      <th>c</th>\n",
       "      <td>2</td>\n",
       "      <td>0.766069</td>\n",
       "      <td>1.529697</td>\n",
       "    </tr>\n",
       "    <tr>\n",
       "      <th>d</th>\n",
       "      <td>3</td>\n",
       "      <td>0.064205</td>\n",
       "      <td>0.296055</td>\n",
       "    </tr>\n",
       "    <tr>\n",
       "      <th>e</th>\n",
       "      <td>4</td>\n",
       "      <td>0.232071</td>\n",
       "      <td>0.196769</td>\n",
       "    </tr>\n",
       "  </tbody>\n",
       "</table>\n",
       "</div>"
      ],
      "text/plain": [
       "   happy       sad     angry\n",
       "a      0 -0.833148  1.067942\n",
       "b      1 -0.229196 -0.222342\n",
       "c      2  0.766069  1.529697\n",
       "d      3  0.064205  0.296055\n",
       "e      4  0.232071  0.196769"
      ]
     },
     "execution_count": 13,
     "metadata": {},
     "output_type": "execute_result"
    }
   ],
   "source": [
    "#modifying column values\n",
    "df.happy = list(range(len(df.index)))\n",
    "df"
   ]
  },
  {
   "cell_type": "code",
   "execution_count": 14,
   "metadata": {},
   "outputs": [
    {
     "data": {
      "text/html": [
       "<div>\n",
       "<style scoped>\n",
       "    .dataframe tbody tr th:only-of-type {\n",
       "        vertical-align: middle;\n",
       "    }\n",
       "\n",
       "    .dataframe tbody tr th {\n",
       "        vertical-align: top;\n",
       "    }\n",
       "\n",
       "    .dataframe thead th {\n",
       "        text-align: right;\n",
       "    }\n",
       "</style>\n",
       "<table border=\"1\" class=\"dataframe\">\n",
       "  <thead>\n",
       "    <tr style=\"text-align: right;\">\n",
       "      <th></th>\n",
       "      <th>happy</th>\n",
       "      <th>sad</th>\n",
       "      <th>angry</th>\n",
       "      <th>glad</th>\n",
       "    </tr>\n",
       "  </thead>\n",
       "  <tbody>\n",
       "    <tr>\n",
       "      <th>a</th>\n",
       "      <td>0</td>\n",
       "      <td>-0.833148</td>\n",
       "      <td>1.067942</td>\n",
       "      <td>0.833148</td>\n",
       "    </tr>\n",
       "    <tr>\n",
       "      <th>b</th>\n",
       "      <td>1</td>\n",
       "      <td>-0.229196</td>\n",
       "      <td>-0.222342</td>\n",
       "      <td>1.229196</td>\n",
       "    </tr>\n",
       "    <tr>\n",
       "      <th>c</th>\n",
       "      <td>2</td>\n",
       "      <td>0.766069</td>\n",
       "      <td>1.529697</td>\n",
       "      <td>1.233931</td>\n",
       "    </tr>\n",
       "    <tr>\n",
       "      <th>d</th>\n",
       "      <td>3</td>\n",
       "      <td>0.064205</td>\n",
       "      <td>0.296055</td>\n",
       "      <td>2.935795</td>\n",
       "    </tr>\n",
       "    <tr>\n",
       "      <th>e</th>\n",
       "      <td>4</td>\n",
       "      <td>0.232071</td>\n",
       "      <td>0.196769</td>\n",
       "      <td>3.767929</td>\n",
       "    </tr>\n",
       "  </tbody>\n",
       "</table>\n",
       "</div>"
      ],
      "text/plain": [
       "   happy       sad     angry      glad\n",
       "a      0 -0.833148  1.067942  0.833148\n",
       "b      1 -0.229196 -0.222342  1.229196\n",
       "c      2  0.766069  1.529697  1.233931\n",
       "d      3  0.064205  0.296055  2.935795\n",
       "e      4  0.232071  0.196769  3.767929"
      ]
     },
     "execution_count": 14,
     "metadata": {},
     "output_type": "execute_result"
    }
   ],
   "source": [
    "#to create a new column the notation is as follows\n",
    "df['glad'] = df.happy - df.sad\n",
    "df"
   ]
  },
  {
   "cell_type": "markdown",
   "metadata": {},
   "source": [
    "Some caveats:\n",
    "    This access only works when the index element is a valid python identifier.\n",
    "    The attribute is not available if it conflicts with an existing method name like min or max\n",
    "    It will also be unavaiable if it conflicts with the following lists: *index, major_axis, minor_axis, items, labels.*\n",
    "\n",
    "when these cases occur, standard indexing is still valid.\n",
    "\n",
    "We can also assign a dict to a row of a dataframe:"
   ]
  },
  {
   "cell_type": "code",
   "execution_count": 15,
   "metadata": {},
   "outputs": [
    {
     "data": {
      "text/html": [
       "<div>\n",
       "<style scoped>\n",
       "    .dataframe tbody tr th:only-of-type {\n",
       "        vertical-align: middle;\n",
       "    }\n",
       "\n",
       "    .dataframe tbody tr th {\n",
       "        vertical-align: top;\n",
       "    }\n",
       "\n",
       "    .dataframe thead th {\n",
       "        text-align: right;\n",
       "    }\n",
       "</style>\n",
       "<table border=\"1\" class=\"dataframe\">\n",
       "  <thead>\n",
       "    <tr style=\"text-align: right;\">\n",
       "      <th></th>\n",
       "      <th>happy</th>\n",
       "      <th>sad</th>\n",
       "      <th>angry</th>\n",
       "      <th>glad</th>\n",
       "    </tr>\n",
       "  </thead>\n",
       "  <tbody>\n",
       "    <tr>\n",
       "      <th>a</th>\n",
       "      <td>0</td>\n",
       "      <td>-0.833148</td>\n",
       "      <td>1.06794</td>\n",
       "      <td>0.833148</td>\n",
       "    </tr>\n",
       "    <tr>\n",
       "      <th>b</th>\n",
       "      <td>1</td>\n",
       "      <td>-0.229196</td>\n",
       "      <td>-0.222342</td>\n",
       "      <td>1.2292</td>\n",
       "    </tr>\n",
       "    <tr>\n",
       "      <th>c</th>\n",
       "      <td>2</td>\n",
       "      <td>0.766069</td>\n",
       "      <td>1.5297</td>\n",
       "      <td>1.23393</td>\n",
       "    </tr>\n",
       "    <tr>\n",
       "      <th>d</th>\n",
       "      <td>happy</td>\n",
       "      <td>sad</td>\n",
       "      <td>angry</td>\n",
       "      <td>glad</td>\n",
       "    </tr>\n",
       "    <tr>\n",
       "      <th>e</th>\n",
       "      <td>4</td>\n",
       "      <td>0.232071</td>\n",
       "      <td>0.196769</td>\n",
       "      <td>3.76793</td>\n",
       "    </tr>\n",
       "  </tbody>\n",
       "</table>\n",
       "</div>"
      ],
      "text/plain": [
       "   happy       sad     angry      glad\n",
       "a      0 -0.833148   1.06794  0.833148\n",
       "b      1 -0.229196 -0.222342    1.2292\n",
       "c      2  0.766069    1.5297   1.23393\n",
       "d  happy       sad     angry      glad\n",
       "e      4  0.232071  0.196769   3.76793"
      ]
     },
     "execution_count": 15,
     "metadata": {},
     "output_type": "execute_result"
    }
   ],
   "source": [
    "df.iloc[3] = {'happy':12, 'sad':13, 'angry':14, 'glad':6}\n",
    "df"
   ]
  },
  {
   "cell_type": "markdown",
   "metadata": {},
   "source": [
    "# slicing ranges\n",
    "\n",
    "This section will focus on the [] operator\n",
    "\n",
    "With a Series the [] operator uses the same syntax as when working with an ndarray."
   ]
  },
  {
   "cell_type": "code",
   "execution_count": 16,
   "metadata": {},
   "outputs": [
    {
     "data": {
      "text/plain": [
       "a     1.06794\n",
       "b   -0.222342\n",
       "c      1.5297\n",
       "Name: angry, dtype: object"
      ]
     },
     "execution_count": 16,
     "metadata": {},
     "output_type": "execute_result"
    }
   ],
   "source": [
    "# slicing out a series from df\n",
    "s = df['angry']\n",
    "#slicing a range\n",
    "s[:3]"
   ]
  },
  {
   "cell_type": "code",
   "execution_count": 17,
   "metadata": {},
   "outputs": [
    {
     "data": {
      "text/plain": [
       "a    1.06794\n",
       "d      angry\n",
       "Name: angry, dtype: object"
      ]
     },
     "execution_count": 17,
     "metadata": {},
     "output_type": "execute_result"
    }
   ],
   "source": [
    "s[::3]"
   ]
  },
  {
   "cell_type": "code",
   "execution_count": 18,
   "metadata": {},
   "outputs": [
    {
     "data": {
      "text/plain": [
       "e    0.196769\n",
       "c      1.5297\n",
       "a     1.06794\n",
       "Name: angry, dtype: object"
      ]
     },
     "execution_count": 18,
     "metadata": {},
     "output_type": "execute_result"
    }
   ],
   "source": [
    "s[::-2]"
   ]
  },
  {
   "cell_type": "markdown",
   "metadata": {},
   "source": [
    "setting works the same was as well"
   ]
  },
  {
   "cell_type": "code",
   "execution_count": 19,
   "metadata": {},
   "outputs": [
    {
     "data": {
      "text/plain": [
       "a     1.06794\n",
       "b   -0.222342\n",
       "c      1.5297\n",
       "d           6\n",
       "e    0.196769\n",
       "Name: angry, dtype: object"
      ]
     },
     "execution_count": 19,
     "metadata": {},
     "output_type": "execute_result"
    }
   ],
   "source": [
    "s2 = s.copy()\n",
    "s2[3] = 6\n",
    "s2"
   ]
  },
  {
   "cell_type": "markdown",
   "metadata": {},
   "source": [
    "Slicing for a dataframe using the [] operator slices rows."
   ]
  },
  {
   "cell_type": "code",
   "execution_count": 20,
   "metadata": {},
   "outputs": [
    {
     "data": {
      "text/html": [
       "<div>\n",
       "<style scoped>\n",
       "    .dataframe tbody tr th:only-of-type {\n",
       "        vertical-align: middle;\n",
       "    }\n",
       "\n",
       "    .dataframe tbody tr th {\n",
       "        vertical-align: top;\n",
       "    }\n",
       "\n",
       "    .dataframe thead th {\n",
       "        text-align: right;\n",
       "    }\n",
       "</style>\n",
       "<table border=\"1\" class=\"dataframe\">\n",
       "  <thead>\n",
       "    <tr style=\"text-align: right;\">\n",
       "      <th></th>\n",
       "      <th>happy</th>\n",
       "      <th>sad</th>\n",
       "      <th>angry</th>\n",
       "      <th>glad</th>\n",
       "    </tr>\n",
       "  </thead>\n",
       "  <tbody>\n",
       "    <tr>\n",
       "      <th>c</th>\n",
       "      <td>2</td>\n",
       "      <td>0.766069</td>\n",
       "      <td>1.5297</td>\n",
       "      <td>1.23393</td>\n",
       "    </tr>\n",
       "    <tr>\n",
       "      <th>d</th>\n",
       "      <td>happy</td>\n",
       "      <td>sad</td>\n",
       "      <td>angry</td>\n",
       "      <td>glad</td>\n",
       "    </tr>\n",
       "  </tbody>\n",
       "</table>\n",
       "</div>"
      ],
      "text/plain": [
       "   happy       sad   angry     glad\n",
       "c      2  0.766069  1.5297  1.23393\n",
       "d  happy       sad   angry     glad"
      ]
     },
     "execution_count": 20,
     "metadata": {},
     "output_type": "execute_result"
    }
   ],
   "source": [
    "#slicing rows in a dataframe\n",
    "df[2:4]"
   ]
  },
  {
   "cell_type": "markdown",
   "metadata": {},
   "source": [
    "# Selection by label\n",
    "\n",
    "This section concerns the .loc accessor and other purely label based methods.\n",
    "\n",
    "a few notes:\n",
    "    chained assignment should be avoided\n",
    "    slicers must be compatible or convertible with the index type or they will raise a type error (e.g. tryin to slice a datetime index with integers will raise this error)\n",
    "    \n",
    "To reiterate a few points. Purely label based indexing in pandas is a strict inclusion protocol. Slices must include the start bound and stop bound when present in the index. Integers, in this case, refer to labels and not positions.\n",
    "\n",
    "The.loc method is the primary attribute used to do this. valid inputs include the following:\n",
    "    a single label\n",
    "    \n",
    "    a list or array of labels\n",
    "    \n",
    "    a slice object with labels 'start':'finish'\n",
    "    \n",
    "    a boolean array\n",
    "    \n",
    "    a callable function"
   ]
  },
  {
   "cell_type": "code",
   "execution_count": 21,
   "metadata": {},
   "outputs": [
    {
     "data": {
      "text/html": [
       "<div>\n",
       "<style scoped>\n",
       "    .dataframe tbody tr th:only-of-type {\n",
       "        vertical-align: middle;\n",
       "    }\n",
       "\n",
       "    .dataframe tbody tr th {\n",
       "        vertical-align: top;\n",
       "    }\n",
       "\n",
       "    .dataframe thead th {\n",
       "        text-align: right;\n",
       "    }\n",
       "</style>\n",
       "<table border=\"1\" class=\"dataframe\">\n",
       "  <thead>\n",
       "    <tr style=\"text-align: right;\">\n",
       "      <th></th>\n",
       "      <th>1</th>\n",
       "      <th>2</th>\n",
       "      <th>3</th>\n",
       "      <th>4</th>\n",
       "      <th>5</th>\n",
       "      <th>6</th>\n",
       "    </tr>\n",
       "  </thead>\n",
       "  <tbody>\n",
       "    <tr>\n",
       "      <th>a</th>\n",
       "      <td>-0.242416</td>\n",
       "      <td>-0.951107</td>\n",
       "      <td>2.116526</td>\n",
       "      <td>-0.925814</td>\n",
       "      <td>-0.496736</td>\n",
       "      <td>1.416686</td>\n",
       "    </tr>\n",
       "    <tr>\n",
       "      <th>b</th>\n",
       "      <td>0.283976</td>\n",
       "      <td>0.306144</td>\n",
       "      <td>1.076659</td>\n",
       "      <td>-0.693901</td>\n",
       "      <td>-1.041501</td>\n",
       "      <td>0.608209</td>\n",
       "    </tr>\n",
       "    <tr>\n",
       "      <th>c</th>\n",
       "      <td>1.014191</td>\n",
       "      <td>-0.555344</td>\n",
       "      <td>0.146529</td>\n",
       "      <td>-1.925252</td>\n",
       "      <td>0.599487</td>\n",
       "      <td>-0.722274</td>\n",
       "    </tr>\n",
       "    <tr>\n",
       "      <th>d</th>\n",
       "      <td>-0.352002</td>\n",
       "      <td>-0.347169</td>\n",
       "      <td>2.112210</td>\n",
       "      <td>0.003346</td>\n",
       "      <td>-0.390103</td>\n",
       "      <td>-0.051325</td>\n",
       "    </tr>\n",
       "    <tr>\n",
       "      <th>e</th>\n",
       "      <td>-0.683089</td>\n",
       "      <td>0.528470</td>\n",
       "      <td>-2.110392</td>\n",
       "      <td>0.379916</td>\n",
       "      <td>0.555074</td>\n",
       "      <td>2.059263</td>\n",
       "    </tr>\n",
       "    <tr>\n",
       "      <th>f</th>\n",
       "      <td>0.979241</td>\n",
       "      <td>-1.230551</td>\n",
       "      <td>0.487951</td>\n",
       "      <td>0.695517</td>\n",
       "      <td>-1.131307</td>\n",
       "      <td>-1.803358</td>\n",
       "    </tr>\n",
       "  </tbody>\n",
       "</table>\n",
       "</div>"
      ],
      "text/plain": [
       "          1         2         3         4         5         6\n",
       "a -0.242416 -0.951107  2.116526 -0.925814 -0.496736  1.416686\n",
       "b  0.283976  0.306144  1.076659 -0.693901 -1.041501  0.608209\n",
       "c  1.014191 -0.555344  0.146529 -1.925252  0.599487 -0.722274\n",
       "d -0.352002 -0.347169  2.112210  0.003346 -0.390103 -0.051325\n",
       "e -0.683089  0.528470 -2.110392  0.379916  0.555074  2.059263\n",
       "f  0.979241 -1.230551  0.487951  0.695517 -1.131307 -1.803358"
      ]
     },
     "execution_count": 21,
     "metadata": {},
     "output_type": "execute_result"
    }
   ],
   "source": [
    "# generating a new dataframe to work with\n",
    "df = pd.DataFrame(np.random.randn(6, 6), index = list('abcdef'), columns = [1, 2, 3, 4, 5, 6])\n",
    "df"
   ]
  },
  {
   "cell_type": "code",
   "execution_count": 22,
   "metadata": {},
   "outputs": [
    {
     "data": {
      "text/plain": [
       "a   -0.242416\n",
       "b    0.283976\n",
       "c    1.014191\n",
       "Name: 1, dtype: float64"
      ]
     },
     "execution_count": 22,
     "metadata": {},
     "output_type": "execute_result"
    }
   ],
   "source": [
    "#selecting rows based on a series label within a dataframe\n",
    "df[1].loc['a':'c']"
   ]
  },
  {
   "cell_type": "code",
   "execution_count": 23,
   "metadata": {},
   "outputs": [
    {
     "data": {
      "text/html": [
       "<div>\n",
       "<style scoped>\n",
       "    .dataframe tbody tr th:only-of-type {\n",
       "        vertical-align: middle;\n",
       "    }\n",
       "\n",
       "    .dataframe tbody tr th {\n",
       "        vertical-align: top;\n",
       "    }\n",
       "\n",
       "    .dataframe thead th {\n",
       "        text-align: right;\n",
       "    }\n",
       "</style>\n",
       "<table border=\"1\" class=\"dataframe\">\n",
       "  <thead>\n",
       "    <tr style=\"text-align: right;\">\n",
       "      <th></th>\n",
       "      <th>1</th>\n",
       "      <th>2</th>\n",
       "      <th>3</th>\n",
       "      <th>4</th>\n",
       "      <th>5</th>\n",
       "      <th>6</th>\n",
       "    </tr>\n",
       "  </thead>\n",
       "  <tbody>\n",
       "    <tr>\n",
       "      <th>a</th>\n",
       "      <td>NaN</td>\n",
       "      <td>-0.951107</td>\n",
       "      <td>2.116526</td>\n",
       "      <td>-0.925814</td>\n",
       "      <td>-0.496736</td>\n",
       "      <td>1.416686</td>\n",
       "    </tr>\n",
       "    <tr>\n",
       "      <th>b</th>\n",
       "      <td>0.283976</td>\n",
       "      <td>0.306144</td>\n",
       "      <td>1.076659</td>\n",
       "      <td>-0.693901</td>\n",
       "      <td>-1.041501</td>\n",
       "      <td>0.608209</td>\n",
       "    </tr>\n",
       "    <tr>\n",
       "      <th>c</th>\n",
       "      <td>1.014191</td>\n",
       "      <td>-0.555344</td>\n",
       "      <td>0.146529</td>\n",
       "      <td>-1.925252</td>\n",
       "      <td>0.599487</td>\n",
       "      <td>-0.722274</td>\n",
       "    </tr>\n",
       "    <tr>\n",
       "      <th>d</th>\n",
       "      <td>-0.352002</td>\n",
       "      <td>-0.347169</td>\n",
       "      <td>2.112210</td>\n",
       "      <td>0.003346</td>\n",
       "      <td>-0.390103</td>\n",
       "      <td>-0.051325</td>\n",
       "    </tr>\n",
       "    <tr>\n",
       "      <th>e</th>\n",
       "      <td>-0.683089</td>\n",
       "      <td>0.528470</td>\n",
       "      <td>-2.110392</td>\n",
       "      <td>0.379916</td>\n",
       "      <td>0.555074</td>\n",
       "      <td>2.059263</td>\n",
       "    </tr>\n",
       "    <tr>\n",
       "      <th>f</th>\n",
       "      <td>0.979241</td>\n",
       "      <td>-1.230551</td>\n",
       "      <td>0.487951</td>\n",
       "      <td>0.695517</td>\n",
       "      <td>-1.131307</td>\n",
       "      <td>-1.803358</td>\n",
       "    </tr>\n",
       "  </tbody>\n",
       "</table>\n",
       "</div>"
      ],
      "text/plain": [
       "          1         2         3         4         5         6\n",
       "a       NaN -0.951107  2.116526 -0.925814 -0.496736  1.416686\n",
       "b  0.283976  0.306144  1.076659 -0.693901 -1.041501  0.608209\n",
       "c  1.014191 -0.555344  0.146529 -1.925252  0.599487 -0.722274\n",
       "d -0.352002 -0.347169  2.112210  0.003346 -0.390103 -0.051325\n",
       "e -0.683089  0.528470 -2.110392  0.379916  0.555074  2.059263\n",
       "f  0.979241 -1.230551  0.487951  0.695517 -1.131307 -1.803358"
      ]
     },
     "execution_count": 23,
     "metadata": {},
     "output_type": "execute_result"
    }
   ],
   "source": [
    "#setting a series value based on label in a series within a dataframe\n",
    "df[1].loc['a'] = np.nan\n",
    "df"
   ]
  },
  {
   "cell_type": "code",
   "execution_count": 24,
   "metadata": {},
   "outputs": [
    {
     "data": {
      "text/html": [
       "<div>\n",
       "<style scoped>\n",
       "    .dataframe tbody tr th:only-of-type {\n",
       "        vertical-align: middle;\n",
       "    }\n",
       "\n",
       "    .dataframe tbody tr th {\n",
       "        vertical-align: top;\n",
       "    }\n",
       "\n",
       "    .dataframe thead th {\n",
       "        text-align: right;\n",
       "    }\n",
       "</style>\n",
       "<table border=\"1\" class=\"dataframe\">\n",
       "  <thead>\n",
       "    <tr style=\"text-align: right;\">\n",
       "      <th></th>\n",
       "      <th>1</th>\n",
       "      <th>2</th>\n",
       "      <th>3</th>\n",
       "    </tr>\n",
       "  </thead>\n",
       "  <tbody>\n",
       "    <tr>\n",
       "      <th>b</th>\n",
       "      <td>0.283976</td>\n",
       "      <td>0.306144</td>\n",
       "      <td>1.076659</td>\n",
       "    </tr>\n",
       "    <tr>\n",
       "      <th>d</th>\n",
       "      <td>-0.352002</td>\n",
       "      <td>-0.347169</td>\n",
       "      <td>2.112210</td>\n",
       "    </tr>\n",
       "    <tr>\n",
       "      <th>f</th>\n",
       "      <td>0.979241</td>\n",
       "      <td>-1.230551</td>\n",
       "      <td>0.487951</td>\n",
       "    </tr>\n",
       "  </tbody>\n",
       "</table>\n",
       "</div>"
      ],
      "text/plain": [
       "          1         2         3\n",
       "b  0.283976  0.306144  1.076659\n",
       "d -0.352002 -0.347169  2.112210\n",
       "f  0.979241 -1.230551  0.487951"
      ]
     },
     "execution_count": 24,
     "metadata": {},
     "output_type": "execute_result"
    }
   ],
   "source": [
    "#using selected rows and columns\n",
    "df.loc[['b', 'd', 'f'], 1:3]"
   ]
  },
  {
   "cell_type": "code",
   "execution_count": 25,
   "metadata": {},
   "outputs": [
    {
     "data": {
      "text/html": [
       "<div>\n",
       "<style scoped>\n",
       "    .dataframe tbody tr th:only-of-type {\n",
       "        vertical-align: middle;\n",
       "    }\n",
       "\n",
       "    .dataframe tbody tr th {\n",
       "        vertical-align: top;\n",
       "    }\n",
       "\n",
       "    .dataframe thead th {\n",
       "        text-align: right;\n",
       "    }\n",
       "</style>\n",
       "<table border=\"1\" class=\"dataframe\">\n",
       "  <thead>\n",
       "    <tr style=\"text-align: right;\">\n",
       "      <th></th>\n",
       "      <th>3</th>\n",
       "      <th>4</th>\n",
       "      <th>5</th>\n",
       "      <th>6</th>\n",
       "    </tr>\n",
       "  </thead>\n",
       "  <tbody>\n",
       "    <tr>\n",
       "      <th>c</th>\n",
       "      <td>0.146529</td>\n",
       "      <td>-1.925252</td>\n",
       "      <td>0.599487</td>\n",
       "      <td>-0.722274</td>\n",
       "    </tr>\n",
       "    <tr>\n",
       "      <th>d</th>\n",
       "      <td>2.112210</td>\n",
       "      <td>0.003346</td>\n",
       "      <td>-0.390103</td>\n",
       "      <td>-0.051325</td>\n",
       "    </tr>\n",
       "    <tr>\n",
       "      <th>e</th>\n",
       "      <td>-2.110392</td>\n",
       "      <td>0.379916</td>\n",
       "      <td>0.555074</td>\n",
       "      <td>2.059263</td>\n",
       "    </tr>\n",
       "    <tr>\n",
       "      <th>f</th>\n",
       "      <td>0.487951</td>\n",
       "      <td>0.695517</td>\n",
       "      <td>-1.131307</td>\n",
       "      <td>-1.803358</td>\n",
       "    </tr>\n",
       "  </tbody>\n",
       "</table>\n",
       "</div>"
      ],
      "text/plain": [
       "          3         4         5         6\n",
       "c  0.146529 -1.925252  0.599487 -0.722274\n",
       "d  2.112210  0.003346 -0.390103 -0.051325\n",
       "e -2.110392  0.379916  0.555074  2.059263\n",
       "f  0.487951  0.695517 -1.131307 -1.803358"
      ]
     },
     "execution_count": 25,
     "metadata": {},
     "output_type": "execute_result"
    }
   ],
   "source": [
    "#using label slices\n",
    "df.loc['c':'f', 3:6]"
   ]
  },
  {
   "cell_type": "code",
   "execution_count": 26,
   "metadata": {},
   "outputs": [
    {
     "data": {
      "text/plain": [
       "1   -0.683089\n",
       "2    0.528470\n",
       "3   -2.110392\n",
       "4    0.379916\n",
       "5    0.555074\n",
       "6    2.059263\n",
       "Name: e, dtype: float64"
      ]
     },
     "execution_count": 26,
     "metadata": {},
     "output_type": "execute_result"
    }
   ],
   "source": [
    "#cross section with a label\n",
    "df.loc['e']"
   ]
  },
  {
   "cell_type": "code",
   "execution_count": 27,
   "metadata": {},
   "outputs": [
    {
     "data": {
      "text/html": [
       "<div>\n",
       "<style scoped>\n",
       "    .dataframe tbody tr th:only-of-type {\n",
       "        vertical-align: middle;\n",
       "    }\n",
       "\n",
       "    .dataframe tbody tr th {\n",
       "        vertical-align: top;\n",
       "    }\n",
       "\n",
       "    .dataframe thead th {\n",
       "        text-align: right;\n",
       "    }\n",
       "</style>\n",
       "<table border=\"1\" class=\"dataframe\">\n",
       "  <thead>\n",
       "    <tr style=\"text-align: right;\">\n",
       "      <th></th>\n",
       "      <th>1</th>\n",
       "      <th>2</th>\n",
       "      <th>3</th>\n",
       "      <th>4</th>\n",
       "    </tr>\n",
       "  </thead>\n",
       "  <tbody>\n",
       "    <tr>\n",
       "      <th>a</th>\n",
       "      <td>False</td>\n",
       "      <td>True</td>\n",
       "      <td>False</td>\n",
       "      <td>True</td>\n",
       "    </tr>\n",
       "    <tr>\n",
       "      <th>b</th>\n",
       "      <td>True</td>\n",
       "      <td>True</td>\n",
       "      <td>False</td>\n",
       "      <td>True</td>\n",
       "    </tr>\n",
       "    <tr>\n",
       "      <th>c</th>\n",
       "      <td>False</td>\n",
       "      <td>True</td>\n",
       "      <td>True</td>\n",
       "      <td>True</td>\n",
       "    </tr>\n",
       "  </tbody>\n",
       "</table>\n",
       "</div>"
      ],
      "text/plain": [
       "       1     2      3     4\n",
       "a  False  True  False  True\n",
       "b   True  True  False  True\n",
       "c  False  True   True  True"
      ]
     },
     "execution_count": 27,
     "metadata": {},
     "output_type": "execute_result"
    }
   ],
   "source": [
    "#using a boolean array\n",
    "df.loc['a':'c', 1:4] <1"
   ]
  },
  {
   "cell_type": "code",
   "execution_count": 28,
   "metadata": {},
   "outputs": [
    {
     "data": {
      "text/plain": [
       "1.076658515386979"
      ]
     },
     "execution_count": 28,
     "metadata": {},
     "output_type": "execute_result"
    }
   ],
   "source": [
    "#for grabbing a value explicitly, equivalent to \"df.at['a', '1']\n",
    "df.loc['b', 3]"
   ]
  },
  {
   "cell_type": "markdown",
   "metadata": {},
   "source": [
    "# slicing with labels\n",
    "\n",
    "Slicing using the .loc accessor returns the elements inbetween and including the start and stop labels when they are both present in the index."
   ]
  },
  {
   "cell_type": "code",
   "execution_count": 29,
   "metadata": {},
   "outputs": [
    {
     "data": {
      "text/plain": [
       "a         NaN\n",
       "b    0.283976\n",
       "c    1.014191\n",
       "d   -0.352002\n",
       "e   -0.683089\n",
       "f    0.979241\n",
       "Name: 1, dtype: float64"
      ]
     },
     "execution_count": 29,
     "metadata": {},
     "output_type": "execute_result"
    }
   ],
   "source": [
    "s = df[1]\n",
    "s"
   ]
  },
  {
   "cell_type": "code",
   "execution_count": 30,
   "metadata": {},
   "outputs": [
    {
     "data": {
      "text/plain": [
       "b    0.283976\n",
       "c    1.014191\n",
       "d   -0.352002\n",
       "e   -0.683089\n",
       "Name: 1, dtype: float64"
      ]
     },
     "execution_count": 30,
     "metadata": {},
     "output_type": "execute_result"
    }
   ],
   "source": [
    "#slicing a series\n",
    "s.loc['b':'e']"
   ]
  },
  {
   "cell_type": "markdown",
   "metadata": {},
   "source": [
    "In the case where one of the two elements is missing but the index is sorted. Slicing will still work by selecting the labels ranked between the two."
   ]
  },
  {
   "cell_type": "code",
   "execution_count": 31,
   "metadata": {},
   "outputs": [
    {
     "data": {
      "text/plain": [
       "d   -0.352002\n",
       "e   -0.683089\n",
       "f    0.979241\n",
       "Name: 1, dtype: float64"
      ]
     },
     "execution_count": 31,
     "metadata": {},
     "output_type": "execute_result"
    }
   ],
   "source": [
    "s.sort_index().loc['d':'g']"
   ]
  },
  {
   "cell_type": "markdown",
   "metadata": {},
   "source": [
    "In this same case when the index is not sorted an error will be raised instead. aka, don't do the thing.\n",
    "\n",
    "# Selecting by Position\n",
    "\n",
    "Chained assingment should be avoided\n",
    "\n",
    "Purely integer based indexing is available in pandas with a number of methods. All methods are 0 based, start bound is included stop bound is excluded. Using anything but an integer will raise and IndexError.\n",
    "\n",
    ".iloc is the primary method with the following valid inputs\n",
    "    an integer\n",
    "    a list or array of integers\n",
    "    a slice object with ints"
   ]
  },
  {
   "cell_type": "code",
   "execution_count": 32,
   "metadata": {},
   "outputs": [
    {
     "data": {
      "text/plain": [
       "0     0.847218\n",
       "3    -0.951058\n",
       "6    -0.131249\n",
       "9     0.263152\n",
       "12   -1.730107\n",
       "15    0.579728\n",
       "dtype: float64"
      ]
     },
     "execution_count": 32,
     "metadata": {},
     "output_type": "execute_result"
    }
   ],
   "source": [
    "# creating a new series to work with\n",
    "s = pd.Series(np.random.randn(6), index = list(range(0, 18, 3)))\n",
    "s"
   ]
  },
  {
   "cell_type": "code",
   "execution_count": 33,
   "metadata": {},
   "outputs": [
    {
     "data": {
      "text/plain": [
       "-0.13124864421401022"
      ]
     },
     "execution_count": 33,
     "metadata": {},
     "output_type": "execute_result"
    }
   ],
   "source": [
    "#grabbing the third value (integer position 2 in this case)\n",
    "s.iloc[2]"
   ]
  },
  {
   "cell_type": "code",
   "execution_count": 34,
   "metadata": {},
   "outputs": [
    {
     "data": {
      "text/plain": [
       "6   -0.131249\n",
       "9    0.263152\n",
       "dtype: float64"
      ]
     },
     "execution_count": 34,
     "metadata": {},
     "output_type": "execute_result"
    }
   ],
   "source": [
    "#grabbing a central slice\n",
    "s.iloc[2:4]"
   ]
  },
  {
   "cell_type": "code",
   "execution_count": 35,
   "metadata": {},
   "outputs": [
    {
     "data": {
      "text/plain": [
       "0     0.847218\n",
       "3    -0.951058\n",
       "6     3.000000\n",
       "9     0.263152\n",
       "12   -1.730107\n",
       "15    0.579728\n",
       "dtype: float64"
      ]
     },
     "execution_count": 35,
     "metadata": {},
     "output_type": "execute_result"
    }
   ],
   "source": [
    "#setting the value of integer position 2\n",
    "s.iloc[2] = 3\n",
    "s"
   ]
  },
  {
   "cell_type": "code",
   "execution_count": 36,
   "metadata": {},
   "outputs": [
    {
     "data": {
      "text/html": [
       "<div>\n",
       "<style scoped>\n",
       "    .dataframe tbody tr th:only-of-type {\n",
       "        vertical-align: middle;\n",
       "    }\n",
       "\n",
       "    .dataframe tbody tr th {\n",
       "        vertical-align: top;\n",
       "    }\n",
       "\n",
       "    .dataframe thead th {\n",
       "        text-align: right;\n",
       "    }\n",
       "</style>\n",
       "<table border=\"1\" class=\"dataframe\">\n",
       "  <thead>\n",
       "    <tr style=\"text-align: right;\">\n",
       "      <th></th>\n",
       "      <th>0</th>\n",
       "      <th>2</th>\n",
       "      <th>4</th>\n",
       "      <th>6</th>\n",
       "      <th>8</th>\n",
       "    </tr>\n",
       "  </thead>\n",
       "  <tbody>\n",
       "    <tr>\n",
       "      <th>0</th>\n",
       "      <td>0.210580</td>\n",
       "      <td>-0.906602</td>\n",
       "      <td>-2.390400</td>\n",
       "      <td>-0.797841</td>\n",
       "      <td>0.273868</td>\n",
       "    </tr>\n",
       "    <tr>\n",
       "      <th>4</th>\n",
       "      <td>-1.330317</td>\n",
       "      <td>1.345429</td>\n",
       "      <td>0.327931</td>\n",
       "      <td>-0.644835</td>\n",
       "      <td>0.972289</td>\n",
       "    </tr>\n",
       "    <tr>\n",
       "      <th>8</th>\n",
       "      <td>-0.928789</td>\n",
       "      <td>-0.806594</td>\n",
       "      <td>-1.065950</td>\n",
       "      <td>0.549011</td>\n",
       "      <td>0.739513</td>\n",
       "    </tr>\n",
       "    <tr>\n",
       "      <th>12</th>\n",
       "      <td>-0.756749</td>\n",
       "      <td>0.817782</td>\n",
       "      <td>-0.090105</td>\n",
       "      <td>-0.493505</td>\n",
       "      <td>-1.037237</td>\n",
       "    </tr>\n",
       "    <tr>\n",
       "      <th>16</th>\n",
       "      <td>-0.317896</td>\n",
       "      <td>0.724582</td>\n",
       "      <td>0.499436</td>\n",
       "      <td>-0.545581</td>\n",
       "      <td>-1.317301</td>\n",
       "    </tr>\n",
       "    <tr>\n",
       "      <th>20</th>\n",
       "      <td>-0.481550</td>\n",
       "      <td>0.650169</td>\n",
       "      <td>0.764207</td>\n",
       "      <td>0.514775</td>\n",
       "      <td>-0.313022</td>\n",
       "    </tr>\n",
       "    <tr>\n",
       "      <th>24</th>\n",
       "      <td>0.927957</td>\n",
       "      <td>1.068104</td>\n",
       "      <td>-0.210802</td>\n",
       "      <td>-1.382112</td>\n",
       "      <td>0.689783</td>\n",
       "    </tr>\n",
       "    <tr>\n",
       "      <th>28</th>\n",
       "      <td>0.535460</td>\n",
       "      <td>0.688742</td>\n",
       "      <td>0.512451</td>\n",
       "      <td>-0.780696</td>\n",
       "      <td>-0.602517</td>\n",
       "    </tr>\n",
       "    <tr>\n",
       "      <th>32</th>\n",
       "      <td>-0.523694</td>\n",
       "      <td>0.241828</td>\n",
       "      <td>-0.314429</td>\n",
       "      <td>-1.432156</td>\n",
       "      <td>-1.625160</td>\n",
       "    </tr>\n",
       "    <tr>\n",
       "      <th>36</th>\n",
       "      <td>-0.300745</td>\n",
       "      <td>-0.111574</td>\n",
       "      <td>0.021927</td>\n",
       "      <td>-0.216563</td>\n",
       "      <td>-1.803607</td>\n",
       "    </tr>\n",
       "  </tbody>\n",
       "</table>\n",
       "</div>"
      ],
      "text/plain": [
       "           0         2         4         6         8\n",
       "0   0.210580 -0.906602 -2.390400 -0.797841  0.273868\n",
       "4  -1.330317  1.345429  0.327931 -0.644835  0.972289\n",
       "8  -0.928789 -0.806594 -1.065950  0.549011  0.739513\n",
       "12 -0.756749  0.817782 -0.090105 -0.493505 -1.037237\n",
       "16 -0.317896  0.724582  0.499436 -0.545581 -1.317301\n",
       "20 -0.481550  0.650169  0.764207  0.514775 -0.313022\n",
       "24  0.927957  1.068104 -0.210802 -1.382112  0.689783\n",
       "28  0.535460  0.688742  0.512451 -0.780696 -0.602517\n",
       "32 -0.523694  0.241828 -0.314429 -1.432156 -1.625160\n",
       "36 -0.300745 -0.111574  0.021927 -0.216563 -1.803607"
      ]
     },
     "execution_count": 36,
     "metadata": {},
     "output_type": "execute_result"
    }
   ],
   "source": [
    "#generating a new dataframe to work with\n",
    "df = pd.DataFrame(np.random.randn(10, 5), index = list(range(0, 40, 4)), columns = list(range(0, 10, 2)))\n",
    "df"
   ]
  },
  {
   "cell_type": "code",
   "execution_count": 37,
   "metadata": {},
   "outputs": [
    {
     "data": {
      "text/html": [
       "<div>\n",
       "<style scoped>\n",
       "    .dataframe tbody tr th:only-of-type {\n",
       "        vertical-align: middle;\n",
       "    }\n",
       "\n",
       "    .dataframe tbody tr th {\n",
       "        vertical-align: top;\n",
       "    }\n",
       "\n",
       "    .dataframe thead th {\n",
       "        text-align: right;\n",
       "    }\n",
       "</style>\n",
       "<table border=\"1\" class=\"dataframe\">\n",
       "  <thead>\n",
       "    <tr style=\"text-align: right;\">\n",
       "      <th></th>\n",
       "      <th>0</th>\n",
       "      <th>2</th>\n",
       "      <th>4</th>\n",
       "      <th>6</th>\n",
       "      <th>8</th>\n",
       "    </tr>\n",
       "  </thead>\n",
       "  <tbody>\n",
       "    <tr>\n",
       "      <th>0</th>\n",
       "      <td>0.210580</td>\n",
       "      <td>-0.906602</td>\n",
       "      <td>-2.390400</td>\n",
       "      <td>-0.797841</td>\n",
       "      <td>0.273868</td>\n",
       "    </tr>\n",
       "    <tr>\n",
       "      <th>4</th>\n",
       "      <td>-1.330317</td>\n",
       "      <td>1.345429</td>\n",
       "      <td>0.327931</td>\n",
       "      <td>-0.644835</td>\n",
       "      <td>0.972289</td>\n",
       "    </tr>\n",
       "    <tr>\n",
       "      <th>8</th>\n",
       "      <td>-0.928789</td>\n",
       "      <td>-0.806594</td>\n",
       "      <td>-1.065950</td>\n",
       "      <td>0.549011</td>\n",
       "      <td>0.739513</td>\n",
       "    </tr>\n",
       "    <tr>\n",
       "      <th>12</th>\n",
       "      <td>-0.756749</td>\n",
       "      <td>0.817782</td>\n",
       "      <td>-0.090105</td>\n",
       "      <td>-0.493505</td>\n",
       "      <td>-1.037237</td>\n",
       "    </tr>\n",
       "  </tbody>\n",
       "</table>\n",
       "</div>"
      ],
      "text/plain": [
       "           0         2         4         6         8\n",
       "0   0.210580 -0.906602 -2.390400 -0.797841  0.273868\n",
       "4  -1.330317  1.345429  0.327931 -0.644835  0.972289\n",
       "8  -0.928789 -0.806594 -1.065950  0.549011  0.739513\n",
       "12 -0.756749  0.817782 -0.090105 -0.493505 -1.037237"
      ]
     },
     "execution_count": 37,
     "metadata": {},
     "output_type": "execute_result"
    }
   ],
   "source": [
    "#using integer slicing, specifying rows\n",
    "df.iloc[:4]"
   ]
  },
  {
   "cell_type": "code",
   "execution_count": 38,
   "metadata": {},
   "outputs": [
    {
     "data": {
      "text/html": [
       "<div>\n",
       "<style scoped>\n",
       "    .dataframe tbody tr th:only-of-type {\n",
       "        vertical-align: middle;\n",
       "    }\n",
       "\n",
       "    .dataframe tbody tr th {\n",
       "        vertical-align: top;\n",
       "    }\n",
       "\n",
       "    .dataframe thead th {\n",
       "        text-align: right;\n",
       "    }\n",
       "</style>\n",
       "<table border=\"1\" class=\"dataframe\">\n",
       "  <thead>\n",
       "    <tr style=\"text-align: right;\">\n",
       "      <th></th>\n",
       "      <th>6</th>\n",
       "      <th>8</th>\n",
       "    </tr>\n",
       "  </thead>\n",
       "  <tbody>\n",
       "    <tr>\n",
       "      <th>12</th>\n",
       "      <td>-0.493505</td>\n",
       "      <td>-1.037237</td>\n",
       "    </tr>\n",
       "    <tr>\n",
       "      <th>16</th>\n",
       "      <td>-0.545581</td>\n",
       "      <td>-1.317301</td>\n",
       "    </tr>\n",
       "  </tbody>\n",
       "</table>\n",
       "</div>"
      ],
      "text/plain": [
       "           6         8\n",
       "12 -0.493505 -1.037237\n",
       "16 -0.545581 -1.317301"
      ]
     },
     "execution_count": 38,
     "metadata": {},
     "output_type": "execute_result"
    }
   ],
   "source": [
    "#using integer slicing specifying rows and columns\n",
    "df.iloc[3:5, 3:5]"
   ]
  },
  {
   "cell_type": "code",
   "execution_count": 39,
   "metadata": {},
   "outputs": [
    {
     "data": {
      "text/html": [
       "<div>\n",
       "<style scoped>\n",
       "    .dataframe tbody tr th:only-of-type {\n",
       "        vertical-align: middle;\n",
       "    }\n",
       "\n",
       "    .dataframe tbody tr th {\n",
       "        vertical-align: top;\n",
       "    }\n",
       "\n",
       "    .dataframe thead th {\n",
       "        text-align: right;\n",
       "    }\n",
       "</style>\n",
       "<table border=\"1\" class=\"dataframe\">\n",
       "  <thead>\n",
       "    <tr style=\"text-align: right;\">\n",
       "      <th></th>\n",
       "      <th>6</th>\n",
       "      <th>8</th>\n",
       "    </tr>\n",
       "  </thead>\n",
       "  <tbody>\n",
       "    <tr>\n",
       "      <th>12</th>\n",
       "      <td>-0.493505</td>\n",
       "      <td>-1.037237</td>\n",
       "    </tr>\n",
       "    <tr>\n",
       "      <th>20</th>\n",
       "      <td>0.514775</td>\n",
       "      <td>-0.313022</td>\n",
       "    </tr>\n",
       "    <tr>\n",
       "      <th>24</th>\n",
       "      <td>-1.382112</td>\n",
       "      <td>0.689783</td>\n",
       "    </tr>\n",
       "  </tbody>\n",
       "</table>\n",
       "</div>"
      ],
      "text/plain": [
       "           6         8\n",
       "12 -0.493505 -1.037237\n",
       "20  0.514775 -0.313022\n",
       "24 -1.382112  0.689783"
      ]
     },
     "execution_count": 39,
     "metadata": {},
     "output_type": "execute_result"
    }
   ],
   "source": [
    "#using a list of integers\n",
    "df.iloc[[3, 5, 6], [3, 4]]"
   ]
  },
  {
   "cell_type": "markdown",
   "metadata": {},
   "source": [
    "basic form for dataframes\n",
    "df.iloc[rows, columns]\n",
    "\n",
    "When a cross section is desired:"
   ]
  },
  {
   "cell_type": "code",
   "execution_count": 40,
   "metadata": {},
   "outputs": [
    {
     "data": {
      "text/plain": [
       "0   -0.756749\n",
       "2    0.817782\n",
       "4   -0.090105\n",
       "6   -0.493505\n",
       "8   -1.037237\n",
       "Name: 12, dtype: float64"
      ]
     },
     "execution_count": 40,
     "metadata": {},
     "output_type": "execute_result"
    }
   ],
   "source": [
    "df.iloc[3]"
   ]
  },
  {
   "cell_type": "code",
   "execution_count": 41,
   "metadata": {},
   "outputs": [
    {
     "data": {
      "text/html": [
       "<div>\n",
       "<style scoped>\n",
       "    .dataframe tbody tr th:only-of-type {\n",
       "        vertical-align: middle;\n",
       "    }\n",
       "\n",
       "    .dataframe tbody tr th {\n",
       "        vertical-align: top;\n",
       "    }\n",
       "\n",
       "    .dataframe thead th {\n",
       "        text-align: right;\n",
       "    }\n",
       "</style>\n",
       "<table border=\"1\" class=\"dataframe\">\n",
       "  <thead>\n",
       "    <tr style=\"text-align: right;\">\n",
       "      <th></th>\n",
       "      <th>6</th>\n",
       "      <th>8</th>\n",
       "    </tr>\n",
       "  </thead>\n",
       "  <tbody>\n",
       "    <tr>\n",
       "      <th>28</th>\n",
       "      <td>-0.780696</td>\n",
       "      <td>-0.602517</td>\n",
       "    </tr>\n",
       "    <tr>\n",
       "      <th>32</th>\n",
       "      <td>-1.432156</td>\n",
       "      <td>-1.625160</td>\n",
       "    </tr>\n",
       "    <tr>\n",
       "      <th>36</th>\n",
       "      <td>-0.216563</td>\n",
       "      <td>-1.803607</td>\n",
       "    </tr>\n",
       "  </tbody>\n",
       "</table>\n",
       "</div>"
      ],
      "text/plain": [
       "           6         8\n",
       "28 -0.780696 -0.602517\n",
       "32 -1.432156 -1.625160\n",
       "36 -0.216563 -1.803607"
      ]
     },
     "execution_count": 41,
     "metadata": {},
     "output_type": "execute_result"
    }
   ],
   "source": [
    "#out of bounds should be handled as well\n",
    "df.iloc[7:15, 3:10]"
   ]
  },
  {
   "cell_type": "markdown",
   "metadata": {},
   "source": [
    "when slices go out of bounds they can result in an empty dataframe.\n",
    "\n",
    "when a single indexer is out of bounds an IndexError will be raised. Similarly, a list of indexers where any single element is out of bounds will also raise an IndexError"
   ]
  },
  {
   "cell_type": "markdown",
   "metadata": {},
   "source": [
    "# Selection by a callable\n",
    "\n",
    "The primary indexers (.loc, .iloc, and []) can all accept a callable function as an indexer. However, the callable MUST be a function with one argument(the data object in this case), returning a valid output for indexing."
   ]
  },
  {
   "cell_type": "code",
   "execution_count": 42,
   "metadata": {},
   "outputs": [
    {
     "data": {
      "text/html": [
       "<div>\n",
       "<style scoped>\n",
       "    .dataframe tbody tr th:only-of-type {\n",
       "        vertical-align: middle;\n",
       "    }\n",
       "\n",
       "    .dataframe tbody tr th {\n",
       "        vertical-align: top;\n",
       "    }\n",
       "\n",
       "    .dataframe thead th {\n",
       "        text-align: right;\n",
       "    }\n",
       "</style>\n",
       "<table border=\"1\" class=\"dataframe\">\n",
       "  <thead>\n",
       "    <tr style=\"text-align: right;\">\n",
       "      <th></th>\n",
       "      <th>0</th>\n",
       "      <th>2</th>\n",
       "      <th>4</th>\n",
       "      <th>6</th>\n",
       "      <th>8</th>\n",
       "    </tr>\n",
       "  </thead>\n",
       "  <tbody>\n",
       "    <tr>\n",
       "      <th>0</th>\n",
       "      <td>0.210580</td>\n",
       "      <td>-0.906602</td>\n",
       "      <td>-2.390400</td>\n",
       "      <td>-0.797841</td>\n",
       "      <td>0.273868</td>\n",
       "    </tr>\n",
       "    <tr>\n",
       "      <th>8</th>\n",
       "      <td>-0.928789</td>\n",
       "      <td>-0.806594</td>\n",
       "      <td>-1.065950</td>\n",
       "      <td>0.549011</td>\n",
       "      <td>0.739513</td>\n",
       "    </tr>\n",
       "    <tr>\n",
       "      <th>12</th>\n",
       "      <td>-0.756749</td>\n",
       "      <td>0.817782</td>\n",
       "      <td>-0.090105</td>\n",
       "      <td>-0.493505</td>\n",
       "      <td>-1.037237</td>\n",
       "    </tr>\n",
       "    <tr>\n",
       "      <th>16</th>\n",
       "      <td>-0.317896</td>\n",
       "      <td>0.724582</td>\n",
       "      <td>0.499436</td>\n",
       "      <td>-0.545581</td>\n",
       "      <td>-1.317301</td>\n",
       "    </tr>\n",
       "    <tr>\n",
       "      <th>20</th>\n",
       "      <td>-0.481550</td>\n",
       "      <td>0.650169</td>\n",
       "      <td>0.764207</td>\n",
       "      <td>0.514775</td>\n",
       "      <td>-0.313022</td>\n",
       "    </tr>\n",
       "    <tr>\n",
       "      <th>24</th>\n",
       "      <td>0.927957</td>\n",
       "      <td>1.068104</td>\n",
       "      <td>-0.210802</td>\n",
       "      <td>-1.382112</td>\n",
       "      <td>0.689783</td>\n",
       "    </tr>\n",
       "    <tr>\n",
       "      <th>28</th>\n",
       "      <td>0.535460</td>\n",
       "      <td>0.688742</td>\n",
       "      <td>0.512451</td>\n",
       "      <td>-0.780696</td>\n",
       "      <td>-0.602517</td>\n",
       "    </tr>\n",
       "    <tr>\n",
       "      <th>32</th>\n",
       "      <td>-0.523694</td>\n",
       "      <td>0.241828</td>\n",
       "      <td>-0.314429</td>\n",
       "      <td>-1.432156</td>\n",
       "      <td>-1.625160</td>\n",
       "    </tr>\n",
       "    <tr>\n",
       "      <th>36</th>\n",
       "      <td>-0.300745</td>\n",
       "      <td>-0.111574</td>\n",
       "      <td>0.021927</td>\n",
       "      <td>-0.216563</td>\n",
       "      <td>-1.803607</td>\n",
       "    </tr>\n",
       "  </tbody>\n",
       "</table>\n",
       "</div>"
      ],
      "text/plain": [
       "           0         2         4         6         8\n",
       "0   0.210580 -0.906602 -2.390400 -0.797841  0.273868\n",
       "8  -0.928789 -0.806594 -1.065950  0.549011  0.739513\n",
       "12 -0.756749  0.817782 -0.090105 -0.493505 -1.037237\n",
       "16 -0.317896  0.724582  0.499436 -0.545581 -1.317301\n",
       "20 -0.481550  0.650169  0.764207  0.514775 -0.313022\n",
       "24  0.927957  1.068104 -0.210802 -1.382112  0.689783\n",
       "28  0.535460  0.688742  0.512451 -0.780696 -0.602517\n",
       "32 -0.523694  0.241828 -0.314429 -1.432156 -1.625160\n",
       "36 -0.300745 -0.111574  0.021927 -0.216563 -1.803607"
      ]
     },
     "execution_count": 42,
     "metadata": {},
     "output_type": "execute_result"
    }
   ],
   "source": [
    "df.loc[lambda df: df[0] > -1]"
   ]
  },
  {
   "cell_type": "code",
   "execution_count": 43,
   "metadata": {},
   "outputs": [
    {
     "data": {
      "text/html": [
       "<div>\n",
       "<style scoped>\n",
       "    .dataframe tbody tr th:only-of-type {\n",
       "        vertical-align: middle;\n",
       "    }\n",
       "\n",
       "    .dataframe tbody tr th {\n",
       "        vertical-align: top;\n",
       "    }\n",
       "\n",
       "    .dataframe thead th {\n",
       "        text-align: right;\n",
       "    }\n",
       "</style>\n",
       "<table border=\"1\" class=\"dataframe\">\n",
       "  <thead>\n",
       "    <tr style=\"text-align: right;\">\n",
       "      <th></th>\n",
       "      <th>4</th>\n",
       "      <th>6</th>\n",
       "    </tr>\n",
       "  </thead>\n",
       "  <tbody>\n",
       "    <tr>\n",
       "      <th>0</th>\n",
       "      <td>-2.390400</td>\n",
       "      <td>-0.797841</td>\n",
       "    </tr>\n",
       "    <tr>\n",
       "      <th>4</th>\n",
       "      <td>0.327931</td>\n",
       "      <td>-0.644835</td>\n",
       "    </tr>\n",
       "    <tr>\n",
       "      <th>8</th>\n",
       "      <td>-1.065950</td>\n",
       "      <td>0.549011</td>\n",
       "    </tr>\n",
       "    <tr>\n",
       "      <th>12</th>\n",
       "      <td>-0.090105</td>\n",
       "      <td>-0.493505</td>\n",
       "    </tr>\n",
       "    <tr>\n",
       "      <th>16</th>\n",
       "      <td>0.499436</td>\n",
       "      <td>-0.545581</td>\n",
       "    </tr>\n",
       "    <tr>\n",
       "      <th>20</th>\n",
       "      <td>0.764207</td>\n",
       "      <td>0.514775</td>\n",
       "    </tr>\n",
       "    <tr>\n",
       "      <th>24</th>\n",
       "      <td>-0.210802</td>\n",
       "      <td>-1.382112</td>\n",
       "    </tr>\n",
       "    <tr>\n",
       "      <th>28</th>\n",
       "      <td>0.512451</td>\n",
       "      <td>-0.780696</td>\n",
       "    </tr>\n",
       "    <tr>\n",
       "      <th>32</th>\n",
       "      <td>-0.314429</td>\n",
       "      <td>-1.432156</td>\n",
       "    </tr>\n",
       "    <tr>\n",
       "      <th>36</th>\n",
       "      <td>0.021927</td>\n",
       "      <td>-0.216563</td>\n",
       "    </tr>\n",
       "  </tbody>\n",
       "</table>\n",
       "</div>"
      ],
      "text/plain": [
       "           4         6\n",
       "0  -2.390400 -0.797841\n",
       "4   0.327931 -0.644835\n",
       "8  -1.065950  0.549011\n",
       "12 -0.090105 -0.493505\n",
       "16  0.499436 -0.545581\n",
       "20  0.764207  0.514775\n",
       "24 -0.210802 -1.382112\n",
       "28  0.512451 -0.780696\n",
       "32 -0.314429 -1.432156\n",
       "36  0.021927 -0.216563"
      ]
     },
     "execution_count": 43,
     "metadata": {},
     "output_type": "execute_result"
    }
   ],
   "source": [
    "df.iloc[:, lambda df: [2, 3] ]"
   ]
  },
  {
   "cell_type": "code",
   "execution_count": 44,
   "metadata": {},
   "outputs": [
    {
     "data": {
      "text/html": [
       "<div>\n",
       "<style scoped>\n",
       "    .dataframe tbody tr th:only-of-type {\n",
       "        vertical-align: middle;\n",
       "    }\n",
       "\n",
       "    .dataframe tbody tr th {\n",
       "        vertical-align: top;\n",
       "    }\n",
       "\n",
       "    .dataframe thead th {\n",
       "        text-align: right;\n",
       "    }\n",
       "</style>\n",
       "<table border=\"1\" class=\"dataframe\">\n",
       "  <thead>\n",
       "    <tr style=\"text-align: right;\">\n",
       "      <th></th>\n",
       "      <th>0</th>\n",
       "      <th>2</th>\n",
       "      <th>4</th>\n",
       "    </tr>\n",
       "  </thead>\n",
       "  <tbody>\n",
       "    <tr>\n",
       "      <th>0</th>\n",
       "      <td>0.210580</td>\n",
       "      <td>-0.906602</td>\n",
       "      <td>-2.390400</td>\n",
       "    </tr>\n",
       "    <tr>\n",
       "      <th>4</th>\n",
       "      <td>-1.330317</td>\n",
       "      <td>1.345429</td>\n",
       "      <td>0.327931</td>\n",
       "    </tr>\n",
       "    <tr>\n",
       "      <th>8</th>\n",
       "      <td>-0.928789</td>\n",
       "      <td>-0.806594</td>\n",
       "      <td>-1.065950</td>\n",
       "    </tr>\n",
       "    <tr>\n",
       "      <th>12</th>\n",
       "      <td>-0.756749</td>\n",
       "      <td>0.817782</td>\n",
       "      <td>-0.090105</td>\n",
       "    </tr>\n",
       "    <tr>\n",
       "      <th>16</th>\n",
       "      <td>-0.317896</td>\n",
       "      <td>0.724582</td>\n",
       "      <td>0.499436</td>\n",
       "    </tr>\n",
       "    <tr>\n",
       "      <th>20</th>\n",
       "      <td>-0.481550</td>\n",
       "      <td>0.650169</td>\n",
       "      <td>0.764207</td>\n",
       "    </tr>\n",
       "    <tr>\n",
       "      <th>24</th>\n",
       "      <td>0.927957</td>\n",
       "      <td>1.068104</td>\n",
       "      <td>-0.210802</td>\n",
       "    </tr>\n",
       "    <tr>\n",
       "      <th>28</th>\n",
       "      <td>0.535460</td>\n",
       "      <td>0.688742</td>\n",
       "      <td>0.512451</td>\n",
       "    </tr>\n",
       "    <tr>\n",
       "      <th>32</th>\n",
       "      <td>-0.523694</td>\n",
       "      <td>0.241828</td>\n",
       "      <td>-0.314429</td>\n",
       "    </tr>\n",
       "    <tr>\n",
       "      <th>36</th>\n",
       "      <td>-0.300745</td>\n",
       "      <td>-0.111574</td>\n",
       "      <td>0.021927</td>\n",
       "    </tr>\n",
       "  </tbody>\n",
       "</table>\n",
       "</div>"
      ],
      "text/plain": [
       "           0         2         4\n",
       "0   0.210580 -0.906602 -2.390400\n",
       "4  -1.330317  1.345429  0.327931\n",
       "8  -0.928789 -0.806594 -1.065950\n",
       "12 -0.756749  0.817782 -0.090105\n",
       "16 -0.317896  0.724582  0.499436\n",
       "20 -0.481550  0.650169  0.764207\n",
       "24  0.927957  1.068104 -0.210802\n",
       "28  0.535460  0.688742  0.512451\n",
       "32 -0.523694  0.241828 -0.314429\n",
       "36 -0.300745 -0.111574  0.021927"
      ]
     },
     "execution_count": 44,
     "metadata": {},
     "output_type": "execute_result"
    }
   ],
   "source": [
    "df[lambda df: df.columns[:3]]"
   ]
  },
  {
   "cell_type": "code",
   "execution_count": 45,
   "metadata": {},
   "outputs": [
    {
     "data": {
      "text/plain": [
       "6    3.0\n",
       "dtype: float64"
      ]
     },
     "execution_count": 45,
     "metadata": {},
     "output_type": "execute_result"
    }
   ],
   "source": [
    "#callable indexing can also be used in a series\n",
    "s.loc[lambda s: s>1]"
   ]
  },
  {
   "cell_type": "markdown",
   "metadata": {},
   "source": [
    "you can avoid the use of a temporary variable by using chain data selection operations\n",
    "\n",
    "\n",
    "The following are deprecated\n",
    ".ix indexer in favor of .loc, and .iloc\n",
    "using .loc or [] with a list containing one or more missing labels in favor of .reindex()\n",
    "\n",
    "# reindexing\n",
    "\n",
    "This is the idiomatic way to select potentially not-found elements."
   ]
  },
  {
   "cell_type": "code",
   "execution_count": 46,
   "metadata": {},
   "outputs": [
    {
     "data": {
      "text/plain": [
       "0    0.847218\n",
       "3   -0.951058\n",
       "8         NaN\n",
       "dtype: float64"
      ]
     },
     "execution_count": 46,
     "metadata": {},
     "output_type": "execute_result"
    }
   ],
   "source": [
    "s.reindex([0, 3, 8])"
   ]
  },
  {
   "cell_type": "markdown",
   "metadata": {},
   "source": [
    "Another option for returing only valid keys and preserving the dtype is the following:"
   ]
  },
  {
   "cell_type": "code",
   "execution_count": 47,
   "metadata": {},
   "outputs": [
    {
     "data": {
      "text/plain": [
       "0    0.847218\n",
       "3   -0.951058\n",
       "6    3.000000\n",
       "dtype: float64"
      ]
     },
     "execution_count": 47,
     "metadata": {},
     "output_type": "execute_result"
    }
   ],
   "source": [
    "labels = [0, 3, 6]\n",
    "s.loc[s.index.intersection(labels)]"
   ]
  },
  {
   "cell_type": "markdown",
   "metadata": {},
   "source": [
    "a duplicated index will raise an error for .reindex()"
   ]
  },
  {
   "cell_type": "code",
   "execution_count": 48,
   "metadata": {},
   "outputs": [
    {
     "data": {
      "text/plain": [
       "a    0\n",
       "b    1\n",
       "dtype: int32"
      ]
     },
     "execution_count": 48,
     "metadata": {},
     "output_type": "execute_result"
    }
   ],
   "source": [
    "#generating a new series and failing to generate the the dulicated axis error\n",
    "s = pd.Series(np.arange(5), index = ['a', 'b', 'c', 'd', 'e'])\n",
    "labels = ['a', 'b']\n",
    "s.reindex(labels)"
   ]
  },
  {
   "cell_type": "markdown",
   "metadata": {},
   "source": [
    "The duplication error can be circumvented by first intersecting the desired lables and then reindexing but this will still raise an error if the resulting index is duplicated\n",
    "\n",
    "# selecting random samples\n",
    "\n",
    "This is done using the sample() method on a Series, DataFrame or Panel. Its default behavior is to sample rows by default, returning a specific number of rows/columns or a fraction of rows"
   ]
  },
  {
   "cell_type": "code",
   "execution_count": 49,
   "metadata": {},
   "outputs": [
    {
     "name": "stdout",
     "output_type": "stream",
     "text": [
      "a     0\n",
      "b     1\n",
      "c     2\n",
      "d     3\n",
      "e     4\n",
      "f     5\n",
      "g     6\n",
      "h     7\n",
      "i     8\n",
      "j     9\n",
      "k    10\n",
      "l    11\n",
      "m    12\n",
      "n    13\n",
      "o    14\n",
      "dtype: int32\n"
     ]
    }
   ],
   "source": [
    "#generating a new series to work with\n",
    "s = pd.Series(np.arange(15), index = list('abcdefghijklmno'))\n",
    "print(s)"
   ]
  },
  {
   "cell_type": "code",
   "execution_count": 50,
   "metadata": {},
   "outputs": [
    {
     "data": {
      "text/plain": [
       "e    4\n",
       "dtype: int32"
      ]
     },
     "execution_count": 50,
     "metadata": {},
     "output_type": "execute_result"
    }
   ],
   "source": [
    "#without passing an argument only one row is returned\n",
    "s.sample()"
   ]
  },
  {
   "cell_type": "code",
   "execution_count": 51,
   "metadata": {},
   "outputs": [
    {
     "data": {
      "text/plain": [
       "f     5\n",
       "k    10\n",
       "m    12\n",
       "n    13\n",
       "e     4\n",
       "dtype: int32"
      ]
     },
     "execution_count": 51,
     "metadata": {},
     "output_type": "execute_result"
    }
   ],
   "source": [
    "#specifying a number of rows\n",
    "s.sample(n=5)"
   ]
  },
  {
   "cell_type": "code",
   "execution_count": 52,
   "metadata": {},
   "outputs": [
    {
     "data": {
      "text/plain": [
       "n    13\n",
       "o    14\n",
       "a     0\n",
       "f     5\n",
       "g     6\n",
       "m    12\n",
       "j     9\n",
       "d     3\n",
       "c     2\n",
       "k    10\n",
       "dtype: int32"
      ]
     },
     "execution_count": 52,
     "metadata": {},
     "output_type": "execute_result"
    }
   ],
   "source": [
    "#sampling a fraction of rows\n",
    "s.sample(frac = 0.66)"
   ]
  },
  {
   "cell_type": "markdown",
   "metadata": {},
   "source": [
    "You can sample with replacement using the replace option otherwise sample() will only return each row at most once."
   ]
  },
  {
   "cell_type": "code",
   "execution_count": 53,
   "metadata": {},
   "outputs": [
    {
     "data": {
      "text/plain": [
       "i     8\n",
       "n    13\n",
       "d     3\n",
       "c     2\n",
       "b     1\n",
       "dtype: int32"
      ]
     },
     "execution_count": 53,
     "metadata": {},
     "output_type": "execute_result"
    }
   ],
   "source": [
    "#sampling without replacement\n",
    "s.sample(n = 5, replace=False)"
   ]
  },
  {
   "cell_type": "code",
   "execution_count": 54,
   "metadata": {},
   "outputs": [
    {
     "data": {
      "text/plain": [
       "g     6\n",
       "m    12\n",
       "a     0\n",
       "e     4\n",
       "l    11\n",
       "l    11\n",
       "dtype: int32"
      ]
     },
     "execution_count": 54,
     "metadata": {},
     "output_type": "execute_result"
    }
   ],
   "source": [
    "#with replacement\n",
    "s.sample(n=6, replace = True)"
   ]
  },
  {
   "cell_type": "markdown",
   "metadata": {},
   "source": [
    "Using sample(), by default, each row has an equal probability of being selected. To change this we can pass the weights argument to the sample function. The weights can be in the form of a list, a np array, or series as long as they are the same length as the object being sampled. Missing values are assigned a weight of 0 and infinite values are not allowed. If the weights do not sum to one they will be normalized by dividing all the weights by the sum of the weights."
   ]
  },
  {
   "cell_type": "code",
   "execution_count": 55,
   "metadata": {},
   "outputs": [
    {
     "data": {
      "text/plain": [
       "m    12\n",
       "h     7\n",
       "o    14\n",
       "i     8\n",
       "n    13\n",
       "dtype: int32"
      ]
     },
     "execution_count": 55,
     "metadata": {},
     "output_type": "execute_result"
    }
   ],
   "source": [
    "#creating a list of weights with sum 105\n",
    "weights = pd.Series(np.arange(15))\n",
    "#sampling with weights with re-normalizing\n",
    "s.sample(n= 5, weights = weights.values)"
   ]
  },
  {
   "cell_type": "markdown",
   "metadata": {},
   "source": [
    "For DataFrames, a column within the df can be used as sampling weights(only when you are sampling rows, not when you are sampling columns) by passing the column name as a string."
   ]
  },
  {
   "cell_type": "code",
   "execution_count": 56,
   "metadata": {},
   "outputs": [],
   "source": [
    "#modifying our existing dataframe\n",
    "df['weights'] = df[8]\n",
    "del df[8]"
   ]
  },
  {
   "cell_type": "code",
   "execution_count": 57,
   "metadata": {},
   "outputs": [],
   "source": [
    "#selecting the rows where weights are positive since it cannot accept negatives\n",
    "df = df[df['weights'] >=0]"
   ]
  },
  {
   "cell_type": "code",
   "execution_count": 58,
   "metadata": {},
   "outputs": [
    {
     "data": {
      "text/html": [
       "<div>\n",
       "<style scoped>\n",
       "    .dataframe tbody tr th:only-of-type {\n",
       "        vertical-align: middle;\n",
       "    }\n",
       "\n",
       "    .dataframe tbody tr th {\n",
       "        vertical-align: top;\n",
       "    }\n",
       "\n",
       "    .dataframe thead th {\n",
       "        text-align: right;\n",
       "    }\n",
       "</style>\n",
       "<table border=\"1\" class=\"dataframe\">\n",
       "  <thead>\n",
       "    <tr style=\"text-align: right;\">\n",
       "      <th></th>\n",
       "      <th>0</th>\n",
       "      <th>2</th>\n",
       "      <th>4</th>\n",
       "      <th>6</th>\n",
       "      <th>weights</th>\n",
       "    </tr>\n",
       "  </thead>\n",
       "  <tbody>\n",
       "    <tr>\n",
       "      <th>24</th>\n",
       "      <td>0.927957</td>\n",
       "      <td>1.068104</td>\n",
       "      <td>-0.210802</td>\n",
       "      <td>-1.382112</td>\n",
       "      <td>0.689783</td>\n",
       "    </tr>\n",
       "    <tr>\n",
       "      <th>4</th>\n",
       "      <td>-1.330317</td>\n",
       "      <td>1.345429</td>\n",
       "      <td>0.327931</td>\n",
       "      <td>-0.644835</td>\n",
       "      <td>0.972289</td>\n",
       "    </tr>\n",
       "    <tr>\n",
       "      <th>8</th>\n",
       "      <td>-0.928789</td>\n",
       "      <td>-0.806594</td>\n",
       "      <td>-1.065950</td>\n",
       "      <td>0.549011</td>\n",
       "      <td>0.739513</td>\n",
       "    </tr>\n",
       "    <tr>\n",
       "      <th>0</th>\n",
       "      <td>0.210580</td>\n",
       "      <td>-0.906602</td>\n",
       "      <td>-2.390400</td>\n",
       "      <td>-0.797841</td>\n",
       "      <td>0.273868</td>\n",
       "    </tr>\n",
       "  </tbody>\n",
       "</table>\n",
       "</div>"
      ],
      "text/plain": [
       "           0         2         4         6   weights\n",
       "24  0.927957  1.068104 -0.210802 -1.382112  0.689783\n",
       "4  -1.330317  1.345429  0.327931 -0.644835  0.972289\n",
       "8  -0.928789 -0.806594 -1.065950  0.549011  0.739513\n",
       "0   0.210580 -0.906602 -2.390400 -0.797841  0.273868"
      ]
     },
     "execution_count": 58,
     "metadata": {},
     "output_type": "execute_result"
    }
   ],
   "source": [
    "#sampling\n",
    "df.sample(n = 4, weights = 'weights')"
   ]
  },
  {
   "cell_type": "code",
   "execution_count": 59,
   "metadata": {},
   "outputs": [
    {
     "data": {
      "text/html": [
       "<div>\n",
       "<style scoped>\n",
       "    .dataframe tbody tr th:only-of-type {\n",
       "        vertical-align: middle;\n",
       "    }\n",
       "\n",
       "    .dataframe tbody tr th {\n",
       "        vertical-align: top;\n",
       "    }\n",
       "\n",
       "    .dataframe thead th {\n",
       "        text-align: right;\n",
       "    }\n",
       "</style>\n",
       "<table border=\"1\" class=\"dataframe\">\n",
       "  <thead>\n",
       "    <tr style=\"text-align: right;\">\n",
       "      <th></th>\n",
       "      <th>4</th>\n",
       "      <th>0</th>\n",
       "    </tr>\n",
       "  </thead>\n",
       "  <tbody>\n",
       "    <tr>\n",
       "      <th>0</th>\n",
       "      <td>-2.390400</td>\n",
       "      <td>0.210580</td>\n",
       "    </tr>\n",
       "    <tr>\n",
       "      <th>4</th>\n",
       "      <td>0.327931</td>\n",
       "      <td>-1.330317</td>\n",
       "    </tr>\n",
       "    <tr>\n",
       "      <th>8</th>\n",
       "      <td>-1.065950</td>\n",
       "      <td>-0.928789</td>\n",
       "    </tr>\n",
       "    <tr>\n",
       "      <th>24</th>\n",
       "      <td>-0.210802</td>\n",
       "      <td>0.927957</td>\n",
       "    </tr>\n",
       "  </tbody>\n",
       "</table>\n",
       "</div>"
      ],
      "text/plain": [
       "           4         0\n",
       "0  -2.390400  0.210580\n",
       "4   0.327931 -1.330317\n",
       "8  -1.065950 -0.928789\n",
       "24 -0.210802  0.927957"
      ]
     },
     "execution_count": 59,
     "metadata": {},
     "output_type": "execute_result"
    }
   ],
   "source": [
    "#we can alse sample columns\n",
    "df.sample(n = 2, axis = 1)"
   ]
  },
  {
   "cell_type": "markdown",
   "metadata": {},
   "source": [
    "As a final not, we can also set a seed for sample()'s RNG using the random_state arg using either an int or a np RandomState object."
   ]
  },
  {
   "cell_type": "code",
   "execution_count": 60,
   "metadata": {},
   "outputs": [
    {
     "data": {
      "text/html": [
       "<div>\n",
       "<style scoped>\n",
       "    .dataframe tbody tr th:only-of-type {\n",
       "        vertical-align: middle;\n",
       "    }\n",
       "\n",
       "    .dataframe tbody tr th {\n",
       "        vertical-align: top;\n",
       "    }\n",
       "\n",
       "    .dataframe thead th {\n",
       "        text-align: right;\n",
       "    }\n",
       "</style>\n",
       "<table border=\"1\" class=\"dataframe\">\n",
       "  <thead>\n",
       "    <tr style=\"text-align: right;\">\n",
       "      <th></th>\n",
       "      <th>0</th>\n",
       "      <th>2</th>\n",
       "      <th>4</th>\n",
       "      <th>6</th>\n",
       "      <th>weights</th>\n",
       "    </tr>\n",
       "  </thead>\n",
       "  <tbody>\n",
       "    <tr>\n",
       "      <th>0</th>\n",
       "      <td>0.210580</td>\n",
       "      <td>-0.906602</td>\n",
       "      <td>-2.390400</td>\n",
       "      <td>-0.797841</td>\n",
       "      <td>0.273868</td>\n",
       "    </tr>\n",
       "    <tr>\n",
       "      <th>4</th>\n",
       "      <td>-1.330317</td>\n",
       "      <td>1.345429</td>\n",
       "      <td>0.327931</td>\n",
       "      <td>-0.644835</td>\n",
       "      <td>0.972289</td>\n",
       "    </tr>\n",
       "    <tr>\n",
       "      <th>8</th>\n",
       "      <td>-0.928789</td>\n",
       "      <td>-0.806594</td>\n",
       "      <td>-1.065950</td>\n",
       "      <td>0.549011</td>\n",
       "      <td>0.739513</td>\n",
       "    </tr>\n",
       "  </tbody>\n",
       "</table>\n",
       "</div>"
      ],
      "text/plain": [
       "          0         2         4         6   weights\n",
       "0  0.210580 -0.906602 -2.390400 -0.797841  0.273868\n",
       "4 -1.330317  1.345429  0.327931 -0.644835  0.972289\n",
       "8 -0.928789 -0.806594 -1.065950  0.549011  0.739513"
      ]
     },
     "execution_count": 60,
     "metadata": {},
     "output_type": "execute_result"
    }
   ],
   "source": [
    "#the sample will always draw the same rows when given a seed(aka. int)\n",
    "df.sample(n=3, random_state= 5)"
   ]
  },
  {
   "cell_type": "markdown",
   "metadata": {},
   "source": [
    "# Setting with Enlargement\n",
    "enlargement can be performed using either the .loc or [] operations when setting a non-existent key for that axis.\n",
    "\n",
    "This is basically an appending operation in the case of a series"
   ]
  },
  {
   "cell_type": "code",
   "execution_count": 61,
   "metadata": {},
   "outputs": [
    {
     "data": {
      "text/plain": [
       "a     0\n",
       "b     1\n",
       "c     2\n",
       "d     3\n",
       "e     4\n",
       "f     5\n",
       "g     6\n",
       "h     7\n",
       "i     8\n",
       "j     9\n",
       "k    10\n",
       "l    11\n",
       "m    12\n",
       "n    13\n",
       "o    14\n",
       "p    15\n",
       "dtype: int64"
      ]
     },
     "execution_count": 61,
     "metadata": {},
     "output_type": "execute_result"
    }
   ],
   "source": [
    "# setting by enlargement a value for p\n",
    "s['p'] = 15\n",
    "s"
   ]
  },
  {
   "cell_type": "markdown",
   "metadata": {},
   "source": [
    "In the case of a DataFrame, either axis can be enlarged by using .loc"
   ]
  },
  {
   "cell_type": "code",
   "execution_count": 62,
   "metadata": {},
   "outputs": [
    {
     "name": "stderr",
     "output_type": "stream",
     "text": [
      "C:\\Users\\Arcturux\\Anaconda3\\lib\\site-packages\\pandas\\core\\indexing.py:357: SettingWithCopyWarning: \n",
      "A value is trying to be set on a copy of a slice from a DataFrame.\n",
      "Try using .loc[row_indexer,col_indexer] = value instead\n",
      "\n",
      "See the caveats in the documentation: http://pandas.pydata.org/pandas-docs/stable/indexing.html#indexing-view-versus-copy\n",
      "  self.obj[key] = _infer_fill_value(value)\n",
      "C:\\Users\\Arcturux\\Anaconda3\\lib\\site-packages\\pandas\\core\\indexing.py:621: SettingWithCopyWarning: \n",
      "A value is trying to be set on a copy of a slice from a DataFrame.\n",
      "Try using .loc[row_indexer,col_indexer] = value instead\n",
      "\n",
      "See the caveats in the documentation: http://pandas.pydata.org/pandas-docs/stable/indexing.html#indexing-view-versus-copy\n",
      "  self.obj[item_labels[indexer[info_axis]]] = value\n"
     ]
    },
    {
     "data": {
      "text/html": [
       "<div>\n",
       "<style scoped>\n",
       "    .dataframe tbody tr th:only-of-type {\n",
       "        vertical-align: middle;\n",
       "    }\n",
       "\n",
       "    .dataframe tbody tr th {\n",
       "        vertical-align: top;\n",
       "    }\n",
       "\n",
       "    .dataframe thead th {\n",
       "        text-align: right;\n",
       "    }\n",
       "</style>\n",
       "<table border=\"1\" class=\"dataframe\">\n",
       "  <thead>\n",
       "    <tr style=\"text-align: right;\">\n",
       "      <th></th>\n",
       "      <th>0</th>\n",
       "      <th>2</th>\n",
       "      <th>4</th>\n",
       "      <th>6</th>\n",
       "      <th>weights</th>\n",
       "      <th>alpha</th>\n",
       "    </tr>\n",
       "  </thead>\n",
       "  <tbody>\n",
       "    <tr>\n",
       "      <th>0</th>\n",
       "      <td>0.210580</td>\n",
       "      <td>-0.906602</td>\n",
       "      <td>-2.390400</td>\n",
       "      <td>-0.797841</td>\n",
       "      <td>0.273868</td>\n",
       "      <td>15</td>\n",
       "    </tr>\n",
       "    <tr>\n",
       "      <th>4</th>\n",
       "      <td>-1.330317</td>\n",
       "      <td>1.345429</td>\n",
       "      <td>0.327931</td>\n",
       "      <td>-0.644835</td>\n",
       "      <td>0.972289</td>\n",
       "      <td>15</td>\n",
       "    </tr>\n",
       "    <tr>\n",
       "      <th>8</th>\n",
       "      <td>-0.928789</td>\n",
       "      <td>-0.806594</td>\n",
       "      <td>-1.065950</td>\n",
       "      <td>0.549011</td>\n",
       "      <td>0.739513</td>\n",
       "      <td>15</td>\n",
       "    </tr>\n",
       "    <tr>\n",
       "      <th>24</th>\n",
       "      <td>0.927957</td>\n",
       "      <td>1.068104</td>\n",
       "      <td>-0.210802</td>\n",
       "      <td>-1.382112</td>\n",
       "      <td>0.689783</td>\n",
       "      <td>15</td>\n",
       "    </tr>\n",
       "  </tbody>\n",
       "</table>\n",
       "</div>"
      ],
      "text/plain": [
       "           0         2         4         6   weights  alpha\n",
       "0   0.210580 -0.906602 -2.390400 -0.797841  0.273868     15\n",
       "4  -1.330317  1.345429  0.327931 -0.644835  0.972289     15\n",
       "8  -0.928789 -0.806594 -1.065950  0.549011  0.739513     15\n",
       "24  0.927957  1.068104 -0.210802 -1.382112  0.689783     15"
      ]
     },
     "execution_count": 62,
     "metadata": {},
     "output_type": "execute_result"
    }
   ],
   "source": [
    "#creating a new column via enlargement using the .loc accessor\n",
    "df.loc[:, 'alpha'] = 15\n",
    "df\n",
    "#I am not sure about the error here......"
   ]
  },
  {
   "cell_type": "code",
   "execution_count": 63,
   "metadata": {},
   "outputs": [
    {
     "name": "stderr",
     "output_type": "stream",
     "text": [
      "C:\\Users\\Arcturux\\Anaconda3\\lib\\site-packages\\pandas\\core\\indexing.py:537: SettingWithCopyWarning: \n",
      "A value is trying to be set on a copy of a slice from a DataFrame.\n",
      "Try using .loc[row_indexer,col_indexer] = value instead\n",
      "\n",
      "See the caveats in the documentation: http://pandas.pydata.org/pandas-docs/stable/indexing.html#indexing-view-versus-copy\n",
      "  self.obj[item] = s\n"
     ]
    },
    {
     "data": {
      "text/html": [
       "<div>\n",
       "<style scoped>\n",
       "    .dataframe tbody tr th:only-of-type {\n",
       "        vertical-align: middle;\n",
       "    }\n",
       "\n",
       "    .dataframe tbody tr th {\n",
       "        vertical-align: top;\n",
       "    }\n",
       "\n",
       "    .dataframe thead th {\n",
       "        text-align: right;\n",
       "    }\n",
       "</style>\n",
       "<table border=\"1\" class=\"dataframe\">\n",
       "  <thead>\n",
       "    <tr style=\"text-align: right;\">\n",
       "      <th></th>\n",
       "      <th>0</th>\n",
       "      <th>2</th>\n",
       "      <th>4</th>\n",
       "      <th>6</th>\n",
       "      <th>weights</th>\n",
       "      <th>alpha</th>\n",
       "    </tr>\n",
       "  </thead>\n",
       "  <tbody>\n",
       "    <tr>\n",
       "      <th>0</th>\n",
       "      <td>0.210580</td>\n",
       "      <td>-0.906602</td>\n",
       "      <td>-2.390400</td>\n",
       "      <td>-0.797841</td>\n",
       "      <td>0.273868</td>\n",
       "      <td>15</td>\n",
       "    </tr>\n",
       "    <tr>\n",
       "      <th>4</th>\n",
       "      <td>-1.330317</td>\n",
       "      <td>1.345429</td>\n",
       "      <td>0.327931</td>\n",
       "      <td>-0.644835</td>\n",
       "      <td>0.972289</td>\n",
       "      <td>15</td>\n",
       "    </tr>\n",
       "    <tr>\n",
       "      <th>8</th>\n",
       "      <td>7.000000</td>\n",
       "      <td>7.000000</td>\n",
       "      <td>7.000000</td>\n",
       "      <td>7.000000</td>\n",
       "      <td>7.000000</td>\n",
       "      <td>7</td>\n",
       "    </tr>\n",
       "    <tr>\n",
       "      <th>24</th>\n",
       "      <td>0.927957</td>\n",
       "      <td>1.068104</td>\n",
       "      <td>-0.210802</td>\n",
       "      <td>-1.382112</td>\n",
       "      <td>0.689783</td>\n",
       "      <td>15</td>\n",
       "    </tr>\n",
       "  </tbody>\n",
       "</table>\n",
       "</div>"
      ],
      "text/plain": [
       "           0         2         4         6   weights  alpha\n",
       "0   0.210580 -0.906602 -2.390400 -0.797841  0.273868     15\n",
       "4  -1.330317  1.345429  0.327931 -0.644835  0.972289     15\n",
       "8   7.000000  7.000000  7.000000  7.000000  7.000000      7\n",
       "24  0.927957  1.068104 -0.210802 -1.382112  0.689783     15"
      ]
     },
     "execution_count": 63,
     "metadata": {},
     "output_type": "execute_result"
    }
   ],
   "source": [
    "#the following is an append operation\n",
    "df.loc[8, :] = 7\n",
    "df"
   ]
  },
  {
   "cell_type": "markdown",
   "metadata": {},
   "source": [
    "# Fast scalar value getting and setting\n",
    "indexing with [] handles multiple use cases and as such it has some overhead to understand what you're asking for. To access only a scalar value it is therefore advisable to utilize the at(labels) and iat(integers) methods."
   ]
  },
  {
   "cell_type": "code",
   "execution_count": 65,
   "metadata": {},
   "outputs": [
    {
     "data": {
      "text/plain": [
       "3"
      ]
     },
     "execution_count": 65,
     "metadata": {},
     "output_type": "execute_result"
    }
   ],
   "source": [
    "#using .iat[]\n",
    "s.iat[3]"
   ]
  },
  {
   "cell_type": "code",
   "execution_count": 67,
   "metadata": {},
   "outputs": [
    {
     "data": {
      "text/plain": [
       "7"
      ]
     },
     "execution_count": 67,
     "metadata": {},
     "output_type": "execute_result"
    }
   ],
   "source": [
    "#using .at on a dataframe\n",
    "df.at[8, 'alpha']"
   ]
  },
  {
   "cell_type": "code",
   "execution_count": 68,
   "metadata": {},
   "outputs": [
    {
     "data": {
      "text/plain": [
       "7"
      ]
     },
     "execution_count": 68,
     "metadata": {},
     "output_type": "execute_result"
    }
   ],
   "source": [
    "#using .iat to access the same value\n",
    "df.iat[2, 5]"
   ]
  },
  {
   "cell_type": "code",
   "execution_count": 70,
   "metadata": {},
   "outputs": [
    {
     "data": {
      "text/html": [
       "<div>\n",
       "<style scoped>\n",
       "    .dataframe tbody tr th:only-of-type {\n",
       "        vertical-align: middle;\n",
       "    }\n",
       "\n",
       "    .dataframe tbody tr th {\n",
       "        vertical-align: top;\n",
       "    }\n",
       "\n",
       "    .dataframe thead th {\n",
       "        text-align: right;\n",
       "    }\n",
       "</style>\n",
       "<table border=\"1\" class=\"dataframe\">\n",
       "  <thead>\n",
       "    <tr style=\"text-align: right;\">\n",
       "      <th></th>\n",
       "      <th>0</th>\n",
       "      <th>2</th>\n",
       "      <th>4</th>\n",
       "      <th>6</th>\n",
       "      <th>weights</th>\n",
       "      <th>alpha</th>\n",
       "    </tr>\n",
       "  </thead>\n",
       "  <tbody>\n",
       "    <tr>\n",
       "      <th>0</th>\n",
       "      <td>0.210580</td>\n",
       "      <td>-0.906602</td>\n",
       "      <td>-2.390400</td>\n",
       "      <td>-0.797841</td>\n",
       "      <td>0.273868</td>\n",
       "      <td>15</td>\n",
       "    </tr>\n",
       "    <tr>\n",
       "      <th>4</th>\n",
       "      <td>-1.330317</td>\n",
       "      <td>1.345429</td>\n",
       "      <td>0.327931</td>\n",
       "      <td>-0.644835</td>\n",
       "      <td>0.972289</td>\n",
       "      <td>15</td>\n",
       "    </tr>\n",
       "    <tr>\n",
       "      <th>8</th>\n",
       "      <td>7.000000</td>\n",
       "      <td>7.000000</td>\n",
       "      <td>7.000000</td>\n",
       "      <td>7.000000</td>\n",
       "      <td>7.000000</td>\n",
       "      <td>14</td>\n",
       "    </tr>\n",
       "    <tr>\n",
       "      <th>24</th>\n",
       "      <td>0.927957</td>\n",
       "      <td>1.068104</td>\n",
       "      <td>-0.210802</td>\n",
       "      <td>-1.382112</td>\n",
       "      <td>0.689783</td>\n",
       "      <td>15</td>\n",
       "    </tr>\n",
       "  </tbody>\n",
       "</table>\n",
       "</div>"
      ],
      "text/plain": [
       "           0         2         4         6   weights  alpha\n",
       "0   0.210580 -0.906602 -2.390400 -0.797841  0.273868     15\n",
       "4  -1.330317  1.345429  0.327931 -0.644835  0.972289     15\n",
       "8   7.000000  7.000000  7.000000  7.000000  7.000000     14\n",
       "24  0.927957  1.068104 -0.210802 -1.382112  0.689783     15"
      ]
     },
     "execution_count": 70,
     "metadata": {},
     "output_type": "execute_result"
    }
   ],
   "source": [
    "#it is also possible to set scalar values with these indexers\n",
    "df.at[8, 'alpha'] = 14\n",
    "df"
   ]
  },
  {
   "cell_type": "code",
   "execution_count": 71,
   "metadata": {},
   "outputs": [
    {
     "name": "stderr",
     "output_type": "stream",
     "text": [
      "C:\\Users\\Arcturux\\Anaconda3\\lib\\site-packages\\pandas\\core\\indexing.py:357: SettingWithCopyWarning: \n",
      "A value is trying to be set on a copy of a slice from a DataFrame.\n",
      "Try using .loc[row_indexer,col_indexer] = value instead\n",
      "\n",
      "See the caveats in the documentation: http://pandas.pydata.org/pandas-docs/stable/indexing.html#indexing-view-versus-copy\n",
      "  self.obj[key] = _infer_fill_value(value)\n",
      "C:\\Users\\Arcturux\\Anaconda3\\lib\\site-packages\\pandas\\core\\indexing.py:537: SettingWithCopyWarning: \n",
      "A value is trying to be set on a copy of a slice from a DataFrame.\n",
      "Try using .loc[row_indexer,col_indexer] = value instead\n",
      "\n",
      "See the caveats in the documentation: http://pandas.pydata.org/pandas-docs/stable/indexing.html#indexing-view-versus-copy\n",
      "  self.obj[item] = s\n"
     ]
    },
    {
     "data": {
      "text/html": [
       "<div>\n",
       "<style scoped>\n",
       "    .dataframe tbody tr th:only-of-type {\n",
       "        vertical-align: middle;\n",
       "    }\n",
       "\n",
       "    .dataframe tbody tr th {\n",
       "        vertical-align: top;\n",
       "    }\n",
       "\n",
       "    .dataframe thead th {\n",
       "        text-align: right;\n",
       "    }\n",
       "</style>\n",
       "<table border=\"1\" class=\"dataframe\">\n",
       "  <thead>\n",
       "    <tr style=\"text-align: right;\">\n",
       "      <th></th>\n",
       "      <th>0</th>\n",
       "      <th>2</th>\n",
       "      <th>4</th>\n",
       "      <th>6</th>\n",
       "      <th>weights</th>\n",
       "      <th>alpha</th>\n",
       "      <th>echo</th>\n",
       "    </tr>\n",
       "  </thead>\n",
       "  <tbody>\n",
       "    <tr>\n",
       "      <th>0</th>\n",
       "      <td>0.210580</td>\n",
       "      <td>-0.906602</td>\n",
       "      <td>-2.390400</td>\n",
       "      <td>-0.797841</td>\n",
       "      <td>0.273868</td>\n",
       "      <td>15</td>\n",
       "      <td>6.0</td>\n",
       "    </tr>\n",
       "    <tr>\n",
       "      <th>4</th>\n",
       "      <td>-1.330317</td>\n",
       "      <td>1.345429</td>\n",
       "      <td>0.327931</td>\n",
       "      <td>-0.644835</td>\n",
       "      <td>0.972289</td>\n",
       "      <td>15</td>\n",
       "      <td>NaN</td>\n",
       "    </tr>\n",
       "    <tr>\n",
       "      <th>8</th>\n",
       "      <td>7.000000</td>\n",
       "      <td>7.000000</td>\n",
       "      <td>7.000000</td>\n",
       "      <td>7.000000</td>\n",
       "      <td>7.000000</td>\n",
       "      <td>14</td>\n",
       "      <td>NaN</td>\n",
       "    </tr>\n",
       "    <tr>\n",
       "      <th>24</th>\n",
       "      <td>0.927957</td>\n",
       "      <td>1.068104</td>\n",
       "      <td>-0.210802</td>\n",
       "      <td>-1.382112</td>\n",
       "      <td>0.689783</td>\n",
       "      <td>15</td>\n",
       "      <td>NaN</td>\n",
       "    </tr>\n",
       "  </tbody>\n",
       "</table>\n",
       "</div>"
      ],
      "text/plain": [
       "           0         2         4         6   weights  alpha  echo\n",
       "0   0.210580 -0.906602 -2.390400 -0.797841  0.273868     15   6.0\n",
       "4  -1.330317  1.345429  0.327931 -0.644835  0.972289     15   NaN\n",
       "8   7.000000  7.000000  7.000000  7.000000  7.000000     14   NaN\n",
       "24  0.927957  1.068104 -0.210802 -1.382112  0.689783     15   NaN"
      ]
     },
     "execution_count": 71,
     "metadata": {},
     "output_type": "execute_result"
    }
   ],
   "source": [
    "#these can also be used to enlarge the object in-place provided the indexer is missing\n",
    "df.at[0, 'echo'] = 6\n",
    "df"
   ]
  },
  {
   "cell_type": "markdown",
   "metadata": {},
   "source": [
    "# Boolean indexing\n",
    "\n",
    "Boolean vectors are a common way to filter data. The list of potential operators are | for or, & for and, ~ for not. These have to be grouped using parantheses to achieve the desired evaluation order.\n",
    "\n",
    "Series works just the same a with numpy ndarray"
   ]
  },
  {
   "cell_type": "code",
   "execution_count": 72,
   "metadata": {},
   "outputs": [
    {
     "data": {
      "text/plain": [
       "a     0\n",
       "b     1\n",
       "c     2\n",
       "d     3\n",
       "e     4\n",
       "f     5\n",
       "g     6\n",
       "h     7\n",
       "i     8\n",
       "j     9\n",
       "k    10\n",
       "l    11\n",
       "m    12\n",
       "n    13\n",
       "o    14\n",
       "p    15\n",
       "dtype: int64"
      ]
     },
     "execution_count": 72,
     "metadata": {},
     "output_type": "execute_result"
    }
   ],
   "source": [
    "s"
   ]
  },
  {
   "cell_type": "code",
   "execution_count": null,
   "metadata": {},
   "outputs": [],
   "source": []
  }
 ],
 "metadata": {
  "kernelspec": {
   "display_name": "Python 3",
   "language": "python",
   "name": "python3"
  },
  "language_info": {
   "codemirror_mode": {
    "name": "ipython",
    "version": 3
   },
   "file_extension": ".py",
   "mimetype": "text/x-python",
   "name": "python",
   "nbconvert_exporter": "python",
   "pygments_lexer": "ipython3",
   "version": "3.6.4"
  }
 },
 "nbformat": 4,
 "nbformat_minor": 2
}
