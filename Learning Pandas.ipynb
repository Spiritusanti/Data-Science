{
 "cells": [
  {
   "cell_type": "markdown",
   "metadata": {},
   "source": [
    "# Working Through Intro to Data Structures"
   ]
  },
  {
   "cell_type": "code",
   "execution_count": 2,
   "metadata": {},
   "outputs": [],
   "source": [
    "import numpy as np\n",
    "import pandas as pd\n",
    "import matplotlib.pyplot as plt"
   ]
  },
  {
   "cell_type": "markdown",
   "metadata": {},
   "source": [
    "# Pandas Series\n",
    "A pandas series is a one dimensional array with labels (axis labels = index) able to hold any data type. "
   ]
  },
  {
   "cell_type": "code",
   "execution_count": 3,
   "metadata": {},
   "outputs": [
    {
     "name": "stdout",
     "output_type": "stream",
     "text": [
      "0    0\n",
      "1    1\n",
      "2    2\n",
      "3    3\n",
      "4    4\n",
      "5    5\n",
      "6    6\n",
      "dtype: int64\n"
     ]
    }
   ],
   "source": [
    "#basic series creation\n",
    "data = [0, 1, 2, 3, 4, 5, 6]\n",
    "index = range(0, len(data))\n",
    "my_series  = pd.Series(data, index=index)\n",
    "print(my_series)"
   ]
  },
  {
   "cell_type": "markdown",
   "metadata": {},
   "source": [
    "# The data is not limited to a single type. Can be a dict, np.ndarray, scalar value, ect. The index for each particular type has some caveats however.\n",
    "\n",
    "Creating a series from an ndarray object requires that the index be of the same length as the ndarray."
   ]
  },
  {
   "cell_type": "code",
   "execution_count": 4,
   "metadata": {},
   "outputs": [
    {
     "data": {
      "text/plain": [
       "w   -0.655309\n",
       "s   -0.717232\n",
       "a   -0.959745\n",
       "dtype: float64"
      ]
     },
     "execution_count": 4,
     "metadata": {},
     "output_type": "execute_result"
    }
   ],
   "source": [
    "#for example\n",
    "new_series = pd.Series(np.random.randn(3), index = ['w', 's', 'a'])\n",
    "new_series"
   ]
  },
  {
   "cell_type": "markdown",
   "metadata": {},
   "source": [
    "point of interest:\n",
    "pandas allows non-unique index values except in cases where an operation does not support it, in that instance an error should be raised.\n",
    "\n",
    "\n",
    "# Creating a series from a dict:\n",
    "In this case the index argument can be passed the data corresponding to the label values. By default, the index will be built from the dicts sorted keys when possible. "
   ]
  },
  {
   "cell_type": "code",
   "execution_count": 5,
   "metadata": {},
   "outputs": [
    {
     "name": "stdout",
     "output_type": "stream",
     "text": [
      "Alpha      A\n",
      "Bravo      B\n",
      "Charlie    C\n",
      "dtype: object\n"
     ]
    }
   ],
   "source": [
    "#without specifiying the index\n",
    "my_dict = {'Alpha' : 'A', 'Bravo': 'B', 'Charlie':'C'}\n",
    "no_id = pd.Series(my_dict)\n",
    "print(no_id)"
   ]
  },
  {
   "cell_type": "code",
   "execution_count": 6,
   "metadata": {},
   "outputs": [
    {
     "name": "stdout",
     "output_type": "stream",
     "text": [
      "Alpha        A\n",
      "2          NaN\n",
      "Charlie      C\n",
      "dtype: object\n"
     ]
    }
   ],
   "source": [
    "#specifying the index\n",
    "with_id = pd.Series(my_dict, index = ['Alpha', 2, 'Charlie'])\n",
    "print(with_id)"
   ]
  },
  {
   "cell_type": "markdown",
   "metadata": {},
   "source": [
    "Note: NaN (not a number) is a standard marker for absent data\n",
    "\n",
    "\n",
    "Creating a series from a scalar value:\n",
    "with scalar values an index must be specified and the scalar value will be repeated for the length of the index"
   ]
  },
  {
   "cell_type": "code",
   "execution_count": 7,
   "metadata": {},
   "outputs": [
    {
     "name": "stdout",
     "output_type": "stream",
     "text": [
      "l    6.0\n",
      "k    6.0\n",
      "j    6.0\n",
      "h    6.0\n",
      "i    6.0\n",
      "dtype: float64\n"
     ]
    }
   ],
   "source": [
    "scalar_series = pd.Series(6., index = ['l', 'k', 'j', 'h', 'i'])\n",
    "print(scalar_series)"
   ]
  },
  {
   "cell_type": "markdown",
   "metadata": {},
   "source": [
    "# How a pandas series behaves:\n",
    "It works like a numpy n dimensional array and works as an argument to numpy functions with some alterations. Namely, slicing the series will also slice the index."
   ]
  },
  {
   "cell_type": "code",
   "execution_count": 8,
   "metadata": {
    "scrolled": true
   },
   "outputs": [
    {
     "name": "stdout",
     "output_type": "stream",
     "text": [
      "slicing with numpy function yields: \n",
      "d    3\n",
      "e    4\n",
      "f    5\n",
      "dtype: int64\n",
      "c    2\n",
      "d    3\n",
      "dtype: int64\n",
      "b    0.000000\n",
      "c    0.693147\n",
      "d    1.098612\n",
      "e    1.386294\n",
      "f    1.609438\n",
      "dtype: float64\n"
     ]
    }
   ],
   "source": [
    "L = [0,1,2,3,4,5]\n",
    "I = ['a', 'b', 'c', 'd', 'e', 'f']\n",
    "S = pd.Series(L, index = I)\n",
    "print('slicing with numpy function yields: \\n' + str(S[S >= S.mean()]))\n",
    "print(S[2:4])\n",
    "print(np.log(S[1:]))"
   ]
  },
  {
   "cell_type": "markdown",
   "metadata": {},
   "source": [
    "They can also function as a dictionary of fixed size where the index labels function as keys"
   ]
  },
  {
   "cell_type": "code",
   "execution_count": 9,
   "metadata": {},
   "outputs": [
    {
     "name": "stdout",
     "output_type": "stream",
     "text": [
      "2\n",
      "a    0\n",
      "b    1\n",
      "c    2\n",
      "d    3\n",
      "e    4\n",
      "f    6\n",
      "dtype: int64\n"
     ]
    },
    {
     "data": {
      "text/plain": [
       "True"
      ]
     },
     "execution_count": 9,
     "metadata": {},
     "output_type": "execute_result"
    }
   ],
   "source": [
    "#e.g. selecting a desired value from the index key\n",
    "print(S['c'])\n",
    "#altering a key value\n",
    "S['f'] = 6\n",
    "print(S)\n",
    "#using booleans\n",
    "'d' in S"
   ]
  },
  {
   "cell_type": "markdown",
   "metadata": {},
   "source": [
    "If the index label/key is not in the series an error will be raised.\n",
    "if the .get method is attempted in this case, either None or a selected default missing value will be returned"
   ]
  },
  {
   "cell_type": "code",
   "execution_count": 10,
   "metadata": {},
   "outputs": [
    {
     "ename": "KeyError",
     "evalue": "'g'",
     "output_type": "error",
     "traceback": [
      "\u001b[1;31m---------------------------------------------------------------------------\u001b[0m",
      "\u001b[1;31mTypeError\u001b[0m                                 Traceback (most recent call last)",
      "\u001b[1;32m~\\Anaconda3\\lib\\site-packages\\pandas\\core\\indexes\\base.py\u001b[0m in \u001b[0;36mget_value\u001b[1;34m(self, series, key)\u001b[0m\n\u001b[0;32m   2565\u001b[0m             \u001b[1;32mtry\u001b[0m\u001b[1;33m:\u001b[0m\u001b[1;33m\u001b[0m\u001b[0m\n\u001b[1;32m-> 2566\u001b[1;33m                 \u001b[1;32mreturn\u001b[0m \u001b[0mlibts\u001b[0m\u001b[1;33m.\u001b[0m\u001b[0mget_value_box\u001b[0m\u001b[1;33m(\u001b[0m\u001b[0ms\u001b[0m\u001b[1;33m,\u001b[0m \u001b[0mkey\u001b[0m\u001b[1;33m)\u001b[0m\u001b[1;33m\u001b[0m\u001b[0m\n\u001b[0m\u001b[0;32m   2567\u001b[0m             \u001b[1;32mexcept\u001b[0m \u001b[0mIndexError\u001b[0m\u001b[1;33m:\u001b[0m\u001b[1;33m\u001b[0m\u001b[0m\n",
      "\u001b[1;32mpandas/_libs/tslib.pyx\u001b[0m in \u001b[0;36mpandas._libs.tslib.get_value_box\u001b[1;34m()\u001b[0m\n",
      "\u001b[1;32mpandas/_libs/tslib.pyx\u001b[0m in \u001b[0;36mpandas._libs.tslib.get_value_box\u001b[1;34m()\u001b[0m\n",
      "\u001b[1;31mTypeError\u001b[0m: 'str' object cannot be interpreted as an integer",
      "\nDuring handling of the above exception, another exception occurred:\n",
      "\u001b[1;31mKeyError\u001b[0m                                  Traceback (most recent call last)",
      "\u001b[1;32m<ipython-input-10-4ee13a50e426>\u001b[0m in \u001b[0;36m<module>\u001b[1;34m()\u001b[0m\n\u001b[0;32m      1\u001b[0m \u001b[1;31m#e.g. looking for the value of 'g' in the current series\u001b[0m\u001b[1;33m\u001b[0m\u001b[1;33m\u001b[0m\u001b[0m\n\u001b[1;32m----> 2\u001b[1;33m \u001b[0mS\u001b[0m\u001b[1;33m[\u001b[0m\u001b[1;34m'g'\u001b[0m\u001b[1;33m]\u001b[0m\u001b[1;33m\u001b[0m\u001b[0m\n\u001b[0m",
      "\u001b[1;32m~\\Anaconda3\\lib\\site-packages\\pandas\\core\\series.py\u001b[0m in \u001b[0;36m__getitem__\u001b[1;34m(self, key)\u001b[0m\n\u001b[0;32m    621\u001b[0m         \u001b[0mkey\u001b[0m \u001b[1;33m=\u001b[0m \u001b[0mcom\u001b[0m\u001b[1;33m.\u001b[0m\u001b[0m_apply_if_callable\u001b[0m\u001b[1;33m(\u001b[0m\u001b[0mkey\u001b[0m\u001b[1;33m,\u001b[0m \u001b[0mself\u001b[0m\u001b[1;33m)\u001b[0m\u001b[1;33m\u001b[0m\u001b[0m\n\u001b[0;32m    622\u001b[0m         \u001b[1;32mtry\u001b[0m\u001b[1;33m:\u001b[0m\u001b[1;33m\u001b[0m\u001b[0m\n\u001b[1;32m--> 623\u001b[1;33m             \u001b[0mresult\u001b[0m \u001b[1;33m=\u001b[0m \u001b[0mself\u001b[0m\u001b[1;33m.\u001b[0m\u001b[0mindex\u001b[0m\u001b[1;33m.\u001b[0m\u001b[0mget_value\u001b[0m\u001b[1;33m(\u001b[0m\u001b[0mself\u001b[0m\u001b[1;33m,\u001b[0m \u001b[0mkey\u001b[0m\u001b[1;33m)\u001b[0m\u001b[1;33m\u001b[0m\u001b[0m\n\u001b[0m\u001b[0;32m    624\u001b[0m \u001b[1;33m\u001b[0m\u001b[0m\n\u001b[0;32m    625\u001b[0m             \u001b[1;32mif\u001b[0m \u001b[1;32mnot\u001b[0m \u001b[0mis_scalar\u001b[0m\u001b[1;33m(\u001b[0m\u001b[0mresult\u001b[0m\u001b[1;33m)\u001b[0m\u001b[1;33m:\u001b[0m\u001b[1;33m\u001b[0m\u001b[0m\n",
      "\u001b[1;32m~\\Anaconda3\\lib\\site-packages\\pandas\\core\\indexes\\base.py\u001b[0m in \u001b[0;36mget_value\u001b[1;34m(self, series, key)\u001b[0m\n\u001b[0;32m   2572\u001b[0m                     \u001b[1;32mraise\u001b[0m \u001b[0mInvalidIndexError\u001b[0m\u001b[1;33m(\u001b[0m\u001b[0mkey\u001b[0m\u001b[1;33m)\u001b[0m\u001b[1;33m\u001b[0m\u001b[0m\n\u001b[0;32m   2573\u001b[0m                 \u001b[1;32melse\u001b[0m\u001b[1;33m:\u001b[0m\u001b[1;33m\u001b[0m\u001b[0m\n\u001b[1;32m-> 2574\u001b[1;33m                     \u001b[1;32mraise\u001b[0m \u001b[0me1\u001b[0m\u001b[1;33m\u001b[0m\u001b[0m\n\u001b[0m\u001b[0;32m   2575\u001b[0m             \u001b[1;32mexcept\u001b[0m \u001b[0mException\u001b[0m\u001b[1;33m:\u001b[0m  \u001b[1;31m# pragma: no cover\u001b[0m\u001b[1;33m\u001b[0m\u001b[0m\n\u001b[0;32m   2576\u001b[0m                 \u001b[1;32mraise\u001b[0m \u001b[0me1\u001b[0m\u001b[1;33m\u001b[0m\u001b[0m\n",
      "\u001b[1;32m~\\Anaconda3\\lib\\site-packages\\pandas\\core\\indexes\\base.py\u001b[0m in \u001b[0;36mget_value\u001b[1;34m(self, series, key)\u001b[0m\n\u001b[0;32m   2558\u001b[0m         \u001b[1;32mtry\u001b[0m\u001b[1;33m:\u001b[0m\u001b[1;33m\u001b[0m\u001b[0m\n\u001b[0;32m   2559\u001b[0m             return self._engine.get_value(s, k,\n\u001b[1;32m-> 2560\u001b[1;33m                                           tz=getattr(series.dtype, 'tz', None))\n\u001b[0m\u001b[0;32m   2561\u001b[0m         \u001b[1;32mexcept\u001b[0m \u001b[0mKeyError\u001b[0m \u001b[1;32mas\u001b[0m \u001b[0me1\u001b[0m\u001b[1;33m:\u001b[0m\u001b[1;33m\u001b[0m\u001b[0m\n\u001b[0;32m   2562\u001b[0m             \u001b[1;32mif\u001b[0m \u001b[0mlen\u001b[0m\u001b[1;33m(\u001b[0m\u001b[0mself\u001b[0m\u001b[1;33m)\u001b[0m \u001b[1;33m>\u001b[0m \u001b[1;36m0\u001b[0m \u001b[1;32mand\u001b[0m \u001b[0mself\u001b[0m\u001b[1;33m.\u001b[0m\u001b[0minferred_type\u001b[0m \u001b[1;32min\u001b[0m \u001b[1;33m[\u001b[0m\u001b[1;34m'integer'\u001b[0m\u001b[1;33m,\u001b[0m \u001b[1;34m'boolean'\u001b[0m\u001b[1;33m]\u001b[0m\u001b[1;33m:\u001b[0m\u001b[1;33m\u001b[0m\u001b[0m\n",
      "\u001b[1;32mpandas/_libs/index.pyx\u001b[0m in \u001b[0;36mpandas._libs.index.IndexEngine.get_value\u001b[1;34m()\u001b[0m\n",
      "\u001b[1;32mpandas/_libs/index.pyx\u001b[0m in \u001b[0;36mpandas._libs.index.IndexEngine.get_value\u001b[1;34m()\u001b[0m\n",
      "\u001b[1;32mpandas/_libs/index.pyx\u001b[0m in \u001b[0;36mpandas._libs.index.IndexEngine.get_loc\u001b[1;34m()\u001b[0m\n",
      "\u001b[1;32mpandas/_libs/hashtable_class_helper.pxi\u001b[0m in \u001b[0;36mpandas._libs.hashtable.PyObjectHashTable.get_item\u001b[1;34m()\u001b[0m\n",
      "\u001b[1;32mpandas/_libs/hashtable_class_helper.pxi\u001b[0m in \u001b[0;36mpandas._libs.hashtable.PyObjectHashTable.get_item\u001b[1;34m()\u001b[0m\n",
      "\u001b[1;31mKeyError\u001b[0m: 'g'"
     ]
    }
   ],
   "source": [
    "#e.g. looking for the value of 'g' in the current series\n",
    "S['g']"
   ]
  },
  {
   "cell_type": "code",
   "execution_count": null,
   "metadata": {},
   "outputs": [],
   "source": [
    "# with the .get method\n",
    "print(S.get('g'))\n",
    "#utilizing a specified missing value\n",
    "print(S.get('g', np.nan))"
   ]
  },
  {
   "cell_type": "markdown",
   "metadata": {},
   "source": [
    "# Label alignment and Vectorized numpy operations with a pandas Series\n",
    "\n",
    "Most Numpy methods built for handling n dimensional arrays can also work with the pandas series. However, the pandas series is automatically aligned based on index labels unlike the ndarray"
   ]
  },
  {
   "cell_type": "code",
   "execution_count": null,
   "metadata": {},
   "outputs": [],
   "source": [
    "print(S + new_series)"
   ]
  },
  {
   "cell_type": "markdown",
   "metadata": {},
   "source": [
    "As seen above, in cases where on label does not exist in one or the other series we yield missing values similar to multiplying by 0 but with the index labels still remaining. These rows can be dropped using the dropna function but thought should be taken before doing so as it may remove important information."
   ]
  },
  {
   "cell_type": "markdown",
   "metadata": {},
   "source": [
    "# Name Attribute\n",
    "basically a title for a particular series which can either be specified selected automatically when slicing from a dataframe. A series can also be renamed as will be demonstrated below."
   ]
  },
  {
   "cell_type": "code",
   "execution_count": null,
   "metadata": {},
   "outputs": [],
   "source": [
    "#assigning a title\n",
    "new_series1 =pd.Series(new_series, name = 'new series')\n",
    "print(new_series1)"
   ]
  },
  {
   "cell_type": "code",
   "execution_count": null,
   "metadata": {},
   "outputs": [],
   "source": [
    "#constructing a simple dataframe from a dict of pandas series and printing it\n",
    "x = {'hypo' : pd.Series(['a', 'b', 'c', 'd'], index = [1, 2, 3, 4]),\n",
    "     'hyper':pd.Series(['A', 'B', 'C', 'D'], index = [1, 2, 3, 4])}\n",
    "df = pd.DataFrame(x)\n",
    "print(df.head())"
   ]
  },
  {
   "cell_type": "code",
   "execution_count": null,
   "metadata": {},
   "outputs": [],
   "source": [
    "# finding the name of a 1D dataframe slice\n",
    "Y = df.iloc[:, 0]\n",
    "print(Y)"
   ]
  },
  {
   "cell_type": "code",
   "execution_count": null,
   "metadata": {},
   "outputs": [],
   "source": [
    "#renaming a series utilizing the pandas.series.rename() method\n",
    "Y_1 = Y.rename('hyperbole')\n",
    "print(Y_1)"
   ]
  },
  {
   "cell_type": "markdown",
   "metadata": {},
   "source": [
    "# DataFrame\n",
    "A pandas dataframe is similar to an excel spreadsheet and the most commonly used object. It is two dimensional (rows X columns) and can contain multiple datatypes of labeled data in a single frame.\n",
    "\n",
    "It's capable of accepting multiple input types:\n",
    "                Dict of 1D ndarrays, lists, dicts, or Series(as demostrated above)\n",
    "                2D numpy.ndarray\n",
    "                structured or record ndarray\n",
    "                A Series\n",
    "                another Dataframe\n",
    "                \n",
    "You also have the option of passing in your own row and column labels utilizing the index and columns arguments. This guarantees the labels of the subsequent dataframe. However, this also results in the loss of all data not specified by the passed index.\n",
    "\n",
    "In cases where axis lables are not provided they are automatically constucted from the input data using common sense rules.\n"
   ]
  },
  {
   "cell_type": "markdown",
   "metadata": {},
   "source": [
    "# constructing a dataframe from a dict or series of dicts\n",
    "\n"
   ]
  },
  {
   "cell_type": "markdown",
   "metadata": {},
   "source": [
    "the index of the resulting Dataframe will be the union of indicies from the input Series objects. Nested dicts are converted to series prior to inclusion in the dataframe. If the 'column' arg is absent, the labels will be pulled from the sorted list of dict keys."
   ]
  },
  {
   "cell_type": "code",
   "execution_count": null,
   "metadata": {},
   "outputs": [],
   "source": [
    "#create a list of dicts\n",
    "d = {'alpha' : pd.Series(['a', 'b', 'c', 'd', 'e'], index = [1, 2, 3, 4 ,5]),\n",
    "     'beta' : pd.Series(['g', 'h', 'f', 'j', 'k'], index = [1, 2, 3, 4, 5])}\n",
    "#creating a dataframe from that list\n",
    "df = pd.DataFrame(d)\n",
    "print(df)"
   ]
  },
  {
   "cell_type": "code",
   "execution_count": null,
   "metadata": {},
   "outputs": [],
   "source": [
    "#constructing a dataframe with a specified index\n",
    "df_1 = pd.DataFrame(d, index = [6, 5, 4, 8, 9])\n",
    "print(df_1)"
   ]
  },
  {
   "cell_type": "code",
   "execution_count": null,
   "metadata": {},
   "outputs": [],
   "source": [
    "#constucting with specified column labels\n",
    "df_2 = pd.DataFrame(d, columns = ['alpha', 'beta', 'gamma'])\n",
    "df_2['gamma'] = 'a'\n",
    "print(df_2)"
   ]
  },
  {
   "cell_type": "markdown",
   "metadata": {},
   "source": [
    "you can access row and column labels by using their respective attribute functions"
   ]
  },
  {
   "cell_type": "code",
   "execution_count": null,
   "metadata": {},
   "outputs": [],
   "source": [
    "#accessing the index of df_2\n",
    "df_2.index"
   ]
  },
  {
   "cell_type": "code",
   "execution_count": null,
   "metadata": {},
   "outputs": [],
   "source": [
    "#accessing the columns of df_2\n",
    "df_2.columns"
   ]
  },
  {
   "cell_type": "markdown",
   "metadata": {},
   "source": [
    "the keys in the dict can be overridden when a specific set of columns is passed into the pd.DataFrame() function along with the data."
   ]
  },
  {
   "cell_type": "markdown",
   "metadata": {},
   "source": [
    "# From adict of ndarrays/lists\n",
    "\n",
    "Of vital importance here is that the ndarrays are required to all be of the same length n. If an index is also being input it must also be of length n. Otherwise a range object of len(ndarray(n)) will be created."
   ]
  },
  {
   "cell_type": "code",
   "execution_count": null,
   "metadata": {},
   "outputs": [],
   "source": [
    "#creating the dict of ndarrays and corresponding index\n",
    "dict = {'bananas' : [3, 5, 6, 8, 4],\n",
    "        'apples' : [1, 7, 6, 8, 4],\n",
    "        'mangos' : [5, 6, 8, 7, 3]}\n",
    "index = ['2', '4', '6', '8', '10']\n",
    "# passing the dict into the dataframe function with specified index\n",
    "fruit = pd.DataFrame(dict, index=index)\n",
    "print(fruit)"
   ]
  },
  {
   "cell_type": "code",
   "execution_count": null,
   "metadata": {},
   "outputs": [],
   "source": [
    "#without specified index\n",
    "fruit_2 = pd.DataFrame(dict)\n",
    "print(fruit_2)"
   ]
  },
  {
   "cell_type": "markdown",
   "metadata": {},
   "source": [
    "# From structured or record array\n",
    "\n",
    "same as ndarray but is not intended to have the same functionality as a 2d-numpy ndarray\n",
    "\n",
    "# From a list of dicts\n",
    "same as before but without the length limitations of an array\n",
    "\n",
    "# From dict of tuples\n",
    "\n",
    "this provides and easy method of creating a multi-indexed dataframe"
   ]
  },
  {
   "cell_type": "code",
   "execution_count": null,
   "metadata": {},
   "outputs": [],
   "source": [
    "#creating the dict of tuples\n",
    "t_dict = {('m', 'k') : {('m', 'k'): 5, ('j', 'h'): 9},\n",
    "         ('m', 't'): {('m', 'h'): 8, ('l', 'q'): 8}}\n",
    "#creating the dataframe\n",
    "t_df = pd.DataFrame(t_dict)\n",
    "print(t_df)"
   ]
  },
  {
   "cell_type": "markdown",
   "metadata": {},
   "source": [
    "# From a Series\n",
    "\n",
    "A series is essentially a single column of a dataframe with an index. Constructing a dataframe from a single therefore results in a frame with the same index as the series and a column constructed from said series"
   ]
  },
  {
   "cell_type": "code",
   "execution_count": null,
   "metadata": {},
   "outputs": [],
   "source": [
    "#creating a datafame from the my_series variable used in the first section\n",
    "df_s = pd.DataFrame(my_series)\n",
    "print(df_s)"
   ]
  },
  {
   "cell_type": "markdown",
   "metadata": {},
   "source": [
    "# alternate dataframe constructors\n",
    "\n",
    "pd.DataFrame.from_dict\n",
    "this function takes as input a dict of dicts or a dict of arrays and produces a dataframe, operating in a similar fashion except for the 'orient' parameter set to columns by default but can be changes to 'index' to use the dict keys for the row labels"
   ]
  },
  {
   "cell_type": "code",
   "execution_count": null,
   "metadata": {},
   "outputs": [],
   "source": [
    "#constructing a dict of dicts\n",
    "d = {'A':{'a':3, 'b':6, 'c':5},\n",
    "     'B':{'a':4, 'b':3, 'c':6},\n",
    "     'C':{'a':7, 'b':4, 'c':4}}\n",
    "#converting into dataframe without orient parameter\n",
    "dofd_df = pd.DataFrame.from_dict(d)\n",
    "print(dofd_df)"
   ]
  },
  {
   "cell_type": "code",
   "execution_count": null,
   "metadata": {},
   "outputs": [],
   "source": [
    "#with orient parameter\n",
    "dofd_df = pd.DataFrame.from_dict(d, orient='index')\n",
    "print(dofd_df)"
   ]
  },
  {
   "cell_type": "markdown",
   "metadata": {},
   "source": [
    "# pd.DataFrame.from_records\n",
    "\n",
    "for input, takes a list of tuples or an ndarray with a structured dtype. The index may be specified from a field of the structured dtype."
   ]
  },
  {
   "cell_type": "code",
   "execution_count": null,
   "metadata": {},
   "outputs": [],
   "source": [
    "#producing a list of tuples\n",
    "t = np.array([(1, 2), (3, 4), (5, 6), (6, 7)], dtype = np.int)\n",
    "#producing dataframe\n",
    "t_df = pd.DataFrame.from_records(t)\n",
    "print(t_df)"
   ]
  },
  {
   "cell_type": "markdown",
   "metadata": {},
   "source": [
    "# pd.DataFrame.from_items\n",
    "\n",
    "takes a sequence of key, value pairs. The keys become column names and the values fil the rows. Allows constuction of a dataframe with a specified order to the columns. Arrays, as usual, must all be of the same length."
   ]
  },
  {
   "cell_type": "code",
   "execution_count": 12,
   "metadata": {},
   "outputs": [
    {
     "name": "stdout",
     "output_type": "stream",
     "text": [
      "   j  k  l\n",
      "0  2  1  1\n",
      "1  3  2  2\n",
      "2  4  3  3\n",
      "3  5  4  4\n",
      "4  6  5  5\n",
      "5  7  6  6\n"
     ]
    }
   ],
   "source": [
    "#creating items\n",
    "items = [('j', [2, 3, 4, 5, 6, 7]), ('k', [1, 2, 3, 4, 5, 6]), ('l', [1, 2, 3, 4, 5,6])]\n",
    "#producing dataframe\n",
    "items_df = pd.DataFrame.from_items(items)\n",
    "print(items_df)"
   ]
  },
  {
   "cell_type": "code",
   "execution_count": 13,
   "metadata": {},
   "outputs": [
    {
     "name": "stdout",
     "output_type": "stream",
     "text": [
      "   b  c  f  d  r  o\n",
      "j  2  3  4  5  6  7\n",
      "k  1  2  3  4  5  6\n",
      "l  1  2  3  4  5  6\n"
     ]
    }
   ],
   "source": [
    "#using the orient = 'index' call moving the keys to row labels. Note that column labels must be specified\n",
    "columns = ['b', 'c', 'f', 'd', 'r', 'o']\n",
    "items_df = pd.DataFrame.from_items(items, orient = 'index', columns = columns)\n",
    "print(items_df)"
   ]
  },
  {
   "cell_type": "markdown",
   "metadata": {},
   "source": [
    "# Column selection, addition, deletion\n",
    "\n",
    "A DataFrame works in an analagous fashion to a dict of like-indexed Series objects. The syntax for both operations is similar."
   ]
  },
  {
   "cell_type": "code",
   "execution_count": 14,
   "metadata": {},
   "outputs": [
    {
     "name": "stdout",
     "output_type": "stream",
     "text": [
      "j    3\n",
      "k    2\n",
      "l    2\n",
      "Name: c, dtype: int64\n"
     ]
    }
   ],
   "source": [
    "# selecting a columns from items_df\n",
    "print(items_df['c'])"
   ]
  },
  {
   "cell_type": "code",
   "execution_count": 15,
   "metadata": {},
   "outputs": [
    {
     "name": "stdout",
     "output_type": "stream",
     "text": [
      "   b  c  f  d  r  o     Alpha\n",
      "j  2  3  4  5  6  7  1.714286\n",
      "k  1  2  3  4  5  6  0.833333\n",
      "l  1  2  3  4  5  6  0.833333\n"
     ]
    }
   ],
   "source": [
    "#adding a new column to items_df\n",
    "items_df['Alpha']  = items_df['b'] * items_df['r'] / items_df['o']\n",
    "print(items_df)"
   ]
  },
  {
   "cell_type": "code",
   "execution_count": 16,
   "metadata": {},
   "outputs": [
    {
     "name": "stdout",
     "output_type": "stream",
     "text": [
      "   b  c  f  d  r  o     Alpha  error\n",
      "j  2  3  4  5  6  7  1.714286  False\n",
      "k  1  2  3  4  5  6  0.833333   True\n",
      "l  1  2  3  4  5  6  0.833333   True\n"
     ]
    }
   ],
   "source": [
    "# with a boolean operation\n",
    "items_df['error'] = items_df['Alpha'] < 1\n",
    "print(items_df)"
   ]
  },
  {
   "cell_type": "code",
   "execution_count": 17,
   "metadata": {},
   "outputs": [
    {
     "name": "stdout",
     "output_type": "stream",
     "text": [
      "   b  c  f  d  r  o     Alpha\n",
      "j  2  3  4  5  6  7  1.714286\n",
      "k  1  2  3  4  5  6  0.833333\n",
      "l  1  2  3  4  5  6  0.833333\n"
     ]
    }
   ],
   "source": [
    "#removing a column\n",
    "del items_df['error']\n",
    "print(items_df)"
   ]
  },
  {
   "cell_type": "code",
   "execution_count": 18,
   "metadata": {},
   "outputs": [
    {
     "name": "stdout",
     "output_type": "stream",
     "text": [
      "   b  c  f  d  r  o     Alpha happy\n",
      "j  2  3  4  5  6  7  1.714286   sad\n",
      "k  1  2  3  4  5  6  0.833333   sad\n",
      "l  1  2  3  4  5  6  0.833333   sad\n"
     ]
    }
   ],
   "source": [
    "#inserting a scalar value broadcasts it through the entire column\n",
    "items_df['happy'] = 'sad'\n",
    "print(items_df)"
   ]
  },
  {
   "cell_type": "code",
   "execution_count": 19,
   "metadata": {},
   "outputs": [
    {
     "name": "stdout",
     "output_type": "stream",
     "text": [
      "   b  c  f  d  r  o     Alpha happy  Series_insert\n",
      "j  2  3  4  5  6  7  1.714286   sad            2.0\n",
      "k  1  2  3  4  5  6  0.833333   sad            NaN\n",
      "l  1  2  3  4  5  6  0.833333   sad            NaN\n"
     ]
    }
   ],
   "source": [
    "#inserting a series without the same index as the dataframe results in the addition of NaN value\n",
    "#shorter index\n",
    "items_df['Series_insert'] = items_df['b'][:1]\n",
    "print(items_df)"
   ]
  },
  {
   "cell_type": "code",
   "execution_count": 20,
   "metadata": {},
   "outputs": [
    {
     "name": "stdout",
     "output_type": "stream",
     "text": [
      "   b  c  f  d  r  o     Alpha happy  Series_insert  big_series\n",
      "j  2  3  4  5  6  7  1.714286   sad            2.0         6.0\n",
      "k  1  2  3  4  5  6  0.833333   sad            NaN         6.0\n",
      "l  1  2  3  4  5  6  0.833333   sad            NaN         6.0\n"
     ]
    }
   ],
   "source": [
    "#larger index\n",
    "items_df['big_series'] = scalar_series\n",
    "print(items_df)"
   ]
  },
  {
   "cell_type": "markdown",
   "metadata": {},
   "source": [
    "apparently that does not extend the dataframe like i thought it would but rather shrinks the series to fit the dataframe.\n",
    "\n",
    "\n",
    "following along with this idea you can insert a raw ndarray but it's length must match the index of the df."
   ]
  },
  {
   "cell_type": "code",
   "execution_count": 21,
   "metadata": {},
   "outputs": [
    {
     "name": "stdout",
     "output_type": "stream",
     "text": [
      "[1 2 3]\n"
     ]
    }
   ],
   "source": [
    "#creating an array\n",
    "ndarray = np.array([1, 2, 3])\n",
    "print(ndarray)"
   ]
  },
  {
   "cell_type": "code",
   "execution_count": 22,
   "metadata": {},
   "outputs": [
    {
     "name": "stdout",
     "output_type": "stream",
     "text": [
      "   b  c  f  d  r  o     Alpha happy  Series_insert  big_series  array\n",
      "j  2  3  4  5  6  7  1.714286   sad            2.0         6.0      1\n",
      "k  1  2  3  4  5  6  0.833333   sad            NaN         6.0      2\n",
      "l  1  2  3  4  5  6  0.833333   sad            NaN         6.0      3\n"
     ]
    }
   ],
   "source": [
    "#inserting the array\n",
    "items_df.insert(10, value = ndarray, column = 'array',allow_duplicates = False)\n",
    "print(items_df)"
   ]
  },
  {
   "cell_type": "markdown",
   "metadata": {},
   "source": [
    "by default an array is inserted at the end but you can also specify the position using the insert function"
   ]
  },
  {
   "cell_type": "code",
   "execution_count": 24,
   "metadata": {},
   "outputs": [
    {
     "name": "stdout",
     "output_type": "stream",
     "text": [
      "   b  c  f  d  r  o     Alpha happy  Series_insert  big_series\n",
      "j  2  3  4  5  6  7  1.714286   sad            2.0         6.0\n",
      "k  1  2  3  4  5  6  0.833333   sad            NaN         6.0\n",
      "l  1  2  3  4  5  6  0.833333   sad            NaN         6.0\n"
     ]
    }
   ],
   "source": [
    "#deleting the array column we added\n",
    "del items_df['array']\n",
    "print(items_df)"
   ]
  },
  {
   "cell_type": "code",
   "execution_count": 25,
   "metadata": {},
   "outputs": [
    {
     "name": "stdout",
     "output_type": "stream",
     "text": [
      "   b  c  f  array  d  r  o     Alpha happy  Series_insert  big_series\n",
      "j  2  3  4      1  5  6  7  1.714286   sad            2.0         6.0\n",
      "k  1  2  3      2  4  5  6  0.833333   sad            NaN         6.0\n",
      "l  1  2  3      3  4  5  6  0.833333   sad            NaN         6.0\n"
     ]
    }
   ],
   "source": [
    "#reinserting the array column this time specifying the position\n",
    "items_df.insert(3, 'array', ndarray)\n",
    "print(items_df)"
   ]
  },
  {
   "cell_type": "markdown",
   "metadata": {},
   "source": [
    "# assigning new columns and method chains\n",
    "\n",
    "\n",
    "DataFrames have a method called assign() that provides an expedient method for creating a new column, potentially from existing columns. This method creates a copy of the original dataframe with the new column added."
   ]
  },
  {
   "cell_type": "code",
   "execution_count": 31,
   "metadata": {},
   "outputs": [
    {
     "name": "stdout",
     "output_type": "stream",
     "text": [
      "   b  c  f  array  d  r  o     Alpha\n",
      "j  2  3  4      1  5  6  7  1.714286\n",
      "k  1  2  3      2  4  5  6  0.833333\n",
      "l  1  2  3      3  4  5  6  0.833333\n"
     ]
    }
   ],
   "source": [
    "#reducing the size of the dataframe\n",
    "del items_df['Series_insert'], items_df['big_series'], items_df['happy']\n",
    "print(items_df)"
   ]
  },
  {
   "cell_type": "code",
   "execution_count": 40,
   "metadata": {},
   "outputs": [
    {
     "name": "stdout",
     "output_type": "stream",
     "text": [
      "   b  c  f  array  d  r  o     Alpha      beta\n",
      "j  2  3  4      1  5  6  7  1.714286  1.714286\n",
      "k  1  2  3      2  4  5  6  0.833333  0.416667\n",
      "l  1  2  3      3  4  5  6  0.833333  0.277778\n"
     ]
    }
   ],
   "source": [
    "#creating a new column with the assign() method, using existing column data.\n",
    "items_df_copy = items_df.assign(beta = items_df['Alpha'] / items_df['array'])\n",
    "print(items_df_copy)"
   ]
  },
  {
   "cell_type": "code",
   "execution_count": null,
   "metadata": {},
   "outputs": [],
   "source": []
  }
 ],
 "metadata": {
  "kernelspec": {
   "display_name": "Python 3",
   "language": "python",
   "name": "python3"
  },
  "language_info": {
   "codemirror_mode": {
    "name": "ipython",
    "version": 3
   },
   "file_extension": ".py",
   "mimetype": "text/x-python",
   "name": "python",
   "nbconvert_exporter": "python",
   "pygments_lexer": "ipython3",
   "version": "3.6.4"
  }
 },
 "nbformat": 4,
 "nbformat_minor": 2
}
