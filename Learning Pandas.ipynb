{
 "cells": [
  {
   "cell_type": "markdown",
   "metadata": {},
   "source": [
    "# Working Through Intro to Data Structures"
   ]
  },
  {
   "cell_type": "code",
   "execution_count": 1,
   "metadata": {},
   "outputs": [],
   "source": [
    "import numpy as np\n",
    "import pandas as pd"
   ]
  },
  {
   "cell_type": "markdown",
   "metadata": {},
   "source": [
    "# Pandas Series\n",
    "A pandas series is a one dimensional array with labels (axis labels = index) able to hold any data type. "
   ]
  },
  {
   "cell_type": "code",
   "execution_count": 9,
   "metadata": {},
   "outputs": [
    {
     "name": "stdout",
     "output_type": "stream",
     "text": [
      "0    0\n",
      "1    1\n",
      "2    2\n",
      "3    3\n",
      "4    4\n",
      "5    5\n",
      "6    6\n",
      "dtype: int64\n"
     ]
    }
   ],
   "source": [
    "#basic series creation\n",
    "data = [0, 1, 2, 3, 4, 5, 6]\n",
    "index = range(0, len(data))\n",
    "my_series  = pd.Series(data, index=index)\n",
    "print(my_series)"
   ]
  },
  {
   "cell_type": "markdown",
   "metadata": {},
   "source": [
    "# The data is not limited to a single type. Can be a dict, np.ndarray, scalar value, ect. The index for each particular type has some caveats however.\n",
    "\n",
    "Creating a series from an ndarray object requires that the index be of the same length as the ndarray."
   ]
  },
  {
   "cell_type": "code",
   "execution_count": 3,
   "metadata": {},
   "outputs": [
    {
     "data": {
      "text/plain": [
       "w   -0.690117\n",
       "s   -0.400602\n",
       "a   -2.226436\n",
       "dtype: float64"
      ]
     },
     "execution_count": 3,
     "metadata": {},
     "output_type": "execute_result"
    }
   ],
   "source": [
    "#for example\n",
    "new_series = pd.Series(np.random.randn(3), index = ['w', 's', 'a'])\n",
    "new_series"
   ]
  },
  {
   "cell_type": "markdown",
   "metadata": {},
   "source": [
    "point of interest:\n",
    "pandas allows non-unique index values except in cases where an operation does not support it, in that instance an error should be raised.\n",
    "\n",
    "\n",
    "# Creating a series from a dict:\n",
    "In this case the index argument can be passed the data corresponding to the label values. By default, the index will be built from the dicts sorted keys when possible. "
   ]
  },
  {
   "cell_type": "code",
   "execution_count": 14,
   "metadata": {},
   "outputs": [
    {
     "name": "stdout",
     "output_type": "stream",
     "text": [
      "Alpha      A\n",
      "Bravo      B\n",
      "Charlie    C\n",
      "dtype: object\n"
     ]
    }
   ],
   "source": [
    "#without specifiying the index\n",
    "my_dict = {'Alpha' : 'A', 'Bravo': 'B', 'Charlie':'C'}\n",
    "no_id = pd.Series(my_dict)\n",
    "print(no_id)"
   ]
  },
  {
   "cell_type": "code",
   "execution_count": 15,
   "metadata": {},
   "outputs": [
    {
     "name": "stdout",
     "output_type": "stream",
     "text": [
      "Alpha        A\n",
      "2          NaN\n",
      "Charlie      C\n",
      "dtype: object\n"
     ]
    }
   ],
   "source": [
    "#specifying the index\n",
    "with_id = pd.Series(my_dict, index = ['Alpha', 2, 'Charlie'])\n",
    "print(with_id)"
   ]
  },
  {
   "cell_type": "markdown",
   "metadata": {},
   "source": [
    "Note: NaN (not a number) is a standard marker for absent data\n",
    "\n",
    "\n",
    "Creating a series from a scalar value:\n",
    "with scalar values an index must be specified and the scalar value will be repeated for the length of the index"
   ]
  },
  {
   "cell_type": "code",
   "execution_count": 19,
   "metadata": {},
   "outputs": [
    {
     "name": "stdout",
     "output_type": "stream",
     "text": [
      "l    6.0\n",
      "k    6.0\n",
      "j    6.0\n",
      "dtype: float64\n"
     ]
    }
   ],
   "source": [
    "scalar_series = pd.Series(6., index = ['l', 'k', 'j'])\n",
    "print(scalar_series)"
   ]
  },
  {
   "cell_type": "markdown",
   "metadata": {},
   "source": [
    "# How a pandas series behaves:\n",
    "It works like a numpy n dimensional array and works as an argument to numpy functions with some alterations. Namely, slicing the series will also slice the index."
   ]
  },
  {
   "cell_type": "code",
   "execution_count": 27,
   "metadata": {},
   "outputs": [
    {
     "name": "stdout",
     "output_type": "stream",
     "text": [
      "slicing with numpy function yields: \n",
      "d    3\n",
      "e    4\n",
      "f    5\n",
      "dtype: int64\n",
      "c    2\n",
      "d    3\n",
      "dtype: int64\n",
      "b    0.000000\n",
      "c    0.693147\n",
      "d    1.098612\n",
      "e    1.386294\n",
      "f    1.609438\n",
      "dtype: float64\n"
     ]
    }
   ],
   "source": [
    "L = [0,1,2,3,4,5]\n",
    "I = ['a', 'b', 'c', 'd', 'e', 'f']\n",
    "S = pd.Series(L, index = I)\n",
    "print('slicing with numpy function yields: \\n' + str(S[S >= S.mean()]))\n",
    "print(S[2:4])\n",
    "print(np.log(S[1:]))"
   ]
  },
  {
   "cell_type": "markdown",
   "metadata": {},
   "source": [
    "They can also function as a dictionary of fixed size where the index labels function as keys"
   ]
  },
  {
   "cell_type": "code",
   "execution_count": 28,
   "metadata": {},
   "outputs": [
    {
     "name": "stdout",
     "output_type": "stream",
     "text": [
      "2\n",
      "a    0\n",
      "b    1\n",
      "c    2\n",
      "d    3\n",
      "e    4\n",
      "f    6\n",
      "dtype: int64\n"
     ]
    },
    {
     "data": {
      "text/plain": [
       "True"
      ]
     },
     "execution_count": 28,
     "metadata": {},
     "output_type": "execute_result"
    }
   ],
   "source": [
    "#e.g. selecting a desired value from the index key\n",
    "print(S['c'])\n",
    "#altering a key value\n",
    "S['f'] = 6\n",
    "print(S)\n",
    "#using booleans\n",
    "'d' in S"
   ]
  },
  {
   "cell_type": "markdown",
   "metadata": {},
   "source": [
    "If the index label/key is not in the series an error will be raised.\n",
    "if the .get method is attempted in this case, either None or a selected default missing value will be returned"
   ]
  },
  {
   "cell_type": "code",
   "execution_count": 30,
   "metadata": {},
   "outputs": [
    {
     "ename": "KeyError",
     "evalue": "'g'",
     "output_type": "error",
     "traceback": [
      "\u001b[1;31m---------------------------------------------------------------------------\u001b[0m",
      "\u001b[1;31mTypeError\u001b[0m                                 Traceback (most recent call last)",
      "\u001b[1;32m~\\Anaconda3\\lib\\site-packages\\pandas\\core\\indexes\\base.py\u001b[0m in \u001b[0;36mget_value\u001b[1;34m(self, series, key)\u001b[0m\n\u001b[0;32m   2565\u001b[0m             \u001b[1;32mtry\u001b[0m\u001b[1;33m:\u001b[0m\u001b[1;33m\u001b[0m\u001b[0m\n\u001b[1;32m-> 2566\u001b[1;33m                 \u001b[1;32mreturn\u001b[0m \u001b[0mlibts\u001b[0m\u001b[1;33m.\u001b[0m\u001b[0mget_value_box\u001b[0m\u001b[1;33m(\u001b[0m\u001b[0ms\u001b[0m\u001b[1;33m,\u001b[0m \u001b[0mkey\u001b[0m\u001b[1;33m)\u001b[0m\u001b[1;33m\u001b[0m\u001b[0m\n\u001b[0m\u001b[0;32m   2567\u001b[0m             \u001b[1;32mexcept\u001b[0m \u001b[0mIndexError\u001b[0m\u001b[1;33m:\u001b[0m\u001b[1;33m\u001b[0m\u001b[0m\n",
      "\u001b[1;32mpandas/_libs/tslib.pyx\u001b[0m in \u001b[0;36mpandas._libs.tslib.get_value_box\u001b[1;34m()\u001b[0m\n",
      "\u001b[1;32mpandas/_libs/tslib.pyx\u001b[0m in \u001b[0;36mpandas._libs.tslib.get_value_box\u001b[1;34m()\u001b[0m\n",
      "\u001b[1;31mTypeError\u001b[0m: 'str' object cannot be interpreted as an integer",
      "\nDuring handling of the above exception, another exception occurred:\n",
      "\u001b[1;31mKeyError\u001b[0m                                  Traceback (most recent call last)",
      "\u001b[1;32m<ipython-input-30-4ee13a50e426>\u001b[0m in \u001b[0;36m<module>\u001b[1;34m()\u001b[0m\n\u001b[0;32m      1\u001b[0m \u001b[1;31m#e.g. looking for the value of 'g' in the current series\u001b[0m\u001b[1;33m\u001b[0m\u001b[1;33m\u001b[0m\u001b[0m\n\u001b[1;32m----> 2\u001b[1;33m \u001b[0mS\u001b[0m\u001b[1;33m[\u001b[0m\u001b[1;34m'g'\u001b[0m\u001b[1;33m]\u001b[0m\u001b[1;33m\u001b[0m\u001b[0m\n\u001b[0m",
      "\u001b[1;32m~\\Anaconda3\\lib\\site-packages\\pandas\\core\\series.py\u001b[0m in \u001b[0;36m__getitem__\u001b[1;34m(self, key)\u001b[0m\n\u001b[0;32m    621\u001b[0m         \u001b[0mkey\u001b[0m \u001b[1;33m=\u001b[0m \u001b[0mcom\u001b[0m\u001b[1;33m.\u001b[0m\u001b[0m_apply_if_callable\u001b[0m\u001b[1;33m(\u001b[0m\u001b[0mkey\u001b[0m\u001b[1;33m,\u001b[0m \u001b[0mself\u001b[0m\u001b[1;33m)\u001b[0m\u001b[1;33m\u001b[0m\u001b[0m\n\u001b[0;32m    622\u001b[0m         \u001b[1;32mtry\u001b[0m\u001b[1;33m:\u001b[0m\u001b[1;33m\u001b[0m\u001b[0m\n\u001b[1;32m--> 623\u001b[1;33m             \u001b[0mresult\u001b[0m \u001b[1;33m=\u001b[0m \u001b[0mself\u001b[0m\u001b[1;33m.\u001b[0m\u001b[0mindex\u001b[0m\u001b[1;33m.\u001b[0m\u001b[0mget_value\u001b[0m\u001b[1;33m(\u001b[0m\u001b[0mself\u001b[0m\u001b[1;33m,\u001b[0m \u001b[0mkey\u001b[0m\u001b[1;33m)\u001b[0m\u001b[1;33m\u001b[0m\u001b[0m\n\u001b[0m\u001b[0;32m    624\u001b[0m \u001b[1;33m\u001b[0m\u001b[0m\n\u001b[0;32m    625\u001b[0m             \u001b[1;32mif\u001b[0m \u001b[1;32mnot\u001b[0m \u001b[0mis_scalar\u001b[0m\u001b[1;33m(\u001b[0m\u001b[0mresult\u001b[0m\u001b[1;33m)\u001b[0m\u001b[1;33m:\u001b[0m\u001b[1;33m\u001b[0m\u001b[0m\n",
      "\u001b[1;32m~\\Anaconda3\\lib\\site-packages\\pandas\\core\\indexes\\base.py\u001b[0m in \u001b[0;36mget_value\u001b[1;34m(self, series, key)\u001b[0m\n\u001b[0;32m   2572\u001b[0m                     \u001b[1;32mraise\u001b[0m \u001b[0mInvalidIndexError\u001b[0m\u001b[1;33m(\u001b[0m\u001b[0mkey\u001b[0m\u001b[1;33m)\u001b[0m\u001b[1;33m\u001b[0m\u001b[0m\n\u001b[0;32m   2573\u001b[0m                 \u001b[1;32melse\u001b[0m\u001b[1;33m:\u001b[0m\u001b[1;33m\u001b[0m\u001b[0m\n\u001b[1;32m-> 2574\u001b[1;33m                     \u001b[1;32mraise\u001b[0m \u001b[0me1\u001b[0m\u001b[1;33m\u001b[0m\u001b[0m\n\u001b[0m\u001b[0;32m   2575\u001b[0m             \u001b[1;32mexcept\u001b[0m \u001b[0mException\u001b[0m\u001b[1;33m:\u001b[0m  \u001b[1;31m# pragma: no cover\u001b[0m\u001b[1;33m\u001b[0m\u001b[0m\n\u001b[0;32m   2576\u001b[0m                 \u001b[1;32mraise\u001b[0m \u001b[0me1\u001b[0m\u001b[1;33m\u001b[0m\u001b[0m\n",
      "\u001b[1;32m~\\Anaconda3\\lib\\site-packages\\pandas\\core\\indexes\\base.py\u001b[0m in \u001b[0;36mget_value\u001b[1;34m(self, series, key)\u001b[0m\n\u001b[0;32m   2558\u001b[0m         \u001b[1;32mtry\u001b[0m\u001b[1;33m:\u001b[0m\u001b[1;33m\u001b[0m\u001b[0m\n\u001b[0;32m   2559\u001b[0m             return self._engine.get_value(s, k,\n\u001b[1;32m-> 2560\u001b[1;33m                                           tz=getattr(series.dtype, 'tz', None))\n\u001b[0m\u001b[0;32m   2561\u001b[0m         \u001b[1;32mexcept\u001b[0m \u001b[0mKeyError\u001b[0m \u001b[1;32mas\u001b[0m \u001b[0me1\u001b[0m\u001b[1;33m:\u001b[0m\u001b[1;33m\u001b[0m\u001b[0m\n\u001b[0;32m   2562\u001b[0m             \u001b[1;32mif\u001b[0m \u001b[0mlen\u001b[0m\u001b[1;33m(\u001b[0m\u001b[0mself\u001b[0m\u001b[1;33m)\u001b[0m \u001b[1;33m>\u001b[0m \u001b[1;36m0\u001b[0m \u001b[1;32mand\u001b[0m \u001b[0mself\u001b[0m\u001b[1;33m.\u001b[0m\u001b[0minferred_type\u001b[0m \u001b[1;32min\u001b[0m \u001b[1;33m[\u001b[0m\u001b[1;34m'integer'\u001b[0m\u001b[1;33m,\u001b[0m \u001b[1;34m'boolean'\u001b[0m\u001b[1;33m]\u001b[0m\u001b[1;33m:\u001b[0m\u001b[1;33m\u001b[0m\u001b[0m\n",
      "\u001b[1;32mpandas/_libs/index.pyx\u001b[0m in \u001b[0;36mpandas._libs.index.IndexEngine.get_value\u001b[1;34m()\u001b[0m\n",
      "\u001b[1;32mpandas/_libs/index.pyx\u001b[0m in \u001b[0;36mpandas._libs.index.IndexEngine.get_value\u001b[1;34m()\u001b[0m\n",
      "\u001b[1;32mpandas/_libs/index.pyx\u001b[0m in \u001b[0;36mpandas._libs.index.IndexEngine.get_loc\u001b[1;34m()\u001b[0m\n",
      "\u001b[1;32mpandas/_libs/hashtable_class_helper.pxi\u001b[0m in \u001b[0;36mpandas._libs.hashtable.PyObjectHashTable.get_item\u001b[1;34m()\u001b[0m\n",
      "\u001b[1;32mpandas/_libs/hashtable_class_helper.pxi\u001b[0m in \u001b[0;36mpandas._libs.hashtable.PyObjectHashTable.get_item\u001b[1;34m()\u001b[0m\n",
      "\u001b[1;31mKeyError\u001b[0m: 'g'"
     ]
    }
   ],
   "source": [
    "#e.g. looking for the value of 'g' in the current series\n",
    "S['g']"
   ]
  },
  {
   "cell_type": "code",
   "execution_count": 34,
   "metadata": {},
   "outputs": [
    {
     "name": "stdout",
     "output_type": "stream",
     "text": [
      "None\n",
      "nan\n"
     ]
    }
   ],
   "source": [
    "# with the .get method\n",
    "print(S.get('g'))\n",
    "#utilizing a specified missing value\n",
    "print(S.get('g', np.nan))"
   ]
  },
  {
   "cell_type": "markdown",
   "metadata": {},
   "source": [
    "# Label alignment and Vectorized numpy operations with a pandas Series\n",
    "\n",
    "Most Numpy methods built for handling n dimensional arrays can also work with the pandas series. However, the pandas series is automatically aligned based on index labels unlike the ndarray"
   ]
  },
  {
   "cell_type": "code",
   "execution_count": 38,
   "metadata": {},
   "outputs": [
    {
     "name": "stdout",
     "output_type": "stream",
     "text": [
      "a   -1.459871\n",
      "b         NaN\n",
      "c         NaN\n",
      "d         NaN\n",
      "e         NaN\n",
      "f         NaN\n",
      "s         NaN\n",
      "w         NaN\n",
      "dtype: float64\n"
     ]
    }
   ],
   "source": [
    "print(S + new_series)"
   ]
  },
  {
   "cell_type": "markdown",
   "metadata": {},
   "source": [
    "As seen above, in cases where on label does not exist in one or the other series we yield missing values similar to multiplying by 0 but with the index labels still remaining. These rows can be dropped using the dropna function but thought should be taken before doing so as it may remove important information."
   ]
  },
  {
   "cell_type": "markdown",
   "metadata": {},
   "source": [
    "# Name Attribute\n",
    "basically a title for a particular series which can either be specified selected automatically when slicing from a dataframe. A series can also be renamed as will be demonstrated below."
   ]
  },
  {
   "cell_type": "code",
   "execution_count": 4,
   "metadata": {},
   "outputs": [
    {
     "name": "stdout",
     "output_type": "stream",
     "text": [
      "w   -0.690117\n",
      "s   -0.400602\n",
      "a   -2.226436\n",
      "Name: new series, dtype: float64\n"
     ]
    }
   ],
   "source": [
    "#assigning a title\n",
    "new_series1 =pd.Series(new_series, name = 'new series')\n",
    "print(new_series1)"
   ]
  },
  {
   "cell_type": "code",
   "execution_count": 5,
   "metadata": {},
   "outputs": [
    {
     "name": "stdout",
     "output_type": "stream",
     "text": [
      "  hyper hypo\n",
      "1     A    a\n",
      "2     B    b\n",
      "3     C    c\n",
      "4     D    d\n"
     ]
    }
   ],
   "source": [
    "#constructing a simple dataframe from a dict of pandas series and printing it\n",
    "x = {'hypo' : pd.Series(['a', 'b', 'c', 'd'], index = [1, 2, 3, 4]),\n",
    "     'hyper':pd.Series(['A', 'B', 'C', 'D'], index = [1, 2, 3, 4])}\n",
    "df = pd.DataFrame(x)\n",
    "print(df.head())"
   ]
  },
  {
   "cell_type": "code",
   "execution_count": 9,
   "metadata": {},
   "outputs": [
    {
     "name": "stdout",
     "output_type": "stream",
     "text": [
      "1    A\n",
      "2    B\n",
      "3    C\n",
      "4    D\n",
      "Name: hyper, dtype: object\n"
     ]
    }
   ],
   "source": [
    "# finding the name of a 1D dataframe slice\n",
    "Y = df.iloc[:, 0]\n",
    "print(Y)"
   ]
  },
  {
   "cell_type": "code",
   "execution_count": 10,
   "metadata": {},
   "outputs": [
    {
     "name": "stdout",
     "output_type": "stream",
     "text": [
      "1    A\n",
      "2    B\n",
      "3    C\n",
      "4    D\n",
      "Name: hyperbole, dtype: object\n"
     ]
    }
   ],
   "source": [
    "#renaming a series utilizing the pandas.series.rename() method\n",
    "Y_1 = Y.rename('hyperbole')\n",
    "print(Y_1)"
   ]
  },
  {
   "cell_type": "markdown",
   "metadata": {},
   "source": [
    "# DataFrame\n",
    "A pandas dataframe is similar to an excel spreadsheet and the most commonly used object. It is two dimensional (rows X columns) and can contain multiple datatypes of labeled data in a single frame.\n",
    "\n",
    "It's capable of accepting multiple input types:\n",
    "                Dict of 1D ndarrays, lists, dicts, or Series(as demostrated above)\n",
    "                2D numpy.ndarray\n",
    "                structured or record ndarray\n",
    "                A Series\n",
    "                another Dataframe\n",
    "                \n",
    "You also have the option of passing in your own row and column labels utilizing the index and columns arguments. This guarantees the labels of the subsequent dataframe. However, this also results in the loss of all data not specified by the passed index.\n",
    "\n",
    "In cases where axis lables are not provided they are automatically constucted from the input data using common sense rules.\n"
   ]
  },
  {
   "cell_type": "markdown",
   "metadata": {},
   "source": [
    "# constructing a dataframe from a dict or series of dicts\n",
    "\n"
   ]
  },
  {
   "cell_type": "markdown",
   "metadata": {},
   "source": [
    "the index of the resulting Dataframe will be the union of indicies from the input Series objects. Nested dicts are converted to series prior to inclusion in the dataframe. If the 'column' arg is absent, the labels will be pulled from the sorted list of dict keys."
   ]
  },
  {
   "cell_type": "code",
   "execution_count": 4,
   "metadata": {},
   "outputs": [
    {
     "name": "stdout",
     "output_type": "stream",
     "text": [
      "  alpha beta\n",
      "1     a    g\n",
      "2     b    h\n",
      "3     c    f\n",
      "4     d    j\n",
      "5     e    k\n"
     ]
    }
   ],
   "source": [
    "#create a list of dicts\n",
    "d = {'alpha' : pd.Series(['a', 'b', 'c', 'd', 'e'], index = [1, 2, 3, 4 ,5]),\n",
    "     'beta' : pd.Series(['g', 'h', 'f', 'j', 'k'], index = [1, 2, 3, 4, 5])}\n",
    "#creating a dataframe from that list\n",
    "df = pd.DataFrame(d)\n",
    "print(df)"
   ]
  },
  {
   "cell_type": "code",
   "execution_count": 5,
   "metadata": {},
   "outputs": [
    {
     "name": "stdout",
     "output_type": "stream",
     "text": [
      "  alpha beta\n",
      "6   NaN  NaN\n",
      "5     e    k\n",
      "4     d    j\n",
      "8   NaN  NaN\n",
      "9   NaN  NaN\n"
     ]
    }
   ],
   "source": [
    "#constructing a dataframe with a specified index\n",
    "df_1 = pd.DataFrame(d, index = [6, 5, 4, 8, 9])\n",
    "print(df_1)"
   ]
  },
  {
   "cell_type": "code",
   "execution_count": 7,
   "metadata": {},
   "outputs": [
    {
     "name": "stdout",
     "output_type": "stream",
     "text": [
      "  alpha beta gamma\n",
      "1     a    g     a\n",
      "2     b    h     a\n",
      "3     c    f     a\n",
      "4     d    j     a\n",
      "5     e    k     a\n"
     ]
    }
   ],
   "source": [
    "#constucting with specified column labels\n",
    "df_2 = pd.DataFrame(d, columns = ['alpha', 'beta', 'gamma'])\n",
    "df_2['gamma'] = 'a'\n",
    "print(df_2)"
   ]
  },
  {
   "cell_type": "markdown",
   "metadata": {},
   "source": [
    "you can access row and column labels by using their respective attribute functions"
   ]
  },
  {
   "cell_type": "code",
   "execution_count": 8,
   "metadata": {},
   "outputs": [
    {
     "data": {
      "text/plain": [
       "Int64Index([1, 2, 3, 4, 5], dtype='int64')"
      ]
     },
     "execution_count": 8,
     "metadata": {},
     "output_type": "execute_result"
    }
   ],
   "source": [
    "#accessing the index of df_2\n",
    "df_2.index"
   ]
  },
  {
   "cell_type": "code",
   "execution_count": 9,
   "metadata": {},
   "outputs": [
    {
     "data": {
      "text/plain": [
       "Index(['alpha', 'beta', 'gamma'], dtype='object')"
      ]
     },
     "execution_count": 9,
     "metadata": {},
     "output_type": "execute_result"
    }
   ],
   "source": [
    "#accessing the columns of df_2\n",
    "df_2.columns"
   ]
  },
  {
   "cell_type": "markdown",
   "metadata": {},
   "source": [
    "the keys in the dict can be overridden when a specific set of columns is passed into the pd.DataFrame() function along with the data."
   ]
  },
  {
   "cell_type": "markdown",
   "metadata": {},
   "source": [
    "currently working with multiple versions of this notebook.\n",
    "adding in the next section here with the intention of merging notebooks later"
   ]
  },
  {
   "cell_type": "markdown",
   "metadata": {},
   "source": [
    "# alternate dataframe constructors\n",
    "\n",
    "pd.DataFrame.from_dict\n",
    "this function takes as input a dict of dicts or a dict of arrays and produces a dataframe, operating in a similar fashion except for the 'orient' parameter set to columns by default but can be changes to 'index' to use the dict keys for the row labels"
   ]
  },
  {
   "cell_type": "code",
   "execution_count": 8,
   "metadata": {},
   "outputs": [
    {
     "name": "stdout",
     "output_type": "stream",
     "text": [
      "   A  B  C\n",
      "a  3  4  7\n",
      "b  6  3  4\n",
      "c  5  6  4\n"
     ]
    }
   ],
   "source": [
    "#constructing a dict of dicts\n",
    "d = {'A':{'a':3, 'b':6, 'c':5},\n",
    "     'B':{'a':4, 'b':3, 'c':6},\n",
    "     'C':{'a':7, 'b':4, 'c':4}}\n",
    "#converting into dataframe without orient parameter\n",
    "dofd_df = pd.DataFrame.from_dict(d)\n",
    "print(dofd_df)"
   ]
  },
  {
   "cell_type": "code",
   "execution_count": 11,
   "metadata": {},
   "outputs": [
    {
     "name": "stdout",
     "output_type": "stream",
     "text": [
      "   a  b  c\n",
      "A  3  6  5\n",
      "B  4  3  6\n",
      "C  7  4  4\n"
     ]
    }
   ],
   "source": [
    "#with orient parameter\n",
    "dofd_df = pd.DataFrame.from_dict(d, orient='index')\n",
    "print(dofd_df)"
   ]
  },
  {
   "cell_type": "markdown",
   "metadata": {},
   "source": [
    "# pd.DataFrame.from_records\n",
    "\n",
    "for input, takes a list of tuples or an ndarray with a structured dtype. The index may be specified from a field of the structured dtype."
   ]
  },
  {
   "cell_type": "code",
   "execution_count": 22,
   "metadata": {},
   "outputs": [
    {
     "name": "stdout",
     "output_type": "stream",
     "text": [
      "   0  1\n",
      "0  1  2\n",
      "1  3  4\n",
      "2  5  6\n",
      "3  6  7\n"
     ]
    }
   ],
   "source": [
    "#producing a list of tuples\n",
    "t = np.array([(1, 2), (3, 4), (5, 6), (6, 7)], dtype = np.int)\n",
    "#producing dataframe\n",
    "t_df = pd.DataFrame.from_records(t)\n",
    "print(t_df)"
   ]
  },
  {
   "cell_type": "markdown",
   "metadata": {},
   "source": [
    "# pd.DataFrame.from_items\n",
    "\n",
    "takes a sequence of key, value pairs. The keys become column names and the values fil the rows. Allows constuction of a dataframe with a specified order to the columns. Arrays, as usual, must all be of the same length."
   ]
  },
  {
   "cell_type": "code",
   "execution_count": 24,
   "metadata": {},
   "outputs": [
    {
     "name": "stdout",
     "output_type": "stream",
     "text": [
      "   j  k  l\n",
      "0  2  1  1\n",
      "1  3  2  2\n",
      "2  4  3  3\n",
      "3  5  4  4\n",
      "4  6  5  5\n",
      "5  7  6  6\n"
     ]
    }
   ],
   "source": [
    "#creating items\n",
    "items = [('j', [2, 3, 4, 5, 6, 7]), ('k', [1, 2, 3, 4, 5, 6]), ('l', [1, 2, 3, 4, 5,6])]\n",
    "#producing dataframe\n",
    "items_df = pd.DataFrame.from_items(items)\n",
    "print(items_df)"
   ]
  },
  {
   "cell_type": "code",
   "execution_count": 25,
   "metadata": {},
   "outputs": [
    {
     "name": "stdout",
     "output_type": "stream",
     "text": [
      "   b  c  f  d  r  o\n",
      "j  2  3  4  5  6  7\n",
      "k  1  2  3  4  5  6\n",
      "l  1  2  3  4  5  6\n"
     ]
    }
   ],
   "source": [
    "#using the orient = 'index' call moving the keys to row labels. Note that column labels must be specified\n",
    "columns = ['b', 'c', 'f', 'd', 'r', 'o']\n",
    "items_df = pd.DataFrame.from_items(items, orient = 'index', columns = columns)\n",
    "print(items_df)"
   ]
  },
  {
   "cell_type": "code",
   "execution_count": null,
   "metadata": {},
   "outputs": [],
   "source": []
  }
 ],
 "metadata": {
  "kernelspec": {
   "display_name": "Python 3",
   "language": "python",
   "name": "python3"
  },
  "language_info": {
   "codemirror_mode": {
    "name": "ipython",
    "version": 3
   },
   "file_extension": ".py",
   "mimetype": "text/x-python",
   "name": "python",
   "nbconvert_exporter": "python",
   "pygments_lexer": "ipython3",
   "version": "3.6.4"
  }
 },
 "nbformat": 4,
 "nbformat_minor": 2
}
