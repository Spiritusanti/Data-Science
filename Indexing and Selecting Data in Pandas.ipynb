{
 "cells": [
  {
   "cell_type": "markdown",
   "metadata": {},
   "source": [
    "# Indexing and selecting data\n",
    "\n",
    "This section will be focused on slice subsets of series and dataframe objects. Python has built in tools to do this that while capable are not the best for the job. Pandas has optimized methods to access data reccommended for production code.\n",
    "\n",
    "# Different choices for indexing\n",
    "\n",
    "Pandas supports 3 types of multi-axis indexing:\n",
    "    .loc(), mainly for label based operations but boolean arrays are also possible with a KeyError being raised in cases when the item isn't found. Possible inputs include:\n",
    "            \n",
    "            a single label(e.g. 'avocados' or 3 which is interpreted as an index label)\n",
    "        \n",
    "            a list or array of labels (e.g. ['avocado', 'banana']\n",
    "        \n",
    "            Slices of objects with labels (e.g. 'avocado':'banana'), unlike normal python slicing operations both the start and stop are included however.\n",
    "        \n",
    "            A boolean array\n",
    "        \n",
    "            A callable function with a single argument the yields a valid indexing output from the above list.\n",
    "\n",
    "    .iloc() is primarily a integer position based (0 to len(-1)) but also accepts boolean arrays. When an indexer is out of bounds .iloc() will raise an IndexError barring a slice indexer which can use out-of-bounds indexers. Valid inputs include:\n",
    "            \n",
    "            An integer (e.g.9)\n",
    "            \n",
    "            A list or array of integers (e.g. [3, 6, 2])\n",
    "            \n",
    "            A slice object with ints (e.g. 0:3)\n",
    "            \n",
    "            A boolean array\n",
    "            \n",
    "            Or a callable function with a single argument the yields a valid indexing output from the above list.\n",
    "            \n",
    "    .loc(), .iloc(), and [] all accept callable functions as indexers\n",
    "\n",
    "When working will multiple axes, the following notation appplies. Null slices (':') can be used fpr any accesor but can also be left out (e.g. df.loc['b'] == df.loc['b', :, :]).\n",
    "\n",
    "For a series object the format is s.loc[indexer].\n",
    "For a DataFrame object the format is df.loc[row_indexer, column_indexer]\n",
    "For a Panel object the format is p.loc[item_indexer, major_indexer, minor_indexer]"
   ]
  },
  {
   "cell_type": "markdown",
   "metadata": {},
   "source": [
    "# Basics\n",
    "\n",
    "The primary function of slicing with [] notation is to select lower dimensiional slices.\n",
    "    for a series, series[label] returns a scalar value\n",
    "    \n",
    "    for a dataframe, df[colname], returns a series matching the colname\n",
    "    \n",
    "    for a panel, panel[itemname], returns a dataframe matching the itemname"
   ]
  },
  {
   "cell_type": "code",
   "execution_count": 2,
   "metadata": {},
   "outputs": [],
   "source": [
    "#importing modules\n",
    "import numpy as np\n",
    "import pandas as pd\n",
    "import matplotlib.pyplot as plt"
   ]
  },
  {
   "cell_type": "code",
   "execution_count": 6,
   "metadata": {},
   "outputs": [
    {
     "data": {
      "text/html": [
       "<div>\n",
       "<style scoped>\n",
       "    .dataframe tbody tr th:only-of-type {\n",
       "        vertical-align: middle;\n",
       "    }\n",
       "\n",
       "    .dataframe tbody tr th {\n",
       "        vertical-align: top;\n",
       "    }\n",
       "\n",
       "    .dataframe thead th {\n",
       "        text-align: right;\n",
       "    }\n",
       "</style>\n",
       "<table border=\"1\" class=\"dataframe\">\n",
       "  <thead>\n",
       "    <tr style=\"text-align: right;\">\n",
       "      <th></th>\n",
       "      <th>happy</th>\n",
       "      <th>sad</th>\n",
       "      <th>angry</th>\n",
       "    </tr>\n",
       "  </thead>\n",
       "  <tbody>\n",
       "    <tr>\n",
       "      <th>a</th>\n",
       "      <td>1.467524</td>\n",
       "      <td>-1.399923</td>\n",
       "      <td>0.060172</td>\n",
       "    </tr>\n",
       "    <tr>\n",
       "      <th>b</th>\n",
       "      <td>0.427773</td>\n",
       "      <td>0.292764</td>\n",
       "      <td>-0.038432</td>\n",
       "    </tr>\n",
       "    <tr>\n",
       "      <th>c</th>\n",
       "      <td>1.352089</td>\n",
       "      <td>1.518014</td>\n",
       "      <td>-0.424001</td>\n",
       "    </tr>\n",
       "    <tr>\n",
       "      <th>d</th>\n",
       "      <td>-0.650626</td>\n",
       "      <td>0.773246</td>\n",
       "      <td>0.495996</td>\n",
       "    </tr>\n",
       "    <tr>\n",
       "      <th>e</th>\n",
       "      <td>-0.831730</td>\n",
       "      <td>-0.416825</td>\n",
       "      <td>0.397891</td>\n",
       "    </tr>\n",
       "  </tbody>\n",
       "</table>\n",
       "</div>"
      ],
      "text/plain": [
       "      happy       sad     angry\n",
       "a  1.467524 -1.399923  0.060172\n",
       "b  0.427773  0.292764 -0.038432\n",
       "c  1.352089  1.518014 -0.424001\n",
       "d -0.650626  0.773246  0.495996\n",
       "e -0.831730 -0.416825  0.397891"
      ]
     },
     "execution_count": 6,
     "metadata": {},
     "output_type": "execute_result"
    }
   ],
   "source": [
    "#constructing a simple dataframe to work with\n",
    "index = list('abcde')\n",
    "df = pd.DataFrame(np.random.randn(5, 3), index = index, columns = ['happy', 'sad', 'angry'])\n",
    "df"
   ]
  },
  {
   "cell_type": "code",
   "execution_count": 7,
   "metadata": {},
   "outputs": [
    {
     "data": {
      "text/plain": [
       "<class 'pandas.core.panel.Panel'>\n",
       "Dimensions: 2 (items) x 5 (major_axis) x 3 (minor_axis)\n",
       "Items axis: alpha to beta\n",
       "Major_axis axis: a to e\n",
       "Minor_axis axis: happy to angry"
      ]
     },
     "execution_count": 7,
     "metadata": {},
     "output_type": "execute_result"
    }
   ],
   "source": [
    "#constructing a panel\n",
    "panel = pd.Panel({'alpha': df, 'beta' : df - df['angry'].mean()})\n",
    "panel"
   ]
  },
  {
   "cell_type": "code",
   "execution_count": 8,
   "metadata": {},
   "outputs": [
    {
     "data": {
      "text/plain": [
       "c    1.253764\n",
       "d   -0.748951\n",
       "Name: happy, dtype: float64"
      ]
     },
     "execution_count": 8,
     "metadata": {},
     "output_type": "execute_result"
    }
   ],
   "source": [
    "#selecting a scalar index from a series from a datframe from a panel\n",
    "df1 = panel['beta']\n",
    "s = df1['happy']\n",
    "s[2:4]"
   ]
  },
  {
   "cell_type": "code",
   "execution_count": 9,
   "metadata": {},
   "outputs": [
    {
     "data": {
      "text/html": [
       "<div>\n",
       "<style scoped>\n",
       "    .dataframe tbody tr th:only-of-type {\n",
       "        vertical-align: middle;\n",
       "    }\n",
       "\n",
       "    .dataframe tbody tr th {\n",
       "        vertical-align: top;\n",
       "    }\n",
       "\n",
       "    .dataframe thead th {\n",
       "        text-align: right;\n",
       "    }\n",
       "</style>\n",
       "<table border=\"1\" class=\"dataframe\">\n",
       "  <thead>\n",
       "    <tr style=\"text-align: right;\">\n",
       "      <th></th>\n",
       "      <th>angry</th>\n",
       "      <th>sad</th>\n",
       "    </tr>\n",
       "  </thead>\n",
       "  <tbody>\n",
       "    <tr>\n",
       "      <th>a</th>\n",
       "      <td>0.060172</td>\n",
       "      <td>-1.399923</td>\n",
       "    </tr>\n",
       "    <tr>\n",
       "      <th>b</th>\n",
       "      <td>-0.038432</td>\n",
       "      <td>0.292764</td>\n",
       "    </tr>\n",
       "    <tr>\n",
       "      <th>c</th>\n",
       "      <td>-0.424001</td>\n",
       "      <td>1.518014</td>\n",
       "    </tr>\n",
       "  </tbody>\n",
       "</table>\n",
       "</div>"
      ],
      "text/plain": [
       "      angry       sad\n",
       "a  0.060172 -1.399923\n",
       "b -0.038432  0.292764\n",
       "c -0.424001  1.518014"
      ]
     },
     "execution_count": 9,
     "metadata": {},
     "output_type": "execute_result"
    }
   ],
   "source": [
    "#we can also select multiple columns by passing in a list using [[]].\n",
    "s = df[['angry', 'sad']]\n",
    "s[0:3]"
   ]
  },
  {
   "cell_type": "markdown",
   "metadata": {},
   "source": [
    "This same process can also be used to set multiple columns."
   ]
  },
  {
   "cell_type": "code",
   "execution_count": 10,
   "metadata": {},
   "outputs": [
    {
     "data": {
      "text/html": [
       "<div>\n",
       "<style scoped>\n",
       "    .dataframe tbody tr th:only-of-type {\n",
       "        vertical-align: middle;\n",
       "    }\n",
       "\n",
       "    .dataframe tbody tr th {\n",
       "        vertical-align: top;\n",
       "    }\n",
       "\n",
       "    .dataframe thead th {\n",
       "        text-align: right;\n",
       "    }\n",
       "</style>\n",
       "<table border=\"1\" class=\"dataframe\">\n",
       "  <thead>\n",
       "    <tr style=\"text-align: right;\">\n",
       "      <th></th>\n",
       "      <th>happy</th>\n",
       "      <th>sad</th>\n",
       "      <th>angry</th>\n",
       "    </tr>\n",
       "  </thead>\n",
       "  <tbody>\n",
       "    <tr>\n",
       "      <th>a</th>\n",
       "      <td>1.467524</td>\n",
       "      <td>-1.498248</td>\n",
       "      <td>-0.038153</td>\n",
       "    </tr>\n",
       "    <tr>\n",
       "      <th>b</th>\n",
       "      <td>0.427773</td>\n",
       "      <td>0.194439</td>\n",
       "      <td>-0.136757</td>\n",
       "    </tr>\n",
       "    <tr>\n",
       "      <th>c</th>\n",
       "      <td>1.352089</td>\n",
       "      <td>1.419689</td>\n",
       "      <td>-0.522326</td>\n",
       "    </tr>\n",
       "    <tr>\n",
       "      <th>d</th>\n",
       "      <td>-0.650626</td>\n",
       "      <td>0.674921</td>\n",
       "      <td>0.397671</td>\n",
       "    </tr>\n",
       "    <tr>\n",
       "      <th>e</th>\n",
       "      <td>-0.831730</td>\n",
       "      <td>-0.515150</td>\n",
       "      <td>0.299566</td>\n",
       "    </tr>\n",
       "  </tbody>\n",
       "</table>\n",
       "</div>"
      ],
      "text/plain": [
       "      happy       sad     angry\n",
       "a  1.467524 -1.498248 -0.038153\n",
       "b  0.427773  0.194439 -0.136757\n",
       "c  1.352089  1.419689 -0.522326\n",
       "d -0.650626  0.674921  0.397671\n",
       "e -0.831730 -0.515150  0.299566"
      ]
     },
     "execution_count": 10,
     "metadata": {},
     "output_type": "execute_result"
    }
   ],
   "source": [
    "df[['sad', 'angry']] = df1[['sad', 'angry']]\n",
    "df"
   ]
  },
  {
   "cell_type": "markdown",
   "metadata": {},
   "source": [
    "This might be useful for applying in-place transformations to a subset of columns. However, it is important to note that pandas aligns all axes when setting Series and Dataframe objects using .loc and .iloc.\n",
    "\n",
    "The following fails to modify the df because column alignment preceeds value assignment."
   ]
  },
  {
   "cell_type": "code",
   "execution_count": 11,
   "metadata": {},
   "outputs": [
    {
     "data": {
      "text/html": [
       "<div>\n",
       "<style scoped>\n",
       "    .dataframe tbody tr th:only-of-type {\n",
       "        vertical-align: middle;\n",
       "    }\n",
       "\n",
       "    .dataframe tbody tr th {\n",
       "        vertical-align: top;\n",
       "    }\n",
       "\n",
       "    .dataframe thead th {\n",
       "        text-align: right;\n",
       "    }\n",
       "</style>\n",
       "<table border=\"1\" class=\"dataframe\">\n",
       "  <thead>\n",
       "    <tr style=\"text-align: right;\">\n",
       "      <th></th>\n",
       "      <th>happy</th>\n",
       "      <th>sad</th>\n",
       "      <th>angry</th>\n",
       "    </tr>\n",
       "  </thead>\n",
       "  <tbody>\n",
       "    <tr>\n",
       "      <th>a</th>\n",
       "      <td>1.467524</td>\n",
       "      <td>-1.498248</td>\n",
       "      <td>-0.038153</td>\n",
       "    </tr>\n",
       "    <tr>\n",
       "      <th>b</th>\n",
       "      <td>0.427773</td>\n",
       "      <td>0.194439</td>\n",
       "      <td>-0.136757</td>\n",
       "    </tr>\n",
       "    <tr>\n",
       "      <th>c</th>\n",
       "      <td>1.352089</td>\n",
       "      <td>1.419689</td>\n",
       "      <td>-0.522326</td>\n",
       "    </tr>\n",
       "    <tr>\n",
       "      <th>d</th>\n",
       "      <td>-0.650626</td>\n",
       "      <td>0.674921</td>\n",
       "      <td>0.397671</td>\n",
       "    </tr>\n",
       "    <tr>\n",
       "      <th>e</th>\n",
       "      <td>-0.831730</td>\n",
       "      <td>-0.515150</td>\n",
       "      <td>0.299566</td>\n",
       "    </tr>\n",
       "  </tbody>\n",
       "</table>\n",
       "</div>"
      ],
      "text/plain": [
       "      happy       sad     angry\n",
       "a  1.467524 -1.498248 -0.038153\n",
       "b  0.427773  0.194439 -0.136757\n",
       "c  1.352089  1.419689 -0.522326\n",
       "d -0.650626  0.674921  0.397671\n",
       "e -0.831730 -0.515150  0.299566"
      ]
     },
     "execution_count": 11,
     "metadata": {},
     "output_type": "execute_result"
    }
   ],
   "source": [
    "#incorrect method\n",
    "df.loc[:, ['sad', 'angry']] = df[['angry', 'sad']]\n",
    "df"
   ]
  },
  {
   "cell_type": "markdown",
   "metadata": {},
   "source": [
    "The correct method uses the raw values as follows"
   ]
  },
  {
   "cell_type": "code",
   "execution_count": 12,
   "metadata": {},
   "outputs": [
    {
     "data": {
      "text/html": [
       "<div>\n",
       "<style scoped>\n",
       "    .dataframe tbody tr th:only-of-type {\n",
       "        vertical-align: middle;\n",
       "    }\n",
       "\n",
       "    .dataframe tbody tr th {\n",
       "        vertical-align: top;\n",
       "    }\n",
       "\n",
       "    .dataframe thead th {\n",
       "        text-align: right;\n",
       "    }\n",
       "</style>\n",
       "<table border=\"1\" class=\"dataframe\">\n",
       "  <thead>\n",
       "    <tr style=\"text-align: right;\">\n",
       "      <th></th>\n",
       "      <th>happy</th>\n",
       "      <th>sad</th>\n",
       "      <th>angry</th>\n",
       "    </tr>\n",
       "  </thead>\n",
       "  <tbody>\n",
       "    <tr>\n",
       "      <th>a</th>\n",
       "      <td>1.467524</td>\n",
       "      <td>-0.038153</td>\n",
       "      <td>-1.498248</td>\n",
       "    </tr>\n",
       "    <tr>\n",
       "      <th>b</th>\n",
       "      <td>0.427773</td>\n",
       "      <td>-0.136757</td>\n",
       "      <td>0.194439</td>\n",
       "    </tr>\n",
       "    <tr>\n",
       "      <th>c</th>\n",
       "      <td>1.352089</td>\n",
       "      <td>-0.522326</td>\n",
       "      <td>1.419689</td>\n",
       "    </tr>\n",
       "    <tr>\n",
       "      <th>d</th>\n",
       "      <td>-0.650626</td>\n",
       "      <td>0.397671</td>\n",
       "      <td>0.674921</td>\n",
       "    </tr>\n",
       "    <tr>\n",
       "      <th>e</th>\n",
       "      <td>-0.831730</td>\n",
       "      <td>0.299566</td>\n",
       "      <td>-0.515150</td>\n",
       "    </tr>\n",
       "  </tbody>\n",
       "</table>\n",
       "</div>"
      ],
      "text/plain": [
       "      happy       sad     angry\n",
       "a  1.467524 -0.038153 -1.498248\n",
       "b  0.427773 -0.136757  0.194439\n",
       "c  1.352089 -0.522326  1.419689\n",
       "d -0.650626  0.397671  0.674921\n",
       "e -0.831730  0.299566 -0.515150"
      ]
     },
     "execution_count": 12,
     "metadata": {},
     "output_type": "execute_result"
    }
   ],
   "source": [
    "df.loc[:, ['sad', 'angry']] = df[['angry', 'sad']].values\n",
    "df"
   ]
  },
  {
   "cell_type": "markdown",
   "metadata": {},
   "source": [
    "# Attribute Access\n",
    "\n",
    "Directly accessible attributes include an index of a series, a dataframe column, and a panel item. In the IPython environment you can also use tab completion the access these values."
   ]
  },
  {
   "cell_type": "code",
   "execution_count": 15,
   "metadata": {},
   "outputs": [
    {
     "data": {
      "text/plain": [
       "0.42777283518234194"
      ]
     },
     "execution_count": 15,
     "metadata": {},
     "output_type": "execute_result"
    }
   ],
   "source": [
    "#accesing a series attribute\n",
    "s = df['happy']\n",
    "s.b"
   ]
  },
  {
   "cell_type": "code",
   "execution_count": 16,
   "metadata": {},
   "outputs": [
    {
     "data": {
      "text/plain": [
       "a   -0.038153\n",
       "b   -0.136757\n",
       "c   -0.522326\n",
       "d    0.397671\n",
       "e    0.299566\n",
       "Name: sad, dtype: float64"
      ]
     },
     "execution_count": 16,
     "metadata": {},
     "output_type": "execute_result"
    }
   ],
   "source": [
    "#on a dataframe\n",
    "df.sad"
   ]
  },
  {
   "cell_type": "code",
   "execution_count": 17,
   "metadata": {},
   "outputs": [
    {
     "data": {
      "text/html": [
       "<div>\n",
       "<style scoped>\n",
       "    .dataframe tbody tr th:only-of-type {\n",
       "        vertical-align: middle;\n",
       "    }\n",
       "\n",
       "    .dataframe tbody tr th {\n",
       "        vertical-align: top;\n",
       "    }\n",
       "\n",
       "    .dataframe thead th {\n",
       "        text-align: right;\n",
       "    }\n",
       "</style>\n",
       "<table border=\"1\" class=\"dataframe\">\n",
       "  <thead>\n",
       "    <tr style=\"text-align: right;\">\n",
       "      <th></th>\n",
       "      <th>happy</th>\n",
       "      <th>sad</th>\n",
       "      <th>angry</th>\n",
       "    </tr>\n",
       "  </thead>\n",
       "  <tbody>\n",
       "    <tr>\n",
       "      <th>a</th>\n",
       "      <td>1.369199</td>\n",
       "      <td>-1.498248</td>\n",
       "      <td>-0.038153</td>\n",
       "    </tr>\n",
       "    <tr>\n",
       "      <th>b</th>\n",
       "      <td>0.329448</td>\n",
       "      <td>0.194439</td>\n",
       "      <td>-0.136757</td>\n",
       "    </tr>\n",
       "    <tr>\n",
       "      <th>c</th>\n",
       "      <td>1.253764</td>\n",
       "      <td>1.419689</td>\n",
       "      <td>-0.522326</td>\n",
       "    </tr>\n",
       "    <tr>\n",
       "      <th>d</th>\n",
       "      <td>-0.748951</td>\n",
       "      <td>0.674921</td>\n",
       "      <td>0.397671</td>\n",
       "    </tr>\n",
       "    <tr>\n",
       "      <th>e</th>\n",
       "      <td>-0.930055</td>\n",
       "      <td>-0.515150</td>\n",
       "      <td>0.299566</td>\n",
       "    </tr>\n",
       "  </tbody>\n",
       "</table>\n",
       "</div>"
      ],
      "text/plain": [
       "      happy       sad     angry\n",
       "a  1.369199 -1.498248 -0.038153\n",
       "b  0.329448  0.194439 -0.136757\n",
       "c  1.253764  1.419689 -0.522326\n",
       "d -0.748951  0.674921  0.397671\n",
       "e -0.930055 -0.515150  0.299566"
      ]
     },
     "execution_count": 17,
     "metadata": {},
     "output_type": "execute_result"
    }
   ],
   "source": [
    "#on a panel\n",
    "panel.beta"
   ]
  },
  {
   "cell_type": "markdown",
   "metadata": {},
   "source": [
    "we can also use this process to modify existing objects"
   ]
  },
  {
   "cell_type": "code",
   "execution_count": 18,
   "metadata": {},
   "outputs": [
    {
     "data": {
      "text/plain": [
       "2.0"
      ]
     },
     "execution_count": 18,
     "metadata": {},
     "output_type": "execute_result"
    }
   ],
   "source": [
    "#modifying a series value\n",
    "s.b = 2\n",
    "s.b"
   ]
  },
  {
   "cell_type": "code",
   "execution_count": 19,
   "metadata": {},
   "outputs": [
    {
     "data": {
      "text/html": [
       "<div>\n",
       "<style scoped>\n",
       "    .dataframe tbody tr th:only-of-type {\n",
       "        vertical-align: middle;\n",
       "    }\n",
       "\n",
       "    .dataframe tbody tr th {\n",
       "        vertical-align: top;\n",
       "    }\n",
       "\n",
       "    .dataframe thead th {\n",
       "        text-align: right;\n",
       "    }\n",
       "</style>\n",
       "<table border=\"1\" class=\"dataframe\">\n",
       "  <thead>\n",
       "    <tr style=\"text-align: right;\">\n",
       "      <th></th>\n",
       "      <th>happy</th>\n",
       "      <th>sad</th>\n",
       "      <th>angry</th>\n",
       "    </tr>\n",
       "  </thead>\n",
       "  <tbody>\n",
       "    <tr>\n",
       "      <th>a</th>\n",
       "      <td>0</td>\n",
       "      <td>-0.038153</td>\n",
       "      <td>-1.498248</td>\n",
       "    </tr>\n",
       "    <tr>\n",
       "      <th>b</th>\n",
       "      <td>1</td>\n",
       "      <td>-0.136757</td>\n",
       "      <td>0.194439</td>\n",
       "    </tr>\n",
       "    <tr>\n",
       "      <th>c</th>\n",
       "      <td>2</td>\n",
       "      <td>-0.522326</td>\n",
       "      <td>1.419689</td>\n",
       "    </tr>\n",
       "    <tr>\n",
       "      <th>d</th>\n",
       "      <td>3</td>\n",
       "      <td>0.397671</td>\n",
       "      <td>0.674921</td>\n",
       "    </tr>\n",
       "    <tr>\n",
       "      <th>e</th>\n",
       "      <td>4</td>\n",
       "      <td>0.299566</td>\n",
       "      <td>-0.515150</td>\n",
       "    </tr>\n",
       "  </tbody>\n",
       "</table>\n",
       "</div>"
      ],
      "text/plain": [
       "   happy       sad     angry\n",
       "a      0 -0.038153 -1.498248\n",
       "b      1 -0.136757  0.194439\n",
       "c      2 -0.522326  1.419689\n",
       "d      3  0.397671  0.674921\n",
       "e      4  0.299566 -0.515150"
      ]
     },
     "execution_count": 19,
     "metadata": {},
     "output_type": "execute_result"
    }
   ],
   "source": [
    "#modifying column values\n",
    "df.happy = list(range(len(df.index)))\n",
    "df"
   ]
  },
  {
   "cell_type": "code",
   "execution_count": 20,
   "metadata": {},
   "outputs": [
    {
     "data": {
      "text/html": [
       "<div>\n",
       "<style scoped>\n",
       "    .dataframe tbody tr th:only-of-type {\n",
       "        vertical-align: middle;\n",
       "    }\n",
       "\n",
       "    .dataframe tbody tr th {\n",
       "        vertical-align: top;\n",
       "    }\n",
       "\n",
       "    .dataframe thead th {\n",
       "        text-align: right;\n",
       "    }\n",
       "</style>\n",
       "<table border=\"1\" class=\"dataframe\">\n",
       "  <thead>\n",
       "    <tr style=\"text-align: right;\">\n",
       "      <th></th>\n",
       "      <th>happy</th>\n",
       "      <th>sad</th>\n",
       "      <th>angry</th>\n",
       "      <th>glad</th>\n",
       "    </tr>\n",
       "  </thead>\n",
       "  <tbody>\n",
       "    <tr>\n",
       "      <th>a</th>\n",
       "      <td>0</td>\n",
       "      <td>-0.038153</td>\n",
       "      <td>-1.498248</td>\n",
       "      <td>0.038153</td>\n",
       "    </tr>\n",
       "    <tr>\n",
       "      <th>b</th>\n",
       "      <td>1</td>\n",
       "      <td>-0.136757</td>\n",
       "      <td>0.194439</td>\n",
       "      <td>1.136757</td>\n",
       "    </tr>\n",
       "    <tr>\n",
       "      <th>c</th>\n",
       "      <td>2</td>\n",
       "      <td>-0.522326</td>\n",
       "      <td>1.419689</td>\n",
       "      <td>2.522326</td>\n",
       "    </tr>\n",
       "    <tr>\n",
       "      <th>d</th>\n",
       "      <td>3</td>\n",
       "      <td>0.397671</td>\n",
       "      <td>0.674921</td>\n",
       "      <td>2.602329</td>\n",
       "    </tr>\n",
       "    <tr>\n",
       "      <th>e</th>\n",
       "      <td>4</td>\n",
       "      <td>0.299566</td>\n",
       "      <td>-0.515150</td>\n",
       "      <td>3.700434</td>\n",
       "    </tr>\n",
       "  </tbody>\n",
       "</table>\n",
       "</div>"
      ],
      "text/plain": [
       "   happy       sad     angry      glad\n",
       "a      0 -0.038153 -1.498248  0.038153\n",
       "b      1 -0.136757  0.194439  1.136757\n",
       "c      2 -0.522326  1.419689  2.522326\n",
       "d      3  0.397671  0.674921  2.602329\n",
       "e      4  0.299566 -0.515150  3.700434"
      ]
     },
     "execution_count": 20,
     "metadata": {},
     "output_type": "execute_result"
    }
   ],
   "source": [
    "#to create a new column the notation is as follows\n",
    "df['glad'] = df.happy - df.sad\n",
    "df"
   ]
  },
  {
   "cell_type": "markdown",
   "metadata": {},
   "source": [
    "Some caveats:\n",
    "    This access only works when the index element is a valid python identifier.\n",
    "    The attribute is not available if it conflicts with an existing method name like min or max\n",
    "    It will also be unavaiable if it conflicts with the following lists: *index, major_axis, minor_axis, items, labels.*\n",
    "\n",
    "when these cases occur, standard indexing is still valid.\n",
    "\n",
    "We can also assign a dict to a row of a dataframe:"
   ]
  },
  {
   "cell_type": "code",
   "execution_count": 21,
   "metadata": {},
   "outputs": [
    {
     "data": {
      "text/html": [
       "<div>\n",
       "<style scoped>\n",
       "    .dataframe tbody tr th:only-of-type {\n",
       "        vertical-align: middle;\n",
       "    }\n",
       "\n",
       "    .dataframe tbody tr th {\n",
       "        vertical-align: top;\n",
       "    }\n",
       "\n",
       "    .dataframe thead th {\n",
       "        text-align: right;\n",
       "    }\n",
       "</style>\n",
       "<table border=\"1\" class=\"dataframe\">\n",
       "  <thead>\n",
       "    <tr style=\"text-align: right;\">\n",
       "      <th></th>\n",
       "      <th>happy</th>\n",
       "      <th>sad</th>\n",
       "      <th>angry</th>\n",
       "      <th>glad</th>\n",
       "    </tr>\n",
       "  </thead>\n",
       "  <tbody>\n",
       "    <tr>\n",
       "      <th>a</th>\n",
       "      <td>0</td>\n",
       "      <td>-0.0381534</td>\n",
       "      <td>-1.49825</td>\n",
       "      <td>0.0381534</td>\n",
       "    </tr>\n",
       "    <tr>\n",
       "      <th>b</th>\n",
       "      <td>1</td>\n",
       "      <td>-0.136757</td>\n",
       "      <td>0.194439</td>\n",
       "      <td>1.13676</td>\n",
       "    </tr>\n",
       "    <tr>\n",
       "      <th>c</th>\n",
       "      <td>2</td>\n",
       "      <td>-0.522326</td>\n",
       "      <td>1.41969</td>\n",
       "      <td>2.52233</td>\n",
       "    </tr>\n",
       "    <tr>\n",
       "      <th>d</th>\n",
       "      <td>happy</td>\n",
       "      <td>sad</td>\n",
       "      <td>angry</td>\n",
       "      <td>glad</td>\n",
       "    </tr>\n",
       "    <tr>\n",
       "      <th>e</th>\n",
       "      <td>4</td>\n",
       "      <td>0.299566</td>\n",
       "      <td>-0.51515</td>\n",
       "      <td>3.70043</td>\n",
       "    </tr>\n",
       "  </tbody>\n",
       "</table>\n",
       "</div>"
      ],
      "text/plain": [
       "   happy        sad     angry       glad\n",
       "a      0 -0.0381534  -1.49825  0.0381534\n",
       "b      1  -0.136757  0.194439    1.13676\n",
       "c      2  -0.522326   1.41969    2.52233\n",
       "d  happy        sad     angry       glad\n",
       "e      4   0.299566  -0.51515    3.70043"
      ]
     },
     "execution_count": 21,
     "metadata": {},
     "output_type": "execute_result"
    }
   ],
   "source": [
    "df.iloc[3] = {'happy':12, 'sad':13, 'angry':14, 'glad':6}\n",
    "df"
   ]
  },
  {
   "cell_type": "markdown",
   "metadata": {},
   "source": [
    "# slicing ranges\n",
    "\n",
    "This section will focus on the [] operator\n",
    "\n",
    "With a Series the [] operator uses the same syntax as when working with an ndarray."
   ]
  },
  {
   "cell_type": "code",
   "execution_count": 22,
   "metadata": {},
   "outputs": [
    {
     "data": {
      "text/plain": [
       "a    -1.49825\n",
       "b    0.194439\n",
       "c     1.41969\n",
       "Name: angry, dtype: object"
      ]
     },
     "execution_count": 22,
     "metadata": {},
     "output_type": "execute_result"
    }
   ],
   "source": [
    "# slicing out a series from df\n",
    "s = df['angry']\n",
    "#slicing a range\n",
    "s[:3]"
   ]
  },
  {
   "cell_type": "code",
   "execution_count": 23,
   "metadata": {},
   "outputs": [
    {
     "data": {
      "text/plain": [
       "a   -1.49825\n",
       "d      angry\n",
       "Name: angry, dtype: object"
      ]
     },
     "execution_count": 23,
     "metadata": {},
     "output_type": "execute_result"
    }
   ],
   "source": [
    "s[::3]"
   ]
  },
  {
   "cell_type": "code",
   "execution_count": 24,
   "metadata": {},
   "outputs": [
    {
     "data": {
      "text/plain": [
       "e   -0.51515\n",
       "c    1.41969\n",
       "a   -1.49825\n",
       "Name: angry, dtype: object"
      ]
     },
     "execution_count": 24,
     "metadata": {},
     "output_type": "execute_result"
    }
   ],
   "source": [
    "s[::-2]"
   ]
  },
  {
   "cell_type": "markdown",
   "metadata": {},
   "source": [
    "setting works the same was as well"
   ]
  },
  {
   "cell_type": "code",
   "execution_count": 29,
   "metadata": {},
   "outputs": [
    {
     "data": {
      "text/plain": [
       "a    -1.49825\n",
       "b    0.194439\n",
       "c     1.41969\n",
       "d           6\n",
       "e    -0.51515\n",
       "Name: angry, dtype: object"
      ]
     },
     "execution_count": 29,
     "metadata": {},
     "output_type": "execute_result"
    }
   ],
   "source": [
    "s2 = s.copy()\n",
    "s2[3] = 6\n",
    "s2"
   ]
  },
  {
   "cell_type": "markdown",
   "metadata": {},
   "source": [
    "Slicing for a dataframe using the [] operator slices rows."
   ]
  },
  {
   "cell_type": "code",
   "execution_count": 31,
   "metadata": {},
   "outputs": [
    {
     "data": {
      "text/html": [
       "<div>\n",
       "<style scoped>\n",
       "    .dataframe tbody tr th:only-of-type {\n",
       "        vertical-align: middle;\n",
       "    }\n",
       "\n",
       "    .dataframe tbody tr th {\n",
       "        vertical-align: top;\n",
       "    }\n",
       "\n",
       "    .dataframe thead th {\n",
       "        text-align: right;\n",
       "    }\n",
       "</style>\n",
       "<table border=\"1\" class=\"dataframe\">\n",
       "  <thead>\n",
       "    <tr style=\"text-align: right;\">\n",
       "      <th></th>\n",
       "      <th>happy</th>\n",
       "      <th>sad</th>\n",
       "      <th>angry</th>\n",
       "      <th>glad</th>\n",
       "    </tr>\n",
       "  </thead>\n",
       "  <tbody>\n",
       "    <tr>\n",
       "      <th>c</th>\n",
       "      <td>2</td>\n",
       "      <td>-0.522326</td>\n",
       "      <td>1.41969</td>\n",
       "      <td>2.52233</td>\n",
       "    </tr>\n",
       "    <tr>\n",
       "      <th>d</th>\n",
       "      <td>happy</td>\n",
       "      <td>sad</td>\n",
       "      <td>angry</td>\n",
       "      <td>glad</td>\n",
       "    </tr>\n",
       "  </tbody>\n",
       "</table>\n",
       "</div>"
      ],
      "text/plain": [
       "   happy       sad    angry     glad\n",
       "c      2 -0.522326  1.41969  2.52233\n",
       "d  happy       sad    angry     glad"
      ]
     },
     "execution_count": 31,
     "metadata": {},
     "output_type": "execute_result"
    }
   ],
   "source": [
    "#slicing rows in a dataframe\n",
    "df[2:4]"
   ]
  },
  {
   "cell_type": "markdown",
   "metadata": {},
   "source": [
    "# Selection by label\n",
    "\n",
    "This section concerns the .loc accessor and other purely label based methods.\n",
    "\n",
    "a few notes:\n",
    "    chained assignment should be avoided\n",
    "    slicers must be compatible or convertible with the index type or they will raise a type error (e.g. tryin to slice a datetime index with integers will raise this error)\n",
    "    \n",
    "To reiterate a few points. Purely label based indexing in pandas is a strict inclusion protocol. Slices must include the start bound and stop bound when present in the index. Integers, in this case, refer to labels and not positions.\n",
    "\n",
    "The.loc method is the primary attribute used to do this. valid inputs include the following:\n",
    "    a single label\n",
    "    \n",
    "    a list or array of labels\n",
    "    \n",
    "    a slice object with labels 'start':'finish'\n",
    "    \n",
    "    a boolean array\n",
    "    \n",
    "    a callable function"
   ]
  },
  {
   "cell_type": "code",
   "execution_count": 44,
   "metadata": {},
   "outputs": [
    {
     "data": {
      "text/html": [
       "<div>\n",
       "<style scoped>\n",
       "    .dataframe tbody tr th:only-of-type {\n",
       "        vertical-align: middle;\n",
       "    }\n",
       "\n",
       "    .dataframe tbody tr th {\n",
       "        vertical-align: top;\n",
       "    }\n",
       "\n",
       "    .dataframe thead th {\n",
       "        text-align: right;\n",
       "    }\n",
       "</style>\n",
       "<table border=\"1\" class=\"dataframe\">\n",
       "  <thead>\n",
       "    <tr style=\"text-align: right;\">\n",
       "      <th></th>\n",
       "      <th>1</th>\n",
       "      <th>2</th>\n",
       "      <th>3</th>\n",
       "      <th>4</th>\n",
       "      <th>5</th>\n",
       "      <th>6</th>\n",
       "    </tr>\n",
       "  </thead>\n",
       "  <tbody>\n",
       "    <tr>\n",
       "      <th>a</th>\n",
       "      <td>0.622585</td>\n",
       "      <td>-0.583078</td>\n",
       "      <td>0.041826</td>\n",
       "      <td>-0.364183</td>\n",
       "      <td>0.063753</td>\n",
       "      <td>-0.460983</td>\n",
       "    </tr>\n",
       "    <tr>\n",
       "      <th>b</th>\n",
       "      <td>0.153781</td>\n",
       "      <td>0.232202</td>\n",
       "      <td>-0.201869</td>\n",
       "      <td>-0.266980</td>\n",
       "      <td>-0.006292</td>\n",
       "      <td>-1.996154</td>\n",
       "    </tr>\n",
       "    <tr>\n",
       "      <th>c</th>\n",
       "      <td>0.131929</td>\n",
       "      <td>0.515535</td>\n",
       "      <td>0.260445</td>\n",
       "      <td>1.100241</td>\n",
       "      <td>0.495811</td>\n",
       "      <td>0.104446</td>\n",
       "    </tr>\n",
       "    <tr>\n",
       "      <th>d</th>\n",
       "      <td>-0.542233</td>\n",
       "      <td>0.449143</td>\n",
       "      <td>0.774571</td>\n",
       "      <td>0.496205</td>\n",
       "      <td>0.783260</td>\n",
       "      <td>-0.134026</td>\n",
       "    </tr>\n",
       "    <tr>\n",
       "      <th>e</th>\n",
       "      <td>-1.208442</td>\n",
       "      <td>-0.067473</td>\n",
       "      <td>0.615567</td>\n",
       "      <td>-0.960694</td>\n",
       "      <td>0.673328</td>\n",
       "      <td>-0.067205</td>\n",
       "    </tr>\n",
       "    <tr>\n",
       "      <th>f</th>\n",
       "      <td>0.155598</td>\n",
       "      <td>-0.495639</td>\n",
       "      <td>0.340753</td>\n",
       "      <td>-0.248018</td>\n",
       "      <td>1.448017</td>\n",
       "      <td>-2.790511</td>\n",
       "    </tr>\n",
       "  </tbody>\n",
       "</table>\n",
       "</div>"
      ],
      "text/plain": [
       "          1         2         3         4         5         6\n",
       "a  0.622585 -0.583078  0.041826 -0.364183  0.063753 -0.460983\n",
       "b  0.153781  0.232202 -0.201869 -0.266980 -0.006292 -1.996154\n",
       "c  0.131929  0.515535  0.260445  1.100241  0.495811  0.104446\n",
       "d -0.542233  0.449143  0.774571  0.496205  0.783260 -0.134026\n",
       "e -1.208442 -0.067473  0.615567 -0.960694  0.673328 -0.067205\n",
       "f  0.155598 -0.495639  0.340753 -0.248018  1.448017 -2.790511"
      ]
     },
     "execution_count": 44,
     "metadata": {},
     "output_type": "execute_result"
    }
   ],
   "source": [
    "# generating a new dataframe to work with\n",
    "df = pd.DataFrame(np.random.randn(6, 6), index = list('abcdef'), columns = [1, 2, 3, 4, 5, 6])\n",
    "df"
   ]
  },
  {
   "cell_type": "code",
   "execution_count": 45,
   "metadata": {},
   "outputs": [
    {
     "data": {
      "text/plain": [
       "a    0.622585\n",
       "b    0.153781\n",
       "c    0.131929\n",
       "Name: 1, dtype: float64"
      ]
     },
     "execution_count": 45,
     "metadata": {},
     "output_type": "execute_result"
    }
   ],
   "source": [
    "#selecting rows based on a series label within a dataframe\n",
    "df[1].loc['a':'c']"
   ]
  },
  {
   "cell_type": "code",
   "execution_count": 46,
   "metadata": {},
   "outputs": [
    {
     "data": {
      "text/html": [
       "<div>\n",
       "<style scoped>\n",
       "    .dataframe tbody tr th:only-of-type {\n",
       "        vertical-align: middle;\n",
       "    }\n",
       "\n",
       "    .dataframe tbody tr th {\n",
       "        vertical-align: top;\n",
       "    }\n",
       "\n",
       "    .dataframe thead th {\n",
       "        text-align: right;\n",
       "    }\n",
       "</style>\n",
       "<table border=\"1\" class=\"dataframe\">\n",
       "  <thead>\n",
       "    <tr style=\"text-align: right;\">\n",
       "      <th></th>\n",
       "      <th>1</th>\n",
       "      <th>2</th>\n",
       "      <th>3</th>\n",
       "      <th>4</th>\n",
       "      <th>5</th>\n",
       "      <th>6</th>\n",
       "    </tr>\n",
       "  </thead>\n",
       "  <tbody>\n",
       "    <tr>\n",
       "      <th>a</th>\n",
       "      <td>NaN</td>\n",
       "      <td>-0.583078</td>\n",
       "      <td>0.041826</td>\n",
       "      <td>-0.364183</td>\n",
       "      <td>0.063753</td>\n",
       "      <td>-0.460983</td>\n",
       "    </tr>\n",
       "    <tr>\n",
       "      <th>b</th>\n",
       "      <td>0.153781</td>\n",
       "      <td>0.232202</td>\n",
       "      <td>-0.201869</td>\n",
       "      <td>-0.266980</td>\n",
       "      <td>-0.006292</td>\n",
       "      <td>-1.996154</td>\n",
       "    </tr>\n",
       "    <tr>\n",
       "      <th>c</th>\n",
       "      <td>0.131929</td>\n",
       "      <td>0.515535</td>\n",
       "      <td>0.260445</td>\n",
       "      <td>1.100241</td>\n",
       "      <td>0.495811</td>\n",
       "      <td>0.104446</td>\n",
       "    </tr>\n",
       "    <tr>\n",
       "      <th>d</th>\n",
       "      <td>-0.542233</td>\n",
       "      <td>0.449143</td>\n",
       "      <td>0.774571</td>\n",
       "      <td>0.496205</td>\n",
       "      <td>0.783260</td>\n",
       "      <td>-0.134026</td>\n",
       "    </tr>\n",
       "    <tr>\n",
       "      <th>e</th>\n",
       "      <td>-1.208442</td>\n",
       "      <td>-0.067473</td>\n",
       "      <td>0.615567</td>\n",
       "      <td>-0.960694</td>\n",
       "      <td>0.673328</td>\n",
       "      <td>-0.067205</td>\n",
       "    </tr>\n",
       "    <tr>\n",
       "      <th>f</th>\n",
       "      <td>0.155598</td>\n",
       "      <td>-0.495639</td>\n",
       "      <td>0.340753</td>\n",
       "      <td>-0.248018</td>\n",
       "      <td>1.448017</td>\n",
       "      <td>-2.790511</td>\n",
       "    </tr>\n",
       "  </tbody>\n",
       "</table>\n",
       "</div>"
      ],
      "text/plain": [
       "          1         2         3         4         5         6\n",
       "a       NaN -0.583078  0.041826 -0.364183  0.063753 -0.460983\n",
       "b  0.153781  0.232202 -0.201869 -0.266980 -0.006292 -1.996154\n",
       "c  0.131929  0.515535  0.260445  1.100241  0.495811  0.104446\n",
       "d -0.542233  0.449143  0.774571  0.496205  0.783260 -0.134026\n",
       "e -1.208442 -0.067473  0.615567 -0.960694  0.673328 -0.067205\n",
       "f  0.155598 -0.495639  0.340753 -0.248018  1.448017 -2.790511"
      ]
     },
     "execution_count": 46,
     "metadata": {},
     "output_type": "execute_result"
    }
   ],
   "source": [
    "#setting a series value based on label in a series within a dataframe\n",
    "df[1].loc['a'] = np.nan\n",
    "df"
   ]
  },
  {
   "cell_type": "code",
   "execution_count": 50,
   "metadata": {},
   "outputs": [
    {
     "data": {
      "text/html": [
       "<div>\n",
       "<style scoped>\n",
       "    .dataframe tbody tr th:only-of-type {\n",
       "        vertical-align: middle;\n",
       "    }\n",
       "\n",
       "    .dataframe tbody tr th {\n",
       "        vertical-align: top;\n",
       "    }\n",
       "\n",
       "    .dataframe thead th {\n",
       "        text-align: right;\n",
       "    }\n",
       "</style>\n",
       "<table border=\"1\" class=\"dataframe\">\n",
       "  <thead>\n",
       "    <tr style=\"text-align: right;\">\n",
       "      <th></th>\n",
       "      <th>1</th>\n",
       "      <th>2</th>\n",
       "      <th>3</th>\n",
       "    </tr>\n",
       "  </thead>\n",
       "  <tbody>\n",
       "    <tr>\n",
       "      <th>b</th>\n",
       "      <td>0.153781</td>\n",
       "      <td>0.232202</td>\n",
       "      <td>-0.201869</td>\n",
       "    </tr>\n",
       "    <tr>\n",
       "      <th>d</th>\n",
       "      <td>-0.542233</td>\n",
       "      <td>0.449143</td>\n",
       "      <td>0.774571</td>\n",
       "    </tr>\n",
       "    <tr>\n",
       "      <th>f</th>\n",
       "      <td>0.155598</td>\n",
       "      <td>-0.495639</td>\n",
       "      <td>0.340753</td>\n",
       "    </tr>\n",
       "  </tbody>\n",
       "</table>\n",
       "</div>"
      ],
      "text/plain": [
       "          1         2         3\n",
       "b  0.153781  0.232202 -0.201869\n",
       "d -0.542233  0.449143  0.774571\n",
       "f  0.155598 -0.495639  0.340753"
      ]
     },
     "execution_count": 50,
     "metadata": {},
     "output_type": "execute_result"
    }
   ],
   "source": [
    "#using selected rows and columns\n",
    "df.loc[['b', 'd', 'f'], 1:3]"
   ]
  },
  {
   "cell_type": "code",
   "execution_count": 51,
   "metadata": {},
   "outputs": [
    {
     "data": {
      "text/html": [
       "<div>\n",
       "<style scoped>\n",
       "    .dataframe tbody tr th:only-of-type {\n",
       "        vertical-align: middle;\n",
       "    }\n",
       "\n",
       "    .dataframe tbody tr th {\n",
       "        vertical-align: top;\n",
       "    }\n",
       "\n",
       "    .dataframe thead th {\n",
       "        text-align: right;\n",
       "    }\n",
       "</style>\n",
       "<table border=\"1\" class=\"dataframe\">\n",
       "  <thead>\n",
       "    <tr style=\"text-align: right;\">\n",
       "      <th></th>\n",
       "      <th>3</th>\n",
       "      <th>4</th>\n",
       "      <th>5</th>\n",
       "      <th>6</th>\n",
       "    </tr>\n",
       "  </thead>\n",
       "  <tbody>\n",
       "    <tr>\n",
       "      <th>c</th>\n",
       "      <td>0.260445</td>\n",
       "      <td>1.100241</td>\n",
       "      <td>0.495811</td>\n",
       "      <td>0.104446</td>\n",
       "    </tr>\n",
       "    <tr>\n",
       "      <th>d</th>\n",
       "      <td>0.774571</td>\n",
       "      <td>0.496205</td>\n",
       "      <td>0.783260</td>\n",
       "      <td>-0.134026</td>\n",
       "    </tr>\n",
       "    <tr>\n",
       "      <th>e</th>\n",
       "      <td>0.615567</td>\n",
       "      <td>-0.960694</td>\n",
       "      <td>0.673328</td>\n",
       "      <td>-0.067205</td>\n",
       "    </tr>\n",
       "    <tr>\n",
       "      <th>f</th>\n",
       "      <td>0.340753</td>\n",
       "      <td>-0.248018</td>\n",
       "      <td>1.448017</td>\n",
       "      <td>-2.790511</td>\n",
       "    </tr>\n",
       "  </tbody>\n",
       "</table>\n",
       "</div>"
      ],
      "text/plain": [
       "          3         4         5         6\n",
       "c  0.260445  1.100241  0.495811  0.104446\n",
       "d  0.774571  0.496205  0.783260 -0.134026\n",
       "e  0.615567 -0.960694  0.673328 -0.067205\n",
       "f  0.340753 -0.248018  1.448017 -2.790511"
      ]
     },
     "execution_count": 51,
     "metadata": {},
     "output_type": "execute_result"
    }
   ],
   "source": [
    "#using label slices\n",
    "df.loc['c':'f', 3:6]"
   ]
  },
  {
   "cell_type": "code",
   "execution_count": 52,
   "metadata": {},
   "outputs": [
    {
     "data": {
      "text/plain": [
       "1   -1.208442\n",
       "2   -0.067473\n",
       "3    0.615567\n",
       "4   -0.960694\n",
       "5    0.673328\n",
       "6   -0.067205\n",
       "Name: e, dtype: float64"
      ]
     },
     "execution_count": 52,
     "metadata": {},
     "output_type": "execute_result"
    }
   ],
   "source": [
    "#cross section with a label\n",
    "df.loc['e']"
   ]
  },
  {
   "cell_type": "code",
   "execution_count": 56,
   "metadata": {},
   "outputs": [
    {
     "data": {
      "text/html": [
       "<div>\n",
       "<style scoped>\n",
       "    .dataframe tbody tr th:only-of-type {\n",
       "        vertical-align: middle;\n",
       "    }\n",
       "\n",
       "    .dataframe tbody tr th {\n",
       "        vertical-align: top;\n",
       "    }\n",
       "\n",
       "    .dataframe thead th {\n",
       "        text-align: right;\n",
       "    }\n",
       "</style>\n",
       "<table border=\"1\" class=\"dataframe\">\n",
       "  <thead>\n",
       "    <tr style=\"text-align: right;\">\n",
       "      <th></th>\n",
       "      <th>1</th>\n",
       "      <th>2</th>\n",
       "      <th>3</th>\n",
       "      <th>4</th>\n",
       "    </tr>\n",
       "  </thead>\n",
       "  <tbody>\n",
       "    <tr>\n",
       "      <th>a</th>\n",
       "      <td>False</td>\n",
       "      <td>True</td>\n",
       "      <td>True</td>\n",
       "      <td>True</td>\n",
       "    </tr>\n",
       "    <tr>\n",
       "      <th>b</th>\n",
       "      <td>True</td>\n",
       "      <td>True</td>\n",
       "      <td>True</td>\n",
       "      <td>True</td>\n",
       "    </tr>\n",
       "    <tr>\n",
       "      <th>c</th>\n",
       "      <td>True</td>\n",
       "      <td>True</td>\n",
       "      <td>True</td>\n",
       "      <td>False</td>\n",
       "    </tr>\n",
       "  </tbody>\n",
       "</table>\n",
       "</div>"
      ],
      "text/plain": [
       "       1     2     3      4\n",
       "a  False  True  True   True\n",
       "b   True  True  True   True\n",
       "c   True  True  True  False"
      ]
     },
     "execution_count": 56,
     "metadata": {},
     "output_type": "execute_result"
    }
   ],
   "source": [
    "#using a boolean array\n",
    "df.loc['a':'c', 1:4] <1"
   ]
  },
  {
   "cell_type": "code",
   "execution_count": 57,
   "metadata": {},
   "outputs": [
    {
     "data": {
      "text/plain": [
       "-0.2018694749875987"
      ]
     },
     "execution_count": 57,
     "metadata": {},
     "output_type": "execute_result"
    }
   ],
   "source": [
    "#for grabbing a value explicitly, equivalent to \"df.at['a', '1']\n",
    "df.loc['b', 3]"
   ]
  },
  {
   "cell_type": "markdown",
   "metadata": {},
   "source": [
    "# slicing with labels\n",
    "\n",
    "Slicing using the .loc accessor returns the elements inbetween and including the start and stop labels when they are both present in the index."
   ]
  },
  {
   "cell_type": "code",
   "execution_count": 58,
   "metadata": {},
   "outputs": [
    {
     "data": {
      "text/plain": [
       "a         NaN\n",
       "b    0.153781\n",
       "c    0.131929\n",
       "d   -0.542233\n",
       "e   -1.208442\n",
       "f    0.155598\n",
       "Name: 1, dtype: float64"
      ]
     },
     "execution_count": 58,
     "metadata": {},
     "output_type": "execute_result"
    }
   ],
   "source": [
    "s = df[1]\n",
    "s"
   ]
  },
  {
   "cell_type": "code",
   "execution_count": 59,
   "metadata": {},
   "outputs": [
    {
     "data": {
      "text/plain": [
       "b    0.153781\n",
       "c    0.131929\n",
       "d   -0.542233\n",
       "e   -1.208442\n",
       "Name: 1, dtype: float64"
      ]
     },
     "execution_count": 59,
     "metadata": {},
     "output_type": "execute_result"
    }
   ],
   "source": [
    "#slicing a series\n",
    "s.loc['b':'e']"
   ]
  },
  {
   "cell_type": "markdown",
   "metadata": {},
   "source": [
    "In the case where one of the two elements is missing but the index is sorted. Slicing will still work by selecting the labels ranked between the two."
   ]
  },
  {
   "cell_type": "code",
   "execution_count": 61,
   "metadata": {},
   "outputs": [
    {
     "data": {
      "text/plain": [
       "d   -0.542233\n",
       "e   -1.208442\n",
       "f    0.155598\n",
       "Name: 1, dtype: float64"
      ]
     },
     "execution_count": 61,
     "metadata": {},
     "output_type": "execute_result"
    }
   ],
   "source": [
    "s.sort_index().loc['d':'g']"
   ]
  },
  {
   "cell_type": "markdown",
   "metadata": {},
   "source": [
    "In this same case when the index is not sorted an error will be raised instead. aka, don't do the thing.\n",
    "\n",
    "# Selecting by Position\n",
    "\n",
    "Chained assingment should be avoided\n",
    "\n",
    "Purely integer based indexing is available in pandas with a number of methods. All methods are 0 based, start bound is included stop bound is excluded. Using anything but an integer will raise and IndexError.\n",
    "\n",
    ".iloc is the primary method with the following valid inputs\n",
    "    an integer\n",
    "    a list or array of integers\n",
    "    a slice object with ints"
   ]
  },
  {
   "cell_type": "code",
   "execution_count": 3,
   "metadata": {},
   "outputs": [
    {
     "data": {
      "text/plain": [
       "0     0.366016\n",
       "3    -1.222416\n",
       "6     0.098190\n",
       "9     1.189658\n",
       "12    0.382180\n",
       "15   -0.222200\n",
       "dtype: float64"
      ]
     },
     "execution_count": 3,
     "metadata": {},
     "output_type": "execute_result"
    }
   ],
   "source": [
    "# creating a new series to work with\n",
    "s = pd.Series(np.random.randn(6), index = list(range(0, 18, 3)))\n",
    "s"
   ]
  },
  {
   "cell_type": "code",
   "execution_count": 5,
   "metadata": {},
   "outputs": [
    {
     "data": {
      "text/plain": [
       "0.09819001339857099"
      ]
     },
     "execution_count": 5,
     "metadata": {},
     "output_type": "execute_result"
    }
   ],
   "source": [
    "#grabbing the third value (integer position 2 in this case)\n",
    "s.iloc[2]"
   ]
  },
  {
   "cell_type": "code",
   "execution_count": 6,
   "metadata": {},
   "outputs": [
    {
     "data": {
      "text/plain": [
       "6    0.098190\n",
       "9    1.189658\n",
       "dtype: float64"
      ]
     },
     "execution_count": 6,
     "metadata": {},
     "output_type": "execute_result"
    }
   ],
   "source": [
    "#grabbing a central slice\n",
    "s.iloc[2:4]"
   ]
  },
  {
   "cell_type": "code",
   "execution_count": 9,
   "metadata": {},
   "outputs": [
    {
     "data": {
      "text/plain": [
       "0     0.366016\n",
       "3    -1.222416\n",
       "6     3.000000\n",
       "9     1.189658\n",
       "12    0.382180\n",
       "15   -0.222200\n",
       "dtype: float64"
      ]
     },
     "execution_count": 9,
     "metadata": {},
     "output_type": "execute_result"
    }
   ],
   "source": [
    "#setting the value of integer position 2\n",
    "s.iloc[2] = 3\n",
    "s"
   ]
  },
  {
   "cell_type": "code",
   "execution_count": 10,
   "metadata": {},
   "outputs": [
    {
     "data": {
      "text/html": [
       "<div>\n",
       "<style scoped>\n",
       "    .dataframe tbody tr th:only-of-type {\n",
       "        vertical-align: middle;\n",
       "    }\n",
       "\n",
       "    .dataframe tbody tr th {\n",
       "        vertical-align: top;\n",
       "    }\n",
       "\n",
       "    .dataframe thead th {\n",
       "        text-align: right;\n",
       "    }\n",
       "</style>\n",
       "<table border=\"1\" class=\"dataframe\">\n",
       "  <thead>\n",
       "    <tr style=\"text-align: right;\">\n",
       "      <th></th>\n",
       "      <th>0</th>\n",
       "      <th>2</th>\n",
       "      <th>4</th>\n",
       "      <th>6</th>\n",
       "      <th>8</th>\n",
       "    </tr>\n",
       "  </thead>\n",
       "  <tbody>\n",
       "    <tr>\n",
       "      <th>0</th>\n",
       "      <td>1.389885</td>\n",
       "      <td>0.563322</td>\n",
       "      <td>-0.059504</td>\n",
       "      <td>-0.418940</td>\n",
       "      <td>-1.397282</td>\n",
       "    </tr>\n",
       "    <tr>\n",
       "      <th>4</th>\n",
       "      <td>-0.496035</td>\n",
       "      <td>-0.964505</td>\n",
       "      <td>0.286087</td>\n",
       "      <td>-0.887837</td>\n",
       "      <td>-0.079963</td>\n",
       "    </tr>\n",
       "    <tr>\n",
       "      <th>8</th>\n",
       "      <td>-0.024640</td>\n",
       "      <td>0.466169</td>\n",
       "      <td>0.648080</td>\n",
       "      <td>-1.022141</td>\n",
       "      <td>-0.604358</td>\n",
       "    </tr>\n",
       "    <tr>\n",
       "      <th>12</th>\n",
       "      <td>2.056765</td>\n",
       "      <td>0.918313</td>\n",
       "      <td>-0.386721</td>\n",
       "      <td>-0.080141</td>\n",
       "      <td>-0.527467</td>\n",
       "    </tr>\n",
       "    <tr>\n",
       "      <th>16</th>\n",
       "      <td>0.096921</td>\n",
       "      <td>0.574549</td>\n",
       "      <td>-0.367309</td>\n",
       "      <td>-2.919086</td>\n",
       "      <td>-1.905532</td>\n",
       "    </tr>\n",
       "    <tr>\n",
       "      <th>20</th>\n",
       "      <td>-0.005740</td>\n",
       "      <td>-0.911236</td>\n",
       "      <td>0.648340</td>\n",
       "      <td>-0.530138</td>\n",
       "      <td>-0.603110</td>\n",
       "    </tr>\n",
       "    <tr>\n",
       "      <th>24</th>\n",
       "      <td>-0.939329</td>\n",
       "      <td>1.673403</td>\n",
       "      <td>-1.819467</td>\n",
       "      <td>-0.082868</td>\n",
       "      <td>1.697949</td>\n",
       "    </tr>\n",
       "    <tr>\n",
       "      <th>28</th>\n",
       "      <td>0.171628</td>\n",
       "      <td>0.170172</td>\n",
       "      <td>0.804764</td>\n",
       "      <td>0.798860</td>\n",
       "      <td>0.039293</td>\n",
       "    </tr>\n",
       "    <tr>\n",
       "      <th>32</th>\n",
       "      <td>-1.531960</td>\n",
       "      <td>-1.803041</td>\n",
       "      <td>-0.354322</td>\n",
       "      <td>0.992184</td>\n",
       "      <td>1.368617</td>\n",
       "    </tr>\n",
       "    <tr>\n",
       "      <th>36</th>\n",
       "      <td>0.414384</td>\n",
       "      <td>-0.176184</td>\n",
       "      <td>-0.050200</td>\n",
       "      <td>1.521509</td>\n",
       "      <td>-0.250517</td>\n",
       "    </tr>\n",
       "  </tbody>\n",
       "</table>\n",
       "</div>"
      ],
      "text/plain": [
       "           0         2         4         6         8\n",
       "0   1.389885  0.563322 -0.059504 -0.418940 -1.397282\n",
       "4  -0.496035 -0.964505  0.286087 -0.887837 -0.079963\n",
       "8  -0.024640  0.466169  0.648080 -1.022141 -0.604358\n",
       "12  2.056765  0.918313 -0.386721 -0.080141 -0.527467\n",
       "16  0.096921  0.574549 -0.367309 -2.919086 -1.905532\n",
       "20 -0.005740 -0.911236  0.648340 -0.530138 -0.603110\n",
       "24 -0.939329  1.673403 -1.819467 -0.082868  1.697949\n",
       "28  0.171628  0.170172  0.804764  0.798860  0.039293\n",
       "32 -1.531960 -1.803041 -0.354322  0.992184  1.368617\n",
       "36  0.414384 -0.176184 -0.050200  1.521509 -0.250517"
      ]
     },
     "execution_count": 10,
     "metadata": {},
     "output_type": "execute_result"
    }
   ],
   "source": [
    "#generating a new dataframe to work with\n",
    "df = pd.DataFrame(np.random.randn(10, 5), index = list(range(0, 40, 4)), columns = list(range(0, 10, 2)))\n",
    "df"
   ]
  },
  {
   "cell_type": "code",
   "execution_count": 11,
   "metadata": {},
   "outputs": [
    {
     "data": {
      "text/html": [
       "<div>\n",
       "<style scoped>\n",
       "    .dataframe tbody tr th:only-of-type {\n",
       "        vertical-align: middle;\n",
       "    }\n",
       "\n",
       "    .dataframe tbody tr th {\n",
       "        vertical-align: top;\n",
       "    }\n",
       "\n",
       "    .dataframe thead th {\n",
       "        text-align: right;\n",
       "    }\n",
       "</style>\n",
       "<table border=\"1\" class=\"dataframe\">\n",
       "  <thead>\n",
       "    <tr style=\"text-align: right;\">\n",
       "      <th></th>\n",
       "      <th>0</th>\n",
       "      <th>2</th>\n",
       "      <th>4</th>\n",
       "      <th>6</th>\n",
       "      <th>8</th>\n",
       "    </tr>\n",
       "  </thead>\n",
       "  <tbody>\n",
       "    <tr>\n",
       "      <th>0</th>\n",
       "      <td>1.389885</td>\n",
       "      <td>0.563322</td>\n",
       "      <td>-0.059504</td>\n",
       "      <td>-0.418940</td>\n",
       "      <td>-1.397282</td>\n",
       "    </tr>\n",
       "    <tr>\n",
       "      <th>4</th>\n",
       "      <td>-0.496035</td>\n",
       "      <td>-0.964505</td>\n",
       "      <td>0.286087</td>\n",
       "      <td>-0.887837</td>\n",
       "      <td>-0.079963</td>\n",
       "    </tr>\n",
       "    <tr>\n",
       "      <th>8</th>\n",
       "      <td>-0.024640</td>\n",
       "      <td>0.466169</td>\n",
       "      <td>0.648080</td>\n",
       "      <td>-1.022141</td>\n",
       "      <td>-0.604358</td>\n",
       "    </tr>\n",
       "    <tr>\n",
       "      <th>12</th>\n",
       "      <td>2.056765</td>\n",
       "      <td>0.918313</td>\n",
       "      <td>-0.386721</td>\n",
       "      <td>-0.080141</td>\n",
       "      <td>-0.527467</td>\n",
       "    </tr>\n",
       "  </tbody>\n",
       "</table>\n",
       "</div>"
      ],
      "text/plain": [
       "           0         2         4         6         8\n",
       "0   1.389885  0.563322 -0.059504 -0.418940 -1.397282\n",
       "4  -0.496035 -0.964505  0.286087 -0.887837 -0.079963\n",
       "8  -0.024640  0.466169  0.648080 -1.022141 -0.604358\n",
       "12  2.056765  0.918313 -0.386721 -0.080141 -0.527467"
      ]
     },
     "execution_count": 11,
     "metadata": {},
     "output_type": "execute_result"
    }
   ],
   "source": [
    "#using integer slicing, specifying rows\n",
    "df.iloc[:4]"
   ]
  },
  {
   "cell_type": "code",
   "execution_count": 12,
   "metadata": {},
   "outputs": [
    {
     "data": {
      "text/html": [
       "<div>\n",
       "<style scoped>\n",
       "    .dataframe tbody tr th:only-of-type {\n",
       "        vertical-align: middle;\n",
       "    }\n",
       "\n",
       "    .dataframe tbody tr th {\n",
       "        vertical-align: top;\n",
       "    }\n",
       "\n",
       "    .dataframe thead th {\n",
       "        text-align: right;\n",
       "    }\n",
       "</style>\n",
       "<table border=\"1\" class=\"dataframe\">\n",
       "  <thead>\n",
       "    <tr style=\"text-align: right;\">\n",
       "      <th></th>\n",
       "      <th>6</th>\n",
       "      <th>8</th>\n",
       "    </tr>\n",
       "  </thead>\n",
       "  <tbody>\n",
       "    <tr>\n",
       "      <th>12</th>\n",
       "      <td>-0.080141</td>\n",
       "      <td>-0.527467</td>\n",
       "    </tr>\n",
       "    <tr>\n",
       "      <th>16</th>\n",
       "      <td>-2.919086</td>\n",
       "      <td>-1.905532</td>\n",
       "    </tr>\n",
       "  </tbody>\n",
       "</table>\n",
       "</div>"
      ],
      "text/plain": [
       "           6         8\n",
       "12 -0.080141 -0.527467\n",
       "16 -2.919086 -1.905532"
      ]
     },
     "execution_count": 12,
     "metadata": {},
     "output_type": "execute_result"
    }
   ],
   "source": [
    "#using integer slicing specifying rows and columns\n",
    "df.iloc[3:5, 3:5]"
   ]
  },
  {
   "cell_type": "code",
   "execution_count": 14,
   "metadata": {},
   "outputs": [
    {
     "data": {
      "text/html": [
       "<div>\n",
       "<style scoped>\n",
       "    .dataframe tbody tr th:only-of-type {\n",
       "        vertical-align: middle;\n",
       "    }\n",
       "\n",
       "    .dataframe tbody tr th {\n",
       "        vertical-align: top;\n",
       "    }\n",
       "\n",
       "    .dataframe thead th {\n",
       "        text-align: right;\n",
       "    }\n",
       "</style>\n",
       "<table border=\"1\" class=\"dataframe\">\n",
       "  <thead>\n",
       "    <tr style=\"text-align: right;\">\n",
       "      <th></th>\n",
       "      <th>6</th>\n",
       "      <th>8</th>\n",
       "    </tr>\n",
       "  </thead>\n",
       "  <tbody>\n",
       "    <tr>\n",
       "      <th>12</th>\n",
       "      <td>-0.080141</td>\n",
       "      <td>-0.527467</td>\n",
       "    </tr>\n",
       "    <tr>\n",
       "      <th>20</th>\n",
       "      <td>-0.530138</td>\n",
       "      <td>-0.603110</td>\n",
       "    </tr>\n",
       "    <tr>\n",
       "      <th>24</th>\n",
       "      <td>-0.082868</td>\n",
       "      <td>1.697949</td>\n",
       "    </tr>\n",
       "  </tbody>\n",
       "</table>\n",
       "</div>"
      ],
      "text/plain": [
       "           6         8\n",
       "12 -0.080141 -0.527467\n",
       "20 -0.530138 -0.603110\n",
       "24 -0.082868  1.697949"
      ]
     },
     "execution_count": 14,
     "metadata": {},
     "output_type": "execute_result"
    }
   ],
   "source": [
    "#using a list of integers\n",
    "df.iloc[[3, 5, 6], [3, 4]]"
   ]
  },
  {
   "cell_type": "markdown",
   "metadata": {},
   "source": [
    "basic form for dataframes\n",
    "df.iloc[rows, columns]\n",
    "\n",
    "When a cross section is desired:"
   ]
  },
  {
   "cell_type": "code",
   "execution_count": 15,
   "metadata": {},
   "outputs": [
    {
     "data": {
      "text/plain": [
       "0    2.056765\n",
       "2    0.918313\n",
       "4   -0.386721\n",
       "6   -0.080141\n",
       "8   -0.527467\n",
       "Name: 12, dtype: float64"
      ]
     },
     "execution_count": 15,
     "metadata": {},
     "output_type": "execute_result"
    }
   ],
   "source": [
    "df.iloc[3]"
   ]
  },
  {
   "cell_type": "code",
   "execution_count": 16,
   "metadata": {},
   "outputs": [
    {
     "data": {
      "text/html": [
       "<div>\n",
       "<style scoped>\n",
       "    .dataframe tbody tr th:only-of-type {\n",
       "        vertical-align: middle;\n",
       "    }\n",
       "\n",
       "    .dataframe tbody tr th {\n",
       "        vertical-align: top;\n",
       "    }\n",
       "\n",
       "    .dataframe thead th {\n",
       "        text-align: right;\n",
       "    }\n",
       "</style>\n",
       "<table border=\"1\" class=\"dataframe\">\n",
       "  <thead>\n",
       "    <tr style=\"text-align: right;\">\n",
       "      <th></th>\n",
       "      <th>6</th>\n",
       "      <th>8</th>\n",
       "    </tr>\n",
       "  </thead>\n",
       "  <tbody>\n",
       "    <tr>\n",
       "      <th>28</th>\n",
       "      <td>0.798860</td>\n",
       "      <td>0.039293</td>\n",
       "    </tr>\n",
       "    <tr>\n",
       "      <th>32</th>\n",
       "      <td>0.992184</td>\n",
       "      <td>1.368617</td>\n",
       "    </tr>\n",
       "    <tr>\n",
       "      <th>36</th>\n",
       "      <td>1.521509</td>\n",
       "      <td>-0.250517</td>\n",
       "    </tr>\n",
       "  </tbody>\n",
       "</table>\n",
       "</div>"
      ],
      "text/plain": [
       "           6         8\n",
       "28  0.798860  0.039293\n",
       "32  0.992184  1.368617\n",
       "36  1.521509 -0.250517"
      ]
     },
     "execution_count": 16,
     "metadata": {},
     "output_type": "execute_result"
    }
   ],
   "source": [
    "#out of bounds should be handled as well\n",
    "df.iloc[7:15, 3:10]"
   ]
  },
  {
   "cell_type": "markdown",
   "metadata": {},
   "source": [
    "when slices go out of bounds they can result in an empty dataframe.\n",
    "\n",
    "when a single indexer is out of bounds an IndexError will be raised. Similarly, a list of indexers where any single element is out of bounds will also raise an IndexError"
   ]
  },
  {
   "cell_type": "markdown",
   "metadata": {},
   "source": [
    "# Selection by a callable\n",
    "\n",
    "The primary indexers (.loc, .iloc, and []) can all accept a callable function as an indexer. However, the callable MUST be a function with one argument(the data object in this case), returning a valid output for indexing."
   ]
  },
  {
   "cell_type": "code",
   "execution_count": 27,
   "metadata": {},
   "outputs": [
    {
     "data": {
      "text/html": [
       "<div>\n",
       "<style scoped>\n",
       "    .dataframe tbody tr th:only-of-type {\n",
       "        vertical-align: middle;\n",
       "    }\n",
       "\n",
       "    .dataframe tbody tr th {\n",
       "        vertical-align: top;\n",
       "    }\n",
       "\n",
       "    .dataframe thead th {\n",
       "        text-align: right;\n",
       "    }\n",
       "</style>\n",
       "<table border=\"1\" class=\"dataframe\">\n",
       "  <thead>\n",
       "    <tr style=\"text-align: right;\">\n",
       "      <th></th>\n",
       "      <th>0</th>\n",
       "      <th>2</th>\n",
       "      <th>4</th>\n",
       "      <th>6</th>\n",
       "      <th>8</th>\n",
       "    </tr>\n",
       "  </thead>\n",
       "  <tbody>\n",
       "    <tr>\n",
       "      <th>0</th>\n",
       "      <td>1.389885</td>\n",
       "      <td>0.563322</td>\n",
       "      <td>-0.059504</td>\n",
       "      <td>-0.418940</td>\n",
       "      <td>-1.397282</td>\n",
       "    </tr>\n",
       "    <tr>\n",
       "      <th>4</th>\n",
       "      <td>-0.496035</td>\n",
       "      <td>-0.964505</td>\n",
       "      <td>0.286087</td>\n",
       "      <td>-0.887837</td>\n",
       "      <td>-0.079963</td>\n",
       "    </tr>\n",
       "    <tr>\n",
       "      <th>8</th>\n",
       "      <td>-0.024640</td>\n",
       "      <td>0.466169</td>\n",
       "      <td>0.648080</td>\n",
       "      <td>-1.022141</td>\n",
       "      <td>-0.604358</td>\n",
       "    </tr>\n",
       "    <tr>\n",
       "      <th>12</th>\n",
       "      <td>2.056765</td>\n",
       "      <td>0.918313</td>\n",
       "      <td>-0.386721</td>\n",
       "      <td>-0.080141</td>\n",
       "      <td>-0.527467</td>\n",
       "    </tr>\n",
       "    <tr>\n",
       "      <th>16</th>\n",
       "      <td>0.096921</td>\n",
       "      <td>0.574549</td>\n",
       "      <td>-0.367309</td>\n",
       "      <td>-2.919086</td>\n",
       "      <td>-1.905532</td>\n",
       "    </tr>\n",
       "    <tr>\n",
       "      <th>20</th>\n",
       "      <td>-0.005740</td>\n",
       "      <td>-0.911236</td>\n",
       "      <td>0.648340</td>\n",
       "      <td>-0.530138</td>\n",
       "      <td>-0.603110</td>\n",
       "    </tr>\n",
       "    <tr>\n",
       "      <th>24</th>\n",
       "      <td>-0.939329</td>\n",
       "      <td>1.673403</td>\n",
       "      <td>-1.819467</td>\n",
       "      <td>-0.082868</td>\n",
       "      <td>1.697949</td>\n",
       "    </tr>\n",
       "    <tr>\n",
       "      <th>28</th>\n",
       "      <td>0.171628</td>\n",
       "      <td>0.170172</td>\n",
       "      <td>0.804764</td>\n",
       "      <td>0.798860</td>\n",
       "      <td>0.039293</td>\n",
       "    </tr>\n",
       "    <tr>\n",
       "      <th>36</th>\n",
       "      <td>0.414384</td>\n",
       "      <td>-0.176184</td>\n",
       "      <td>-0.050200</td>\n",
       "      <td>1.521509</td>\n",
       "      <td>-0.250517</td>\n",
       "    </tr>\n",
       "  </tbody>\n",
       "</table>\n",
       "</div>"
      ],
      "text/plain": [
       "           0         2         4         6         8\n",
       "0   1.389885  0.563322 -0.059504 -0.418940 -1.397282\n",
       "4  -0.496035 -0.964505  0.286087 -0.887837 -0.079963\n",
       "8  -0.024640  0.466169  0.648080 -1.022141 -0.604358\n",
       "12  2.056765  0.918313 -0.386721 -0.080141 -0.527467\n",
       "16  0.096921  0.574549 -0.367309 -2.919086 -1.905532\n",
       "20 -0.005740 -0.911236  0.648340 -0.530138 -0.603110\n",
       "24 -0.939329  1.673403 -1.819467 -0.082868  1.697949\n",
       "28  0.171628  0.170172  0.804764  0.798860  0.039293\n",
       "36  0.414384 -0.176184 -0.050200  1.521509 -0.250517"
      ]
     },
     "execution_count": 27,
     "metadata": {},
     "output_type": "execute_result"
    }
   ],
   "source": [
    "df.loc[lambda df: df[0] > -1]"
   ]
  },
  {
   "cell_type": "code",
   "execution_count": 31,
   "metadata": {},
   "outputs": [
    {
     "data": {
      "text/html": [
       "<div>\n",
       "<style scoped>\n",
       "    .dataframe tbody tr th:only-of-type {\n",
       "        vertical-align: middle;\n",
       "    }\n",
       "\n",
       "    .dataframe tbody tr th {\n",
       "        vertical-align: top;\n",
       "    }\n",
       "\n",
       "    .dataframe thead th {\n",
       "        text-align: right;\n",
       "    }\n",
       "</style>\n",
       "<table border=\"1\" class=\"dataframe\">\n",
       "  <thead>\n",
       "    <tr style=\"text-align: right;\">\n",
       "      <th></th>\n",
       "      <th>4</th>\n",
       "      <th>6</th>\n",
       "    </tr>\n",
       "  </thead>\n",
       "  <tbody>\n",
       "    <tr>\n",
       "      <th>0</th>\n",
       "      <td>-0.059504</td>\n",
       "      <td>-0.418940</td>\n",
       "    </tr>\n",
       "    <tr>\n",
       "      <th>4</th>\n",
       "      <td>0.286087</td>\n",
       "      <td>-0.887837</td>\n",
       "    </tr>\n",
       "    <tr>\n",
       "      <th>8</th>\n",
       "      <td>0.648080</td>\n",
       "      <td>-1.022141</td>\n",
       "    </tr>\n",
       "    <tr>\n",
       "      <th>12</th>\n",
       "      <td>-0.386721</td>\n",
       "      <td>-0.080141</td>\n",
       "    </tr>\n",
       "    <tr>\n",
       "      <th>16</th>\n",
       "      <td>-0.367309</td>\n",
       "      <td>-2.919086</td>\n",
       "    </tr>\n",
       "    <tr>\n",
       "      <th>20</th>\n",
       "      <td>0.648340</td>\n",
       "      <td>-0.530138</td>\n",
       "    </tr>\n",
       "    <tr>\n",
       "      <th>24</th>\n",
       "      <td>-1.819467</td>\n",
       "      <td>-0.082868</td>\n",
       "    </tr>\n",
       "    <tr>\n",
       "      <th>28</th>\n",
       "      <td>0.804764</td>\n",
       "      <td>0.798860</td>\n",
       "    </tr>\n",
       "    <tr>\n",
       "      <th>32</th>\n",
       "      <td>-0.354322</td>\n",
       "      <td>0.992184</td>\n",
       "    </tr>\n",
       "    <tr>\n",
       "      <th>36</th>\n",
       "      <td>-0.050200</td>\n",
       "      <td>1.521509</td>\n",
       "    </tr>\n",
       "  </tbody>\n",
       "</table>\n",
       "</div>"
      ],
      "text/plain": [
       "           4         6\n",
       "0  -0.059504 -0.418940\n",
       "4   0.286087 -0.887837\n",
       "8   0.648080 -1.022141\n",
       "12 -0.386721 -0.080141\n",
       "16 -0.367309 -2.919086\n",
       "20  0.648340 -0.530138\n",
       "24 -1.819467 -0.082868\n",
       "28  0.804764  0.798860\n",
       "32 -0.354322  0.992184\n",
       "36 -0.050200  1.521509"
      ]
     },
     "execution_count": 31,
     "metadata": {},
     "output_type": "execute_result"
    }
   ],
   "source": [
    "df.iloc[:, lambda df: [2, 3] ]"
   ]
  },
  {
   "cell_type": "code",
   "execution_count": 32,
   "metadata": {},
   "outputs": [
    {
     "data": {
      "text/html": [
       "<div>\n",
       "<style scoped>\n",
       "    .dataframe tbody tr th:only-of-type {\n",
       "        vertical-align: middle;\n",
       "    }\n",
       "\n",
       "    .dataframe tbody tr th {\n",
       "        vertical-align: top;\n",
       "    }\n",
       "\n",
       "    .dataframe thead th {\n",
       "        text-align: right;\n",
       "    }\n",
       "</style>\n",
       "<table border=\"1\" class=\"dataframe\">\n",
       "  <thead>\n",
       "    <tr style=\"text-align: right;\">\n",
       "      <th></th>\n",
       "      <th>0</th>\n",
       "      <th>2</th>\n",
       "      <th>4</th>\n",
       "    </tr>\n",
       "  </thead>\n",
       "  <tbody>\n",
       "    <tr>\n",
       "      <th>0</th>\n",
       "      <td>1.389885</td>\n",
       "      <td>0.563322</td>\n",
       "      <td>-0.059504</td>\n",
       "    </tr>\n",
       "    <tr>\n",
       "      <th>4</th>\n",
       "      <td>-0.496035</td>\n",
       "      <td>-0.964505</td>\n",
       "      <td>0.286087</td>\n",
       "    </tr>\n",
       "    <tr>\n",
       "      <th>8</th>\n",
       "      <td>-0.024640</td>\n",
       "      <td>0.466169</td>\n",
       "      <td>0.648080</td>\n",
       "    </tr>\n",
       "    <tr>\n",
       "      <th>12</th>\n",
       "      <td>2.056765</td>\n",
       "      <td>0.918313</td>\n",
       "      <td>-0.386721</td>\n",
       "    </tr>\n",
       "    <tr>\n",
       "      <th>16</th>\n",
       "      <td>0.096921</td>\n",
       "      <td>0.574549</td>\n",
       "      <td>-0.367309</td>\n",
       "    </tr>\n",
       "    <tr>\n",
       "      <th>20</th>\n",
       "      <td>-0.005740</td>\n",
       "      <td>-0.911236</td>\n",
       "      <td>0.648340</td>\n",
       "    </tr>\n",
       "    <tr>\n",
       "      <th>24</th>\n",
       "      <td>-0.939329</td>\n",
       "      <td>1.673403</td>\n",
       "      <td>-1.819467</td>\n",
       "    </tr>\n",
       "    <tr>\n",
       "      <th>28</th>\n",
       "      <td>0.171628</td>\n",
       "      <td>0.170172</td>\n",
       "      <td>0.804764</td>\n",
       "    </tr>\n",
       "    <tr>\n",
       "      <th>32</th>\n",
       "      <td>-1.531960</td>\n",
       "      <td>-1.803041</td>\n",
       "      <td>-0.354322</td>\n",
       "    </tr>\n",
       "    <tr>\n",
       "      <th>36</th>\n",
       "      <td>0.414384</td>\n",
       "      <td>-0.176184</td>\n",
       "      <td>-0.050200</td>\n",
       "    </tr>\n",
       "  </tbody>\n",
       "</table>\n",
       "</div>"
      ],
      "text/plain": [
       "           0         2         4\n",
       "0   1.389885  0.563322 -0.059504\n",
       "4  -0.496035 -0.964505  0.286087\n",
       "8  -0.024640  0.466169  0.648080\n",
       "12  2.056765  0.918313 -0.386721\n",
       "16  0.096921  0.574549 -0.367309\n",
       "20 -0.005740 -0.911236  0.648340\n",
       "24 -0.939329  1.673403 -1.819467\n",
       "28  0.171628  0.170172  0.804764\n",
       "32 -1.531960 -1.803041 -0.354322\n",
       "36  0.414384 -0.176184 -0.050200"
      ]
     },
     "execution_count": 32,
     "metadata": {},
     "output_type": "execute_result"
    }
   ],
   "source": [
    "df[lambda df: df.columns[:3]]"
   ]
  },
  {
   "cell_type": "code",
   "execution_count": 34,
   "metadata": {
    "collapsed": true
   },
   "outputs": [
    {
     "data": {
      "text/plain": [
       "6    3.000000\n",
       "9    1.189658\n",
       "dtype: float64"
      ]
     },
     "execution_count": 34,
     "metadata": {},
     "output_type": "execute_result"
    }
   ],
   "source": [
    "#callable indexing can also be used in a series\n",
    "s.loc[lambda s: s>1]"
   ]
  },
  {
   "cell_type": "markdown",
   "metadata": {},
   "source": [
    "you can avoid the use of a temporary variable by using chain data selection operations\n",
    "\n",
    "\n",
    "The following are deprecated\n",
    ".ix indexer in favor of .loc, and .iloc\n",
    "using .loc or [] with a list containing one or more missing labels in favor of .reindex()\n",
    "\n",
    "# reindexing\n",
    "\n",
    "This is the idiomatic way to select potentially not-found elements."
   ]
  },
  {
   "cell_type": "code",
   "execution_count": 39,
   "metadata": {},
   "outputs": [
    {
     "data": {
      "text/plain": [
       "0    0.366016\n",
       "3   -1.222416\n",
       "8         NaN\n",
       "dtype: float64"
      ]
     },
     "execution_count": 39,
     "metadata": {},
     "output_type": "execute_result"
    }
   ],
   "source": [
    "s.reindex([0, 3, 8])"
   ]
  },
  {
   "cell_type": "markdown",
   "metadata": {},
   "source": [
    "Another option for returing only valid keys and preserving the dtype is the following:"
   ]
  },
  {
   "cell_type": "code",
   "execution_count": 40,
   "metadata": {},
   "outputs": [
    {
     "data": {
      "text/plain": [
       "0    0.366016\n",
       "3   -1.222416\n",
       "6    3.000000\n",
       "dtype: float64"
      ]
     },
     "execution_count": 40,
     "metadata": {},
     "output_type": "execute_result"
    }
   ],
   "source": [
    "labels = [0, 3, 6]\n",
    "s.loc[s.index.intersection(labels)]"
   ]
  },
  {
   "cell_type": "markdown",
   "metadata": {},
   "source": [
    "a duplicated index will raise an error for .reindex()"
   ]
  },
  {
   "cell_type": "code",
   "execution_count": 45,
   "metadata": {},
   "outputs": [
    {
     "data": {
      "text/plain": [
       "a    0\n",
       "b    1\n",
       "dtype: int32"
      ]
     },
     "execution_count": 45,
     "metadata": {},
     "output_type": "execute_result"
    }
   ],
   "source": [
    "#generating a new series and failing to generate the the dulicated axis error\n",
    "s = pd.Series(np.arange(5), index = ['a', 'b', 'c', 'd', 'e'])\n",
    "labels = ['a', 'b']\n",
    "s.reindex(labels)"
   ]
  },
  {
   "cell_type": "markdown",
   "metadata": {},
   "source": [
    "The duplication error can be circumvented by first intersecting the desired lables and then reindexing but this will still raise an error if the resulting index is duplicated\n",
    "\n",
    "# selecting random samples"
   ]
  }
 ],
 "metadata": {
  "kernelspec": {
   "display_name": "Python 3",
   "language": "python",
   "name": "python3"
  },
  "language_info": {
   "codemirror_mode": {
    "name": "ipython",
    "version": 3
   },
   "file_extension": ".py",
   "mimetype": "text/x-python",
   "name": "python",
   "nbconvert_exporter": "python",
   "pygments_lexer": "ipython3",
   "version": "3.6.4"
  }
 },
 "nbformat": 4,
 "nbformat_minor": 2
}
