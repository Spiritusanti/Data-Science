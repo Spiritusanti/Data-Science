{
 "cells": [
  {
   "cell_type": "markdown",
   "metadata": {},
   "source": [
    "# Indexing and selecting data\n",
    "\n",
    "This section will be focused on slice subsets of series and dataframe objects. Python has built in tools to do this that while capable are not the best for the job. Pandas has optimized methods to access data reccommended for production code.\n",
    "\n",
    "# Different choices for indexing\n",
    "\n",
    "Pandas supports 3 types of multi-axis indexing:\n",
    "    .loc(), mainly for label based operations but boolean arrays are also possible with a KeyError being raised in cases when the item isn't found. Possible inputs include:\n",
    "            \n",
    "            a single label(e.g. 'avocados' or 3 which is interpreted as an index label)\n",
    "        \n",
    "            a list or array of labels (e.g. ['avocado', 'banana']\n",
    "        \n",
    "            Slices of objects with labels (e.g. 'avocado':'banana'), unlike normal python slicing operations both the start and stop are included however.\n",
    "        \n",
    "            A boolean array\n",
    "        \n",
    "            A callable function with a single argument the yields a valid indexing output from the above list.\n",
    "\n",
    "    .iloc() is primarily a integer position based (0 to len(-1)) but also accepts boolean arrays. When an indexer is out of bounds .iloc() will raise an IndexError barring a slice indexer which can use out-of-bounds indexers. Valid inputs include:\n",
    "            \n",
    "            An integer (e.g.9)\n",
    "            \n",
    "            A list or array of integers (e.g. [3, 6, 2])\n",
    "            \n",
    "            A slice object with ints (e.g. 0:3)\n",
    "            \n",
    "            A boolean array\n",
    "            \n",
    "            Or a callable function with a single argument the yields a valid indexing output from the above list.\n",
    "            \n",
    "    .loc(), .iloc(), and [] all accept callable functions as indexers\n",
    "\n",
    "When working will multiple axes, the following notation appplies. Null slices (':') can be used fpr any accesor but can also be left out (e.g. df.loc['b'] == df.loc['b', :, :]).\n",
    "\n",
    "For a series object the format is s.loc[indexer].\n",
    "For a DataFrame object the format is df.loc[row_indexer, column_indexer]\n",
    "For a Panel object the format is p.loc[item_indexer, major_indexer, minor_indexer]"
   ]
  },
  {
   "cell_type": "markdown",
   "metadata": {},
   "source": [
    "# Basics\n",
    "\n",
    "The primary function of slicing with [] notation is to select lower dimensiional slices.\n",
    "    for a series, series[label] returns a scalar value\n",
    "    \n",
    "    for a dataframe, df[colname], returns a series matching the colname\n",
    "    \n",
    "    for a panel, panel[itemname], returns a dataframe matching the itemname"
   ]
  },
  {
   "cell_type": "code",
   "execution_count": 1,
   "metadata": {},
   "outputs": [],
   "source": [
    "#importing modules\n",
    "import numpy as np\n",
    "import pandas as pd\n",
    "import matplotlib.pyplot as plt"
   ]
  },
  {
   "cell_type": "code",
   "execution_count": 2,
   "metadata": {},
   "outputs": [
    {
     "data": {
      "text/html": [
       "<div>\n",
       "<style scoped>\n",
       "    .dataframe tbody tr th:only-of-type {\n",
       "        vertical-align: middle;\n",
       "    }\n",
       "\n",
       "    .dataframe tbody tr th {\n",
       "        vertical-align: top;\n",
       "    }\n",
       "\n",
       "    .dataframe thead th {\n",
       "        text-align: right;\n",
       "    }\n",
       "</style>\n",
       "<table border=\"1\" class=\"dataframe\">\n",
       "  <thead>\n",
       "    <tr style=\"text-align: right;\">\n",
       "      <th></th>\n",
       "      <th>happy</th>\n",
       "      <th>sad</th>\n",
       "      <th>angry</th>\n",
       "    </tr>\n",
       "  </thead>\n",
       "  <tbody>\n",
       "    <tr>\n",
       "      <th>a</th>\n",
       "      <td>0.538547</td>\n",
       "      <td>-1.347968</td>\n",
       "      <td>1.850177</td>\n",
       "    </tr>\n",
       "    <tr>\n",
       "      <th>b</th>\n",
       "      <td>-0.404629</td>\n",
       "      <td>0.608098</td>\n",
       "      <td>0.432825</td>\n",
       "    </tr>\n",
       "    <tr>\n",
       "      <th>c</th>\n",
       "      <td>0.809862</td>\n",
       "      <td>0.907196</td>\n",
       "      <td>-0.473732</td>\n",
       "    </tr>\n",
       "    <tr>\n",
       "      <th>d</th>\n",
       "      <td>-0.429442</td>\n",
       "      <td>-0.487332</td>\n",
       "      <td>0.774350</td>\n",
       "    </tr>\n",
       "    <tr>\n",
       "      <th>e</th>\n",
       "      <td>0.622115</td>\n",
       "      <td>-0.375299</td>\n",
       "      <td>-0.954194</td>\n",
       "    </tr>\n",
       "  </tbody>\n",
       "</table>\n",
       "</div>"
      ],
      "text/plain": [
       "      happy       sad     angry\n",
       "a  0.538547 -1.347968  1.850177\n",
       "b -0.404629  0.608098  0.432825\n",
       "c  0.809862  0.907196 -0.473732\n",
       "d -0.429442 -0.487332  0.774350\n",
       "e  0.622115 -0.375299 -0.954194"
      ]
     },
     "execution_count": 2,
     "metadata": {},
     "output_type": "execute_result"
    }
   ],
   "source": [
    "#constructing a simple dataframe to work with\n",
    "index = list('abcde')\n",
    "df = pd.DataFrame(np.random.randn(5, 3), index = index, columns = ['happy', 'sad', 'angry'])\n",
    "df"
   ]
  },
  {
   "cell_type": "code",
   "execution_count": 3,
   "metadata": {},
   "outputs": [
    {
     "data": {
      "text/plain": [
       "<class 'pandas.core.panel.Panel'>\n",
       "Dimensions: 2 (items) x 5 (major_axis) x 3 (minor_axis)\n",
       "Items axis: alpha to beta\n",
       "Major_axis axis: a to e\n",
       "Minor_axis axis: happy to angry"
      ]
     },
     "execution_count": 3,
     "metadata": {},
     "output_type": "execute_result"
    }
   ],
   "source": [
    "#constructing a panel\n",
    "panel = pd.Panel({'alpha': df, 'beta' : df - df['angry'].mean()})\n",
    "panel"
   ]
  },
  {
   "cell_type": "code",
   "execution_count": 4,
   "metadata": {},
   "outputs": [
    {
     "data": {
      "text/plain": [
       "c    0.483977\n",
       "d   -0.755327\n",
       "Name: happy, dtype: float64"
      ]
     },
     "execution_count": 4,
     "metadata": {},
     "output_type": "execute_result"
    }
   ],
   "source": [
    "#selecting a scalar index from a series from a datframe from a panel\n",
    "df1 = panel['beta']\n",
    "s = df1['happy']\n",
    "s[2:4]"
   ]
  },
  {
   "cell_type": "code",
   "execution_count": 5,
   "metadata": {},
   "outputs": [
    {
     "data": {
      "text/html": [
       "<div>\n",
       "<style scoped>\n",
       "    .dataframe tbody tr th:only-of-type {\n",
       "        vertical-align: middle;\n",
       "    }\n",
       "\n",
       "    .dataframe tbody tr th {\n",
       "        vertical-align: top;\n",
       "    }\n",
       "\n",
       "    .dataframe thead th {\n",
       "        text-align: right;\n",
       "    }\n",
       "</style>\n",
       "<table border=\"1\" class=\"dataframe\">\n",
       "  <thead>\n",
       "    <tr style=\"text-align: right;\">\n",
       "      <th></th>\n",
       "      <th>angry</th>\n",
       "      <th>sad</th>\n",
       "    </tr>\n",
       "  </thead>\n",
       "  <tbody>\n",
       "    <tr>\n",
       "      <th>a</th>\n",
       "      <td>1.850177</td>\n",
       "      <td>-1.347968</td>\n",
       "    </tr>\n",
       "    <tr>\n",
       "      <th>b</th>\n",
       "      <td>0.432825</td>\n",
       "      <td>0.608098</td>\n",
       "    </tr>\n",
       "    <tr>\n",
       "      <th>c</th>\n",
       "      <td>-0.473732</td>\n",
       "      <td>0.907196</td>\n",
       "    </tr>\n",
       "  </tbody>\n",
       "</table>\n",
       "</div>"
      ],
      "text/plain": [
       "      angry       sad\n",
       "a  1.850177 -1.347968\n",
       "b  0.432825  0.608098\n",
       "c -0.473732  0.907196"
      ]
     },
     "execution_count": 5,
     "metadata": {},
     "output_type": "execute_result"
    }
   ],
   "source": [
    "#we can also select multiple columns by passing in a list using [[]].\n",
    "s = df[['angry', 'sad']]\n",
    "s[0:3]"
   ]
  },
  {
   "cell_type": "markdown",
   "metadata": {},
   "source": [
    "This same process can also be used to set multiple columns."
   ]
  },
  {
   "cell_type": "code",
   "execution_count": 6,
   "metadata": {},
   "outputs": [
    {
     "data": {
      "text/html": [
       "<div>\n",
       "<style scoped>\n",
       "    .dataframe tbody tr th:only-of-type {\n",
       "        vertical-align: middle;\n",
       "    }\n",
       "\n",
       "    .dataframe tbody tr th {\n",
       "        vertical-align: top;\n",
       "    }\n",
       "\n",
       "    .dataframe thead th {\n",
       "        text-align: right;\n",
       "    }\n",
       "</style>\n",
       "<table border=\"1\" class=\"dataframe\">\n",
       "  <thead>\n",
       "    <tr style=\"text-align: right;\">\n",
       "      <th></th>\n",
       "      <th>happy</th>\n",
       "      <th>sad</th>\n",
       "      <th>angry</th>\n",
       "    </tr>\n",
       "  </thead>\n",
       "  <tbody>\n",
       "    <tr>\n",
       "      <th>a</th>\n",
       "      <td>0.538547</td>\n",
       "      <td>-1.673853</td>\n",
       "      <td>1.524292</td>\n",
       "    </tr>\n",
       "    <tr>\n",
       "      <th>b</th>\n",
       "      <td>-0.404629</td>\n",
       "      <td>0.282213</td>\n",
       "      <td>0.106940</td>\n",
       "    </tr>\n",
       "    <tr>\n",
       "      <th>c</th>\n",
       "      <td>0.809862</td>\n",
       "      <td>0.581310</td>\n",
       "      <td>-0.799617</td>\n",
       "    </tr>\n",
       "    <tr>\n",
       "      <th>d</th>\n",
       "      <td>-0.429442</td>\n",
       "      <td>-0.813217</td>\n",
       "      <td>0.448465</td>\n",
       "    </tr>\n",
       "    <tr>\n",
       "      <th>e</th>\n",
       "      <td>0.622115</td>\n",
       "      <td>-0.701184</td>\n",
       "      <td>-1.280079</td>\n",
       "    </tr>\n",
       "  </tbody>\n",
       "</table>\n",
       "</div>"
      ],
      "text/plain": [
       "      happy       sad     angry\n",
       "a  0.538547 -1.673853  1.524292\n",
       "b -0.404629  0.282213  0.106940\n",
       "c  0.809862  0.581310 -0.799617\n",
       "d -0.429442 -0.813217  0.448465\n",
       "e  0.622115 -0.701184 -1.280079"
      ]
     },
     "execution_count": 6,
     "metadata": {},
     "output_type": "execute_result"
    }
   ],
   "source": [
    "df[['sad', 'angry']] = df1[['sad', 'angry']]\n",
    "df"
   ]
  },
  {
   "cell_type": "markdown",
   "metadata": {},
   "source": [
    "This might be useful for applying in-place transformations to a subset of columns. However, it is important to note that pandas aligns all axes when setting Series and Dataframe objects using .loc and .iloc.\n",
    "\n",
    "The following fails to modify the df because column alignment preceeds value assignment."
   ]
  },
  {
   "cell_type": "code",
   "execution_count": 7,
   "metadata": {},
   "outputs": [
    {
     "data": {
      "text/html": [
       "<div>\n",
       "<style scoped>\n",
       "    .dataframe tbody tr th:only-of-type {\n",
       "        vertical-align: middle;\n",
       "    }\n",
       "\n",
       "    .dataframe tbody tr th {\n",
       "        vertical-align: top;\n",
       "    }\n",
       "\n",
       "    .dataframe thead th {\n",
       "        text-align: right;\n",
       "    }\n",
       "</style>\n",
       "<table border=\"1\" class=\"dataframe\">\n",
       "  <thead>\n",
       "    <tr style=\"text-align: right;\">\n",
       "      <th></th>\n",
       "      <th>happy</th>\n",
       "      <th>sad</th>\n",
       "      <th>angry</th>\n",
       "    </tr>\n",
       "  </thead>\n",
       "  <tbody>\n",
       "    <tr>\n",
       "      <th>a</th>\n",
       "      <td>0.538547</td>\n",
       "      <td>-1.673853</td>\n",
       "      <td>1.524292</td>\n",
       "    </tr>\n",
       "    <tr>\n",
       "      <th>b</th>\n",
       "      <td>-0.404629</td>\n",
       "      <td>0.282213</td>\n",
       "      <td>0.106940</td>\n",
       "    </tr>\n",
       "    <tr>\n",
       "      <th>c</th>\n",
       "      <td>0.809862</td>\n",
       "      <td>0.581310</td>\n",
       "      <td>-0.799617</td>\n",
       "    </tr>\n",
       "    <tr>\n",
       "      <th>d</th>\n",
       "      <td>-0.429442</td>\n",
       "      <td>-0.813217</td>\n",
       "      <td>0.448465</td>\n",
       "    </tr>\n",
       "    <tr>\n",
       "      <th>e</th>\n",
       "      <td>0.622115</td>\n",
       "      <td>-0.701184</td>\n",
       "      <td>-1.280079</td>\n",
       "    </tr>\n",
       "  </tbody>\n",
       "</table>\n",
       "</div>"
      ],
      "text/plain": [
       "      happy       sad     angry\n",
       "a  0.538547 -1.673853  1.524292\n",
       "b -0.404629  0.282213  0.106940\n",
       "c  0.809862  0.581310 -0.799617\n",
       "d -0.429442 -0.813217  0.448465\n",
       "e  0.622115 -0.701184 -1.280079"
      ]
     },
     "execution_count": 7,
     "metadata": {},
     "output_type": "execute_result"
    }
   ],
   "source": [
    "#incorrect method\n",
    "df.loc[:, ['sad', 'angry']] = df[['angry', 'sad']]\n",
    "df"
   ]
  },
  {
   "cell_type": "markdown",
   "metadata": {},
   "source": [
    "The correct method uses the raw values as follows"
   ]
  },
  {
   "cell_type": "code",
   "execution_count": 8,
   "metadata": {},
   "outputs": [
    {
     "data": {
      "text/html": [
       "<div>\n",
       "<style scoped>\n",
       "    .dataframe tbody tr th:only-of-type {\n",
       "        vertical-align: middle;\n",
       "    }\n",
       "\n",
       "    .dataframe tbody tr th {\n",
       "        vertical-align: top;\n",
       "    }\n",
       "\n",
       "    .dataframe thead th {\n",
       "        text-align: right;\n",
       "    }\n",
       "</style>\n",
       "<table border=\"1\" class=\"dataframe\">\n",
       "  <thead>\n",
       "    <tr style=\"text-align: right;\">\n",
       "      <th></th>\n",
       "      <th>happy</th>\n",
       "      <th>sad</th>\n",
       "      <th>angry</th>\n",
       "    </tr>\n",
       "  </thead>\n",
       "  <tbody>\n",
       "    <tr>\n",
       "      <th>a</th>\n",
       "      <td>0.538547</td>\n",
       "      <td>1.524292</td>\n",
       "      <td>-1.673853</td>\n",
       "    </tr>\n",
       "    <tr>\n",
       "      <th>b</th>\n",
       "      <td>-0.404629</td>\n",
       "      <td>0.106940</td>\n",
       "      <td>0.282213</td>\n",
       "    </tr>\n",
       "    <tr>\n",
       "      <th>c</th>\n",
       "      <td>0.809862</td>\n",
       "      <td>-0.799617</td>\n",
       "      <td>0.581310</td>\n",
       "    </tr>\n",
       "    <tr>\n",
       "      <th>d</th>\n",
       "      <td>-0.429442</td>\n",
       "      <td>0.448465</td>\n",
       "      <td>-0.813217</td>\n",
       "    </tr>\n",
       "    <tr>\n",
       "      <th>e</th>\n",
       "      <td>0.622115</td>\n",
       "      <td>-1.280079</td>\n",
       "      <td>-0.701184</td>\n",
       "    </tr>\n",
       "  </tbody>\n",
       "</table>\n",
       "</div>"
      ],
      "text/plain": [
       "      happy       sad     angry\n",
       "a  0.538547  1.524292 -1.673853\n",
       "b -0.404629  0.106940  0.282213\n",
       "c  0.809862 -0.799617  0.581310\n",
       "d -0.429442  0.448465 -0.813217\n",
       "e  0.622115 -1.280079 -0.701184"
      ]
     },
     "execution_count": 8,
     "metadata": {},
     "output_type": "execute_result"
    }
   ],
   "source": [
    "df.loc[:, ['sad', 'angry']] = df[['angry', 'sad']].values\n",
    "df"
   ]
  },
  {
   "cell_type": "markdown",
   "metadata": {},
   "source": [
    "# Attribute Access\n",
    "\n",
    "Directly accessible attributes include an index of a series, a dataframe column, and a panel item. In the IPython environment you can also use tab completion the access these values."
   ]
  },
  {
   "cell_type": "code",
   "execution_count": 9,
   "metadata": {},
   "outputs": [
    {
     "data": {
      "text/plain": [
       "-0.40462943534016804"
      ]
     },
     "execution_count": 9,
     "metadata": {},
     "output_type": "execute_result"
    }
   ],
   "source": [
    "#accesing a series attribute\n",
    "s = df['happy']\n",
    "s.b"
   ]
  },
  {
   "cell_type": "code",
   "execution_count": 10,
   "metadata": {},
   "outputs": [
    {
     "data": {
      "text/plain": [
       "a    1.524292\n",
       "b    0.106940\n",
       "c   -0.799617\n",
       "d    0.448465\n",
       "e   -1.280079\n",
       "Name: sad, dtype: float64"
      ]
     },
     "execution_count": 10,
     "metadata": {},
     "output_type": "execute_result"
    }
   ],
   "source": [
    "#on a dataframe\n",
    "df.sad"
   ]
  },
  {
   "cell_type": "code",
   "execution_count": 11,
   "metadata": {},
   "outputs": [
    {
     "data": {
      "text/html": [
       "<div>\n",
       "<style scoped>\n",
       "    .dataframe tbody tr th:only-of-type {\n",
       "        vertical-align: middle;\n",
       "    }\n",
       "\n",
       "    .dataframe tbody tr th {\n",
       "        vertical-align: top;\n",
       "    }\n",
       "\n",
       "    .dataframe thead th {\n",
       "        text-align: right;\n",
       "    }\n",
       "</style>\n",
       "<table border=\"1\" class=\"dataframe\">\n",
       "  <thead>\n",
       "    <tr style=\"text-align: right;\">\n",
       "      <th></th>\n",
       "      <th>happy</th>\n",
       "      <th>sad</th>\n",
       "      <th>angry</th>\n",
       "    </tr>\n",
       "  </thead>\n",
       "  <tbody>\n",
       "    <tr>\n",
       "      <th>a</th>\n",
       "      <td>0.212662</td>\n",
       "      <td>-1.673853</td>\n",
       "      <td>1.524292</td>\n",
       "    </tr>\n",
       "    <tr>\n",
       "      <th>b</th>\n",
       "      <td>-0.730515</td>\n",
       "      <td>0.282213</td>\n",
       "      <td>0.106940</td>\n",
       "    </tr>\n",
       "    <tr>\n",
       "      <th>c</th>\n",
       "      <td>0.483977</td>\n",
       "      <td>0.581310</td>\n",
       "      <td>-0.799617</td>\n",
       "    </tr>\n",
       "    <tr>\n",
       "      <th>d</th>\n",
       "      <td>-0.755327</td>\n",
       "      <td>-0.813217</td>\n",
       "      <td>0.448465</td>\n",
       "    </tr>\n",
       "    <tr>\n",
       "      <th>e</th>\n",
       "      <td>0.296230</td>\n",
       "      <td>-0.701184</td>\n",
       "      <td>-1.280079</td>\n",
       "    </tr>\n",
       "  </tbody>\n",
       "</table>\n",
       "</div>"
      ],
      "text/plain": [
       "      happy       sad     angry\n",
       "a  0.212662 -1.673853  1.524292\n",
       "b -0.730515  0.282213  0.106940\n",
       "c  0.483977  0.581310 -0.799617\n",
       "d -0.755327 -0.813217  0.448465\n",
       "e  0.296230 -0.701184 -1.280079"
      ]
     },
     "execution_count": 11,
     "metadata": {},
     "output_type": "execute_result"
    }
   ],
   "source": [
    "#on a panel\n",
    "panel.beta"
   ]
  },
  {
   "cell_type": "markdown",
   "metadata": {},
   "source": [
    "we can also use this process to modify existing objects"
   ]
  },
  {
   "cell_type": "code",
   "execution_count": 12,
   "metadata": {},
   "outputs": [
    {
     "data": {
      "text/plain": [
       "2.0"
      ]
     },
     "execution_count": 12,
     "metadata": {},
     "output_type": "execute_result"
    }
   ],
   "source": [
    "#modifying a series value\n",
    "s.b = 2\n",
    "s.b"
   ]
  },
  {
   "cell_type": "code",
   "execution_count": 13,
   "metadata": {},
   "outputs": [
    {
     "data": {
      "text/html": [
       "<div>\n",
       "<style scoped>\n",
       "    .dataframe tbody tr th:only-of-type {\n",
       "        vertical-align: middle;\n",
       "    }\n",
       "\n",
       "    .dataframe tbody tr th {\n",
       "        vertical-align: top;\n",
       "    }\n",
       "\n",
       "    .dataframe thead th {\n",
       "        text-align: right;\n",
       "    }\n",
       "</style>\n",
       "<table border=\"1\" class=\"dataframe\">\n",
       "  <thead>\n",
       "    <tr style=\"text-align: right;\">\n",
       "      <th></th>\n",
       "      <th>happy</th>\n",
       "      <th>sad</th>\n",
       "      <th>angry</th>\n",
       "    </tr>\n",
       "  </thead>\n",
       "  <tbody>\n",
       "    <tr>\n",
       "      <th>a</th>\n",
       "      <td>0</td>\n",
       "      <td>1.524292</td>\n",
       "      <td>-1.673853</td>\n",
       "    </tr>\n",
       "    <tr>\n",
       "      <th>b</th>\n",
       "      <td>1</td>\n",
       "      <td>0.106940</td>\n",
       "      <td>0.282213</td>\n",
       "    </tr>\n",
       "    <tr>\n",
       "      <th>c</th>\n",
       "      <td>2</td>\n",
       "      <td>-0.799617</td>\n",
       "      <td>0.581310</td>\n",
       "    </tr>\n",
       "    <tr>\n",
       "      <th>d</th>\n",
       "      <td>3</td>\n",
       "      <td>0.448465</td>\n",
       "      <td>-0.813217</td>\n",
       "    </tr>\n",
       "    <tr>\n",
       "      <th>e</th>\n",
       "      <td>4</td>\n",
       "      <td>-1.280079</td>\n",
       "      <td>-0.701184</td>\n",
       "    </tr>\n",
       "  </tbody>\n",
       "</table>\n",
       "</div>"
      ],
      "text/plain": [
       "   happy       sad     angry\n",
       "a      0  1.524292 -1.673853\n",
       "b      1  0.106940  0.282213\n",
       "c      2 -0.799617  0.581310\n",
       "d      3  0.448465 -0.813217\n",
       "e      4 -1.280079 -0.701184"
      ]
     },
     "execution_count": 13,
     "metadata": {},
     "output_type": "execute_result"
    }
   ],
   "source": [
    "#modifying column values\n",
    "df.happy = list(range(len(df.index)))\n",
    "df"
   ]
  },
  {
   "cell_type": "code",
   "execution_count": 14,
   "metadata": {},
   "outputs": [
    {
     "data": {
      "text/html": [
       "<div>\n",
       "<style scoped>\n",
       "    .dataframe tbody tr th:only-of-type {\n",
       "        vertical-align: middle;\n",
       "    }\n",
       "\n",
       "    .dataframe tbody tr th {\n",
       "        vertical-align: top;\n",
       "    }\n",
       "\n",
       "    .dataframe thead th {\n",
       "        text-align: right;\n",
       "    }\n",
       "</style>\n",
       "<table border=\"1\" class=\"dataframe\">\n",
       "  <thead>\n",
       "    <tr style=\"text-align: right;\">\n",
       "      <th></th>\n",
       "      <th>happy</th>\n",
       "      <th>sad</th>\n",
       "      <th>angry</th>\n",
       "      <th>glad</th>\n",
       "    </tr>\n",
       "  </thead>\n",
       "  <tbody>\n",
       "    <tr>\n",
       "      <th>a</th>\n",
       "      <td>0</td>\n",
       "      <td>1.524292</td>\n",
       "      <td>-1.673853</td>\n",
       "      <td>-1.524292</td>\n",
       "    </tr>\n",
       "    <tr>\n",
       "      <th>b</th>\n",
       "      <td>1</td>\n",
       "      <td>0.106940</td>\n",
       "      <td>0.282213</td>\n",
       "      <td>0.893060</td>\n",
       "    </tr>\n",
       "    <tr>\n",
       "      <th>c</th>\n",
       "      <td>2</td>\n",
       "      <td>-0.799617</td>\n",
       "      <td>0.581310</td>\n",
       "      <td>2.799617</td>\n",
       "    </tr>\n",
       "    <tr>\n",
       "      <th>d</th>\n",
       "      <td>3</td>\n",
       "      <td>0.448465</td>\n",
       "      <td>-0.813217</td>\n",
       "      <td>2.551535</td>\n",
       "    </tr>\n",
       "    <tr>\n",
       "      <th>e</th>\n",
       "      <td>4</td>\n",
       "      <td>-1.280079</td>\n",
       "      <td>-0.701184</td>\n",
       "      <td>5.280079</td>\n",
       "    </tr>\n",
       "  </tbody>\n",
       "</table>\n",
       "</div>"
      ],
      "text/plain": [
       "   happy       sad     angry      glad\n",
       "a      0  1.524292 -1.673853 -1.524292\n",
       "b      1  0.106940  0.282213  0.893060\n",
       "c      2 -0.799617  0.581310  2.799617\n",
       "d      3  0.448465 -0.813217  2.551535\n",
       "e      4 -1.280079 -0.701184  5.280079"
      ]
     },
     "execution_count": 14,
     "metadata": {},
     "output_type": "execute_result"
    }
   ],
   "source": [
    "#to create a new column the notation is as follows\n",
    "df['glad'] = df.happy - df.sad\n",
    "df"
   ]
  },
  {
   "cell_type": "markdown",
   "metadata": {},
   "source": [
    "Some caveats:\n",
    "    This access only works when the index element is a valid python identifier.\n",
    "    The attribute is not available if it conflicts with an existing method name like min or max\n",
    "    It will also be unavaiable if it conflicts with the following lists: *index, major_axis, minor_axis, items, labels.*\n",
    "\n",
    "when these cases occur, standard indexing is still valid.\n",
    "\n",
    "We can also assign a dict to a row of a dataframe:"
   ]
  },
  {
   "cell_type": "code",
   "execution_count": 15,
   "metadata": {},
   "outputs": [
    {
     "data": {
      "text/html": [
       "<div>\n",
       "<style scoped>\n",
       "    .dataframe tbody tr th:only-of-type {\n",
       "        vertical-align: middle;\n",
       "    }\n",
       "\n",
       "    .dataframe tbody tr th {\n",
       "        vertical-align: top;\n",
       "    }\n",
       "\n",
       "    .dataframe thead th {\n",
       "        text-align: right;\n",
       "    }\n",
       "</style>\n",
       "<table border=\"1\" class=\"dataframe\">\n",
       "  <thead>\n",
       "    <tr style=\"text-align: right;\">\n",
       "      <th></th>\n",
       "      <th>happy</th>\n",
       "      <th>sad</th>\n",
       "      <th>angry</th>\n",
       "      <th>glad</th>\n",
       "    </tr>\n",
       "  </thead>\n",
       "  <tbody>\n",
       "    <tr>\n",
       "      <th>a</th>\n",
       "      <td>0</td>\n",
       "      <td>1.52429</td>\n",
       "      <td>-1.67385</td>\n",
       "      <td>-1.52429</td>\n",
       "    </tr>\n",
       "    <tr>\n",
       "      <th>b</th>\n",
       "      <td>1</td>\n",
       "      <td>0.10694</td>\n",
       "      <td>0.282213</td>\n",
       "      <td>0.89306</td>\n",
       "    </tr>\n",
       "    <tr>\n",
       "      <th>c</th>\n",
       "      <td>2</td>\n",
       "      <td>-0.799617</td>\n",
       "      <td>0.58131</td>\n",
       "      <td>2.79962</td>\n",
       "    </tr>\n",
       "    <tr>\n",
       "      <th>d</th>\n",
       "      <td>happy</td>\n",
       "      <td>sad</td>\n",
       "      <td>angry</td>\n",
       "      <td>glad</td>\n",
       "    </tr>\n",
       "    <tr>\n",
       "      <th>e</th>\n",
       "      <td>4</td>\n",
       "      <td>-1.28008</td>\n",
       "      <td>-0.701184</td>\n",
       "      <td>5.28008</td>\n",
       "    </tr>\n",
       "  </tbody>\n",
       "</table>\n",
       "</div>"
      ],
      "text/plain": [
       "   happy       sad     angry     glad\n",
       "a      0   1.52429  -1.67385 -1.52429\n",
       "b      1   0.10694  0.282213  0.89306\n",
       "c      2 -0.799617   0.58131  2.79962\n",
       "d  happy       sad     angry     glad\n",
       "e      4  -1.28008 -0.701184  5.28008"
      ]
     },
     "execution_count": 15,
     "metadata": {},
     "output_type": "execute_result"
    }
   ],
   "source": [
    "df.iloc[3] = {'happy':12, 'sad':13, 'angry':14, 'glad':6}\n",
    "df"
   ]
  },
  {
   "cell_type": "markdown",
   "metadata": {},
   "source": [
    "# slicing ranges\n",
    "\n",
    "This section will focus on the [] operator\n",
    "\n",
    "With a Series the [] operator uses the same syntax as when working with an ndarray."
   ]
  },
  {
   "cell_type": "code",
   "execution_count": 16,
   "metadata": {},
   "outputs": [
    {
     "data": {
      "text/plain": [
       "a    -1.67385\n",
       "b    0.282213\n",
       "c     0.58131\n",
       "Name: angry, dtype: object"
      ]
     },
     "execution_count": 16,
     "metadata": {},
     "output_type": "execute_result"
    }
   ],
   "source": [
    "# slicing out a series from df\n",
    "s = df['angry']\n",
    "#slicing a range\n",
    "s[:3]"
   ]
  },
  {
   "cell_type": "code",
   "execution_count": 17,
   "metadata": {},
   "outputs": [
    {
     "data": {
      "text/plain": [
       "a   -1.67385\n",
       "d      angry\n",
       "Name: angry, dtype: object"
      ]
     },
     "execution_count": 17,
     "metadata": {},
     "output_type": "execute_result"
    }
   ],
   "source": [
    "s[::3]"
   ]
  },
  {
   "cell_type": "code",
   "execution_count": 18,
   "metadata": {},
   "outputs": [
    {
     "data": {
      "text/plain": [
       "e   -0.701184\n",
       "c     0.58131\n",
       "a    -1.67385\n",
       "Name: angry, dtype: object"
      ]
     },
     "execution_count": 18,
     "metadata": {},
     "output_type": "execute_result"
    }
   ],
   "source": [
    "s[::-2]"
   ]
  },
  {
   "cell_type": "markdown",
   "metadata": {},
   "source": [
    "setting works the same was as well"
   ]
  },
  {
   "cell_type": "code",
   "execution_count": 19,
   "metadata": {},
   "outputs": [
    {
     "data": {
      "text/plain": [
       "a    -1.67385\n",
       "b    0.282213\n",
       "c     0.58131\n",
       "d           6\n",
       "e   -0.701184\n",
       "Name: angry, dtype: object"
      ]
     },
     "execution_count": 19,
     "metadata": {},
     "output_type": "execute_result"
    }
   ],
   "source": [
    "s2 = s.copy()\n",
    "s2[3] = 6\n",
    "s2"
   ]
  },
  {
   "cell_type": "markdown",
   "metadata": {},
   "source": [
    "Slicing for a dataframe using the [] operator slices rows."
   ]
  },
  {
   "cell_type": "code",
   "execution_count": 20,
   "metadata": {},
   "outputs": [
    {
     "data": {
      "text/html": [
       "<div>\n",
       "<style scoped>\n",
       "    .dataframe tbody tr th:only-of-type {\n",
       "        vertical-align: middle;\n",
       "    }\n",
       "\n",
       "    .dataframe tbody tr th {\n",
       "        vertical-align: top;\n",
       "    }\n",
       "\n",
       "    .dataframe thead th {\n",
       "        text-align: right;\n",
       "    }\n",
       "</style>\n",
       "<table border=\"1\" class=\"dataframe\">\n",
       "  <thead>\n",
       "    <tr style=\"text-align: right;\">\n",
       "      <th></th>\n",
       "      <th>happy</th>\n",
       "      <th>sad</th>\n",
       "      <th>angry</th>\n",
       "      <th>glad</th>\n",
       "    </tr>\n",
       "  </thead>\n",
       "  <tbody>\n",
       "    <tr>\n",
       "      <th>c</th>\n",
       "      <td>2</td>\n",
       "      <td>-0.799617</td>\n",
       "      <td>0.58131</td>\n",
       "      <td>2.79962</td>\n",
       "    </tr>\n",
       "    <tr>\n",
       "      <th>d</th>\n",
       "      <td>happy</td>\n",
       "      <td>sad</td>\n",
       "      <td>angry</td>\n",
       "      <td>glad</td>\n",
       "    </tr>\n",
       "  </tbody>\n",
       "</table>\n",
       "</div>"
      ],
      "text/plain": [
       "   happy       sad    angry     glad\n",
       "c      2 -0.799617  0.58131  2.79962\n",
       "d  happy       sad    angry     glad"
      ]
     },
     "execution_count": 20,
     "metadata": {},
     "output_type": "execute_result"
    }
   ],
   "source": [
    "#slicing rows in a dataframe\n",
    "df[2:4]"
   ]
  },
  {
   "cell_type": "markdown",
   "metadata": {},
   "source": [
    "# Selection by label\n",
    "\n",
    "This section concerns the .loc accessor and other purely label based methods.\n",
    "\n",
    "a few notes:\n",
    "    chained assignment should be avoided\n",
    "    slicers must be compatible or convertible with the index type or they will raise a type error (e.g. tryin to slice a datetime index with integers will raise this error)\n",
    "    \n",
    "To reiterate a few points. Purely label based indexing in pandas is a strict inclusion protocol. Slices must include the start bound and stop bound when present in the index. Integers, in this case, refer to labels and not positions.\n",
    "\n",
    "The.loc method is the primary attribute used to do this. valid inputs include the following:\n",
    "    a single label\n",
    "    \n",
    "    a list or array of labels\n",
    "    \n",
    "    a slice object with labels 'start':'finish'\n",
    "    \n",
    "    a boolean array\n",
    "    \n",
    "    a callable function"
   ]
  },
  {
   "cell_type": "code",
   "execution_count": 21,
   "metadata": {},
   "outputs": [
    {
     "data": {
      "text/html": [
       "<div>\n",
       "<style scoped>\n",
       "    .dataframe tbody tr th:only-of-type {\n",
       "        vertical-align: middle;\n",
       "    }\n",
       "\n",
       "    .dataframe tbody tr th {\n",
       "        vertical-align: top;\n",
       "    }\n",
       "\n",
       "    .dataframe thead th {\n",
       "        text-align: right;\n",
       "    }\n",
       "</style>\n",
       "<table border=\"1\" class=\"dataframe\">\n",
       "  <thead>\n",
       "    <tr style=\"text-align: right;\">\n",
       "      <th></th>\n",
       "      <th>1</th>\n",
       "      <th>2</th>\n",
       "      <th>3</th>\n",
       "      <th>4</th>\n",
       "      <th>5</th>\n",
       "      <th>6</th>\n",
       "    </tr>\n",
       "  </thead>\n",
       "  <tbody>\n",
       "    <tr>\n",
       "      <th>a</th>\n",
       "      <td>0.042035</td>\n",
       "      <td>-0.375996</td>\n",
       "      <td>0.309608</td>\n",
       "      <td>-0.432163</td>\n",
       "      <td>-0.201469</td>\n",
       "      <td>0.303789</td>\n",
       "    </tr>\n",
       "    <tr>\n",
       "      <th>b</th>\n",
       "      <td>0.986600</td>\n",
       "      <td>0.291543</td>\n",
       "      <td>-0.217095</td>\n",
       "      <td>-1.483815</td>\n",
       "      <td>1.237254</td>\n",
       "      <td>-0.088895</td>\n",
       "    </tr>\n",
       "    <tr>\n",
       "      <th>c</th>\n",
       "      <td>-0.136822</td>\n",
       "      <td>-0.286917</td>\n",
       "      <td>-1.351576</td>\n",
       "      <td>0.123052</td>\n",
       "      <td>0.187885</td>\n",
       "      <td>0.773000</td>\n",
       "    </tr>\n",
       "    <tr>\n",
       "      <th>d</th>\n",
       "      <td>0.608353</td>\n",
       "      <td>-0.448301</td>\n",
       "      <td>1.764878</td>\n",
       "      <td>0.466407</td>\n",
       "      <td>-0.902956</td>\n",
       "      <td>0.156088</td>\n",
       "    </tr>\n",
       "    <tr>\n",
       "      <th>e</th>\n",
       "      <td>0.884426</td>\n",
       "      <td>0.685086</td>\n",
       "      <td>1.449223</td>\n",
       "      <td>-0.386931</td>\n",
       "      <td>-0.507092</td>\n",
       "      <td>-0.374985</td>\n",
       "    </tr>\n",
       "    <tr>\n",
       "      <th>f</th>\n",
       "      <td>0.933914</td>\n",
       "      <td>-1.335786</td>\n",
       "      <td>0.286119</td>\n",
       "      <td>-1.714607</td>\n",
       "      <td>0.298713</td>\n",
       "      <td>-0.196829</td>\n",
       "    </tr>\n",
       "  </tbody>\n",
       "</table>\n",
       "</div>"
      ],
      "text/plain": [
       "          1         2         3         4         5         6\n",
       "a  0.042035 -0.375996  0.309608 -0.432163 -0.201469  0.303789\n",
       "b  0.986600  0.291543 -0.217095 -1.483815  1.237254 -0.088895\n",
       "c -0.136822 -0.286917 -1.351576  0.123052  0.187885  0.773000\n",
       "d  0.608353 -0.448301  1.764878  0.466407 -0.902956  0.156088\n",
       "e  0.884426  0.685086  1.449223 -0.386931 -0.507092 -0.374985\n",
       "f  0.933914 -1.335786  0.286119 -1.714607  0.298713 -0.196829"
      ]
     },
     "execution_count": 21,
     "metadata": {},
     "output_type": "execute_result"
    }
   ],
   "source": [
    "# generating a new dataframe to work with\n",
    "df = pd.DataFrame(np.random.randn(6, 6), index = list('abcdef'), columns = [1, 2, 3, 4, 5, 6])\n",
    "df"
   ]
  },
  {
   "cell_type": "code",
   "execution_count": 22,
   "metadata": {},
   "outputs": [
    {
     "data": {
      "text/plain": [
       "a    0.042035\n",
       "b    0.986600\n",
       "c   -0.136822\n",
       "Name: 1, dtype: float64"
      ]
     },
     "execution_count": 22,
     "metadata": {},
     "output_type": "execute_result"
    }
   ],
   "source": [
    "#selecting rows based on a series label within a dataframe\n",
    "df[1].loc['a':'c']"
   ]
  },
  {
   "cell_type": "code",
   "execution_count": 23,
   "metadata": {},
   "outputs": [
    {
     "data": {
      "text/html": [
       "<div>\n",
       "<style scoped>\n",
       "    .dataframe tbody tr th:only-of-type {\n",
       "        vertical-align: middle;\n",
       "    }\n",
       "\n",
       "    .dataframe tbody tr th {\n",
       "        vertical-align: top;\n",
       "    }\n",
       "\n",
       "    .dataframe thead th {\n",
       "        text-align: right;\n",
       "    }\n",
       "</style>\n",
       "<table border=\"1\" class=\"dataframe\">\n",
       "  <thead>\n",
       "    <tr style=\"text-align: right;\">\n",
       "      <th></th>\n",
       "      <th>1</th>\n",
       "      <th>2</th>\n",
       "      <th>3</th>\n",
       "      <th>4</th>\n",
       "      <th>5</th>\n",
       "      <th>6</th>\n",
       "    </tr>\n",
       "  </thead>\n",
       "  <tbody>\n",
       "    <tr>\n",
       "      <th>a</th>\n",
       "      <td>NaN</td>\n",
       "      <td>-0.375996</td>\n",
       "      <td>0.309608</td>\n",
       "      <td>-0.432163</td>\n",
       "      <td>-0.201469</td>\n",
       "      <td>0.303789</td>\n",
       "    </tr>\n",
       "    <tr>\n",
       "      <th>b</th>\n",
       "      <td>0.986600</td>\n",
       "      <td>0.291543</td>\n",
       "      <td>-0.217095</td>\n",
       "      <td>-1.483815</td>\n",
       "      <td>1.237254</td>\n",
       "      <td>-0.088895</td>\n",
       "    </tr>\n",
       "    <tr>\n",
       "      <th>c</th>\n",
       "      <td>-0.136822</td>\n",
       "      <td>-0.286917</td>\n",
       "      <td>-1.351576</td>\n",
       "      <td>0.123052</td>\n",
       "      <td>0.187885</td>\n",
       "      <td>0.773000</td>\n",
       "    </tr>\n",
       "    <tr>\n",
       "      <th>d</th>\n",
       "      <td>0.608353</td>\n",
       "      <td>-0.448301</td>\n",
       "      <td>1.764878</td>\n",
       "      <td>0.466407</td>\n",
       "      <td>-0.902956</td>\n",
       "      <td>0.156088</td>\n",
       "    </tr>\n",
       "    <tr>\n",
       "      <th>e</th>\n",
       "      <td>0.884426</td>\n",
       "      <td>0.685086</td>\n",
       "      <td>1.449223</td>\n",
       "      <td>-0.386931</td>\n",
       "      <td>-0.507092</td>\n",
       "      <td>-0.374985</td>\n",
       "    </tr>\n",
       "    <tr>\n",
       "      <th>f</th>\n",
       "      <td>0.933914</td>\n",
       "      <td>-1.335786</td>\n",
       "      <td>0.286119</td>\n",
       "      <td>-1.714607</td>\n",
       "      <td>0.298713</td>\n",
       "      <td>-0.196829</td>\n",
       "    </tr>\n",
       "  </tbody>\n",
       "</table>\n",
       "</div>"
      ],
      "text/plain": [
       "          1         2         3         4         5         6\n",
       "a       NaN -0.375996  0.309608 -0.432163 -0.201469  0.303789\n",
       "b  0.986600  0.291543 -0.217095 -1.483815  1.237254 -0.088895\n",
       "c -0.136822 -0.286917 -1.351576  0.123052  0.187885  0.773000\n",
       "d  0.608353 -0.448301  1.764878  0.466407 -0.902956  0.156088\n",
       "e  0.884426  0.685086  1.449223 -0.386931 -0.507092 -0.374985\n",
       "f  0.933914 -1.335786  0.286119 -1.714607  0.298713 -0.196829"
      ]
     },
     "execution_count": 23,
     "metadata": {},
     "output_type": "execute_result"
    }
   ],
   "source": [
    "#setting a series value based on label in a series within a dataframe\n",
    "df[1].loc['a'] = np.nan\n",
    "df"
   ]
  },
  {
   "cell_type": "code",
   "execution_count": 24,
   "metadata": {},
   "outputs": [
    {
     "data": {
      "text/html": [
       "<div>\n",
       "<style scoped>\n",
       "    .dataframe tbody tr th:only-of-type {\n",
       "        vertical-align: middle;\n",
       "    }\n",
       "\n",
       "    .dataframe tbody tr th {\n",
       "        vertical-align: top;\n",
       "    }\n",
       "\n",
       "    .dataframe thead th {\n",
       "        text-align: right;\n",
       "    }\n",
       "</style>\n",
       "<table border=\"1\" class=\"dataframe\">\n",
       "  <thead>\n",
       "    <tr style=\"text-align: right;\">\n",
       "      <th></th>\n",
       "      <th>1</th>\n",
       "      <th>2</th>\n",
       "      <th>3</th>\n",
       "    </tr>\n",
       "  </thead>\n",
       "  <tbody>\n",
       "    <tr>\n",
       "      <th>b</th>\n",
       "      <td>0.986600</td>\n",
       "      <td>0.291543</td>\n",
       "      <td>-0.217095</td>\n",
       "    </tr>\n",
       "    <tr>\n",
       "      <th>d</th>\n",
       "      <td>0.608353</td>\n",
       "      <td>-0.448301</td>\n",
       "      <td>1.764878</td>\n",
       "    </tr>\n",
       "    <tr>\n",
       "      <th>f</th>\n",
       "      <td>0.933914</td>\n",
       "      <td>-1.335786</td>\n",
       "      <td>0.286119</td>\n",
       "    </tr>\n",
       "  </tbody>\n",
       "</table>\n",
       "</div>"
      ],
      "text/plain": [
       "          1         2         3\n",
       "b  0.986600  0.291543 -0.217095\n",
       "d  0.608353 -0.448301  1.764878\n",
       "f  0.933914 -1.335786  0.286119"
      ]
     },
     "execution_count": 24,
     "metadata": {},
     "output_type": "execute_result"
    }
   ],
   "source": [
    "#using selected rows and columns\n",
    "df.loc[['b', 'd', 'f'], 1:3]"
   ]
  },
  {
   "cell_type": "code",
   "execution_count": 25,
   "metadata": {},
   "outputs": [
    {
     "data": {
      "text/html": [
       "<div>\n",
       "<style scoped>\n",
       "    .dataframe tbody tr th:only-of-type {\n",
       "        vertical-align: middle;\n",
       "    }\n",
       "\n",
       "    .dataframe tbody tr th {\n",
       "        vertical-align: top;\n",
       "    }\n",
       "\n",
       "    .dataframe thead th {\n",
       "        text-align: right;\n",
       "    }\n",
       "</style>\n",
       "<table border=\"1\" class=\"dataframe\">\n",
       "  <thead>\n",
       "    <tr style=\"text-align: right;\">\n",
       "      <th></th>\n",
       "      <th>3</th>\n",
       "      <th>4</th>\n",
       "      <th>5</th>\n",
       "      <th>6</th>\n",
       "    </tr>\n",
       "  </thead>\n",
       "  <tbody>\n",
       "    <tr>\n",
       "      <th>c</th>\n",
       "      <td>-1.351576</td>\n",
       "      <td>0.123052</td>\n",
       "      <td>0.187885</td>\n",
       "      <td>0.773000</td>\n",
       "    </tr>\n",
       "    <tr>\n",
       "      <th>d</th>\n",
       "      <td>1.764878</td>\n",
       "      <td>0.466407</td>\n",
       "      <td>-0.902956</td>\n",
       "      <td>0.156088</td>\n",
       "    </tr>\n",
       "    <tr>\n",
       "      <th>e</th>\n",
       "      <td>1.449223</td>\n",
       "      <td>-0.386931</td>\n",
       "      <td>-0.507092</td>\n",
       "      <td>-0.374985</td>\n",
       "    </tr>\n",
       "    <tr>\n",
       "      <th>f</th>\n",
       "      <td>0.286119</td>\n",
       "      <td>-1.714607</td>\n",
       "      <td>0.298713</td>\n",
       "      <td>-0.196829</td>\n",
       "    </tr>\n",
       "  </tbody>\n",
       "</table>\n",
       "</div>"
      ],
      "text/plain": [
       "          3         4         5         6\n",
       "c -1.351576  0.123052  0.187885  0.773000\n",
       "d  1.764878  0.466407 -0.902956  0.156088\n",
       "e  1.449223 -0.386931 -0.507092 -0.374985\n",
       "f  0.286119 -1.714607  0.298713 -0.196829"
      ]
     },
     "execution_count": 25,
     "metadata": {},
     "output_type": "execute_result"
    }
   ],
   "source": [
    "#using label slices\n",
    "df.loc['c':'f', 3:6]"
   ]
  },
  {
   "cell_type": "code",
   "execution_count": 26,
   "metadata": {},
   "outputs": [
    {
     "data": {
      "text/plain": [
       "1    0.884426\n",
       "2    0.685086\n",
       "3    1.449223\n",
       "4   -0.386931\n",
       "5   -0.507092\n",
       "6   -0.374985\n",
       "Name: e, dtype: float64"
      ]
     },
     "execution_count": 26,
     "metadata": {},
     "output_type": "execute_result"
    }
   ],
   "source": [
    "#cross section with a label\n",
    "df.loc['e']"
   ]
  },
  {
   "cell_type": "code",
   "execution_count": 27,
   "metadata": {},
   "outputs": [
    {
     "data": {
      "text/html": [
       "<div>\n",
       "<style scoped>\n",
       "    .dataframe tbody tr th:only-of-type {\n",
       "        vertical-align: middle;\n",
       "    }\n",
       "\n",
       "    .dataframe tbody tr th {\n",
       "        vertical-align: top;\n",
       "    }\n",
       "\n",
       "    .dataframe thead th {\n",
       "        text-align: right;\n",
       "    }\n",
       "</style>\n",
       "<table border=\"1\" class=\"dataframe\">\n",
       "  <thead>\n",
       "    <tr style=\"text-align: right;\">\n",
       "      <th></th>\n",
       "      <th>1</th>\n",
       "      <th>2</th>\n",
       "      <th>3</th>\n",
       "      <th>4</th>\n",
       "    </tr>\n",
       "  </thead>\n",
       "  <tbody>\n",
       "    <tr>\n",
       "      <th>a</th>\n",
       "      <td>False</td>\n",
       "      <td>True</td>\n",
       "      <td>True</td>\n",
       "      <td>True</td>\n",
       "    </tr>\n",
       "    <tr>\n",
       "      <th>b</th>\n",
       "      <td>True</td>\n",
       "      <td>True</td>\n",
       "      <td>True</td>\n",
       "      <td>True</td>\n",
       "    </tr>\n",
       "    <tr>\n",
       "      <th>c</th>\n",
       "      <td>True</td>\n",
       "      <td>True</td>\n",
       "      <td>True</td>\n",
       "      <td>True</td>\n",
       "    </tr>\n",
       "  </tbody>\n",
       "</table>\n",
       "</div>"
      ],
      "text/plain": [
       "       1     2     3     4\n",
       "a  False  True  True  True\n",
       "b   True  True  True  True\n",
       "c   True  True  True  True"
      ]
     },
     "execution_count": 27,
     "metadata": {},
     "output_type": "execute_result"
    }
   ],
   "source": [
    "#using a boolean array\n",
    "df.loc['a':'c', 1:4] <1"
   ]
  },
  {
   "cell_type": "code",
   "execution_count": 28,
   "metadata": {},
   "outputs": [
    {
     "data": {
      "text/plain": [
       "-0.21709533642423476"
      ]
     },
     "execution_count": 28,
     "metadata": {},
     "output_type": "execute_result"
    }
   ],
   "source": [
    "#for grabbing a value explicitly, equivalent to \"df.at['a', '1']\n",
    "df.loc['b', 3]"
   ]
  },
  {
   "cell_type": "markdown",
   "metadata": {},
   "source": [
    "# slicing with labels\n",
    "\n",
    "Slicing using the .loc accessor returns the elements inbetween and including the start and stop labels when they are both present in the index."
   ]
  },
  {
   "cell_type": "code",
   "execution_count": 29,
   "metadata": {},
   "outputs": [
    {
     "data": {
      "text/plain": [
       "a         NaN\n",
       "b    0.986600\n",
       "c   -0.136822\n",
       "d    0.608353\n",
       "e    0.884426\n",
       "f    0.933914\n",
       "Name: 1, dtype: float64"
      ]
     },
     "execution_count": 29,
     "metadata": {},
     "output_type": "execute_result"
    }
   ],
   "source": [
    "s = df[1]\n",
    "s"
   ]
  },
  {
   "cell_type": "code",
   "execution_count": 30,
   "metadata": {},
   "outputs": [
    {
     "data": {
      "text/plain": [
       "b    0.986600\n",
       "c   -0.136822\n",
       "d    0.608353\n",
       "e    0.884426\n",
       "Name: 1, dtype: float64"
      ]
     },
     "execution_count": 30,
     "metadata": {},
     "output_type": "execute_result"
    }
   ],
   "source": [
    "#slicing a series\n",
    "s.loc['b':'e']"
   ]
  },
  {
   "cell_type": "markdown",
   "metadata": {},
   "source": [
    "In the case where one of the two elements is missing but the index is sorted. Slicing will still work by selecting the labels ranked between the two."
   ]
  },
  {
   "cell_type": "code",
   "execution_count": 31,
   "metadata": {},
   "outputs": [
    {
     "data": {
      "text/plain": [
       "d    0.608353\n",
       "e    0.884426\n",
       "f    0.933914\n",
       "Name: 1, dtype: float64"
      ]
     },
     "execution_count": 31,
     "metadata": {},
     "output_type": "execute_result"
    }
   ],
   "source": [
    "s.sort_index().loc['d':'g']"
   ]
  },
  {
   "cell_type": "markdown",
   "metadata": {},
   "source": [
    "In this same case when the index is not sorted an error will be raised instead. aka, don't do the thing.\n",
    "\n",
    "# Selecting by Position\n",
    "\n",
    "Chained assingment should be avoided\n",
    "\n",
    "Purely integer based indexing is available in pandas with a number of methods. All methods are 0 based, start bound is included stop bound is excluded. Using anything but an integer will raise and IndexError.\n",
    "\n",
    ".iloc is the primary method with the following valid inputs\n",
    "    an integer\n",
    "    a list or array of integers\n",
    "    a slice object with ints"
   ]
  },
  {
   "cell_type": "code",
   "execution_count": 32,
   "metadata": {},
   "outputs": [
    {
     "data": {
      "text/plain": [
       "0     2.179733\n",
       "3    -0.401220\n",
       "6     0.575178\n",
       "9     0.254726\n",
       "12   -2.494186\n",
       "15    0.314692\n",
       "dtype: float64"
      ]
     },
     "execution_count": 32,
     "metadata": {},
     "output_type": "execute_result"
    }
   ],
   "source": [
    "# creating a new series to work with\n",
    "s = pd.Series(np.random.randn(6), index = list(range(0, 18, 3)))\n",
    "s"
   ]
  },
  {
   "cell_type": "code",
   "execution_count": 33,
   "metadata": {},
   "outputs": [
    {
     "data": {
      "text/plain": [
       "0.5751782990746216"
      ]
     },
     "execution_count": 33,
     "metadata": {},
     "output_type": "execute_result"
    }
   ],
   "source": [
    "#grabbing the third value (integer position 2 in this case)\n",
    "s.iloc[2]"
   ]
  },
  {
   "cell_type": "code",
   "execution_count": 34,
   "metadata": {},
   "outputs": [
    {
     "data": {
      "text/plain": [
       "6    0.575178\n",
       "9    0.254726\n",
       "dtype: float64"
      ]
     },
     "execution_count": 34,
     "metadata": {},
     "output_type": "execute_result"
    }
   ],
   "source": [
    "#grabbing a central slice\n",
    "s.iloc[2:4]"
   ]
  },
  {
   "cell_type": "code",
   "execution_count": 35,
   "metadata": {},
   "outputs": [
    {
     "data": {
      "text/plain": [
       "0     2.179733\n",
       "3    -0.401220\n",
       "6     3.000000\n",
       "9     0.254726\n",
       "12   -2.494186\n",
       "15    0.314692\n",
       "dtype: float64"
      ]
     },
     "execution_count": 35,
     "metadata": {},
     "output_type": "execute_result"
    }
   ],
   "source": [
    "#setting the value of integer position 2\n",
    "s.iloc[2] = 3\n",
    "s"
   ]
  },
  {
   "cell_type": "code",
   "execution_count": 36,
   "metadata": {},
   "outputs": [
    {
     "data": {
      "text/html": [
       "<div>\n",
       "<style scoped>\n",
       "    .dataframe tbody tr th:only-of-type {\n",
       "        vertical-align: middle;\n",
       "    }\n",
       "\n",
       "    .dataframe tbody tr th {\n",
       "        vertical-align: top;\n",
       "    }\n",
       "\n",
       "    .dataframe thead th {\n",
       "        text-align: right;\n",
       "    }\n",
       "</style>\n",
       "<table border=\"1\" class=\"dataframe\">\n",
       "  <thead>\n",
       "    <tr style=\"text-align: right;\">\n",
       "      <th></th>\n",
       "      <th>0</th>\n",
       "      <th>2</th>\n",
       "      <th>4</th>\n",
       "      <th>6</th>\n",
       "      <th>8</th>\n",
       "    </tr>\n",
       "  </thead>\n",
       "  <tbody>\n",
       "    <tr>\n",
       "      <th>0</th>\n",
       "      <td>-1.419713</td>\n",
       "      <td>1.237041</td>\n",
       "      <td>-0.186854</td>\n",
       "      <td>0.108618</td>\n",
       "      <td>0.456425</td>\n",
       "    </tr>\n",
       "    <tr>\n",
       "      <th>4</th>\n",
       "      <td>-2.366868</td>\n",
       "      <td>1.212321</td>\n",
       "      <td>0.088993</td>\n",
       "      <td>-2.107364</td>\n",
       "      <td>-1.282272</td>\n",
       "    </tr>\n",
       "    <tr>\n",
       "      <th>8</th>\n",
       "      <td>-1.669043</td>\n",
       "      <td>0.755079</td>\n",
       "      <td>-0.811231</td>\n",
       "      <td>2.968224</td>\n",
       "      <td>-2.325960</td>\n",
       "    </tr>\n",
       "    <tr>\n",
       "      <th>12</th>\n",
       "      <td>0.991108</td>\n",
       "      <td>-0.558594</td>\n",
       "      <td>0.113017</td>\n",
       "      <td>-0.059008</td>\n",
       "      <td>1.759883</td>\n",
       "    </tr>\n",
       "    <tr>\n",
       "      <th>16</th>\n",
       "      <td>1.245291</td>\n",
       "      <td>-1.124675</td>\n",
       "      <td>0.182869</td>\n",
       "      <td>1.083892</td>\n",
       "      <td>-0.850049</td>\n",
       "    </tr>\n",
       "    <tr>\n",
       "      <th>20</th>\n",
       "      <td>-0.577441</td>\n",
       "      <td>0.499518</td>\n",
       "      <td>-1.060338</td>\n",
       "      <td>1.031951</td>\n",
       "      <td>-1.309618</td>\n",
       "    </tr>\n",
       "    <tr>\n",
       "      <th>24</th>\n",
       "      <td>-0.078035</td>\n",
       "      <td>-0.418217</td>\n",
       "      <td>2.084870</td>\n",
       "      <td>-0.695691</td>\n",
       "      <td>0.707779</td>\n",
       "    </tr>\n",
       "    <tr>\n",
       "      <th>28</th>\n",
       "      <td>-1.474076</td>\n",
       "      <td>-0.582585</td>\n",
       "      <td>-2.159539</td>\n",
       "      <td>0.167656</td>\n",
       "      <td>-1.276778</td>\n",
       "    </tr>\n",
       "    <tr>\n",
       "      <th>32</th>\n",
       "      <td>0.125106</td>\n",
       "      <td>0.587651</td>\n",
       "      <td>-2.095101</td>\n",
       "      <td>-0.427217</td>\n",
       "      <td>-0.435834</td>\n",
       "    </tr>\n",
       "    <tr>\n",
       "      <th>36</th>\n",
       "      <td>-0.509459</td>\n",
       "      <td>-0.280707</td>\n",
       "      <td>-0.076181</td>\n",
       "      <td>0.847664</td>\n",
       "      <td>1.248711</td>\n",
       "    </tr>\n",
       "  </tbody>\n",
       "</table>\n",
       "</div>"
      ],
      "text/plain": [
       "           0         2         4         6         8\n",
       "0  -1.419713  1.237041 -0.186854  0.108618  0.456425\n",
       "4  -2.366868  1.212321  0.088993 -2.107364 -1.282272\n",
       "8  -1.669043  0.755079 -0.811231  2.968224 -2.325960\n",
       "12  0.991108 -0.558594  0.113017 -0.059008  1.759883\n",
       "16  1.245291 -1.124675  0.182869  1.083892 -0.850049\n",
       "20 -0.577441  0.499518 -1.060338  1.031951 -1.309618\n",
       "24 -0.078035 -0.418217  2.084870 -0.695691  0.707779\n",
       "28 -1.474076 -0.582585 -2.159539  0.167656 -1.276778\n",
       "32  0.125106  0.587651 -2.095101 -0.427217 -0.435834\n",
       "36 -0.509459 -0.280707 -0.076181  0.847664  1.248711"
      ]
     },
     "execution_count": 36,
     "metadata": {},
     "output_type": "execute_result"
    }
   ],
   "source": [
    "#generating a new dataframe to work with\n",
    "df = pd.DataFrame(np.random.randn(10, 5), index = list(range(0, 40, 4)), columns = list(range(0, 10, 2)))\n",
    "df"
   ]
  },
  {
   "cell_type": "code",
   "execution_count": 37,
   "metadata": {},
   "outputs": [
    {
     "data": {
      "text/html": [
       "<div>\n",
       "<style scoped>\n",
       "    .dataframe tbody tr th:only-of-type {\n",
       "        vertical-align: middle;\n",
       "    }\n",
       "\n",
       "    .dataframe tbody tr th {\n",
       "        vertical-align: top;\n",
       "    }\n",
       "\n",
       "    .dataframe thead th {\n",
       "        text-align: right;\n",
       "    }\n",
       "</style>\n",
       "<table border=\"1\" class=\"dataframe\">\n",
       "  <thead>\n",
       "    <tr style=\"text-align: right;\">\n",
       "      <th></th>\n",
       "      <th>0</th>\n",
       "      <th>2</th>\n",
       "      <th>4</th>\n",
       "      <th>6</th>\n",
       "      <th>8</th>\n",
       "    </tr>\n",
       "  </thead>\n",
       "  <tbody>\n",
       "    <tr>\n",
       "      <th>0</th>\n",
       "      <td>-1.419713</td>\n",
       "      <td>1.237041</td>\n",
       "      <td>-0.186854</td>\n",
       "      <td>0.108618</td>\n",
       "      <td>0.456425</td>\n",
       "    </tr>\n",
       "    <tr>\n",
       "      <th>4</th>\n",
       "      <td>-2.366868</td>\n",
       "      <td>1.212321</td>\n",
       "      <td>0.088993</td>\n",
       "      <td>-2.107364</td>\n",
       "      <td>-1.282272</td>\n",
       "    </tr>\n",
       "    <tr>\n",
       "      <th>8</th>\n",
       "      <td>-1.669043</td>\n",
       "      <td>0.755079</td>\n",
       "      <td>-0.811231</td>\n",
       "      <td>2.968224</td>\n",
       "      <td>-2.325960</td>\n",
       "    </tr>\n",
       "    <tr>\n",
       "      <th>12</th>\n",
       "      <td>0.991108</td>\n",
       "      <td>-0.558594</td>\n",
       "      <td>0.113017</td>\n",
       "      <td>-0.059008</td>\n",
       "      <td>1.759883</td>\n",
       "    </tr>\n",
       "  </tbody>\n",
       "</table>\n",
       "</div>"
      ],
      "text/plain": [
       "           0         2         4         6         8\n",
       "0  -1.419713  1.237041 -0.186854  0.108618  0.456425\n",
       "4  -2.366868  1.212321  0.088993 -2.107364 -1.282272\n",
       "8  -1.669043  0.755079 -0.811231  2.968224 -2.325960\n",
       "12  0.991108 -0.558594  0.113017 -0.059008  1.759883"
      ]
     },
     "execution_count": 37,
     "metadata": {},
     "output_type": "execute_result"
    }
   ],
   "source": [
    "#using integer slicing, specifying rows\n",
    "df.iloc[:4]"
   ]
  },
  {
   "cell_type": "code",
   "execution_count": 38,
   "metadata": {},
   "outputs": [
    {
     "data": {
      "text/html": [
       "<div>\n",
       "<style scoped>\n",
       "    .dataframe tbody tr th:only-of-type {\n",
       "        vertical-align: middle;\n",
       "    }\n",
       "\n",
       "    .dataframe tbody tr th {\n",
       "        vertical-align: top;\n",
       "    }\n",
       "\n",
       "    .dataframe thead th {\n",
       "        text-align: right;\n",
       "    }\n",
       "</style>\n",
       "<table border=\"1\" class=\"dataframe\">\n",
       "  <thead>\n",
       "    <tr style=\"text-align: right;\">\n",
       "      <th></th>\n",
       "      <th>6</th>\n",
       "      <th>8</th>\n",
       "    </tr>\n",
       "  </thead>\n",
       "  <tbody>\n",
       "    <tr>\n",
       "      <th>12</th>\n",
       "      <td>-0.059008</td>\n",
       "      <td>1.759883</td>\n",
       "    </tr>\n",
       "    <tr>\n",
       "      <th>16</th>\n",
       "      <td>1.083892</td>\n",
       "      <td>-0.850049</td>\n",
       "    </tr>\n",
       "  </tbody>\n",
       "</table>\n",
       "</div>"
      ],
      "text/plain": [
       "           6         8\n",
       "12 -0.059008  1.759883\n",
       "16  1.083892 -0.850049"
      ]
     },
     "execution_count": 38,
     "metadata": {},
     "output_type": "execute_result"
    }
   ],
   "source": [
    "#using integer slicing specifying rows and columns\n",
    "df.iloc[3:5, 3:5]"
   ]
  },
  {
   "cell_type": "code",
   "execution_count": 39,
   "metadata": {},
   "outputs": [
    {
     "data": {
      "text/html": [
       "<div>\n",
       "<style scoped>\n",
       "    .dataframe tbody tr th:only-of-type {\n",
       "        vertical-align: middle;\n",
       "    }\n",
       "\n",
       "    .dataframe tbody tr th {\n",
       "        vertical-align: top;\n",
       "    }\n",
       "\n",
       "    .dataframe thead th {\n",
       "        text-align: right;\n",
       "    }\n",
       "</style>\n",
       "<table border=\"1\" class=\"dataframe\">\n",
       "  <thead>\n",
       "    <tr style=\"text-align: right;\">\n",
       "      <th></th>\n",
       "      <th>6</th>\n",
       "      <th>8</th>\n",
       "    </tr>\n",
       "  </thead>\n",
       "  <tbody>\n",
       "    <tr>\n",
       "      <th>12</th>\n",
       "      <td>-0.059008</td>\n",
       "      <td>1.759883</td>\n",
       "    </tr>\n",
       "    <tr>\n",
       "      <th>20</th>\n",
       "      <td>1.031951</td>\n",
       "      <td>-1.309618</td>\n",
       "    </tr>\n",
       "    <tr>\n",
       "      <th>24</th>\n",
       "      <td>-0.695691</td>\n",
       "      <td>0.707779</td>\n",
       "    </tr>\n",
       "  </tbody>\n",
       "</table>\n",
       "</div>"
      ],
      "text/plain": [
       "           6         8\n",
       "12 -0.059008  1.759883\n",
       "20  1.031951 -1.309618\n",
       "24 -0.695691  0.707779"
      ]
     },
     "execution_count": 39,
     "metadata": {},
     "output_type": "execute_result"
    }
   ],
   "source": [
    "#using a list of integers\n",
    "df.iloc[[3, 5, 6], [3, 4]]"
   ]
  },
  {
   "cell_type": "markdown",
   "metadata": {},
   "source": [
    "basic form for dataframes\n",
    "df.iloc[rows, columns]\n",
    "\n",
    "When a cross section is desired:"
   ]
  },
  {
   "cell_type": "code",
   "execution_count": 40,
   "metadata": {},
   "outputs": [
    {
     "data": {
      "text/plain": [
       "0    0.991108\n",
       "2   -0.558594\n",
       "4    0.113017\n",
       "6   -0.059008\n",
       "8    1.759883\n",
       "Name: 12, dtype: float64"
      ]
     },
     "execution_count": 40,
     "metadata": {},
     "output_type": "execute_result"
    }
   ],
   "source": [
    "df.iloc[3]"
   ]
  },
  {
   "cell_type": "code",
   "execution_count": 41,
   "metadata": {},
   "outputs": [
    {
     "data": {
      "text/html": [
       "<div>\n",
       "<style scoped>\n",
       "    .dataframe tbody tr th:only-of-type {\n",
       "        vertical-align: middle;\n",
       "    }\n",
       "\n",
       "    .dataframe tbody tr th {\n",
       "        vertical-align: top;\n",
       "    }\n",
       "\n",
       "    .dataframe thead th {\n",
       "        text-align: right;\n",
       "    }\n",
       "</style>\n",
       "<table border=\"1\" class=\"dataframe\">\n",
       "  <thead>\n",
       "    <tr style=\"text-align: right;\">\n",
       "      <th></th>\n",
       "      <th>6</th>\n",
       "      <th>8</th>\n",
       "    </tr>\n",
       "  </thead>\n",
       "  <tbody>\n",
       "    <tr>\n",
       "      <th>28</th>\n",
       "      <td>0.167656</td>\n",
       "      <td>-1.276778</td>\n",
       "    </tr>\n",
       "    <tr>\n",
       "      <th>32</th>\n",
       "      <td>-0.427217</td>\n",
       "      <td>-0.435834</td>\n",
       "    </tr>\n",
       "    <tr>\n",
       "      <th>36</th>\n",
       "      <td>0.847664</td>\n",
       "      <td>1.248711</td>\n",
       "    </tr>\n",
       "  </tbody>\n",
       "</table>\n",
       "</div>"
      ],
      "text/plain": [
       "           6         8\n",
       "28  0.167656 -1.276778\n",
       "32 -0.427217 -0.435834\n",
       "36  0.847664  1.248711"
      ]
     },
     "execution_count": 41,
     "metadata": {},
     "output_type": "execute_result"
    }
   ],
   "source": [
    "#out of bounds should be handled as well\n",
    "df.iloc[7:15, 3:10]"
   ]
  },
  {
   "cell_type": "markdown",
   "metadata": {},
   "source": [
    "when slices go out of bounds they can result in an empty dataframe.\n",
    "\n",
    "when a single indexer is out of bounds an IndexError will be raised. Similarly, a list of indexers where any single element is out of bounds will also raise an IndexError"
   ]
  },
  {
   "cell_type": "markdown",
   "metadata": {},
   "source": [
    "# Selection by a callable\n",
    "\n",
    "The primary indexers (.loc, .iloc, and []) can all accept a callable function as an indexer. However, the callable MUST be a function with one argument(the data object in this case), returning a valid output for indexing."
   ]
  },
  {
   "cell_type": "code",
   "execution_count": 42,
   "metadata": {},
   "outputs": [
    {
     "data": {
      "text/html": [
       "<div>\n",
       "<style scoped>\n",
       "    .dataframe tbody tr th:only-of-type {\n",
       "        vertical-align: middle;\n",
       "    }\n",
       "\n",
       "    .dataframe tbody tr th {\n",
       "        vertical-align: top;\n",
       "    }\n",
       "\n",
       "    .dataframe thead th {\n",
       "        text-align: right;\n",
       "    }\n",
       "</style>\n",
       "<table border=\"1\" class=\"dataframe\">\n",
       "  <thead>\n",
       "    <tr style=\"text-align: right;\">\n",
       "      <th></th>\n",
       "      <th>0</th>\n",
       "      <th>2</th>\n",
       "      <th>4</th>\n",
       "      <th>6</th>\n",
       "      <th>8</th>\n",
       "    </tr>\n",
       "  </thead>\n",
       "  <tbody>\n",
       "    <tr>\n",
       "      <th>12</th>\n",
       "      <td>0.991108</td>\n",
       "      <td>-0.558594</td>\n",
       "      <td>0.113017</td>\n",
       "      <td>-0.059008</td>\n",
       "      <td>1.759883</td>\n",
       "    </tr>\n",
       "    <tr>\n",
       "      <th>16</th>\n",
       "      <td>1.245291</td>\n",
       "      <td>-1.124675</td>\n",
       "      <td>0.182869</td>\n",
       "      <td>1.083892</td>\n",
       "      <td>-0.850049</td>\n",
       "    </tr>\n",
       "    <tr>\n",
       "      <th>20</th>\n",
       "      <td>-0.577441</td>\n",
       "      <td>0.499518</td>\n",
       "      <td>-1.060338</td>\n",
       "      <td>1.031951</td>\n",
       "      <td>-1.309618</td>\n",
       "    </tr>\n",
       "    <tr>\n",
       "      <th>24</th>\n",
       "      <td>-0.078035</td>\n",
       "      <td>-0.418217</td>\n",
       "      <td>2.084870</td>\n",
       "      <td>-0.695691</td>\n",
       "      <td>0.707779</td>\n",
       "    </tr>\n",
       "    <tr>\n",
       "      <th>32</th>\n",
       "      <td>0.125106</td>\n",
       "      <td>0.587651</td>\n",
       "      <td>-2.095101</td>\n",
       "      <td>-0.427217</td>\n",
       "      <td>-0.435834</td>\n",
       "    </tr>\n",
       "    <tr>\n",
       "      <th>36</th>\n",
       "      <td>-0.509459</td>\n",
       "      <td>-0.280707</td>\n",
       "      <td>-0.076181</td>\n",
       "      <td>0.847664</td>\n",
       "      <td>1.248711</td>\n",
       "    </tr>\n",
       "  </tbody>\n",
       "</table>\n",
       "</div>"
      ],
      "text/plain": [
       "           0         2         4         6         8\n",
       "12  0.991108 -0.558594  0.113017 -0.059008  1.759883\n",
       "16  1.245291 -1.124675  0.182869  1.083892 -0.850049\n",
       "20 -0.577441  0.499518 -1.060338  1.031951 -1.309618\n",
       "24 -0.078035 -0.418217  2.084870 -0.695691  0.707779\n",
       "32  0.125106  0.587651 -2.095101 -0.427217 -0.435834\n",
       "36 -0.509459 -0.280707 -0.076181  0.847664  1.248711"
      ]
     },
     "execution_count": 42,
     "metadata": {},
     "output_type": "execute_result"
    }
   ],
   "source": [
    "df.loc[lambda df: df[0] > -1]"
   ]
  },
  {
   "cell_type": "code",
   "execution_count": 43,
   "metadata": {},
   "outputs": [
    {
     "data": {
      "text/html": [
       "<div>\n",
       "<style scoped>\n",
       "    .dataframe tbody tr th:only-of-type {\n",
       "        vertical-align: middle;\n",
       "    }\n",
       "\n",
       "    .dataframe tbody tr th {\n",
       "        vertical-align: top;\n",
       "    }\n",
       "\n",
       "    .dataframe thead th {\n",
       "        text-align: right;\n",
       "    }\n",
       "</style>\n",
       "<table border=\"1\" class=\"dataframe\">\n",
       "  <thead>\n",
       "    <tr style=\"text-align: right;\">\n",
       "      <th></th>\n",
       "      <th>4</th>\n",
       "      <th>6</th>\n",
       "    </tr>\n",
       "  </thead>\n",
       "  <tbody>\n",
       "    <tr>\n",
       "      <th>0</th>\n",
       "      <td>-0.186854</td>\n",
       "      <td>0.108618</td>\n",
       "    </tr>\n",
       "    <tr>\n",
       "      <th>4</th>\n",
       "      <td>0.088993</td>\n",
       "      <td>-2.107364</td>\n",
       "    </tr>\n",
       "    <tr>\n",
       "      <th>8</th>\n",
       "      <td>-0.811231</td>\n",
       "      <td>2.968224</td>\n",
       "    </tr>\n",
       "    <tr>\n",
       "      <th>12</th>\n",
       "      <td>0.113017</td>\n",
       "      <td>-0.059008</td>\n",
       "    </tr>\n",
       "    <tr>\n",
       "      <th>16</th>\n",
       "      <td>0.182869</td>\n",
       "      <td>1.083892</td>\n",
       "    </tr>\n",
       "    <tr>\n",
       "      <th>20</th>\n",
       "      <td>-1.060338</td>\n",
       "      <td>1.031951</td>\n",
       "    </tr>\n",
       "    <tr>\n",
       "      <th>24</th>\n",
       "      <td>2.084870</td>\n",
       "      <td>-0.695691</td>\n",
       "    </tr>\n",
       "    <tr>\n",
       "      <th>28</th>\n",
       "      <td>-2.159539</td>\n",
       "      <td>0.167656</td>\n",
       "    </tr>\n",
       "    <tr>\n",
       "      <th>32</th>\n",
       "      <td>-2.095101</td>\n",
       "      <td>-0.427217</td>\n",
       "    </tr>\n",
       "    <tr>\n",
       "      <th>36</th>\n",
       "      <td>-0.076181</td>\n",
       "      <td>0.847664</td>\n",
       "    </tr>\n",
       "  </tbody>\n",
       "</table>\n",
       "</div>"
      ],
      "text/plain": [
       "           4         6\n",
       "0  -0.186854  0.108618\n",
       "4   0.088993 -2.107364\n",
       "8  -0.811231  2.968224\n",
       "12  0.113017 -0.059008\n",
       "16  0.182869  1.083892\n",
       "20 -1.060338  1.031951\n",
       "24  2.084870 -0.695691\n",
       "28 -2.159539  0.167656\n",
       "32 -2.095101 -0.427217\n",
       "36 -0.076181  0.847664"
      ]
     },
     "execution_count": 43,
     "metadata": {},
     "output_type": "execute_result"
    }
   ],
   "source": [
    "df.iloc[:, lambda df: [2, 3] ]"
   ]
  },
  {
   "cell_type": "code",
   "execution_count": 44,
   "metadata": {},
   "outputs": [
    {
     "data": {
      "text/html": [
       "<div>\n",
       "<style scoped>\n",
       "    .dataframe tbody tr th:only-of-type {\n",
       "        vertical-align: middle;\n",
       "    }\n",
       "\n",
       "    .dataframe tbody tr th {\n",
       "        vertical-align: top;\n",
       "    }\n",
       "\n",
       "    .dataframe thead th {\n",
       "        text-align: right;\n",
       "    }\n",
       "</style>\n",
       "<table border=\"1\" class=\"dataframe\">\n",
       "  <thead>\n",
       "    <tr style=\"text-align: right;\">\n",
       "      <th></th>\n",
       "      <th>0</th>\n",
       "      <th>2</th>\n",
       "      <th>4</th>\n",
       "    </tr>\n",
       "  </thead>\n",
       "  <tbody>\n",
       "    <tr>\n",
       "      <th>0</th>\n",
       "      <td>-1.419713</td>\n",
       "      <td>1.237041</td>\n",
       "      <td>-0.186854</td>\n",
       "    </tr>\n",
       "    <tr>\n",
       "      <th>4</th>\n",
       "      <td>-2.366868</td>\n",
       "      <td>1.212321</td>\n",
       "      <td>0.088993</td>\n",
       "    </tr>\n",
       "    <tr>\n",
       "      <th>8</th>\n",
       "      <td>-1.669043</td>\n",
       "      <td>0.755079</td>\n",
       "      <td>-0.811231</td>\n",
       "    </tr>\n",
       "    <tr>\n",
       "      <th>12</th>\n",
       "      <td>0.991108</td>\n",
       "      <td>-0.558594</td>\n",
       "      <td>0.113017</td>\n",
       "    </tr>\n",
       "    <tr>\n",
       "      <th>16</th>\n",
       "      <td>1.245291</td>\n",
       "      <td>-1.124675</td>\n",
       "      <td>0.182869</td>\n",
       "    </tr>\n",
       "    <tr>\n",
       "      <th>20</th>\n",
       "      <td>-0.577441</td>\n",
       "      <td>0.499518</td>\n",
       "      <td>-1.060338</td>\n",
       "    </tr>\n",
       "    <tr>\n",
       "      <th>24</th>\n",
       "      <td>-0.078035</td>\n",
       "      <td>-0.418217</td>\n",
       "      <td>2.084870</td>\n",
       "    </tr>\n",
       "    <tr>\n",
       "      <th>28</th>\n",
       "      <td>-1.474076</td>\n",
       "      <td>-0.582585</td>\n",
       "      <td>-2.159539</td>\n",
       "    </tr>\n",
       "    <tr>\n",
       "      <th>32</th>\n",
       "      <td>0.125106</td>\n",
       "      <td>0.587651</td>\n",
       "      <td>-2.095101</td>\n",
       "    </tr>\n",
       "    <tr>\n",
       "      <th>36</th>\n",
       "      <td>-0.509459</td>\n",
       "      <td>-0.280707</td>\n",
       "      <td>-0.076181</td>\n",
       "    </tr>\n",
       "  </tbody>\n",
       "</table>\n",
       "</div>"
      ],
      "text/plain": [
       "           0         2         4\n",
       "0  -1.419713  1.237041 -0.186854\n",
       "4  -2.366868  1.212321  0.088993\n",
       "8  -1.669043  0.755079 -0.811231\n",
       "12  0.991108 -0.558594  0.113017\n",
       "16  1.245291 -1.124675  0.182869\n",
       "20 -0.577441  0.499518 -1.060338\n",
       "24 -0.078035 -0.418217  2.084870\n",
       "28 -1.474076 -0.582585 -2.159539\n",
       "32  0.125106  0.587651 -2.095101\n",
       "36 -0.509459 -0.280707 -0.076181"
      ]
     },
     "execution_count": 44,
     "metadata": {},
     "output_type": "execute_result"
    }
   ],
   "source": [
    "df[lambda df: df.columns[:3]]"
   ]
  },
  {
   "cell_type": "code",
   "execution_count": 45,
   "metadata": {},
   "outputs": [
    {
     "data": {
      "text/plain": [
       "0    2.179733\n",
       "6    3.000000\n",
       "dtype: float64"
      ]
     },
     "execution_count": 45,
     "metadata": {},
     "output_type": "execute_result"
    }
   ],
   "source": [
    "#callable indexing can also be used in a series\n",
    "s.loc[lambda s: s>1]"
   ]
  },
  {
   "cell_type": "markdown",
   "metadata": {},
   "source": [
    "you can avoid the use of a temporary variable by using chain data selection operations\n",
    "\n",
    "\n",
    "The following are deprecated\n",
    ".ix indexer in favor of .loc, and .iloc\n",
    "using .loc or [] with a list containing one or more missing labels in favor of .reindex()\n",
    "\n",
    "# reindexing\n",
    "\n",
    "This is the idiomatic way to select potentially not-found elements."
   ]
  },
  {
   "cell_type": "code",
   "execution_count": 46,
   "metadata": {},
   "outputs": [
    {
     "data": {
      "text/plain": [
       "0    2.179733\n",
       "3   -0.401220\n",
       "8         NaN\n",
       "dtype: float64"
      ]
     },
     "execution_count": 46,
     "metadata": {},
     "output_type": "execute_result"
    }
   ],
   "source": [
    "s.reindex([0, 3, 8])"
   ]
  },
  {
   "cell_type": "markdown",
   "metadata": {},
   "source": [
    "Another option for returing only valid keys and preserving the dtype is the following:"
   ]
  },
  {
   "cell_type": "code",
   "execution_count": 47,
   "metadata": {},
   "outputs": [
    {
     "data": {
      "text/plain": [
       "0    2.179733\n",
       "3   -0.401220\n",
       "6    3.000000\n",
       "dtype: float64"
      ]
     },
     "execution_count": 47,
     "metadata": {},
     "output_type": "execute_result"
    }
   ],
   "source": [
    "labels = [0, 3, 6]\n",
    "s.loc[s.index.intersection(labels)]"
   ]
  },
  {
   "cell_type": "markdown",
   "metadata": {},
   "source": [
    "a duplicated index will raise an error for .reindex()"
   ]
  },
  {
   "cell_type": "code",
   "execution_count": 48,
   "metadata": {},
   "outputs": [
    {
     "data": {
      "text/plain": [
       "a    0\n",
       "b    1\n",
       "dtype: int32"
      ]
     },
     "execution_count": 48,
     "metadata": {},
     "output_type": "execute_result"
    }
   ],
   "source": [
    "#generating a new series and failing to generate the the dulicated axis error\n",
    "s = pd.Series(np.arange(5), index = ['a', 'b', 'c', 'd', 'e'])\n",
    "labels = ['a', 'b']\n",
    "s.reindex(labels)"
   ]
  },
  {
   "cell_type": "markdown",
   "metadata": {},
   "source": [
    "The duplication error can be circumvented by first intersecting the desired lables and then reindexing but this will still raise an error if the resulting index is duplicated\n",
    "\n",
    "# selecting random samples\n",
    "\n",
    "This is done using the sample() method on a Series, DataFrame or Panel. Its default behavior is to sample rows by default, returning a specific number of rows/columns or a fraction of rows"
   ]
  },
  {
   "cell_type": "code",
   "execution_count": 49,
   "metadata": {},
   "outputs": [
    {
     "name": "stdout",
     "output_type": "stream",
     "text": [
      "a     0\n",
      "b     1\n",
      "c     2\n",
      "d     3\n",
      "e     4\n",
      "f     5\n",
      "g     6\n",
      "h     7\n",
      "i     8\n",
      "j     9\n",
      "k    10\n",
      "l    11\n",
      "m    12\n",
      "n    13\n",
      "o    14\n",
      "dtype: int32\n"
     ]
    }
   ],
   "source": [
    "#generating a new series to work with\n",
    "s = pd.Series(np.arange(15), index = list('abcdefghijklmno'))\n",
    "print(s)"
   ]
  },
  {
   "cell_type": "code",
   "execution_count": 50,
   "metadata": {},
   "outputs": [
    {
     "data": {
      "text/plain": [
       "i    8\n",
       "dtype: int32"
      ]
     },
     "execution_count": 50,
     "metadata": {},
     "output_type": "execute_result"
    }
   ],
   "source": [
    "#without passing an argument only one row is returned\n",
    "s.sample()"
   ]
  },
  {
   "cell_type": "code",
   "execution_count": 51,
   "metadata": {},
   "outputs": [
    {
     "data": {
      "text/plain": [
       "j     9\n",
       "h     7\n",
       "n    13\n",
       "m    12\n",
       "l    11\n",
       "dtype: int32"
      ]
     },
     "execution_count": 51,
     "metadata": {},
     "output_type": "execute_result"
    }
   ],
   "source": [
    "#specifying a number of rows\n",
    "s.sample(n=5)"
   ]
  },
  {
   "cell_type": "code",
   "execution_count": 52,
   "metadata": {},
   "outputs": [
    {
     "data": {
      "text/plain": [
       "h     7\n",
       "o    14\n",
       "c     2\n",
       "j     9\n",
       "b     1\n",
       "f     5\n",
       "i     8\n",
       "a     0\n",
       "n    13\n",
       "l    11\n",
       "dtype: int32"
      ]
     },
     "execution_count": 52,
     "metadata": {},
     "output_type": "execute_result"
    }
   ],
   "source": [
    "#sampling a fraction of rows\n",
    "s.sample(frac = 0.66)"
   ]
  },
  {
   "cell_type": "markdown",
   "metadata": {},
   "source": [
    "You can sample with replacement using the replace option otherwise sample() will only return each row at most once."
   ]
  },
  {
   "cell_type": "code",
   "execution_count": 53,
   "metadata": {},
   "outputs": [
    {
     "data": {
      "text/plain": [
       "i    8\n",
       "f    5\n",
       "e    4\n",
       "c    2\n",
       "g    6\n",
       "dtype: int32"
      ]
     },
     "execution_count": 53,
     "metadata": {},
     "output_type": "execute_result"
    }
   ],
   "source": [
    "#sampling without replacement\n",
    "s.sample(n = 5, replace=False)"
   ]
  },
  {
   "cell_type": "code",
   "execution_count": 54,
   "metadata": {},
   "outputs": [
    {
     "data": {
      "text/plain": [
       "m    12\n",
       "j     9\n",
       "g     6\n",
       "n    13\n",
       "d     3\n",
       "c     2\n",
       "dtype: int32"
      ]
     },
     "execution_count": 54,
     "metadata": {},
     "output_type": "execute_result"
    }
   ],
   "source": [
    "#with replacement\n",
    "s.sample(n=6, replace = True)"
   ]
  },
  {
   "cell_type": "markdown",
   "metadata": {},
   "source": [
    "Using sample(), by default, each row has an equal probability of being selected. To change this we can pass the weights argument to the sample function. The weights can be in the form of a list, a np array, or series as long as they are the same length as the object being sampled. Missing values are assigned a weight of 0 and infinite values are not allowed. If the weights do not sum to one they will be normalized by dividing all the weights by the sum of the weights."
   ]
  },
  {
   "cell_type": "code",
   "execution_count": 55,
   "metadata": {},
   "outputs": [
    {
     "data": {
      "text/plain": [
       "o    14\n",
       "l    11\n",
       "m    12\n",
       "e     4\n",
       "j     9\n",
       "dtype: int32"
      ]
     },
     "execution_count": 55,
     "metadata": {},
     "output_type": "execute_result"
    }
   ],
   "source": [
    "#creating a list of weights with sum 105\n",
    "weights = pd.Series(np.arange(15))\n",
    "#sampling with weights with re-normalizing\n",
    "s.sample(n= 5, weights = weights.values)"
   ]
  },
  {
   "cell_type": "markdown",
   "metadata": {},
   "source": [
    "For DataFrames, a column within the df can be used as sampling weights(only when you are sampling rows, not when you are sampling columns) by passing the column name as a string."
   ]
  },
  {
   "cell_type": "code",
   "execution_count": 56,
   "metadata": {},
   "outputs": [],
   "source": [
    "#modifying our existing dataframe\n",
    "df['weights'] = df[8]\n",
    "del df[8]"
   ]
  },
  {
   "cell_type": "code",
   "execution_count": 57,
   "metadata": {},
   "outputs": [],
   "source": [
    "#selecting the rows where weights are positive since it cannot accept negatives\n",
    "df = df[df['weights'] >=0]"
   ]
  },
  {
   "cell_type": "code",
   "execution_count": 58,
   "metadata": {},
   "outputs": [
    {
     "data": {
      "text/html": [
       "<div>\n",
       "<style scoped>\n",
       "    .dataframe tbody tr th:only-of-type {\n",
       "        vertical-align: middle;\n",
       "    }\n",
       "\n",
       "    .dataframe tbody tr th {\n",
       "        vertical-align: top;\n",
       "    }\n",
       "\n",
       "    .dataframe thead th {\n",
       "        text-align: right;\n",
       "    }\n",
       "</style>\n",
       "<table border=\"1\" class=\"dataframe\">\n",
       "  <thead>\n",
       "    <tr style=\"text-align: right;\">\n",
       "      <th></th>\n",
       "      <th>0</th>\n",
       "      <th>2</th>\n",
       "      <th>4</th>\n",
       "      <th>6</th>\n",
       "      <th>weights</th>\n",
       "    </tr>\n",
       "  </thead>\n",
       "  <tbody>\n",
       "    <tr>\n",
       "      <th>36</th>\n",
       "      <td>-0.509459</td>\n",
       "      <td>-0.280707</td>\n",
       "      <td>-0.076181</td>\n",
       "      <td>0.847664</td>\n",
       "      <td>1.248711</td>\n",
       "    </tr>\n",
       "    <tr>\n",
       "      <th>12</th>\n",
       "      <td>0.991108</td>\n",
       "      <td>-0.558594</td>\n",
       "      <td>0.113017</td>\n",
       "      <td>-0.059008</td>\n",
       "      <td>1.759883</td>\n",
       "    </tr>\n",
       "    <tr>\n",
       "      <th>24</th>\n",
       "      <td>-0.078035</td>\n",
       "      <td>-0.418217</td>\n",
       "      <td>2.084870</td>\n",
       "      <td>-0.695691</td>\n",
       "      <td>0.707779</td>\n",
       "    </tr>\n",
       "    <tr>\n",
       "      <th>0</th>\n",
       "      <td>-1.419713</td>\n",
       "      <td>1.237041</td>\n",
       "      <td>-0.186854</td>\n",
       "      <td>0.108618</td>\n",
       "      <td>0.456425</td>\n",
       "    </tr>\n",
       "  </tbody>\n",
       "</table>\n",
       "</div>"
      ],
      "text/plain": [
       "           0         2         4         6   weights\n",
       "36 -0.509459 -0.280707 -0.076181  0.847664  1.248711\n",
       "12  0.991108 -0.558594  0.113017 -0.059008  1.759883\n",
       "24 -0.078035 -0.418217  2.084870 -0.695691  0.707779\n",
       "0  -1.419713  1.237041 -0.186854  0.108618  0.456425"
      ]
     },
     "execution_count": 58,
     "metadata": {},
     "output_type": "execute_result"
    }
   ],
   "source": [
    "#sampling\n",
    "df.sample(n = 4, weights = 'weights')"
   ]
  },
  {
   "cell_type": "code",
   "execution_count": 59,
   "metadata": {},
   "outputs": [
    {
     "data": {
      "text/html": [
       "<div>\n",
       "<style scoped>\n",
       "    .dataframe tbody tr th:only-of-type {\n",
       "        vertical-align: middle;\n",
       "    }\n",
       "\n",
       "    .dataframe tbody tr th {\n",
       "        vertical-align: top;\n",
       "    }\n",
       "\n",
       "    .dataframe thead th {\n",
       "        text-align: right;\n",
       "    }\n",
       "</style>\n",
       "<table border=\"1\" class=\"dataframe\">\n",
       "  <thead>\n",
       "    <tr style=\"text-align: right;\">\n",
       "      <th></th>\n",
       "      <th>weights</th>\n",
       "      <th>2</th>\n",
       "    </tr>\n",
       "  </thead>\n",
       "  <tbody>\n",
       "    <tr>\n",
       "      <th>0</th>\n",
       "      <td>0.456425</td>\n",
       "      <td>1.237041</td>\n",
       "    </tr>\n",
       "    <tr>\n",
       "      <th>12</th>\n",
       "      <td>1.759883</td>\n",
       "      <td>-0.558594</td>\n",
       "    </tr>\n",
       "    <tr>\n",
       "      <th>24</th>\n",
       "      <td>0.707779</td>\n",
       "      <td>-0.418217</td>\n",
       "    </tr>\n",
       "    <tr>\n",
       "      <th>36</th>\n",
       "      <td>1.248711</td>\n",
       "      <td>-0.280707</td>\n",
       "    </tr>\n",
       "  </tbody>\n",
       "</table>\n",
       "</div>"
      ],
      "text/plain": [
       "     weights         2\n",
       "0   0.456425  1.237041\n",
       "12  1.759883 -0.558594\n",
       "24  0.707779 -0.418217\n",
       "36  1.248711 -0.280707"
      ]
     },
     "execution_count": 59,
     "metadata": {},
     "output_type": "execute_result"
    }
   ],
   "source": [
    "#we can alse sample columns\n",
    "df.sample(n = 2, axis = 1)"
   ]
  },
  {
   "cell_type": "markdown",
   "metadata": {},
   "source": [
    "As a final not, we can also set a seed for sample()'s RNG using the random_state arg using either an int or a np RandomState object."
   ]
  },
  {
   "cell_type": "code",
   "execution_count": 60,
   "metadata": {},
   "outputs": [
    {
     "data": {
      "text/html": [
       "<div>\n",
       "<style scoped>\n",
       "    .dataframe tbody tr th:only-of-type {\n",
       "        vertical-align: middle;\n",
       "    }\n",
       "\n",
       "    .dataframe tbody tr th {\n",
       "        vertical-align: top;\n",
       "    }\n",
       "\n",
       "    .dataframe thead th {\n",
       "        text-align: right;\n",
       "    }\n",
       "</style>\n",
       "<table border=\"1\" class=\"dataframe\">\n",
       "  <thead>\n",
       "    <tr style=\"text-align: right;\">\n",
       "      <th></th>\n",
       "      <th>0</th>\n",
       "      <th>2</th>\n",
       "      <th>4</th>\n",
       "      <th>6</th>\n",
       "      <th>weights</th>\n",
       "    </tr>\n",
       "  </thead>\n",
       "  <tbody>\n",
       "    <tr>\n",
       "      <th>0</th>\n",
       "      <td>-1.419713</td>\n",
       "      <td>1.237041</td>\n",
       "      <td>-0.186854</td>\n",
       "      <td>0.108618</td>\n",
       "      <td>0.456425</td>\n",
       "    </tr>\n",
       "    <tr>\n",
       "      <th>12</th>\n",
       "      <td>0.991108</td>\n",
       "      <td>-0.558594</td>\n",
       "      <td>0.113017</td>\n",
       "      <td>-0.059008</td>\n",
       "      <td>1.759883</td>\n",
       "    </tr>\n",
       "    <tr>\n",
       "      <th>24</th>\n",
       "      <td>-0.078035</td>\n",
       "      <td>-0.418217</td>\n",
       "      <td>2.084870</td>\n",
       "      <td>-0.695691</td>\n",
       "      <td>0.707779</td>\n",
       "    </tr>\n",
       "  </tbody>\n",
       "</table>\n",
       "</div>"
      ],
      "text/plain": [
       "           0         2         4         6   weights\n",
       "0  -1.419713  1.237041 -0.186854  0.108618  0.456425\n",
       "12  0.991108 -0.558594  0.113017 -0.059008  1.759883\n",
       "24 -0.078035 -0.418217  2.084870 -0.695691  0.707779"
      ]
     },
     "execution_count": 60,
     "metadata": {},
     "output_type": "execute_result"
    }
   ],
   "source": [
    "#the sample will always draw the same rows when given a seed(aka. int)\n",
    "df.sample(n=3, random_state= 5)"
   ]
  },
  {
   "cell_type": "markdown",
   "metadata": {},
   "source": [
    "# Setting with Enlargement\n",
    "enlargement can be performed using either the .loc or [] operations when setting a non-existent key for that axis.\n",
    "\n",
    "This is basically an appending operation in the case of a series"
   ]
  },
  {
   "cell_type": "code",
   "execution_count": 61,
   "metadata": {},
   "outputs": [
    {
     "data": {
      "text/plain": [
       "a     0\n",
       "b     1\n",
       "c     2\n",
       "d     3\n",
       "e     4\n",
       "f     5\n",
       "g     6\n",
       "h     7\n",
       "i     8\n",
       "j     9\n",
       "k    10\n",
       "l    11\n",
       "m    12\n",
       "n    13\n",
       "o    14\n",
       "p    15\n",
       "dtype: int64"
      ]
     },
     "execution_count": 61,
     "metadata": {},
     "output_type": "execute_result"
    }
   ],
   "source": [
    "# setting by enlargement a value for p\n",
    "s['p'] = 15\n",
    "s"
   ]
  },
  {
   "cell_type": "markdown",
   "metadata": {},
   "source": [
    "In the case of a DataFrame, either axis can be enlarged by using .loc"
   ]
  },
  {
   "cell_type": "code",
   "execution_count": 62,
   "metadata": {},
   "outputs": [
    {
     "name": "stderr",
     "output_type": "stream",
     "text": [
      "C:\\Users\\Talimenios\\Anaconda3\\lib\\site-packages\\pandas\\core\\indexing.py:357: SettingWithCopyWarning: \n",
      "A value is trying to be set on a copy of a slice from a DataFrame.\n",
      "Try using .loc[row_indexer,col_indexer] = value instead\n",
      "\n",
      "See the caveats in the documentation: http://pandas.pydata.org/pandas-docs/stable/indexing.html#indexing-view-versus-copy\n",
      "  self.obj[key] = _infer_fill_value(value)\n",
      "C:\\Users\\Talimenios\\Anaconda3\\lib\\site-packages\\pandas\\core\\indexing.py:621: SettingWithCopyWarning: \n",
      "A value is trying to be set on a copy of a slice from a DataFrame.\n",
      "Try using .loc[row_indexer,col_indexer] = value instead\n",
      "\n",
      "See the caveats in the documentation: http://pandas.pydata.org/pandas-docs/stable/indexing.html#indexing-view-versus-copy\n",
      "  self.obj[item_labels[indexer[info_axis]]] = value\n"
     ]
    },
    {
     "data": {
      "text/html": [
       "<div>\n",
       "<style scoped>\n",
       "    .dataframe tbody tr th:only-of-type {\n",
       "        vertical-align: middle;\n",
       "    }\n",
       "\n",
       "    .dataframe tbody tr th {\n",
       "        vertical-align: top;\n",
       "    }\n",
       "\n",
       "    .dataframe thead th {\n",
       "        text-align: right;\n",
       "    }\n",
       "</style>\n",
       "<table border=\"1\" class=\"dataframe\">\n",
       "  <thead>\n",
       "    <tr style=\"text-align: right;\">\n",
       "      <th></th>\n",
       "      <th>0</th>\n",
       "      <th>2</th>\n",
       "      <th>4</th>\n",
       "      <th>6</th>\n",
       "      <th>weights</th>\n",
       "      <th>alpha</th>\n",
       "    </tr>\n",
       "  </thead>\n",
       "  <tbody>\n",
       "    <tr>\n",
       "      <th>0</th>\n",
       "      <td>-1.419713</td>\n",
       "      <td>1.237041</td>\n",
       "      <td>-0.186854</td>\n",
       "      <td>0.108618</td>\n",
       "      <td>0.456425</td>\n",
       "      <td>15</td>\n",
       "    </tr>\n",
       "    <tr>\n",
       "      <th>12</th>\n",
       "      <td>0.991108</td>\n",
       "      <td>-0.558594</td>\n",
       "      <td>0.113017</td>\n",
       "      <td>-0.059008</td>\n",
       "      <td>1.759883</td>\n",
       "      <td>15</td>\n",
       "    </tr>\n",
       "    <tr>\n",
       "      <th>24</th>\n",
       "      <td>-0.078035</td>\n",
       "      <td>-0.418217</td>\n",
       "      <td>2.084870</td>\n",
       "      <td>-0.695691</td>\n",
       "      <td>0.707779</td>\n",
       "      <td>15</td>\n",
       "    </tr>\n",
       "    <tr>\n",
       "      <th>36</th>\n",
       "      <td>-0.509459</td>\n",
       "      <td>-0.280707</td>\n",
       "      <td>-0.076181</td>\n",
       "      <td>0.847664</td>\n",
       "      <td>1.248711</td>\n",
       "      <td>15</td>\n",
       "    </tr>\n",
       "  </tbody>\n",
       "</table>\n",
       "</div>"
      ],
      "text/plain": [
       "           0         2         4         6   weights  alpha\n",
       "0  -1.419713  1.237041 -0.186854  0.108618  0.456425     15\n",
       "12  0.991108 -0.558594  0.113017 -0.059008  1.759883     15\n",
       "24 -0.078035 -0.418217  2.084870 -0.695691  0.707779     15\n",
       "36 -0.509459 -0.280707 -0.076181  0.847664  1.248711     15"
      ]
     },
     "execution_count": 62,
     "metadata": {},
     "output_type": "execute_result"
    }
   ],
   "source": [
    "#creating a new column via enlargement using the .loc accessor\n",
    "df.loc[:, 'alpha'] = 15\n",
    "df\n",
    "#I am not sure about the error here......"
   ]
  },
  {
   "cell_type": "code",
   "execution_count": 63,
   "metadata": {},
   "outputs": [
    {
     "name": "stderr",
     "output_type": "stream",
     "text": [
      "C:\\Users\\Talimenios\\Anaconda3\\lib\\site-packages\\ipykernel_launcher.py:2: SettingWithCopyWarning: \n",
      "A value is trying to be set on a copy of a slice from a DataFrame\n",
      "\n",
      "See the caveats in the documentation: http://pandas.pydata.org/pandas-docs/stable/indexing.html#indexing-view-versus-copy\n",
      "  \n"
     ]
    },
    {
     "data": {
      "text/html": [
       "<div>\n",
       "<style scoped>\n",
       "    .dataframe tbody tr th:only-of-type {\n",
       "        vertical-align: middle;\n",
       "    }\n",
       "\n",
       "    .dataframe tbody tr th {\n",
       "        vertical-align: top;\n",
       "    }\n",
       "\n",
       "    .dataframe thead th {\n",
       "        text-align: right;\n",
       "    }\n",
       "</style>\n",
       "<table border=\"1\" class=\"dataframe\">\n",
       "  <thead>\n",
       "    <tr style=\"text-align: right;\">\n",
       "      <th></th>\n",
       "      <th>0</th>\n",
       "      <th>2</th>\n",
       "      <th>4</th>\n",
       "      <th>6</th>\n",
       "      <th>weights</th>\n",
       "      <th>alpha</th>\n",
       "    </tr>\n",
       "  </thead>\n",
       "  <tbody>\n",
       "    <tr>\n",
       "      <th>0</th>\n",
       "      <td>-1.419713</td>\n",
       "      <td>1.237041</td>\n",
       "      <td>-0.186854</td>\n",
       "      <td>0.108618</td>\n",
       "      <td>0.456425</td>\n",
       "      <td>15.0</td>\n",
       "    </tr>\n",
       "    <tr>\n",
       "      <th>12</th>\n",
       "      <td>0.991108</td>\n",
       "      <td>-0.558594</td>\n",
       "      <td>0.113017</td>\n",
       "      <td>-0.059008</td>\n",
       "      <td>1.759883</td>\n",
       "      <td>15.0</td>\n",
       "    </tr>\n",
       "    <tr>\n",
       "      <th>24</th>\n",
       "      <td>-0.078035</td>\n",
       "      <td>-0.418217</td>\n",
       "      <td>2.084870</td>\n",
       "      <td>-0.695691</td>\n",
       "      <td>0.707779</td>\n",
       "      <td>15.0</td>\n",
       "    </tr>\n",
       "    <tr>\n",
       "      <th>36</th>\n",
       "      <td>-0.509459</td>\n",
       "      <td>-0.280707</td>\n",
       "      <td>-0.076181</td>\n",
       "      <td>0.847664</td>\n",
       "      <td>1.248711</td>\n",
       "      <td>15.0</td>\n",
       "    </tr>\n",
       "    <tr>\n",
       "      <th>8</th>\n",
       "      <td>7.000000</td>\n",
       "      <td>7.000000</td>\n",
       "      <td>7.000000</td>\n",
       "      <td>7.000000</td>\n",
       "      <td>7.000000</td>\n",
       "      <td>7.0</td>\n",
       "    </tr>\n",
       "  </tbody>\n",
       "</table>\n",
       "</div>"
      ],
      "text/plain": [
       "           0         2         4         6   weights  alpha\n",
       "0  -1.419713  1.237041 -0.186854  0.108618  0.456425   15.0\n",
       "12  0.991108 -0.558594  0.113017 -0.059008  1.759883   15.0\n",
       "24 -0.078035 -0.418217  2.084870 -0.695691  0.707779   15.0\n",
       "36 -0.509459 -0.280707 -0.076181  0.847664  1.248711   15.0\n",
       "8   7.000000  7.000000  7.000000  7.000000  7.000000    7.0"
      ]
     },
     "execution_count": 63,
     "metadata": {},
     "output_type": "execute_result"
    }
   ],
   "source": [
    "#the following is an append operation\n",
    "df.loc[8, :] = 7\n",
    "df"
   ]
  },
  {
   "cell_type": "markdown",
   "metadata": {},
   "source": [
    "# Fast scalar value getting and setting\n",
    "\n",
    "indexing with [] handles multiple use cases and as such it has some overhead to understand what you're asking for. To access only scalar values it is therefore advisable to utilize the specialized at(labels) and iat(integers) methods"
   ]
  },
  {
   "cell_type": "code",
   "execution_count": 64,
   "metadata": {},
   "outputs": [
    {
     "data": {
      "text/plain": [
       "3"
      ]
     },
     "execution_count": 64,
     "metadata": {},
     "output_type": "execute_result"
    }
   ],
   "source": [
    "#using .iat[]\n",
    "s.iat[3]"
   ]
  },
  {
   "cell_type": "code",
   "execution_count": 65,
   "metadata": {},
   "outputs": [
    {
     "data": {
      "text/plain": [
       "7.0"
      ]
     },
     "execution_count": 65,
     "metadata": {},
     "output_type": "execute_result"
    }
   ],
   "source": [
    "#using .at on a dataframe, format [row, column]\n",
    "df.at[8, 'alpha']"
   ]
  },
  {
   "cell_type": "code",
   "execution_count": 66,
   "metadata": {},
   "outputs": [
    {
     "data": {
      "text/plain": [
       "15.0"
      ]
     },
     "execution_count": 66,
     "metadata": {},
     "output_type": "execute_result"
    }
   ],
   "source": [
    "#using .iat[] to access the same value\n",
    "df.iat[1, 5]"
   ]
  },
  {
   "cell_type": "code",
   "execution_count": 67,
   "metadata": {},
   "outputs": [
    {
     "data": {
      "text/html": [
       "<div>\n",
       "<style scoped>\n",
       "    .dataframe tbody tr th:only-of-type {\n",
       "        vertical-align: middle;\n",
       "    }\n",
       "\n",
       "    .dataframe tbody tr th {\n",
       "        vertical-align: top;\n",
       "    }\n",
       "\n",
       "    .dataframe thead th {\n",
       "        text-align: right;\n",
       "    }\n",
       "</style>\n",
       "<table border=\"1\" class=\"dataframe\">\n",
       "  <thead>\n",
       "    <tr style=\"text-align: right;\">\n",
       "      <th></th>\n",
       "      <th>0</th>\n",
       "      <th>2</th>\n",
       "      <th>4</th>\n",
       "      <th>6</th>\n",
       "      <th>weights</th>\n",
       "      <th>alpha</th>\n",
       "    </tr>\n",
       "  </thead>\n",
       "  <tbody>\n",
       "    <tr>\n",
       "      <th>0</th>\n",
       "      <td>-1.419713</td>\n",
       "      <td>1.237041</td>\n",
       "      <td>-0.186854</td>\n",
       "      <td>0.108618</td>\n",
       "      <td>0.456425</td>\n",
       "      <td>15.0</td>\n",
       "    </tr>\n",
       "    <tr>\n",
       "      <th>12</th>\n",
       "      <td>0.991108</td>\n",
       "      <td>-0.558594</td>\n",
       "      <td>0.113017</td>\n",
       "      <td>-0.059008</td>\n",
       "      <td>1.759883</td>\n",
       "      <td>15.0</td>\n",
       "    </tr>\n",
       "    <tr>\n",
       "      <th>24</th>\n",
       "      <td>-0.078035</td>\n",
       "      <td>-0.418217</td>\n",
       "      <td>2.084870</td>\n",
       "      <td>-0.695691</td>\n",
       "      <td>0.707779</td>\n",
       "      <td>15.0</td>\n",
       "    </tr>\n",
       "    <tr>\n",
       "      <th>36</th>\n",
       "      <td>-0.509459</td>\n",
       "      <td>-0.280707</td>\n",
       "      <td>-0.076181</td>\n",
       "      <td>0.847664</td>\n",
       "      <td>1.248711</td>\n",
       "      <td>15.0</td>\n",
       "    </tr>\n",
       "    <tr>\n",
       "      <th>8</th>\n",
       "      <td>7.000000</td>\n",
       "      <td>7.000000</td>\n",
       "      <td>7.000000</td>\n",
       "      <td>7.000000</td>\n",
       "      <td>7.000000</td>\n",
       "      <td>14.0</td>\n",
       "    </tr>\n",
       "  </tbody>\n",
       "</table>\n",
       "</div>"
      ],
      "text/plain": [
       "           0         2         4         6   weights  alpha\n",
       "0  -1.419713  1.237041 -0.186854  0.108618  0.456425   15.0\n",
       "12  0.991108 -0.558594  0.113017 -0.059008  1.759883   15.0\n",
       "24 -0.078035 -0.418217  2.084870 -0.695691  0.707779   15.0\n",
       "36 -0.509459 -0.280707 -0.076181  0.847664  1.248711   15.0\n",
       "8   7.000000  7.000000  7.000000  7.000000  7.000000   14.0"
      ]
     },
     "execution_count": 67,
     "metadata": {},
     "output_type": "execute_result"
    }
   ],
   "source": [
    "#it is also possible to set scalar values using these indexers\n",
    "#changing the value of [8, 'alpha'] from 7 to 14\n",
    "df.at[8, 'alpha'] = 14\n",
    "df"
   ]
  },
  {
   "cell_type": "code",
   "execution_count": 68,
   "metadata": {},
   "outputs": [
    {
     "data": {
      "text/html": [
       "<div>\n",
       "<style scoped>\n",
       "    .dataframe tbody tr th:only-of-type {\n",
       "        vertical-align: middle;\n",
       "    }\n",
       "\n",
       "    .dataframe tbody tr th {\n",
       "        vertical-align: top;\n",
       "    }\n",
       "\n",
       "    .dataframe thead th {\n",
       "        text-align: right;\n",
       "    }\n",
       "</style>\n",
       "<table border=\"1\" class=\"dataframe\">\n",
       "  <thead>\n",
       "    <tr style=\"text-align: right;\">\n",
       "      <th></th>\n",
       "      <th>0</th>\n",
       "      <th>2</th>\n",
       "      <th>4</th>\n",
       "      <th>6</th>\n",
       "      <th>weights</th>\n",
       "      <th>alpha</th>\n",
       "      <th>echo</th>\n",
       "    </tr>\n",
       "  </thead>\n",
       "  <tbody>\n",
       "    <tr>\n",
       "      <th>0</th>\n",
       "      <td>-1.419713</td>\n",
       "      <td>1.237041</td>\n",
       "      <td>-0.186854</td>\n",
       "      <td>0.108618</td>\n",
       "      <td>0.456425</td>\n",
       "      <td>15.0</td>\n",
       "      <td>6.0</td>\n",
       "    </tr>\n",
       "    <tr>\n",
       "      <th>12</th>\n",
       "      <td>0.991108</td>\n",
       "      <td>-0.558594</td>\n",
       "      <td>0.113017</td>\n",
       "      <td>-0.059008</td>\n",
       "      <td>1.759883</td>\n",
       "      <td>15.0</td>\n",
       "      <td>NaN</td>\n",
       "    </tr>\n",
       "    <tr>\n",
       "      <th>24</th>\n",
       "      <td>-0.078035</td>\n",
       "      <td>-0.418217</td>\n",
       "      <td>2.084870</td>\n",
       "      <td>-0.695691</td>\n",
       "      <td>0.707779</td>\n",
       "      <td>15.0</td>\n",
       "      <td>NaN</td>\n",
       "    </tr>\n",
       "    <tr>\n",
       "      <th>36</th>\n",
       "      <td>-0.509459</td>\n",
       "      <td>-0.280707</td>\n",
       "      <td>-0.076181</td>\n",
       "      <td>0.847664</td>\n",
       "      <td>1.248711</td>\n",
       "      <td>15.0</td>\n",
       "      <td>NaN</td>\n",
       "    </tr>\n",
       "    <tr>\n",
       "      <th>8</th>\n",
       "      <td>7.000000</td>\n",
       "      <td>7.000000</td>\n",
       "      <td>7.000000</td>\n",
       "      <td>7.000000</td>\n",
       "      <td>7.000000</td>\n",
       "      <td>14.0</td>\n",
       "      <td>NaN</td>\n",
       "    </tr>\n",
       "  </tbody>\n",
       "</table>\n",
       "</div>"
      ],
      "text/plain": [
       "           0         2         4         6   weights  alpha  echo\n",
       "0  -1.419713  1.237041 -0.186854  0.108618  0.456425   15.0   6.0\n",
       "12  0.991108 -0.558594  0.113017 -0.059008  1.759883   15.0   NaN\n",
       "24 -0.078035 -0.418217  2.084870 -0.695691  0.707779   15.0   NaN\n",
       "36 -0.509459 -0.280707 -0.076181  0.847664  1.248711   15.0   NaN\n",
       "8   7.000000  7.000000  7.000000  7.000000  7.000000   14.0   NaN"
      ]
     },
     "execution_count": 68,
     "metadata": {},
     "output_type": "execute_result"
    }
   ],
   "source": [
    "#these can also be used to enlarge the object in-place provided the indexer is missing\n",
    "#as we can notice from the output this method seems to have some issues and it would be better to use .loc[index, col] = value instead\n",
    "df.at[0, 'echo'] = 6\n",
    "df"
   ]
  },
  {
   "cell_type": "markdown",
   "metadata": {},
   "source": [
    "# Boolean indexing\n",
    "\n",
    "Used to filter data with the following operations: | for or, & for and, ~ for not. These operations must be used with parentheses or risk misinterpretation by default python."
   ]
  },
  {
   "cell_type": "code",
   "execution_count": 69,
   "metadata": {},
   "outputs": [
    {
     "data": {
      "text/plain": [
       "e     4\n",
       "f     5\n",
       "g     6\n",
       "h     7\n",
       "i     8\n",
       "j     9\n",
       "k    10\n",
       "l    11\n",
       "m    12\n",
       "n    13\n",
       "o    14\n",
       "p    15\n",
       "dtype: int64"
      ]
     },
     "execution_count": 69,
     "metadata": {},
     "output_type": "execute_result"
    }
   ],
   "source": [
    "#finding s greater than 3\n",
    "s[s> 3]"
   ]
  },
  {
   "cell_type": "code",
   "execution_count": 70,
   "metadata": {},
   "outputs": [
    {
     "data": {
      "text/plain": [
       "a     0\n",
       "b     1\n",
       "h     7\n",
       "i     8\n",
       "j     9\n",
       "k    10\n",
       "l    11\n",
       "m    12\n",
       "n    13\n",
       "o    14\n",
       "p    15\n",
       "dtype: int64"
      ]
     },
     "execution_count": 70,
     "metadata": {},
     "output_type": "execute_result"
    }
   ],
   "source": [
    "#finding s less than 2 or greater than 6, remember to use parantheses\n",
    "s[(s<2) | (s> 6)]"
   ]
  },
  {
   "cell_type": "code",
   "execution_count": 71,
   "metadata": {},
   "outputs": [
    {
     "data": {
      "text/plain": [
       "g     6\n",
       "h     7\n",
       "i     8\n",
       "j     9\n",
       "k    10\n",
       "l    11\n",
       "m    12\n",
       "n    13\n",
       "o    14\n",
       "p    15\n",
       "dtype: int64"
      ]
     },
     "execution_count": 71,
     "metadata": {},
     "output_type": "execute_result"
    }
   ],
   "source": [
    "# selecting s not less than 6, use ()\n",
    "s[~(s<6)]"
   ]
  },
  {
   "cell_type": "markdown",
   "metadata": {},
   "source": [
    "In the case of dataframes you can select rows using a boolean vector of the same length as the index (e.g. using one of the dataframes columns)"
   ]
  },
  {
   "cell_type": "code",
   "execution_count": 72,
   "metadata": {},
   "outputs": [
    {
     "data": {
      "text/html": [
       "<div>\n",
       "<style scoped>\n",
       "    .dataframe tbody tr th:only-of-type {\n",
       "        vertical-align: middle;\n",
       "    }\n",
       "\n",
       "    .dataframe tbody tr th {\n",
       "        vertical-align: top;\n",
       "    }\n",
       "\n",
       "    .dataframe thead th {\n",
       "        text-align: right;\n",
       "    }\n",
       "</style>\n",
       "<table border=\"1\" class=\"dataframe\">\n",
       "  <thead>\n",
       "    <tr style=\"text-align: right;\">\n",
       "      <th></th>\n",
       "      <th>0</th>\n",
       "      <th>2</th>\n",
       "      <th>4</th>\n",
       "      <th>6</th>\n",
       "      <th>weights</th>\n",
       "      <th>alpha</th>\n",
       "      <th>echo</th>\n",
       "    </tr>\n",
       "  </thead>\n",
       "  <tbody>\n",
       "    <tr>\n",
       "      <th>12</th>\n",
       "      <td>0.991108</td>\n",
       "      <td>-0.558594</td>\n",
       "      <td>0.113017</td>\n",
       "      <td>-0.059008</td>\n",
       "      <td>1.759883</td>\n",
       "      <td>15.0</td>\n",
       "      <td>NaN</td>\n",
       "    </tr>\n",
       "    <tr>\n",
       "      <th>8</th>\n",
       "      <td>7.000000</td>\n",
       "      <td>7.000000</td>\n",
       "      <td>7.000000</td>\n",
       "      <td>7.000000</td>\n",
       "      <td>7.000000</td>\n",
       "      <td>14.0</td>\n",
       "      <td>NaN</td>\n",
       "    </tr>\n",
       "  </tbody>\n",
       "</table>\n",
       "</div>"
      ],
      "text/plain": [
       "           0         2         4         6   weights  alpha  echo\n",
       "12  0.991108 -0.558594  0.113017 -0.059008  1.759883   15.0   NaN\n",
       "8   7.000000  7.000000  7.000000  7.000000  7.000000   14.0   NaN"
      ]
     },
     "execution_count": 72,
     "metadata": {},
     "output_type": "execute_result"
    }
   ],
   "source": [
    "#selecting all rows where column 0 is greater than 0\n",
    "df[df[0]> 0]"
   ]
  },
  {
   "cell_type": "markdown",
   "metadata": {},
   "source": [
    "more complex operations can be accomplished using list comprehension and map methods."
   ]
  },
  {
   "cell_type": "code",
   "execution_count": 73,
   "metadata": {},
   "outputs": [
    {
     "data": {
      "text/html": [
       "<div>\n",
       "<style scoped>\n",
       "    .dataframe tbody tr th:only-of-type {\n",
       "        vertical-align: middle;\n",
       "    }\n",
       "\n",
       "    .dataframe tbody tr th {\n",
       "        vertical-align: top;\n",
       "    }\n",
       "\n",
       "    .dataframe thead th {\n",
       "        text-align: right;\n",
       "    }\n",
       "</style>\n",
       "<table border=\"1\" class=\"dataframe\">\n",
       "  <thead>\n",
       "    <tr style=\"text-align: right;\">\n",
       "      <th></th>\n",
       "      <th>alpha</th>\n",
       "      <th>beta</th>\n",
       "      <th>gamma</th>\n",
       "    </tr>\n",
       "  </thead>\n",
       "  <tbody>\n",
       "    <tr>\n",
       "      <th>0</th>\n",
       "      <td>blue</td>\n",
       "      <td>1</td>\n",
       "      <td>brocolli</td>\n",
       "    </tr>\n",
       "    <tr>\n",
       "      <th>1</th>\n",
       "      <td>green</td>\n",
       "      <td>2</td>\n",
       "      <td>cauliflower</td>\n",
       "    </tr>\n",
       "    <tr>\n",
       "      <th>2</th>\n",
       "      <td>butterfly</td>\n",
       "      <td>3</td>\n",
       "      <td>asparagus</td>\n",
       "    </tr>\n",
       "    <tr>\n",
       "      <th>3</th>\n",
       "      <td>bombshell</td>\n",
       "      <td>4</td>\n",
       "      <td>coconut</td>\n",
       "    </tr>\n",
       "  </tbody>\n",
       "</table>\n",
       "</div>"
      ],
      "text/plain": [
       "       alpha  beta        gamma\n",
       "0       blue     1     brocolli\n",
       "1      green     2  cauliflower\n",
       "2  butterfly     3    asparagus\n",
       "3  bombshell     4      coconut"
      ]
     },
     "execution_count": 73,
     "metadata": {},
     "output_type": "execute_result"
    }
   ],
   "source": [
    "df = pd.DataFrame({'alpha': ['blue', 'green', 'butterfly', 'bombshell'],\n",
    "                  'beta' :[1, 2, 3, 4],\n",
    "                  'gamma':['brocolli', 'cauliflower', 'asparagus', 'coconut']})\n",
    "df"
   ]
  },
  {
   "cell_type": "code",
   "execution_count": 74,
   "metadata": {},
   "outputs": [
    {
     "data": {
      "text/html": [
       "<div>\n",
       "<style scoped>\n",
       "    .dataframe tbody tr th:only-of-type {\n",
       "        vertical-align: middle;\n",
       "    }\n",
       "\n",
       "    .dataframe tbody tr th {\n",
       "        vertical-align: top;\n",
       "    }\n",
       "\n",
       "    .dataframe thead th {\n",
       "        text-align: right;\n",
       "    }\n",
       "</style>\n",
       "<table border=\"1\" class=\"dataframe\">\n",
       "  <thead>\n",
       "    <tr style=\"text-align: right;\">\n",
       "      <th></th>\n",
       "      <th>alpha</th>\n",
       "      <th>beta</th>\n",
       "      <th>gamma</th>\n",
       "    </tr>\n",
       "  </thead>\n",
       "  <tbody>\n",
       "    <tr>\n",
       "      <th>0</th>\n",
       "      <td>blue</td>\n",
       "      <td>1</td>\n",
       "      <td>brocolli</td>\n",
       "    </tr>\n",
       "    <tr>\n",
       "      <th>2</th>\n",
       "      <td>butterfly</td>\n",
       "      <td>3</td>\n",
       "      <td>asparagus</td>\n",
       "    </tr>\n",
       "    <tr>\n",
       "      <th>3</th>\n",
       "      <td>bombshell</td>\n",
       "      <td>4</td>\n",
       "      <td>coconut</td>\n",
       "    </tr>\n",
       "  </tbody>\n",
       "</table>\n",
       "</div>"
      ],
      "text/plain": [
       "       alpha  beta      gamma\n",
       "0       blue     1   brocolli\n",
       "2  butterfly     3  asparagus\n",
       "3  bombshell     4    coconut"
      ]
     },
     "execution_count": 74,
     "metadata": {},
     "output_type": "execute_result"
    }
   ],
   "source": [
    "#using a map method, selecting df where column alpha observations start with b\n",
    "selection_criteria = df['alpha'].map(lambda x: x.startswith('b'))\n",
    "df[selection_criteria]"
   ]
  },
  {
   "cell_type": "markdown",
   "metadata": {},
   "source": [
    "it is possible to use boolean vectors combined with other indexing expressions when using selection by label (.loc), selection by position(.iloc) and advanced indexing.\n",
    "\n",
    "# Indexing with isin\n",
    "the isin() method of a series accepts a list and returns a boolean vector that is is True wherever the series elements exist in the passed list. This provides a method for selecting rows where multiple comlumns contain values of interest."
   ]
  },
  {
   "cell_type": "code",
   "execution_count": 75,
   "metadata": {},
   "outputs": [
    {
     "data": {
      "text/plain": [
       "a    False\n",
       "b    False\n",
       "c    False\n",
       "d    False\n",
       "e     True\n",
       "f    False\n",
       "g     True\n",
       "h    False\n",
       "i     True\n",
       "j    False\n",
       "k    False\n",
       "l    False\n",
       "m    False\n",
       "n    False\n",
       "o    False\n",
       "p    False\n",
       "dtype: bool"
      ]
     },
     "execution_count": 75,
     "metadata": {},
     "output_type": "execute_result"
    }
   ],
   "source": [
    "# selecting rows containing 4, 6, or 8\n",
    "s.isin([4, 6, 8])"
   ]
  },
  {
   "cell_type": "code",
   "execution_count": 76,
   "metadata": {},
   "outputs": [
    {
     "data": {
      "text/plain": [
       "e    4\n",
       "g    6\n",
       "i    8\n",
       "dtype: int64"
      ]
     },
     "execution_count": 76,
     "metadata": {},
     "output_type": "execute_result"
    }
   ],
   "source": [
    "#pulling out rows where the previous condition is true\n",
    "s[s.isin([4, 6, 8])]"
   ]
  },
  {
   "cell_type": "code",
   "execution_count": 77,
   "metadata": {},
   "outputs": [
    {
     "data": {
      "text/plain": [
       "f     5\n",
       "j     9\n",
       "m    12\n",
       "dtype: int64"
      ]
     },
     "execution_count": 77,
     "metadata": {},
     "output_type": "execute_result"
    }
   ],
   "source": [
    "#we can use the same method on index objects in cases where we don't know if the labels we need are present\n",
    "s[s.index.isin(['f', 'j', 'm'])]"
   ]
  },
  {
   "cell_type": "code",
   "execution_count": 78,
   "metadata": {},
   "outputs": [
    {
     "data": {
      "text/plain": [
       "0  b     1\n",
       "   c     2\n",
       "1  b     5\n",
       "   c     6\n",
       "2  b     9\n",
       "   c    10\n",
       "dtype: int32"
      ]
     },
     "execution_count": 78,
     "metadata": {},
     "output_type": "execute_result"
    }
   ],
   "source": [
    "# we can also utilize this method with multiindex to check membership\n",
    "s_mi = pd.Series(np.arange(12), index =  pd.MultiIndex.from_product([[0, 1, 2], ['a', 'b', 'c', 'd']]))\n",
    "#checking membership\n",
    "s_mi.iloc[s_mi.index.isin([(0, 'a'), (2, 'd')])]\n",
    "#using the level argument\n",
    "s_mi.iloc[s_mi.index.isin(['b', 'c'], level = 1)]"
   ]
  },
  {
   "cell_type": "markdown",
   "metadata": {},
   "source": [
    "The isin() method is also present in dataframes where is can be passed either an array or a dict of values. A dataframe of booleans, true wherever the element is in the sequence of values, in the same shape as the original dataframe will be returned when isin is passed an array"
   ]
  },
  {
   "cell_type": "code",
   "execution_count": 79,
   "metadata": {},
   "outputs": [
    {
     "data": {
      "text/html": [
       "<div>\n",
       "<style scoped>\n",
       "    .dataframe tbody tr th:only-of-type {\n",
       "        vertical-align: middle;\n",
       "    }\n",
       "\n",
       "    .dataframe tbody tr th {\n",
       "        vertical-align: top;\n",
       "    }\n",
       "\n",
       "    .dataframe thead th {\n",
       "        text-align: right;\n",
       "    }\n",
       "</style>\n",
       "<table border=\"1\" class=\"dataframe\">\n",
       "  <thead>\n",
       "    <tr style=\"text-align: right;\">\n",
       "      <th></th>\n",
       "      <th>alpha</th>\n",
       "      <th>beta</th>\n",
       "      <th>gamma</th>\n",
       "    </tr>\n",
       "  </thead>\n",
       "  <tbody>\n",
       "    <tr>\n",
       "      <th>0</th>\n",
       "      <td>False</td>\n",
       "      <td>False</td>\n",
       "      <td>False</td>\n",
       "    </tr>\n",
       "    <tr>\n",
       "      <th>1</th>\n",
       "      <td>False</td>\n",
       "      <td>True</td>\n",
       "      <td>True</td>\n",
       "    </tr>\n",
       "    <tr>\n",
       "      <th>2</th>\n",
       "      <td>True</td>\n",
       "      <td>False</td>\n",
       "      <td>False</td>\n",
       "    </tr>\n",
       "    <tr>\n",
       "      <th>3</th>\n",
       "      <td>False</td>\n",
       "      <td>False</td>\n",
       "      <td>False</td>\n",
       "    </tr>\n",
       "  </tbody>\n",
       "</table>\n",
       "</div>"
      ],
      "text/plain": [
       "   alpha   beta  gamma\n",
       "0  False  False  False\n",
       "1  False   True   True\n",
       "2   True  False  False\n",
       "3  False  False  False"
      ]
     },
     "execution_count": 79,
     "metadata": {},
     "output_type": "execute_result"
    }
   ],
   "source": [
    "# the values we are looking for are 'butterfly', 2, and 'cauliflower'\n",
    "values = ['butterfly', 2, 'cauliflower']\n",
    "df.isin(values)"
   ]
  },
  {
   "cell_type": "markdown",
   "metadata": {},
   "source": [
    "To match certain values with certain columns you will want to make values a dict where the key is the column and the value is a list of items to check for."
   ]
  },
  {
   "cell_type": "code",
   "execution_count": 80,
   "metadata": {},
   "outputs": [
    {
     "data": {
      "text/html": [
       "<div>\n",
       "<style scoped>\n",
       "    .dataframe tbody tr th:only-of-type {\n",
       "        vertical-align: middle;\n",
       "    }\n",
       "\n",
       "    .dataframe tbody tr th {\n",
       "        vertical-align: top;\n",
       "    }\n",
       "\n",
       "    .dataframe thead th {\n",
       "        text-align: right;\n",
       "    }\n",
       "</style>\n",
       "<table border=\"1\" class=\"dataframe\">\n",
       "  <thead>\n",
       "    <tr style=\"text-align: right;\">\n",
       "      <th></th>\n",
       "      <th>alpha</th>\n",
       "      <th>beta</th>\n",
       "      <th>gamma</th>\n",
       "    </tr>\n",
       "  </thead>\n",
       "  <tbody>\n",
       "    <tr>\n",
       "      <th>0</th>\n",
       "      <td>blue</td>\n",
       "      <td>1</td>\n",
       "      <td>brocolli</td>\n",
       "    </tr>\n",
       "    <tr>\n",
       "      <th>1</th>\n",
       "      <td>green</td>\n",
       "      <td>2</td>\n",
       "      <td>cauliflower</td>\n",
       "    </tr>\n",
       "    <tr>\n",
       "      <th>2</th>\n",
       "      <td>butterfly</td>\n",
       "      <td>3</td>\n",
       "      <td>asparagus</td>\n",
       "    </tr>\n",
       "    <tr>\n",
       "      <th>3</th>\n",
       "      <td>bombshell</td>\n",
       "      <td>4</td>\n",
       "      <td>coconut</td>\n",
       "    </tr>\n",
       "  </tbody>\n",
       "</table>\n",
       "</div>"
      ],
      "text/plain": [
       "       alpha  beta        gamma\n",
       "0       blue     1     brocolli\n",
       "1      green     2  cauliflower\n",
       "2  butterfly     3    asparagus\n",
       "3  bombshell     4      coconut"
      ]
     },
     "execution_count": 80,
     "metadata": {},
     "output_type": "execute_result"
    }
   ],
   "source": [
    "df"
   ]
  },
  {
   "cell_type": "code",
   "execution_count": 81,
   "metadata": {},
   "outputs": [
    {
     "data": {
      "text/html": [
       "<div>\n",
       "<style scoped>\n",
       "    .dataframe tbody tr th:only-of-type {\n",
       "        vertical-align: middle;\n",
       "    }\n",
       "\n",
       "    .dataframe tbody tr th {\n",
       "        vertical-align: top;\n",
       "    }\n",
       "\n",
       "    .dataframe thead th {\n",
       "        text-align: right;\n",
       "    }\n",
       "</style>\n",
       "<table border=\"1\" class=\"dataframe\">\n",
       "  <thead>\n",
       "    <tr style=\"text-align: right;\">\n",
       "      <th></th>\n",
       "      <th>alpha</th>\n",
       "      <th>beta</th>\n",
       "      <th>gamma</th>\n",
       "    </tr>\n",
       "  </thead>\n",
       "  <tbody>\n",
       "    <tr>\n",
       "      <th>0</th>\n",
       "      <td>True</td>\n",
       "      <td>False</td>\n",
       "      <td>False</td>\n",
       "    </tr>\n",
       "    <tr>\n",
       "      <th>1</th>\n",
       "      <td>True</td>\n",
       "      <td>True</td>\n",
       "      <td>True</td>\n",
       "    </tr>\n",
       "    <tr>\n",
       "      <th>2</th>\n",
       "      <td>False</td>\n",
       "      <td>True</td>\n",
       "      <td>True</td>\n",
       "    </tr>\n",
       "    <tr>\n",
       "      <th>3</th>\n",
       "      <td>False</td>\n",
       "      <td>False</td>\n",
       "      <td>True</td>\n",
       "    </tr>\n",
       "  </tbody>\n",
       "</table>\n",
       "</div>"
      ],
      "text/plain": [
       "   alpha   beta  gamma\n",
       "0   True  False  False\n",
       "1   True   True   True\n",
       "2  False   True   True\n",
       "3  False  False   True"
      ]
     },
     "execution_count": 81,
     "metadata": {},
     "output_type": "execute_result"
    }
   ],
   "source": [
    "values = {'alpha': ['blue', 'green'],'beta':[2, 3], 'gamma': ['cauliflower','asparagus', 'coconut']}\n",
    "df.isin(values)"
   ]
  },
  {
   "cell_type": "code",
   "execution_count": 82,
   "metadata": {},
   "outputs": [
    {
     "data": {
      "text/html": [
       "<div>\n",
       "<style scoped>\n",
       "    .dataframe tbody tr th:only-of-type {\n",
       "        vertical-align: middle;\n",
       "    }\n",
       "\n",
       "    .dataframe tbody tr th {\n",
       "        vertical-align: top;\n",
       "    }\n",
       "\n",
       "    .dataframe thead th {\n",
       "        text-align: right;\n",
       "    }\n",
       "</style>\n",
       "<table border=\"1\" class=\"dataframe\">\n",
       "  <thead>\n",
       "    <tr style=\"text-align: right;\">\n",
       "      <th></th>\n",
       "      <th>alpha</th>\n",
       "      <th>beta</th>\n",
       "      <th>gamma</th>\n",
       "    </tr>\n",
       "  </thead>\n",
       "  <tbody>\n",
       "    <tr>\n",
       "      <th>1</th>\n",
       "      <td>green</td>\n",
       "      <td>2</td>\n",
       "      <td>cauliflower</td>\n",
       "    </tr>\n",
       "  </tbody>\n",
       "</table>\n",
       "</div>"
      ],
      "text/plain": [
       "   alpha  beta        gamma\n",
       "1  green     2  cauliflower"
      ]
     },
     "execution_count": 82,
     "metadata": {},
     "output_type": "execute_result"
    }
   ],
   "source": [
    "#if we combine isin() with any() and all() methods, we can quickly subset data matched to our criteria\n",
    "#using our previous values, we can see this only returns rows where all criteria are met\n",
    "row_mask = df.isin(values).all(1)\n",
    "df[row_mask]"
   ]
  },
  {
   "cell_type": "markdown",
   "metadata": {},
   "source": [
    "# the where() method and Masking\n",
    "\n",
    "When making a selection using a boolean vector most often you will return a subset of the data. To return selection output that is the same shape as the original we will use the where method on a series or dataframe"
   ]
  },
  {
   "cell_type": "code",
   "execution_count": 83,
   "metadata": {},
   "outputs": [
    {
     "data": {
      "text/plain": [
       "g     6\n",
       "h     7\n",
       "i     8\n",
       "j     9\n",
       "k    10\n",
       "l    11\n",
       "m    12\n",
       "n    13\n",
       "o    14\n",
       "p    15\n",
       "dtype: int64"
      ]
     },
     "execution_count": 83,
     "metadata": {},
     "output_type": "execute_result"
    }
   ],
   "source": [
    "#for example, if we only want a slice\n",
    "s[s>5]"
   ]
  },
  {
   "cell_type": "code",
   "execution_count": 84,
   "metadata": {},
   "outputs": [
    {
     "data": {
      "text/plain": [
       "a     NaN\n",
       "b     NaN\n",
       "c     NaN\n",
       "d     NaN\n",
       "e     NaN\n",
       "f     NaN\n",
       "g     6.0\n",
       "h     7.0\n",
       "i     8.0\n",
       "j     9.0\n",
       "k    10.0\n",
       "l    11.0\n",
       "m    12.0\n",
       "n    13.0\n",
       "o    14.0\n",
       "p    15.0\n",
       "dtype: float64"
      ]
     },
     "execution_count": 84,
     "metadata": {},
     "output_type": "execute_result"
    }
   ],
   "source": [
    "#if we want a series the same shape as the input, such as in situations where the inputs all have to be the same length\n",
    "#The NumPy NaN value will be substituted where the selection condition is not met.\n",
    "s.where(s>5)"
   ]
  },
  {
   "cell_type": "markdown",
   "metadata": {},
   "source": [
    "The where method is now built in under the hood when working with dataframes. Using a boolean vector will now return an object of the same shape with NaN's where the selection condition is not met."
   ]
  },
  {
   "cell_type": "code",
   "execution_count": 85,
   "metadata": {},
   "outputs": [
    {
     "data": {
      "text/html": [
       "<div>\n",
       "<style scoped>\n",
       "    .dataframe tbody tr th:only-of-type {\n",
       "        vertical-align: middle;\n",
       "    }\n",
       "\n",
       "    .dataframe tbody tr th {\n",
       "        vertical-align: top;\n",
       "    }\n",
       "\n",
       "    .dataframe thead th {\n",
       "        text-align: right;\n",
       "    }\n",
       "</style>\n",
       "<table border=\"1\" class=\"dataframe\">\n",
       "  <thead>\n",
       "    <tr style=\"text-align: right;\">\n",
       "      <th></th>\n",
       "      <th>A</th>\n",
       "      <th>B</th>\n",
       "      <th>C</th>\n",
       "      <th>D</th>\n",
       "      <th>E</th>\n",
       "    </tr>\n",
       "  </thead>\n",
       "  <tbody>\n",
       "    <tr>\n",
       "      <th>a</th>\n",
       "      <td>0.529681</td>\n",
       "      <td>1.775569</td>\n",
       "      <td>0.956928</td>\n",
       "      <td>0.914167</td>\n",
       "      <td>-0.403476</td>\n",
       "    </tr>\n",
       "    <tr>\n",
       "      <th>b</th>\n",
       "      <td>-0.956971</td>\n",
       "      <td>0.363941</td>\n",
       "      <td>0.208228</td>\n",
       "      <td>0.708465</td>\n",
       "      <td>0.483180</td>\n",
       "    </tr>\n",
       "    <tr>\n",
       "      <th>c</th>\n",
       "      <td>0.116483</td>\n",
       "      <td>-0.082756</td>\n",
       "      <td>-0.234885</td>\n",
       "      <td>-0.822019</td>\n",
       "      <td>0.226901</td>\n",
       "    </tr>\n",
       "    <tr>\n",
       "      <th>d</th>\n",
       "      <td>1.959027</td>\n",
       "      <td>-0.235208</td>\n",
       "      <td>-0.559525</td>\n",
       "      <td>-0.218397</td>\n",
       "      <td>0.235541</td>\n",
       "    </tr>\n",
       "    <tr>\n",
       "      <th>e</th>\n",
       "      <td>1.036732</td>\n",
       "      <td>-1.072175</td>\n",
       "      <td>0.928715</td>\n",
       "      <td>-0.583553</td>\n",
       "      <td>-0.186007</td>\n",
       "    </tr>\n",
       "  </tbody>\n",
       "</table>\n",
       "</div>"
      ],
      "text/plain": [
       "          A         B         C         D         E\n",
       "a  0.529681  1.775569  0.956928  0.914167 -0.403476\n",
       "b -0.956971  0.363941  0.208228  0.708465  0.483180\n",
       "c  0.116483 -0.082756 -0.234885 -0.822019  0.226901\n",
       "d  1.959027 -0.235208 -0.559525 -0.218397  0.235541\n",
       "e  1.036732 -1.072175  0.928715 -0.583553 -0.186007"
      ]
     },
     "execution_count": 85,
     "metadata": {},
     "output_type": "execute_result"
    }
   ],
   "source": [
    "#construct a new dataframe\n",
    "df = pd.DataFrame(np.random.randn(5, 5), index = ['a', 'b', 'c', 'd', 'e'], columns = list('ABCDE'))\n",
    "df"
   ]
  },
  {
   "cell_type": "code",
   "execution_count": 86,
   "metadata": {},
   "outputs": [
    {
     "data": {
      "text/html": [
       "<div>\n",
       "<style scoped>\n",
       "    .dataframe tbody tr th:only-of-type {\n",
       "        vertical-align: middle;\n",
       "    }\n",
       "\n",
       "    .dataframe tbody tr th {\n",
       "        vertical-align: top;\n",
       "    }\n",
       "\n",
       "    .dataframe thead th {\n",
       "        text-align: right;\n",
       "    }\n",
       "</style>\n",
       "<table border=\"1\" class=\"dataframe\">\n",
       "  <thead>\n",
       "    <tr style=\"text-align: right;\">\n",
       "      <th></th>\n",
       "      <th>A</th>\n",
       "      <th>B</th>\n",
       "      <th>C</th>\n",
       "      <th>D</th>\n",
       "      <th>E</th>\n",
       "    </tr>\n",
       "  </thead>\n",
       "  <tbody>\n",
       "    <tr>\n",
       "      <th>a</th>\n",
       "      <td>0.529681</td>\n",
       "      <td>1.775569</td>\n",
       "      <td>0.956928</td>\n",
       "      <td>0.914167</td>\n",
       "      <td>NaN</td>\n",
       "    </tr>\n",
       "    <tr>\n",
       "      <th>b</th>\n",
       "      <td>NaN</td>\n",
       "      <td>0.363941</td>\n",
       "      <td>0.208228</td>\n",
       "      <td>0.708465</td>\n",
       "      <td>0.483180</td>\n",
       "    </tr>\n",
       "    <tr>\n",
       "      <th>c</th>\n",
       "      <td>0.116483</td>\n",
       "      <td>NaN</td>\n",
       "      <td>NaN</td>\n",
       "      <td>NaN</td>\n",
       "      <td>0.226901</td>\n",
       "    </tr>\n",
       "    <tr>\n",
       "      <th>d</th>\n",
       "      <td>1.959027</td>\n",
       "      <td>NaN</td>\n",
       "      <td>NaN</td>\n",
       "      <td>NaN</td>\n",
       "      <td>0.235541</td>\n",
       "    </tr>\n",
       "    <tr>\n",
       "      <th>e</th>\n",
       "      <td>1.036732</td>\n",
       "      <td>NaN</td>\n",
       "      <td>0.928715</td>\n",
       "      <td>NaN</td>\n",
       "      <td>NaN</td>\n",
       "    </tr>\n",
       "  </tbody>\n",
       "</table>\n",
       "</div>"
      ],
      "text/plain": [
       "          A         B         C         D         E\n",
       "a  0.529681  1.775569  0.956928  0.914167       NaN\n",
       "b       NaN  0.363941  0.208228  0.708465  0.483180\n",
       "c  0.116483       NaN       NaN       NaN  0.226901\n",
       "d  1.959027       NaN       NaN       NaN  0.235541\n",
       "e  1.036732       NaN  0.928715       NaN       NaN"
      ]
     },
     "execution_count": 86,
     "metadata": {},
     "output_type": "execute_result"
    }
   ],
   "source": [
    "#making our first selection using a boolean vector\n",
    "df[df>=0]"
   ]
  },
  {
   "cell_type": "markdown",
   "metadata": {},
   "source": [
    "Another feature is that the where method takes an optional argument, 'other,' to specify how values should be replaced, when NaN is undesireable, in the returned copy when the condition is not met.\n",
    "\n",
    "e.g. df.where(vector, other)"
   ]
  },
  {
   "cell_type": "code",
   "execution_count": 87,
   "metadata": {
    "scrolled": true
   },
   "outputs": [
    {
     "data": {
      "text/html": [
       "<div>\n",
       "<style scoped>\n",
       "    .dataframe tbody tr th:only-of-type {\n",
       "        vertical-align: middle;\n",
       "    }\n",
       "\n",
       "    .dataframe tbody tr th {\n",
       "        vertical-align: top;\n",
       "    }\n",
       "\n",
       "    .dataframe thead th {\n",
       "        text-align: right;\n",
       "    }\n",
       "</style>\n",
       "<table border=\"1\" class=\"dataframe\">\n",
       "  <thead>\n",
       "    <tr style=\"text-align: right;\">\n",
       "      <th></th>\n",
       "      <th>A</th>\n",
       "      <th>B</th>\n",
       "      <th>C</th>\n",
       "      <th>D</th>\n",
       "      <th>E</th>\n",
       "    </tr>\n",
       "  </thead>\n",
       "  <tbody>\n",
       "    <tr>\n",
       "      <th>a</th>\n",
       "      <td>0.280562</td>\n",
       "      <td>0.000000</td>\n",
       "      <td>0.915712</td>\n",
       "      <td>0.835701</td>\n",
       "      <td>0.162793</td>\n",
       "    </tr>\n",
       "    <tr>\n",
       "      <th>b</th>\n",
       "      <td>0.915793</td>\n",
       "      <td>0.132453</td>\n",
       "      <td>0.043359</td>\n",
       "      <td>0.501923</td>\n",
       "      <td>0.233463</td>\n",
       "    </tr>\n",
       "    <tr>\n",
       "      <th>c</th>\n",
       "      <td>0.013568</td>\n",
       "      <td>0.006848</td>\n",
       "      <td>0.055171</td>\n",
       "      <td>0.675716</td>\n",
       "      <td>0.051484</td>\n",
       "    </tr>\n",
       "    <tr>\n",
       "      <th>d</th>\n",
       "      <td>0.000000</td>\n",
       "      <td>0.055323</td>\n",
       "      <td>0.313068</td>\n",
       "      <td>0.047697</td>\n",
       "      <td>0.055479</td>\n",
       "    </tr>\n",
       "    <tr>\n",
       "      <th>e</th>\n",
       "      <td>0.000000</td>\n",
       "      <td>0.000000</td>\n",
       "      <td>0.862512</td>\n",
       "      <td>0.340534</td>\n",
       "      <td>0.034599</td>\n",
       "    </tr>\n",
       "  </tbody>\n",
       "</table>\n",
       "</div>"
      ],
      "text/plain": [
       "          A         B         C         D         E\n",
       "a  0.280562  0.000000  0.915712  0.835701  0.162793\n",
       "b  0.915793  0.132453  0.043359  0.501923  0.233463\n",
       "c  0.013568  0.006848  0.055171  0.675716  0.051484\n",
       "d  0.000000  0.055323  0.313068  0.047697  0.055479\n",
       "e  0.000000  0.000000  0.862512  0.340534  0.034599"
      ]
     },
     "execution_count": 87,
     "metadata": {},
     "output_type": "execute_result"
    }
   ],
   "source": [
    "#for my dataframe, we're going to square all values and then perform a selection\n",
    "df = df**2\n",
    "df.where(df<1, 0)"
   ]
  },
  {
   "cell_type": "code",
   "execution_count": 88,
   "metadata": {},
   "outputs": [
    {
     "data": {
      "text/html": [
       "<div>\n",
       "<style scoped>\n",
       "    .dataframe tbody tr th:only-of-type {\n",
       "        vertical-align: middle;\n",
       "    }\n",
       "\n",
       "    .dataframe tbody tr th {\n",
       "        vertical-align: top;\n",
       "    }\n",
       "\n",
       "    .dataframe thead th {\n",
       "        text-align: right;\n",
       "    }\n",
       "</style>\n",
       "<table border=\"1\" class=\"dataframe\">\n",
       "  <thead>\n",
       "    <tr style=\"text-align: right;\">\n",
       "      <th></th>\n",
       "      <th>A</th>\n",
       "      <th>B</th>\n",
       "      <th>C</th>\n",
       "      <th>D</th>\n",
       "      <th>E</th>\n",
       "    </tr>\n",
       "  </thead>\n",
       "  <tbody>\n",
       "    <tr>\n",
       "      <th>a</th>\n",
       "      <td>NaN</td>\n",
       "      <td>3.152645</td>\n",
       "      <td>NaN</td>\n",
       "      <td>NaN</td>\n",
       "      <td>NaN</td>\n",
       "    </tr>\n",
       "    <tr>\n",
       "      <th>b</th>\n",
       "      <td>NaN</td>\n",
       "      <td>NaN</td>\n",
       "      <td>NaN</td>\n",
       "      <td>NaN</td>\n",
       "      <td>NaN</td>\n",
       "    </tr>\n",
       "    <tr>\n",
       "      <th>c</th>\n",
       "      <td>NaN</td>\n",
       "      <td>NaN</td>\n",
       "      <td>NaN</td>\n",
       "      <td>NaN</td>\n",
       "      <td>NaN</td>\n",
       "    </tr>\n",
       "    <tr>\n",
       "      <th>d</th>\n",
       "      <td>3.837788</td>\n",
       "      <td>NaN</td>\n",
       "      <td>NaN</td>\n",
       "      <td>NaN</td>\n",
       "      <td>NaN</td>\n",
       "    </tr>\n",
       "    <tr>\n",
       "      <th>e</th>\n",
       "      <td>1.074814</td>\n",
       "      <td>1.149560</td>\n",
       "      <td>NaN</td>\n",
       "      <td>NaN</td>\n",
       "      <td>NaN</td>\n",
       "    </tr>\n",
       "  </tbody>\n",
       "</table>\n",
       "</div>"
      ],
      "text/plain": [
       "          A         B   C   D   E\n",
       "a       NaN  3.152645 NaN NaN NaN\n",
       "b       NaN       NaN NaN NaN NaN\n",
       "c       NaN       NaN NaN NaN NaN\n",
       "d  3.837788       NaN NaN NaN NaN\n",
       "e  1.074814  1.149560 NaN NaN NaN"
      ]
     },
     "execution_count": 88,
     "metadata": {},
     "output_type": "execute_result"
    }
   ],
   "source": [
    "#we can also set values using boolean vectors as well\n",
    "df2 = df.copy()\n",
    "df2[df2<1] = np.nan\n",
    "df2"
   ]
  },
  {
   "cell_type": "markdown",
   "metadata": {},
   "source": [
    "The where method, by default, returns a modified copy of the data. If we want to modify the original data we can use the optional inplace parameter."
   ]
  },
  {
   "cell_type": "code",
   "execution_count": 89,
   "metadata": {},
   "outputs": [
    {
     "data": {
      "text/html": [
       "<div>\n",
       "<style scoped>\n",
       "    .dataframe tbody tr th:only-of-type {\n",
       "        vertical-align: middle;\n",
       "    }\n",
       "\n",
       "    .dataframe tbody tr th {\n",
       "        vertical-align: top;\n",
       "    }\n",
       "\n",
       "    .dataframe thead th {\n",
       "        text-align: right;\n",
       "    }\n",
       "</style>\n",
       "<table border=\"1\" class=\"dataframe\">\n",
       "  <thead>\n",
       "    <tr style=\"text-align: right;\">\n",
       "      <th></th>\n",
       "      <th>A</th>\n",
       "      <th>B</th>\n",
       "      <th>C</th>\n",
       "      <th>D</th>\n",
       "      <th>E</th>\n",
       "    </tr>\n",
       "  </thead>\n",
       "  <tbody>\n",
       "    <tr>\n",
       "      <th>a</th>\n",
       "      <td>0.280562</td>\n",
       "      <td>1.000000</td>\n",
       "      <td>0.915712</td>\n",
       "      <td>0.835701</td>\n",
       "      <td>0.162793</td>\n",
       "    </tr>\n",
       "    <tr>\n",
       "      <th>b</th>\n",
       "      <td>0.915793</td>\n",
       "      <td>0.132453</td>\n",
       "      <td>0.043359</td>\n",
       "      <td>0.501923</td>\n",
       "      <td>0.233463</td>\n",
       "    </tr>\n",
       "    <tr>\n",
       "      <th>c</th>\n",
       "      <td>0.013568</td>\n",
       "      <td>0.006848</td>\n",
       "      <td>0.055171</td>\n",
       "      <td>0.675716</td>\n",
       "      <td>0.051484</td>\n",
       "    </tr>\n",
       "    <tr>\n",
       "      <th>d</th>\n",
       "      <td>1.000000</td>\n",
       "      <td>0.055323</td>\n",
       "      <td>0.313068</td>\n",
       "      <td>0.047697</td>\n",
       "      <td>0.055479</td>\n",
       "    </tr>\n",
       "    <tr>\n",
       "      <th>e</th>\n",
       "      <td>1.000000</td>\n",
       "      <td>1.000000</td>\n",
       "      <td>0.862512</td>\n",
       "      <td>0.340534</td>\n",
       "      <td>0.034599</td>\n",
       "    </tr>\n",
       "  </tbody>\n",
       "</table>\n",
       "</div>"
      ],
      "text/plain": [
       "          A         B         C         D         E\n",
       "a  0.280562  1.000000  0.915712  0.835701  0.162793\n",
       "b  0.915793  0.132453  0.043359  0.501923  0.233463\n",
       "c  0.013568  0.006848  0.055171  0.675716  0.051484\n",
       "d  1.000000  0.055323  0.313068  0.047697  0.055479\n",
       "e  1.000000  1.000000  0.862512  0.340534  0.034599"
      ]
     },
     "execution_count": 89,
     "metadata": {},
     "output_type": "execute_result"
    }
   ],
   "source": [
    "#modifying the original dataframe\n",
    "df_orig = df.copy()\n",
    "#making our selection with the inplace parameter\n",
    "df_orig.where(df <1, 1, inplace = True)\n",
    "df_orig"
   ]
  },
  {
   "cell_type": "markdown",
   "metadata": {},
   "source": [
    "# Alignment with the where method\n",
    "This method takes the input and aligns the input in a way that allows you to both select a subset and set values for a subset at the same time. This is similar to partial setting using the .loc accessor which acts on the axis labels as opposed to the where method which acts on the contents."
   ]
  },
  {
   "cell_type": "code",
   "execution_count": 100,
   "metadata": {},
   "outputs": [
    {
     "data": {
      "text/html": [
       "<div>\n",
       "<style scoped>\n",
       "    .dataframe tbody tr th:only-of-type {\n",
       "        vertical-align: middle;\n",
       "    }\n",
       "\n",
       "    .dataframe tbody tr th {\n",
       "        vertical-align: top;\n",
       "    }\n",
       "\n",
       "    .dataframe thead th {\n",
       "        text-align: right;\n",
       "    }\n",
       "</style>\n",
       "<table border=\"1\" class=\"dataframe\">\n",
       "  <thead>\n",
       "    <tr style=\"text-align: right;\">\n",
       "      <th></th>\n",
       "      <th>A</th>\n",
       "      <th>B</th>\n",
       "      <th>C</th>\n",
       "      <th>D</th>\n",
       "      <th>E</th>\n",
       "    </tr>\n",
       "  </thead>\n",
       "  <tbody>\n",
       "    <tr>\n",
       "      <th>a</th>\n",
       "      <td>0.280562</td>\n",
       "      <td>0.500000</td>\n",
       "      <td>0.915712</td>\n",
       "      <td>0.835701</td>\n",
       "      <td>0.162793</td>\n",
       "    </tr>\n",
       "    <tr>\n",
       "      <th>b</th>\n",
       "      <td>0.915793</td>\n",
       "      <td>0.132453</td>\n",
       "      <td>0.043359</td>\n",
       "      <td>0.501923</td>\n",
       "      <td>0.233463</td>\n",
       "    </tr>\n",
       "    <tr>\n",
       "      <th>c</th>\n",
       "      <td>0.013568</td>\n",
       "      <td>0.006848</td>\n",
       "      <td>0.055171</td>\n",
       "      <td>0.675716</td>\n",
       "      <td>0.051484</td>\n",
       "    </tr>\n",
       "    <tr>\n",
       "      <th>d</th>\n",
       "      <td>0.500000</td>\n",
       "      <td>0.055323</td>\n",
       "      <td>0.313068</td>\n",
       "      <td>0.047697</td>\n",
       "      <td>0.055479</td>\n",
       "    </tr>\n",
       "    <tr>\n",
       "      <th>e</th>\n",
       "      <td>0.500000</td>\n",
       "      <td>0.500000</td>\n",
       "      <td>0.862512</td>\n",
       "      <td>0.340534</td>\n",
       "      <td>0.034599</td>\n",
       "    </tr>\n",
       "  </tbody>\n",
       "</table>\n",
       "</div>"
      ],
      "text/plain": [
       "          A         B         C         D         E\n",
       "a  0.280562  0.500000  0.915712  0.835701  0.162793\n",
       "b  0.915793  0.132453  0.043359  0.501923  0.233463\n",
       "c  0.013568  0.006848  0.055171  0.675716  0.051484\n",
       "d  0.500000  0.055323  0.313068  0.047697  0.055479\n",
       "e  0.500000  0.500000  0.862512  0.340534  0.034599"
      ]
     },
     "execution_count": 100,
     "metadata": {},
     "output_type": "execute_result"
    }
   ],
   "source": [
    "#create our working copy\n",
    "df2 = df.copy()\n",
    "#perform our boolean selection and set values based on that condition\n",
    "df2[df2>1] = 0.5\n",
    "df2"
   ]
  },
  {
   "cell_type": "markdown",
   "metadata": {},
   "source": [
    "we can also utilize the axis and level parameters for input alignment when performing the where. For example:"
   ]
  },
  {
   "cell_type": "code",
   "execution_count": 99,
   "metadata": {},
   "outputs": [
    {
     "data": {
      "text/html": [
       "<div>\n",
       "<style scoped>\n",
       "    .dataframe tbody tr th:only-of-type {\n",
       "        vertical-align: middle;\n",
       "    }\n",
       "\n",
       "    .dataframe tbody tr th {\n",
       "        vertical-align: top;\n",
       "    }\n",
       "\n",
       "    .dataframe thead th {\n",
       "        text-align: right;\n",
       "    }\n",
       "</style>\n",
       "<table border=\"1\" class=\"dataframe\">\n",
       "  <thead>\n",
       "    <tr style=\"text-align: right;\">\n",
       "      <th></th>\n",
       "      <th>A</th>\n",
       "      <th>B</th>\n",
       "      <th>C</th>\n",
       "      <th>D</th>\n",
       "      <th>E</th>\n",
       "    </tr>\n",
       "  </thead>\n",
       "  <tbody>\n",
       "    <tr>\n",
       "      <th>a</th>\n",
       "      <td>0.078715</td>\n",
       "      <td>0.500000</td>\n",
       "      <td>0.838528</td>\n",
       "      <td>0.698396</td>\n",
       "      <td>0.026501</td>\n",
       "    </tr>\n",
       "    <tr>\n",
       "      <th>b</th>\n",
       "      <td>0.838677</td>\n",
       "      <td>0.017544</td>\n",
       "      <td>0.001880</td>\n",
       "      <td>0.251927</td>\n",
       "      <td>0.054505</td>\n",
       "    </tr>\n",
       "    <tr>\n",
       "      <th>c</th>\n",
       "      <td>0.000184</td>\n",
       "      <td>0.000047</td>\n",
       "      <td>0.003044</td>\n",
       "      <td>0.456592</td>\n",
       "      <td>0.002651</td>\n",
       "    </tr>\n",
       "    <tr>\n",
       "      <th>d</th>\n",
       "      <td>0.500000</td>\n",
       "      <td>0.003061</td>\n",
       "      <td>0.098012</td>\n",
       "      <td>0.002275</td>\n",
       "      <td>0.003078</td>\n",
       "    </tr>\n",
       "    <tr>\n",
       "      <th>e</th>\n",
       "      <td>0.500000</td>\n",
       "      <td>0.500000</td>\n",
       "      <td>0.743927</td>\n",
       "      <td>0.115964</td>\n",
       "      <td>0.001197</td>\n",
       "    </tr>\n",
       "  </tbody>\n",
       "</table>\n",
       "</div>"
      ],
      "text/plain": [
       "          A         B         C         D         E\n",
       "a  0.078715  0.500000  0.838528  0.698396  0.026501\n",
       "b  0.838677  0.017544  0.001880  0.251927  0.054505\n",
       "c  0.000184  0.000047  0.003044  0.456592  0.002651\n",
       "d  0.500000  0.003061  0.098012  0.002275  0.003078\n",
       "e  0.500000  0.500000  0.743927  0.115964  0.001197"
      ]
     },
     "execution_count": 99,
     "metadata": {},
     "output_type": "execute_result"
    }
   ],
   "source": [
    "#perform a selection and specifying the axis. Since we are not using a multindex specifying level is unneccessary\n",
    "df2.where(df2 == 0.5, df2**2, axis = 'index')"
   ]
  },
  {
   "cell_type": "markdown",
   "metadata": {},
   "source": [
    "We can perform the same operation using the appply method and a lambda function but the where method is faster and presumably more computationally efficient.\n",
    "\n",
    "As a new feature the where method can also accept a callable as condition and other arguments. It must contain only one argument and it must return a valid argument."
   ]
  },
  {
   "cell_type": "code",
   "execution_count": 104,
   "metadata": {},
   "outputs": [
    {
     "data": {
      "text/html": [
       "<div>\n",
       "<style scoped>\n",
       "    .dataframe tbody tr th:only-of-type {\n",
       "        vertical-align: middle;\n",
       "    }\n",
       "\n",
       "    .dataframe tbody tr th {\n",
       "        vertical-align: top;\n",
       "    }\n",
       "\n",
       "    .dataframe thead th {\n",
       "        text-align: right;\n",
       "    }\n",
       "</style>\n",
       "<table border=\"1\" class=\"dataframe\">\n",
       "  <thead>\n",
       "    <tr style=\"text-align: right;\">\n",
       "      <th></th>\n",
       "      <th>A</th>\n",
       "      <th>B</th>\n",
       "      <th>C</th>\n",
       "      <th>D</th>\n",
       "      <th>E</th>\n",
       "    </tr>\n",
       "  </thead>\n",
       "  <tbody>\n",
       "    <tr>\n",
       "      <th>a</th>\n",
       "      <td>0.280562</td>\n",
       "      <td>8.000000</td>\n",
       "      <td>0.915712</td>\n",
       "      <td>0.835701</td>\n",
       "      <td>0.162793</td>\n",
       "    </tr>\n",
       "    <tr>\n",
       "      <th>b</th>\n",
       "      <td>0.915793</td>\n",
       "      <td>0.132453</td>\n",
       "      <td>0.043359</td>\n",
       "      <td>0.501923</td>\n",
       "      <td>0.233463</td>\n",
       "    </tr>\n",
       "    <tr>\n",
       "      <th>c</th>\n",
       "      <td>0.013568</td>\n",
       "      <td>0.006848</td>\n",
       "      <td>0.055171</td>\n",
       "      <td>0.675716</td>\n",
       "      <td>0.051484</td>\n",
       "    </tr>\n",
       "    <tr>\n",
       "      <th>d</th>\n",
       "      <td>8.000000</td>\n",
       "      <td>0.055323</td>\n",
       "      <td>0.313068</td>\n",
       "      <td>0.047697</td>\n",
       "      <td>0.055479</td>\n",
       "    </tr>\n",
       "    <tr>\n",
       "      <th>e</th>\n",
       "      <td>8.000000</td>\n",
       "      <td>8.000000</td>\n",
       "      <td>0.862512</td>\n",
       "      <td>0.340534</td>\n",
       "      <td>0.034599</td>\n",
       "    </tr>\n",
       "  </tbody>\n",
       "</table>\n",
       "</div>"
      ],
      "text/plain": [
       "          A         B         C         D         E\n",
       "a  0.280562  8.000000  0.915712  0.835701  0.162793\n",
       "b  0.915793  0.132453  0.043359  0.501923  0.233463\n",
       "c  0.013568  0.006848  0.055171  0.675716  0.051484\n",
       "d  8.000000  0.055323  0.313068  0.047697  0.055479\n",
       "e  8.000000  8.000000  0.862512  0.340534  0.034599"
      ]
     },
     "execution_count": 104,
     "metadata": {},
     "output_type": "execute_result"
    }
   ],
   "source": [
    "#using a callable as both condition and other arguments\n",
    "#we are going to take the cube root of all values where the dataframe equals 0.5\n",
    "df2.where(lambda x: x!=0.5, lambda x: x**-3)"
   ]
  },
  {
   "cell_type": "markdown",
   "metadata": {},
   "source": [
    "# Mask\n",
    "\n",
    "this is the inverse of the boolean operation where.\n",
    "what does that mean?\n",
    "I believe this means that for every instance the passed condition evaulates to true, mask selects the observations where it isn't"
   ]
  },
  {
   "cell_type": "code",
   "execution_count": 106,
   "metadata": {},
   "outputs": [
    {
     "data": {
      "text/plain": [
       "a    NaN\n",
       "b    NaN\n",
       "c    NaN\n",
       "d    NaN\n",
       "e    NaN\n",
       "f    NaN\n",
       "g    6.0\n",
       "h    NaN\n",
       "i    NaN\n",
       "j    NaN\n",
       "k    NaN\n",
       "l    NaN\n",
       "m    NaN\n",
       "n    NaN\n",
       "o    NaN\n",
       "p    NaN\n",
       "dtype: float64"
      ]
     },
     "execution_count": 106,
     "metadata": {},
     "output_type": "execute_result"
    }
   ],
   "source": [
    "#in the case of a series\n",
    "#we will be masking all values not equal to 6\n",
    "s.mask(s!=6)"
   ]
  },
  {
   "cell_type": "code",
   "execution_count": 108,
   "metadata": {},
   "outputs": [
    {
     "data": {
      "text/html": [
       "<div>\n",
       "<style scoped>\n",
       "    .dataframe tbody tr th:only-of-type {\n",
       "        vertical-align: middle;\n",
       "    }\n",
       "\n",
       "    .dataframe tbody tr th {\n",
       "        vertical-align: top;\n",
       "    }\n",
       "\n",
       "    .dataframe thead th {\n",
       "        text-align: right;\n",
       "    }\n",
       "</style>\n",
       "<table border=\"1\" class=\"dataframe\">\n",
       "  <thead>\n",
       "    <tr style=\"text-align: right;\">\n",
       "      <th></th>\n",
       "      <th>A</th>\n",
       "      <th>B</th>\n",
       "      <th>C</th>\n",
       "      <th>D</th>\n",
       "      <th>E</th>\n",
       "    </tr>\n",
       "  </thead>\n",
       "  <tbody>\n",
       "    <tr>\n",
       "      <th>a</th>\n",
       "      <td>NaN</td>\n",
       "      <td>3.152645</td>\n",
       "      <td>0.915712</td>\n",
       "      <td>0.835701</td>\n",
       "      <td>NaN</td>\n",
       "    </tr>\n",
       "    <tr>\n",
       "      <th>b</th>\n",
       "      <td>0.915793</td>\n",
       "      <td>NaN</td>\n",
       "      <td>NaN</td>\n",
       "      <td>0.501923</td>\n",
       "      <td>NaN</td>\n",
       "    </tr>\n",
       "    <tr>\n",
       "      <th>c</th>\n",
       "      <td>NaN</td>\n",
       "      <td>NaN</td>\n",
       "      <td>NaN</td>\n",
       "      <td>0.675716</td>\n",
       "      <td>NaN</td>\n",
       "    </tr>\n",
       "    <tr>\n",
       "      <th>d</th>\n",
       "      <td>3.837788</td>\n",
       "      <td>NaN</td>\n",
       "      <td>NaN</td>\n",
       "      <td>NaN</td>\n",
       "      <td>NaN</td>\n",
       "    </tr>\n",
       "    <tr>\n",
       "      <th>e</th>\n",
       "      <td>1.074814</td>\n",
       "      <td>1.149560</td>\n",
       "      <td>0.862512</td>\n",
       "      <td>NaN</td>\n",
       "      <td>NaN</td>\n",
       "    </tr>\n",
       "  </tbody>\n",
       "</table>\n",
       "</div>"
      ],
      "text/plain": [
       "          A         B         C         D   E\n",
       "a       NaN  3.152645  0.915712  0.835701 NaN\n",
       "b  0.915793       NaN       NaN  0.501923 NaN\n",
       "c       NaN       NaN       NaN  0.675716 NaN\n",
       "d  3.837788       NaN       NaN       NaN NaN\n",
       "e  1.074814  1.149560  0.862512       NaN NaN"
      ]
     },
     "execution_count": 108,
     "metadata": {},
     "output_type": "execute_result"
    }
   ],
   "source": [
    "#in the case of a DataFrame\n",
    "#we will be masking all values less than or equal to 0.5\n",
    "df.mask(df<=0.5)"
   ]
  },
  {
   "cell_type": "markdown",
   "metadata": {},
   "source": [
    "# The Query method\n",
    "\n",
    "This is specific to DataFrames. This method allows us to make a selection using expressions.\n",
    "\n",
    "For example, if we want to select all rows in column B that are greater than or equal to column C we can do the following"
   ]
  },
  {
   "cell_type": "code",
   "execution_count": 110,
   "metadata": {},
   "outputs": [
    {
     "data": {
      "text/html": [
       "<div>\n",
       "<style scoped>\n",
       "    .dataframe tbody tr th:only-of-type {\n",
       "        vertical-align: middle;\n",
       "    }\n",
       "\n",
       "    .dataframe tbody tr th {\n",
       "        vertical-align: top;\n",
       "    }\n",
       "\n",
       "    .dataframe thead th {\n",
       "        text-align: right;\n",
       "    }\n",
       "</style>\n",
       "<table border=\"1\" class=\"dataframe\">\n",
       "  <thead>\n",
       "    <tr style=\"text-align: right;\">\n",
       "      <th></th>\n",
       "      <th>A</th>\n",
       "      <th>B</th>\n",
       "      <th>C</th>\n",
       "      <th>D</th>\n",
       "      <th>E</th>\n",
       "    </tr>\n",
       "  </thead>\n",
       "  <tbody>\n",
       "    <tr>\n",
       "      <th>a</th>\n",
       "      <td>0.280562</td>\n",
       "      <td>3.152645</td>\n",
       "      <td>0.915712</td>\n",
       "      <td>0.835701</td>\n",
       "      <td>0.162793</td>\n",
       "    </tr>\n",
       "    <tr>\n",
       "      <th>b</th>\n",
       "      <td>0.915793</td>\n",
       "      <td>0.132453</td>\n",
       "      <td>0.043359</td>\n",
       "      <td>0.501923</td>\n",
       "      <td>0.233463</td>\n",
       "    </tr>\n",
       "    <tr>\n",
       "      <th>e</th>\n",
       "      <td>1.074814</td>\n",
       "      <td>1.149560</td>\n",
       "      <td>0.862512</td>\n",
       "      <td>0.340534</td>\n",
       "      <td>0.034599</td>\n",
       "    </tr>\n",
       "  </tbody>\n",
       "</table>\n",
       "</div>"
      ],
      "text/plain": [
       "          A         B         C         D         E\n",
       "a  0.280562  3.152645  0.915712  0.835701  0.162793\n",
       "b  0.915793  0.132453  0.043359  0.501923  0.233463\n",
       "e  1.074814  1.149560  0.862512  0.340534  0.034599"
      ]
     },
     "execution_count": 110,
     "metadata": {},
     "output_type": "execute_result"
    }
   ],
   "source": [
    "#using our most recent df\n",
    "df.query('(B>=C)')"
   ]
  },
  {
   "cell_type": "markdown",
   "metadata": {},
   "source": [
    "# come back to this"
   ]
  },
  {
   "cell_type": "code",
   "execution_count": null,
   "metadata": {},
   "outputs": [],
   "source": []
  }
 ],
 "metadata": {
  "kernelspec": {
   "display_name": "Python 3",
   "language": "python",
   "name": "python3"
  },
  "language_info": {
   "codemirror_mode": {
    "name": "ipython",
    "version": 3
   },
   "file_extension": ".py",
   "mimetype": "text/x-python",
   "name": "python",
   "nbconvert_exporter": "python",
   "pygments_lexer": "ipython3",
   "version": "3.6.4"
  }
 },
 "nbformat": 4,
 "nbformat_minor": 2
}
